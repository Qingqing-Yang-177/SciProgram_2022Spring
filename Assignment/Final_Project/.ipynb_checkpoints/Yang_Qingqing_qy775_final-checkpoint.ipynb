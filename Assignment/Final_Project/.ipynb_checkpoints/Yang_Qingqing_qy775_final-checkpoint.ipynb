{
 "cells": [
  {
   "cell_type": "markdown",
   "id": "5b7e7e7a",
   "metadata": {},
   "source": [
    "# Final Project for SciProgm 2022 Spring\n",
    "\n",
    "Author: Qingqing Yang  |  Date: 05/05/2022  |  Email: qy775@nyu.edu\n",
    "\n",
    "Instructor: Shannon Tubridy, PhD  |  TA: Marishka Mehta, MA"
   ]
  },
  {
   "cell_type": "markdown",
   "id": "e1c61ea8",
   "metadata": {},
   "source": [
    "## Step 0: Intro and Preparation"
   ]
  },
  {
   "cell_type": "markdown",
   "id": "8fa4f5e0",
   "metadata": {},
   "source": [
    "Importing modules"
   ]
  },
  {
   "cell_type": "code",
   "execution_count": 1,
   "id": "0611bbad",
   "metadata": {},
   "outputs": [],
   "source": [
    "# os for path\n",
    "import os\n",
    "\n",
    "# numpy for various numeric operations\n",
    "import numpy.random as npr\n",
    "import numpy as np\n",
    "import random\n",
    "\n",
    "# pands for dataframes\n",
    "import pandas as pd\n",
    "\n",
    "# seaborn and matplotlib for plotting\n",
    "import seaborn as sns\n",
    "import matplotlib.pyplot as plt\n",
    "\n",
    "# scipy, statsmodels, and pingouin for stats tests\n",
    "import scipy.stats as stats\n",
    "import statsmodels.formula.api as smf\n",
    "import statsmodels.api as sm\n",
    "import pingouin as pg\n",
    "from statsmodels.stats.multicomp import pairwise_tukeyhsd"
   ]
  },
  {
   "cell_type": "markdown",
   "id": "dea665f0",
   "metadata": {},
   "source": [
    "### Data Set of this final project\n",
    "\n",
    "**OMNI data:** provided by \n",
    "In the long term memory omni test, Each person studied 45 pairs of words and gave a rating of how well they thought they learned the pairs.\n",
    "\n",
    "After a delay, each person engaged in a retrieval test where they were presented with a Lithuanian word and attempted to recall the associated English word. Retrieval trials were scored as correct if the person recalled the English word and incorrect otherwise.\n",
    "\n",
    "Each person was assigned to one of four groups, and the group assignment determined the approximate study-to-test delay (how long they waited between studying the words and trying to recall). Additionally, some of the participants did the learning task while in an MRI scanner and \n",
    "some did not.\n",
    "\n",
    "- The columns in the dataset are:\n",
    "\n",
    "    - participant_number: a number assigned to each participant in each group (NOTE: these are not unique across groups. For example there is a participant_number 2 in both the F and A groups)\n",
    "\n",
    "    - group: the study-test delay group (categorical) (NOTE: a unique ID for a person would be the combination of their participant_number and their group assignment)\n",
    "\n",
    "    - judgment_of_learning: an individual person's average rating of how well they learned the words (numeric, 0 to 100)\n",
    "\n",
    "    - response_time: how long it took a person to give their judgment of learning (numeric, in seconds)\n",
    "\n",
    "    - percent_correct: the proportion of test trials that a person answered correctly. In other words, their memory performance. (numeric, 0 to 1)\n",
    "\n",
    "    - test_delay_minutes: the delay in minutes from when a person finished the study session to when they started the retrieval session (numeric, in minutes)\n",
    "\n",
    "    - in_mri: a binary indicator of whether a person was in the MRI scanner (is_mri=1) or not in the scanner (is_mri=0) during the study session (categorical, values of 1 or 0)\n"
   ]
  },
  {
   "cell_type": "markdown",
   "id": "cf5d6755",
   "metadata": {},
   "source": [
    "### Content and Summary\n",
    "\n",
    "Overall goal: Performing some exploratory analyses to help understand what affect the participants long-term memory retrieval accuarcy.\n",
    "\n",
    "- Step 1: Directory Arrangement and Data Import\n",
    "    - change the current working directory\n",
    "    - import the csvs into a list\n",
    "    \n",
    "    \n",
    "- Step 2: Data Concatenation\n",
    "    - diciding how to pull the list of data together into one dataframe\n",
    "    \n",
    "    \n",
    "- Step 3: Data Cleaning\n",
    "    - drop the participants that have missing data\n",
    "    \n",
    "    \n",
    "- Step 4: Descriptive Stats\n",
    "    - descriptive stats of percent_correct on different levels of group\n",
    "    \n",
    "    \n",
    "- Step 5: Pearson's Correlation and Scatterplot\n",
    "    - Step 5 (1): A significant correlation between self report learning outcome (judgment_of_learning) and real performance (percent_correct)\n",
    "        - judgement_of learning gets higher when percent_correct increases. \n",
    "        - Subjects has metacognition about how well they learned, but they tend to overestimate their learning outcome.  \n",
    "        \n",
    "    - Step 5 (2): No correlation between response_time and real performance (percent_correct)\n",
    "        - No time-accuracy trade-off.\n",
    "    \n",
    "    \n",
    "- Step 6: T-Tests\n",
    "    - Step 6 (1): Equal variance two-sample two-tailed independent t-test\n",
    "    - Step 6 (2): Unequal variance two-sample indenpendent t-test\n",
    "        - Conformed that performing the experiment in MRI scanner (in_mri) doesn't affect participants performance (percent_correct).\n",
    "    \n",
    "    \n",
    "- Step 7: Regression\n",
    "    - Step 7 (1): Significant Single regression model of percent_correct over judgment_of_learning\n",
    "        - higher judgment_of_learning could predict higher percent_correct\n",
    "    - Step 7 (2): Significant Single regression model of percent_correct over test_delay_minutes\n",
    "        - longer test_delay_minutes could predict lower percent_correct\n",
    "    - Step 7 (3): Significant Multiple Regression model of percent_correct over judgment_of_learning and test_delay_minutes\n",
    "        - test_delay_minutes and judgment_of_learning are both significant predictors of percent_correct, each of them adding the variances in precent_correct that could be explained by the model, and adding the model fitting\n",
    "\n",
    "\n",
    "\n",
    "- Step 8: ANOVA\n",
    "    - Step 8 (1) One-way ANOVA: Significant main effect of group on response_time\n",
    "        - group affect the response_time, and response_time tend to be longer for a larger group (longer delay)\n",
    "        - post hoc tests showed that response_time only scored higher in group F than group A\n",
    "    - Step 8 (2) Two-way ANOVA: 2 (in_mri: 0 or 1) * 4 (group: A, C, F, or H) two-way independent ANOVA on percent_correct\n",
    "        - group affect the percent_correct.\n",
    "            - post hoc tests showed that percent_correct scored significantly higher in group A than group F and H,higher in group C than in group H, and higher in F than H. While no difference in the comparision between group A and C, nor C and F.\n",
    "        - in_mri doesnt affect the percent_correct, and doesnt interact with group\n",
    "\n",
    "\n",
    "- Step 9: Analysis Summary\n"
   ]
  },
  {
   "cell_type": "markdown",
   "id": "7d8e7401",
   "metadata": {},
   "source": [
    "====================================================================================================="
   ]
  },
  {
   "cell_type": "markdown",
   "id": "f754615f",
   "metadata": {},
   "source": [
    "## Step 1: Directory Arrangement and Data Import"
   ]
  },
  {
   "cell_type": "markdown",
   "id": "960013d9",
   "metadata": {},
   "source": [
    "Folder arrangement on my pc is listed as follows:\n",
    "\n",
    "**<cwd/home_dir> (your working directory)**\n",
    "```\n",
    "  |_ Yang_Qingqing_qy775_final.ipynb\n",
    "  |_ omni_data\n",
    "     |_ summary_data # Not having this folder is fine. My code would check and create this folder\n",
    "     |_ omni_data_group-A.csv\n",
    "     |_ omni_data_group-C.csv\n",
    "     |_ omni_data_group-F.csv\n",
    "     |_ omni_data_group-H.csv\n",
    "     |_ readme - Copy   \n",
    "```\n",
    "\n",
    "You could easily change the home_dir in my code to mimic the arrangement, and my code would auto change the cwd into the home_dir you set."
   ]
  },
  {
   "cell_type": "code",
   "execution_count": 2,
   "id": "1ee99551",
   "metadata": {},
   "outputs": [
    {
     "data": {
      "text/plain": [
       "'D:\\\\A-NYU\\\\Python_JupterNotebook_Workspace\\\\SciProgramming_SP22\\\\Assignment\\\\Final'"
      ]
     },
     "execution_count": 2,
     "metadata": {},
     "output_type": "execute_result"
    }
   ],
   "source": [
    "cwd=os.getcwd()\n",
    "cwd"
   ]
  },
  {
   "cell_type": "markdown",
   "id": "bdc1d790",
   "metadata": {},
   "source": [
    "You could change ur top dir name as home_dir\n",
    "\n",
    "The home_dir here is the home dir that u put my final project \"Yang_Qingqing_qy775_final.ipynb\" code\n",
    "The Omni data folder be put in the lower folder inside of ur home dir"
   ]
  },
  {
   "cell_type": "code",
   "execution_count": 3,
   "id": "7d77747f",
   "metadata": {},
   "outputs": [
    {
     "name": "stdout",
     "output_type": "stream",
     "text": [
      "D:\\A-NYU\\Python_JupterNotebook_Workspace\\SciProgramming_SP22\\Assignment\\Final\n"
     ]
    },
    {
     "data": {
      "text/plain": [
       "['.ipynb_checkpoints',\n",
       " '3dscatter.jpg',\n",
       " 'final_project.pdf',\n",
       " 'omni_data',\n",
       " 'Yang_Qingqing_qy775_final.ipynb']"
      ]
     },
     "execution_count": 3,
     "metadata": {},
     "output_type": "execute_result"
    }
   ],
   "source": [
    "# Change the following dir into to ur directory, and keep it in home_dir\n",
    "home_dir = 'D:\\\\A-NYU\\\\Python_JupterNotebook_Workspace\\\\SciProgramming_SP22\\\\Assignment\\\\Final' \n",
    "\n",
    "# change ur dir to your target top dir\n",
    "if os.getcwd() != home_dir:\n",
    "    os.chdir(home_dir)\n",
    "    \n",
    "print(os.getcwd())\n",
    "\n",
    "# check list of files in target top dir\n",
    "dir_list=os.listdir('.')\n",
    "dir_list"
   ]
  },
  {
   "cell_type": "code",
   "execution_count": 4,
   "id": "50dc9d3c",
   "metadata": {},
   "outputs": [
    {
     "name": "stdout",
     "output_type": "stream",
     "text": [
      "data folder exist in home_dir, now loading\n"
     ]
    }
   ],
   "source": [
    "# Check if the data file exist\n",
    "datadir_to_check = './omni_data/'\n",
    "checkdata=os.path.isdir(datadir_to_check)\n",
    "if checkdata:\n",
    "    print(\"data folder exist in home_dir, now loading\")\n",
    "else:\n",
    "    print('data folder exist in home_dir, please rearrange the folder')"
   ]
  },
  {
   "cell_type": "markdown",
   "id": "170e4a25",
   "metadata": {},
   "source": [
    "Making indivisual data frame for omni_data"
   ]
  },
  {
   "cell_type": "code",
   "execution_count": 5,
   "id": "fd140e6b",
   "metadata": {},
   "outputs": [
    {
     "data": {
      "text/plain": [
       "['omni_data_group-A.csv',\n",
       " 'omni_data_group-C.csv',\n",
       " 'omni_data_group-F.csv',\n",
       " 'omni_data_group-H.csv',\n",
       " 'readme - Copy.txt']"
      ]
     },
     "execution_count": 5,
     "metadata": {},
     "output_type": "execute_result"
    }
   ],
   "source": [
    "dir_list=os.listdir(datadir_to_check)\n",
    "dir_list"
   ]
  },
  {
   "cell_type": "code",
   "execution_count": 6,
   "id": "070b35d1",
   "metadata": {},
   "outputs": [
    {
     "data": {
      "text/plain": [
       "['omni_data_group-A.csv',\n",
       " 'omni_data_group-C.csv',\n",
       " 'omni_data_group-F.csv',\n",
       " 'omni_data_group-H.csv']"
      ]
     },
     "execution_count": 6,
     "metadata": {},
     "output_type": "execute_result"
    }
   ],
   "source": [
    "# get rid of readme.txt\n",
    "all_group=[]\n",
    "for i in dir_list:\n",
    "    if \".csv\"in i:\n",
    "        all_group.append(i)\n",
    "all_group"
   ]
  },
  {
   "cell_type": "code",
   "execution_count": 7,
   "id": "efe7d7b5",
   "metadata": {},
   "outputs": [
    {
     "name": "stdout",
     "output_type": "stream",
     "text": [
      "[20, 48, 50, 49]\n"
     ]
    },
    {
     "data": {
      "text/plain": [
       "[    participant_number group  judgment_of_learning  response_time  \\\n",
       " 0                    1     A                  82.0           2.45   \n",
       " 1                    2     A                  65.0           3.45   \n",
       " 2                    3     A                  56.0           2.87   \n",
       " 3                    4     A                  41.0           4.38   \n",
       " 4                    5     A                  63.0           2.15   \n",
       " 5                    6     A                  76.0           2.33   \n",
       " 6                    7     A                  46.0           4.03   \n",
       " 7                    8     A                  40.0           3.67   \n",
       " 8                    9     A                  51.0           3.27   \n",
       " 9                   10     A                  66.0           5.52   \n",
       " 10                  11     A                  81.0           3.63   \n",
       " 11                  12     A                  97.0           3.50   \n",
       " 12                  13     A                  42.0           2.51   \n",
       " 13                  14     A                  67.0           2.87   \n",
       " 14                  15     A                 100.0           3.49   \n",
       " 15                  16     A                  72.0           3.14   \n",
       " 16                  17     A                  21.0           3.15   \n",
       " 17                  18     A                  51.0           5.37   \n",
       " 18                  19     A                  72.0           3.13   \n",
       " 19                  20     A                  79.0           3.52   \n",
       " \n",
       "     percent_correct  test_delay_minutes  in_mri  \n",
       " 0              0.62                9.99       0  \n",
       " 1              0.27                8.24       0  \n",
       " 2              0.38                7.57       0  \n",
       " 3              0.72                6.65       1  \n",
       " 4              0.76                5.51       0  \n",
       " 5              0.69                5.43       0  \n",
       " 6              0.60                7.34       0  \n",
       " 7              0.42                7.35       1  \n",
       " 8              0.42                6.64       0  \n",
       " 9              0.56                8.20       0  \n",
       " 10             0.40                5.29       1  \n",
       " 11             0.86                5.10       1  \n",
       " 12             0.34                6.32       1  \n",
       " 13             0.38                5.10       1  \n",
       " 14             0.90                5.49       1  \n",
       " 15             0.52                8.61       1  \n",
       " 16             0.60                5.55       0  \n",
       " 17             0.49                6.94       0  \n",
       " 18             0.52                5.98       1  \n",
       " 19             0.88                4.78       1  ,\n",
       "     participant_number group  judgment_of_learning  response_time  \\\n",
       " 0                    1     C                  67.0           2.67   \n",
       " 1                    2     C                  61.0           3.29   \n",
       " 2                    3     C                  39.0           4.59   \n",
       " 3                    4     C                  75.0           2.99   \n",
       " 4                    6     C                  95.0           4.33   \n",
       " 5                    7     C                  58.0           4.06   \n",
       " 6                    8     C                 100.0           3.98   \n",
       " 7                   10     C                  85.0           4.54   \n",
       " 8                   11     C                  93.0           3.38   \n",
       " 9                   12     C                  71.0           3.73   \n",
       " 10                  13     C                  72.0           3.23   \n",
       " 11                  14     C                  99.0           2.25   \n",
       " 12                  15     C                  62.0           3.83   \n",
       " 13                  16     C                  91.0           2.79   \n",
       " 14                  17     C                  46.0           5.61   \n",
       " 15                  18     C                  74.0           2.59   \n",
       " 16                  19     C                  70.0           3.44   \n",
       " 17                  20     C                  55.0           3.43   \n",
       " 18                  21     C                  84.0           2.70   \n",
       " 19                  22     C                  43.0           4.40   \n",
       " 20                  23     C                  46.0           4.19   \n",
       " 21                  24     C                  51.0           4.77   \n",
       " 22                  25     C                  58.0           3.10   \n",
       " 23                  26     C                  63.0           3.13   \n",
       " 24                  27     C                  12.0           2.17   \n",
       " 25                  28     C                  26.0           2.98   \n",
       " 26                  29     C                  42.0           6.83   \n",
       " 27                  30     C                  74.0           4.00   \n",
       " 28                  31     C                  36.0           3.56   \n",
       " 29                  32     C                  77.0           3.45   \n",
       " 30                  33     C                  61.0           2.62   \n",
       " 31                  34     C                  68.0           5.55   \n",
       " 32                  35     C                  64.0           3.74   \n",
       " 33                  36     C                  79.0           4.69   \n",
       " 34                  37     C                  65.0           4.88   \n",
       " 35                  38     C                  61.0           5.93   \n",
       " 36                  39     C                  79.0           5.00   \n",
       " 37                  40     C                  86.0           3.36   \n",
       " 38                  41     C                  50.0           4.97   \n",
       " 39                  42     C                  64.0           3.45   \n",
       " 40                  43     C                  75.0           1.64   \n",
       " 41                  44     C                  39.0           3.94   \n",
       " 42                  45     C                  78.0           4.18   \n",
       " 43                  46     C                  49.0           3.75   \n",
       " 44                  47     C                  10.0           2.05   \n",
       " 45                  48     C                  60.0           3.79   \n",
       " 46                  49     C                  47.0           4.90   \n",
       " 47                  50     C                  81.0           3.53   \n",
       " \n",
       "     percent_correct  test_delay_minutes  in_mri  \n",
       " 0              0.69             1440.66       0  \n",
       " 1              0.87             1385.50       0  \n",
       " 2              0.16             1237.92       1  \n",
       " 3              0.80             1360.95       1  \n",
       " 4              0.87             1410.17       0  \n",
       " 5              0.78             1396.50       1  \n",
       " 6              0.66             1362.51       1  \n",
       " 7              0.42             1374.41       1  \n",
       " 8              0.27             1358.45       0  \n",
       " 9              0.54             1297.44       1  \n",
       " 10             0.89             1437.65       0  \n",
       " 11             0.04             1427.69       0  \n",
       " 12             0.84             1374.87       1  \n",
       " 13             0.20             1384.19       1  \n",
       " 14             0.30             1405.58       1  \n",
       " 15             0.88             1384.38       1  \n",
       " 16             0.67             1387.20       0  \n",
       " 17             0.38             1402.90       1  \n",
       " 18             0.56             1438.13       0  \n",
       " 19             0.36             1377.94       0  \n",
       " 20             0.36             1416.41       0  \n",
       " 21             0.44             1393.70       0  \n",
       " 22             0.96             1460.59       0  \n",
       " 23             0.58             1384.37       0  \n",
       " 24             0.20             1395.46       1  \n",
       " 25             0.38             1379.07       1  \n",
       " 26             0.47             1417.29       0  \n",
       " 27             0.10             1394.63       1  \n",
       " 28             0.48             1376.98       1  \n",
       " 29             0.62             1384.87       0  \n",
       " 30             0.44             1429.61       0  \n",
       " 31             0.69             1374.77       0  \n",
       " 32             0.18             1392.11       0  \n",
       " 33             0.12             1412.17       1  \n",
       " 34             0.48             1365.44       1  \n",
       " 35             0.52             1408.54       1  \n",
       " 36             0.64             1384.18       0  \n",
       " 37             1.00             1412.71       0  \n",
       " 38             0.16             1373.93       1  \n",
       " 39             0.31             1414.06       0  \n",
       " 40             0.13             1409.78       0  \n",
       " 41             0.26             1367.41       1  \n",
       " 42             0.84             1405.29       1  \n",
       " 43             0.36             1401.05       0  \n",
       " 44             0.08             1386.39       1  \n",
       " 45             0.44             1355.73       1  \n",
       " 46             0.16             1440.82       1  \n",
       " 47             0.09             1405.52       0  ,\n",
       "     participant_number group  judgment_of_learning  response_time  \\\n",
       " 0                    1     F                  64.0           4.28   \n",
       " 1                    2     F                  68.0           2.56   \n",
       " 2                    3     F                  97.0           3.06   \n",
       " 3                    4     F                  88.0           2.74   \n",
       " 4                    5     F                  97.0           3.13   \n",
       " 5                    6     F                  87.0           3.58   \n",
       " 6                    7     F                  70.0           4.71   \n",
       " 7                    8     F                  55.0           7.15   \n",
       " 8                    9     F                  28.0           3.12   \n",
       " 9                   10     F                  50.0           4.89   \n",
       " 10                  11     F                  54.0           4.48   \n",
       " 11                  12     F                  89.0           4.26   \n",
       " 12                  13     F                  55.0           4.91   \n",
       " 13                  14     F                  51.0           3.61   \n",
       " 14                  15     F                  44.0           3.91   \n",
       " 15                  16     F                  70.0           3.45   \n",
       " 16                  17     F                  38.0           5.13   \n",
       " 17                  18     F                  79.0           4.33   \n",
       " 18                  19     F                  33.0           3.34   \n",
       " 19                  20     F                  88.0           5.03   \n",
       " 20                  21     F                  65.0           3.33   \n",
       " 21                  22     F                  45.0           4.33   \n",
       " 22                  23     F                  52.0           3.00   \n",
       " 23                  24     F                  88.0           2.88   \n",
       " 24                  25     F                  80.0           4.63   \n",
       " 25                  26     F                  82.0           6.27   \n",
       " 26                  27     F                  81.0           3.75   \n",
       " 27                  28     F                  71.0           3.97   \n",
       " 28                  29     F                  56.0           4.16   \n",
       " 29                  30     F                  55.0           5.45   \n",
       " 30                  31     F                  95.0           2.98   \n",
       " 31                  32     F                  41.0           3.69   \n",
       " 32                  33     F                  52.0           4.43   \n",
       " 33                  34     F                  45.0           7.12   \n",
       " 34                  35     F                  52.0           4.88   \n",
       " 35                  36     F                  38.0           4.88   \n",
       " 36                  37     F                  76.0           5.27   \n",
       " 37                  38     F                  71.0           5.16   \n",
       " 38                  39     F                  51.0           3.16   \n",
       " 39                  40     F                  60.0           2.69   \n",
       " 40                  41     F                  56.0           9.04   \n",
       " 41                  42     F                  45.0           5.33   \n",
       " 42                  43     F                  52.0           4.69   \n",
       " 43                  44     F                  74.0           3.65   \n",
       " 44                  45     F                  61.0           7.21   \n",
       " 45                  46     F                  51.0           5.21   \n",
       " 46                  47     F                  71.0           3.20   \n",
       " 47                  48     F                  22.0           2.21   \n",
       " 48                  49     F                  80.0           4.72   \n",
       " 49                  50     F                  59.0           3.67   \n",
       " \n",
       "     percent_correct  test_delay_minutes  in_mri  \n",
       " 0              0.66             4264.01       1  \n",
       " 1              0.04             4277.12       1  \n",
       " 2              0.29             4248.38       0  \n",
       " 3              0.28             3910.42       1  \n",
       " 4              0.11             4001.56       0  \n",
       " 5              0.67             4262.03       0  \n",
       " 6              0.02             4271.25       1  \n",
       " 7              0.24             4260.21       0  \n",
       " 8              0.11             4229.26       0  \n",
       " 9              0.12             4079.55       1  \n",
       " 10             0.36             4221.40       0  \n",
       " 11             0.18             4271.35       1  \n",
       " 12             0.42             4262.84       1  \n",
       " 13             0.44             4270.37       1  \n",
       " 14             0.20             4266.21       0  \n",
       " 15             0.11             4269.38       0  \n",
       " 16             0.09             4277.63       0  \n",
       " 17             0.40             4259.75       0  \n",
       " 18             0.26             4252.01       1  \n",
       " 19             0.71             4290.46       0  \n",
       " 20             0.60             4258.05       0  \n",
       " 21             0.42             4311.76       0  \n",
       " 22             0.04             4240.76       0  \n",
       " 23             0.90             4410.95       1  \n",
       " 24             0.27             4285.74       0  \n",
       " 25             0.56             4309.20       0  \n",
       " 26             0.56             4263.79       1  \n",
       " 27             0.67             4270.15       0  \n",
       " 28             0.10             4267.81       1  \n",
       " 29             0.28             4297.17       1  \n",
       " 30             0.13             4297.08       0  \n",
       " 31             0.66             4278.35       1  \n",
       " 32             0.44             4260.36       0  \n",
       " 33             0.54             4257.80       1  \n",
       " 34             0.34             4312.66       1  \n",
       " 35             0.14             4268.15       1  \n",
       " 36             0.48             4288.20       1  \n",
       " 37             0.58             4312.06       1  \n",
       " 38             0.42             4269.95       0  \n",
       " 39             0.16             4259.19       1  \n",
       " 40             0.56             4284.63       0  \n",
       " 41             0.50             4279.22       1  \n",
       " 42             0.87             4262.67       0  \n",
       " 43             0.30             4293.89       1  \n",
       " 44             0.50             4294.57       1  \n",
       " 45             0.28             4233.83       1  \n",
       " 46             0.69             4215.49       0  \n",
       " 47             0.00             4299.08       0  \n",
       " 48             0.38             4253.25       1  \n",
       " 49             0.53             4297.14       0  ,\n",
       "     participant_number group  judgment_of_learning  response_time  \\\n",
       " 0                    2     H                  71.0           5.59   \n",
       " 1                    3     H                  47.0           4.02   \n",
       " 2                    4     H                  63.0           3.65   \n",
       " 3                    5     H                  22.0           3.04   \n",
       " 4                    6     H                  61.0           2.68   \n",
       " 5                    7     H                  92.0           3.25   \n",
       " 6                    8     H                  75.0           3.92   \n",
       " 7                    9     H                  50.0           4.09   \n",
       " 8                   10     H                  61.0           5.12   \n",
       " 9                   11     H                  48.0           5.32   \n",
       " 10                  12     H                  47.0           1.54   \n",
       " 11                  13     H                  94.0           2.95   \n",
       " 12                  14     H                  21.0           4.28   \n",
       " 13                  15     H                  52.0           2.18   \n",
       " 14                  16     H                  17.0           4.81   \n",
       " 15                  17     H                  76.0           3.74   \n",
       " 16                  18     H                  54.0           3.44   \n",
       " 17                  19     H                  49.0           4.20   \n",
       " 18                  20     H                  47.0           4.78   \n",
       " 19                  21     H                  60.0           3.19   \n",
       " 20                  22     H                  50.0           2.55   \n",
       " 21                  23     H                  48.0           4.37   \n",
       " 22                  24     H                  27.0           3.49   \n",
       " 23                  25     H                  66.0           5.37   \n",
       " 24                  26     H                  53.0           3.30   \n",
       " 25                  27     H                  64.0           2.50   \n",
       " 26                  28     H                  55.0           5.39   \n",
       " 27                  29     H                  56.0           3.05   \n",
       " 28                  30     H                  38.0           3.17   \n",
       " 29                  31     H                  72.0           2.77   \n",
       " 30                  32     H                  70.0           4.11   \n",
       " 31                  33     H                  82.0           4.03   \n",
       " 32                  34     H                  46.0           3.54   \n",
       " 33                  35     H                  32.0           4.07   \n",
       " 34                  36     H                  69.0           2.51   \n",
       " 35                  37     H                  51.0           5.40   \n",
       " 36                  38     H                  72.0           3.42   \n",
       " 37                  39     H                  53.0           6.13   \n",
       " 38                  40     H                  70.0           4.48   \n",
       " 39                  41     H                  58.0           2.91   \n",
       " 40                  42     H                  51.0           4.24   \n",
       " 41                  43     H                  67.0           5.55   \n",
       " 42                  44     H                  89.0           5.56   \n",
       " 43                  45     H                  26.0           5.83   \n",
       " 44                  46     H                  51.0           5.00   \n",
       " 45                  47     H                  50.0           4.10   \n",
       " 46                  48     H                  43.0           3.06   \n",
       " 47                  49     H                  90.0           2.84   \n",
       " 48                  50     H                  66.0           3.63   \n",
       " \n",
       "     percent_correct  test_delay_minutes  in_mri  \n",
       " 0              0.36            10016.41       0  \n",
       " 1              0.00            10016.61       0  \n",
       " 2              0.29            10027.26       0  \n",
       " 3              0.10            10058.57       1  \n",
       " 4              0.02            10002.27       1  \n",
       " 5              0.22            10027.79       1  \n",
       " 6              0.30            10057.10       1  \n",
       " 7              0.20            10035.59       0  \n",
       " 8              0.02             9982.45       0  \n",
       " 9              0.34            10042.30       1  \n",
       " 10             0.00            10114.27       0  \n",
       " 11             0.20            10011.16       1  \n",
       " 12             0.08            10014.48       1  \n",
       " 13             0.20            10008.47       0  \n",
       " 14             0.04            10043.70       0  \n",
       " 15             0.22            10019.04       0  \n",
       " 16             0.26            10040.16       1  \n",
       " 17             0.02             9974.09       1  \n",
       " 18             0.14            10021.76       1  \n",
       " 19             0.27            10013.55       0  \n",
       " 20             0.22            10027.82       0  \n",
       " 21             0.33            10039.54       0  \n",
       " 22             0.14            10020.96       1  \n",
       " 23             0.12            10031.33       1  \n",
       " 24             0.32            10023.39       1  \n",
       " 25             0.48            10060.51       1  \n",
       " 26             0.02            10055.86       0  \n",
       " 27             0.00            10032.49       1  \n",
       " 28             0.04            10262.55       0  \n",
       " 29             0.52            10041.74       1  \n",
       " 30             0.42            10003.44       0  \n",
       " 31             0.08            10430.95       1  \n",
       " 32             0.04            10017.08       1  \n",
       " 33             0.10            11205.58       1  \n",
       " 34             0.16            11507.79       1  \n",
       " 35             0.20             9935.31       1  \n",
       " 36             0.47            10041.68       0  \n",
       " 37             0.11            10034.75       0  \n",
       " 38             0.20            10002.85       1  \n",
       " 39             0.27            10031.59       0  \n",
       " 40             0.10            10109.87       1  \n",
       " 41             0.36            10014.90       0  \n",
       " 42             0.31            10023.35       0  \n",
       " 43             0.12            11466.84       1  \n",
       " 44             0.04            10022.76       1  \n",
       " 45             0.09            10034.43       0  \n",
       " 46             0.16            10023.23       0  \n",
       " 47             0.89            10056.45       0  \n",
       " 48             0.67            10041.84       0  ]"
      ]
     },
     "execution_count": 7,
     "metadata": {},
     "output_type": "execute_result"
    }
   ],
   "source": [
    "# read the csv into list\n",
    "df_list = []\n",
    "num_group=[]\n",
    "\n",
    "# fill in code here:\n",
    "for igroupdf in all_group:\n",
    "    igroupdf=pd.read_csv(datadir_to_check+igroupdf)\n",
    "    num_group.append(len(igroupdf.index))\n",
    "    df_list.append(igroupdf)\n",
    "print(num_group)\n",
    "df_list"
   ]
  },
  {
   "cell_type": "code",
   "execution_count": 8,
   "id": "8512eb99",
   "metadata": {},
   "outputs": [
    {
     "name": "stdout",
     "output_type": "stream",
     "text": [
      "[20, 48, 50, 49]\n",
      "20\n"
     ]
    },
    {
     "data": {
      "text/html": [
       "<div>\n",
       "<style scoped>\n",
       "    .dataframe tbody tr th:only-of-type {\n",
       "        vertical-align: middle;\n",
       "    }\n",
       "\n",
       "    .dataframe tbody tr th {\n",
       "        vertical-align: top;\n",
       "    }\n",
       "\n",
       "    .dataframe thead th {\n",
       "        text-align: right;\n",
       "    }\n",
       "</style>\n",
       "<table border=\"1\" class=\"dataframe\">\n",
       "  <thead>\n",
       "    <tr style=\"text-align: right;\">\n",
       "      <th></th>\n",
       "      <th>participant_number</th>\n",
       "      <th>group</th>\n",
       "      <th>judgment_of_learning</th>\n",
       "      <th>response_time</th>\n",
       "      <th>percent_correct</th>\n",
       "      <th>test_delay_minutes</th>\n",
       "      <th>in_mri</th>\n",
       "    </tr>\n",
       "  </thead>\n",
       "  <tbody>\n",
       "    <tr>\n",
       "      <th>0</th>\n",
       "      <td>1</td>\n",
       "      <td>A</td>\n",
       "      <td>82.0</td>\n",
       "      <td>2.45</td>\n",
       "      <td>0.62</td>\n",
       "      <td>9.99</td>\n",
       "      <td>0</td>\n",
       "    </tr>\n",
       "    <tr>\n",
       "      <th>1</th>\n",
       "      <td>2</td>\n",
       "      <td>A</td>\n",
       "      <td>65.0</td>\n",
       "      <td>3.45</td>\n",
       "      <td>0.27</td>\n",
       "      <td>8.24</td>\n",
       "      <td>0</td>\n",
       "    </tr>\n",
       "    <tr>\n",
       "      <th>2</th>\n",
       "      <td>3</td>\n",
       "      <td>A</td>\n",
       "      <td>56.0</td>\n",
       "      <td>2.87</td>\n",
       "      <td>0.38</td>\n",
       "      <td>7.57</td>\n",
       "      <td>0</td>\n",
       "    </tr>\n",
       "    <tr>\n",
       "      <th>3</th>\n",
       "      <td>4</td>\n",
       "      <td>A</td>\n",
       "      <td>41.0</td>\n",
       "      <td>4.38</td>\n",
       "      <td>0.72</td>\n",
       "      <td>6.65</td>\n",
       "      <td>1</td>\n",
       "    </tr>\n",
       "    <tr>\n",
       "      <th>4</th>\n",
       "      <td>5</td>\n",
       "      <td>A</td>\n",
       "      <td>63.0</td>\n",
       "      <td>2.15</td>\n",
       "      <td>0.76</td>\n",
       "      <td>5.51</td>\n",
       "      <td>0</td>\n",
       "    </tr>\n",
       "    <tr>\n",
       "      <th>5</th>\n",
       "      <td>6</td>\n",
       "      <td>A</td>\n",
       "      <td>76.0</td>\n",
       "      <td>2.33</td>\n",
       "      <td>0.69</td>\n",
       "      <td>5.43</td>\n",
       "      <td>0</td>\n",
       "    </tr>\n",
       "    <tr>\n",
       "      <th>6</th>\n",
       "      <td>7</td>\n",
       "      <td>A</td>\n",
       "      <td>46.0</td>\n",
       "      <td>4.03</td>\n",
       "      <td>0.60</td>\n",
       "      <td>7.34</td>\n",
       "      <td>0</td>\n",
       "    </tr>\n",
       "    <tr>\n",
       "      <th>7</th>\n",
       "      <td>8</td>\n",
       "      <td>A</td>\n",
       "      <td>40.0</td>\n",
       "      <td>3.67</td>\n",
       "      <td>0.42</td>\n",
       "      <td>7.35</td>\n",
       "      <td>1</td>\n",
       "    </tr>\n",
       "    <tr>\n",
       "      <th>8</th>\n",
       "      <td>9</td>\n",
       "      <td>A</td>\n",
       "      <td>51.0</td>\n",
       "      <td>3.27</td>\n",
       "      <td>0.42</td>\n",
       "      <td>6.64</td>\n",
       "      <td>0</td>\n",
       "    </tr>\n",
       "    <tr>\n",
       "      <th>9</th>\n",
       "      <td>10</td>\n",
       "      <td>A</td>\n",
       "      <td>66.0</td>\n",
       "      <td>5.52</td>\n",
       "      <td>0.56</td>\n",
       "      <td>8.20</td>\n",
       "      <td>0</td>\n",
       "    </tr>\n",
       "    <tr>\n",
       "      <th>10</th>\n",
       "      <td>11</td>\n",
       "      <td>A</td>\n",
       "      <td>81.0</td>\n",
       "      <td>3.63</td>\n",
       "      <td>0.40</td>\n",
       "      <td>5.29</td>\n",
       "      <td>1</td>\n",
       "    </tr>\n",
       "    <tr>\n",
       "      <th>11</th>\n",
       "      <td>12</td>\n",
       "      <td>A</td>\n",
       "      <td>97.0</td>\n",
       "      <td>3.50</td>\n",
       "      <td>0.86</td>\n",
       "      <td>5.10</td>\n",
       "      <td>1</td>\n",
       "    </tr>\n",
       "    <tr>\n",
       "      <th>12</th>\n",
       "      <td>13</td>\n",
       "      <td>A</td>\n",
       "      <td>42.0</td>\n",
       "      <td>2.51</td>\n",
       "      <td>0.34</td>\n",
       "      <td>6.32</td>\n",
       "      <td>1</td>\n",
       "    </tr>\n",
       "    <tr>\n",
       "      <th>13</th>\n",
       "      <td>14</td>\n",
       "      <td>A</td>\n",
       "      <td>67.0</td>\n",
       "      <td>2.87</td>\n",
       "      <td>0.38</td>\n",
       "      <td>5.10</td>\n",
       "      <td>1</td>\n",
       "    </tr>\n",
       "    <tr>\n",
       "      <th>14</th>\n",
       "      <td>15</td>\n",
       "      <td>A</td>\n",
       "      <td>100.0</td>\n",
       "      <td>3.49</td>\n",
       "      <td>0.90</td>\n",
       "      <td>5.49</td>\n",
       "      <td>1</td>\n",
       "    </tr>\n",
       "    <tr>\n",
       "      <th>15</th>\n",
       "      <td>16</td>\n",
       "      <td>A</td>\n",
       "      <td>72.0</td>\n",
       "      <td>3.14</td>\n",
       "      <td>0.52</td>\n",
       "      <td>8.61</td>\n",
       "      <td>1</td>\n",
       "    </tr>\n",
       "    <tr>\n",
       "      <th>16</th>\n",
       "      <td>17</td>\n",
       "      <td>A</td>\n",
       "      <td>21.0</td>\n",
       "      <td>3.15</td>\n",
       "      <td>0.60</td>\n",
       "      <td>5.55</td>\n",
       "      <td>0</td>\n",
       "    </tr>\n",
       "    <tr>\n",
       "      <th>17</th>\n",
       "      <td>18</td>\n",
       "      <td>A</td>\n",
       "      <td>51.0</td>\n",
       "      <td>5.37</td>\n",
       "      <td>0.49</td>\n",
       "      <td>6.94</td>\n",
       "      <td>0</td>\n",
       "    </tr>\n",
       "    <tr>\n",
       "      <th>18</th>\n",
       "      <td>19</td>\n",
       "      <td>A</td>\n",
       "      <td>72.0</td>\n",
       "      <td>3.13</td>\n",
       "      <td>0.52</td>\n",
       "      <td>5.98</td>\n",
       "      <td>1</td>\n",
       "    </tr>\n",
       "    <tr>\n",
       "      <th>19</th>\n",
       "      <td>20</td>\n",
       "      <td>A</td>\n",
       "      <td>79.0</td>\n",
       "      <td>3.52</td>\n",
       "      <td>0.88</td>\n",
       "      <td>4.78</td>\n",
       "      <td>1</td>\n",
       "    </tr>\n",
       "  </tbody>\n",
       "</table>\n",
       "</div>"
      ],
      "text/plain": [
       "    participant_number group  judgment_of_learning  response_time  \\\n",
       "0                    1     A                  82.0           2.45   \n",
       "1                    2     A                  65.0           3.45   \n",
       "2                    3     A                  56.0           2.87   \n",
       "3                    4     A                  41.0           4.38   \n",
       "4                    5     A                  63.0           2.15   \n",
       "5                    6     A                  76.0           2.33   \n",
       "6                    7     A                  46.0           4.03   \n",
       "7                    8     A                  40.0           3.67   \n",
       "8                    9     A                  51.0           3.27   \n",
       "9                   10     A                  66.0           5.52   \n",
       "10                  11     A                  81.0           3.63   \n",
       "11                  12     A                  97.0           3.50   \n",
       "12                  13     A                  42.0           2.51   \n",
       "13                  14     A                  67.0           2.87   \n",
       "14                  15     A                 100.0           3.49   \n",
       "15                  16     A                  72.0           3.14   \n",
       "16                  17     A                  21.0           3.15   \n",
       "17                  18     A                  51.0           5.37   \n",
       "18                  19     A                  72.0           3.13   \n",
       "19                  20     A                  79.0           3.52   \n",
       "\n",
       "    percent_correct  test_delay_minutes  in_mri  \n",
       "0              0.62                9.99       0  \n",
       "1              0.27                8.24       0  \n",
       "2              0.38                7.57       0  \n",
       "3              0.72                6.65       1  \n",
       "4              0.76                5.51       0  \n",
       "5              0.69                5.43       0  \n",
       "6              0.60                7.34       0  \n",
       "7              0.42                7.35       1  \n",
       "8              0.42                6.64       0  \n",
       "9              0.56                8.20       0  \n",
       "10             0.40                5.29       1  \n",
       "11             0.86                5.10       1  \n",
       "12             0.34                6.32       1  \n",
       "13             0.38                5.10       1  \n",
       "14             0.90                5.49       1  \n",
       "15             0.52                8.61       1  \n",
       "16             0.60                5.55       0  \n",
       "17             0.49                6.94       0  \n",
       "18             0.52                5.98       1  \n",
       "19             0.88                4.78       1  "
      ]
     },
     "execution_count": 8,
     "metadata": {},
     "output_type": "execute_result"
    }
   ],
   "source": [
    "# Let's randomly check a sub_df to see if it has the correct size\n",
    "print(num_group)\n",
    "print(len(df_list[0].index))\n",
    "df_list[0]"
   ]
  },
  {
   "cell_type": "markdown",
   "id": "dadac03b",
   "metadata": {},
   "source": [
    "====================================================================================================="
   ]
  },
  {
   "cell_type": "markdown",
   "id": "409890f7",
   "metadata": {},
   "source": [
    "## Step 2: Data Concatenation\n",
    "Since **group is a between group independent variable**, and the columns in different csv are the same, I'll simply **concatenate** the data, by putting each groups data in diff rows"
   ]
  },
  {
   "cell_type": "code",
   "execution_count": 9,
   "id": "580a8489",
   "metadata": {},
   "outputs": [
    {
     "data": {
      "text/html": [
       "<div>\n",
       "<style scoped>\n",
       "    .dataframe tbody tr th:only-of-type {\n",
       "        vertical-align: middle;\n",
       "    }\n",
       "\n",
       "    .dataframe tbody tr th {\n",
       "        vertical-align: top;\n",
       "    }\n",
       "\n",
       "    .dataframe thead th {\n",
       "        text-align: right;\n",
       "    }\n",
       "</style>\n",
       "<table border=\"1\" class=\"dataframe\">\n",
       "  <thead>\n",
       "    <tr style=\"text-align: right;\">\n",
       "      <th></th>\n",
       "      <th>participant_number</th>\n",
       "      <th>group</th>\n",
       "      <th>judgment_of_learning</th>\n",
       "      <th>response_time</th>\n",
       "      <th>percent_correct</th>\n",
       "      <th>test_delay_minutes</th>\n",
       "      <th>in_mri</th>\n",
       "    </tr>\n",
       "  </thead>\n",
       "  <tbody>\n",
       "    <tr>\n",
       "      <th>0</th>\n",
       "      <td>1</td>\n",
       "      <td>A</td>\n",
       "      <td>82.0</td>\n",
       "      <td>2.45</td>\n",
       "      <td>0.62</td>\n",
       "      <td>9.99</td>\n",
       "      <td>0</td>\n",
       "    </tr>\n",
       "    <tr>\n",
       "      <th>1</th>\n",
       "      <td>2</td>\n",
       "      <td>A</td>\n",
       "      <td>65.0</td>\n",
       "      <td>3.45</td>\n",
       "      <td>0.27</td>\n",
       "      <td>8.24</td>\n",
       "      <td>0</td>\n",
       "    </tr>\n",
       "    <tr>\n",
       "      <th>2</th>\n",
       "      <td>3</td>\n",
       "      <td>A</td>\n",
       "      <td>56.0</td>\n",
       "      <td>2.87</td>\n",
       "      <td>0.38</td>\n",
       "      <td>7.57</td>\n",
       "      <td>0</td>\n",
       "    </tr>\n",
       "    <tr>\n",
       "      <th>3</th>\n",
       "      <td>4</td>\n",
       "      <td>A</td>\n",
       "      <td>41.0</td>\n",
       "      <td>4.38</td>\n",
       "      <td>0.72</td>\n",
       "      <td>6.65</td>\n",
       "      <td>1</td>\n",
       "    </tr>\n",
       "    <tr>\n",
       "      <th>4</th>\n",
       "      <td>5</td>\n",
       "      <td>A</td>\n",
       "      <td>63.0</td>\n",
       "      <td>2.15</td>\n",
       "      <td>0.76</td>\n",
       "      <td>5.51</td>\n",
       "      <td>0</td>\n",
       "    </tr>\n",
       "    <tr>\n",
       "      <th>...</th>\n",
       "      <td>...</td>\n",
       "      <td>...</td>\n",
       "      <td>...</td>\n",
       "      <td>...</td>\n",
       "      <td>...</td>\n",
       "      <td>...</td>\n",
       "      <td>...</td>\n",
       "    </tr>\n",
       "    <tr>\n",
       "      <th>162</th>\n",
       "      <td>46</td>\n",
       "      <td>H</td>\n",
       "      <td>51.0</td>\n",
       "      <td>5.00</td>\n",
       "      <td>0.04</td>\n",
       "      <td>10022.76</td>\n",
       "      <td>1</td>\n",
       "    </tr>\n",
       "    <tr>\n",
       "      <th>163</th>\n",
       "      <td>47</td>\n",
       "      <td>H</td>\n",
       "      <td>50.0</td>\n",
       "      <td>4.10</td>\n",
       "      <td>0.09</td>\n",
       "      <td>10034.43</td>\n",
       "      <td>0</td>\n",
       "    </tr>\n",
       "    <tr>\n",
       "      <th>164</th>\n",
       "      <td>48</td>\n",
       "      <td>H</td>\n",
       "      <td>43.0</td>\n",
       "      <td>3.06</td>\n",
       "      <td>0.16</td>\n",
       "      <td>10023.23</td>\n",
       "      <td>0</td>\n",
       "    </tr>\n",
       "    <tr>\n",
       "      <th>165</th>\n",
       "      <td>49</td>\n",
       "      <td>H</td>\n",
       "      <td>90.0</td>\n",
       "      <td>2.84</td>\n",
       "      <td>0.89</td>\n",
       "      <td>10056.45</td>\n",
       "      <td>0</td>\n",
       "    </tr>\n",
       "    <tr>\n",
       "      <th>166</th>\n",
       "      <td>50</td>\n",
       "      <td>H</td>\n",
       "      <td>66.0</td>\n",
       "      <td>3.63</td>\n",
       "      <td>0.67</td>\n",
       "      <td>10041.84</td>\n",
       "      <td>0</td>\n",
       "    </tr>\n",
       "  </tbody>\n",
       "</table>\n",
       "<p>167 rows × 7 columns</p>\n",
       "</div>"
      ],
      "text/plain": [
       "     participant_number group  judgment_of_learning  response_time  \\\n",
       "0                     1     A                  82.0           2.45   \n",
       "1                     2     A                  65.0           3.45   \n",
       "2                     3     A                  56.0           2.87   \n",
       "3                     4     A                  41.0           4.38   \n",
       "4                     5     A                  63.0           2.15   \n",
       "..                  ...   ...                   ...            ...   \n",
       "162                  46     H                  51.0           5.00   \n",
       "163                  47     H                  50.0           4.10   \n",
       "164                  48     H                  43.0           3.06   \n",
       "165                  49     H                  90.0           2.84   \n",
       "166                  50     H                  66.0           3.63   \n",
       "\n",
       "     percent_correct  test_delay_minutes  in_mri  \n",
       "0               0.62                9.99       0  \n",
       "1               0.27                8.24       0  \n",
       "2               0.38                7.57       0  \n",
       "3               0.72                6.65       1  \n",
       "4               0.76                5.51       0  \n",
       "..               ...                 ...     ...  \n",
       "162             0.04            10022.76       1  \n",
       "163             0.09            10034.43       0  \n",
       "164             0.16            10023.23       0  \n",
       "165             0.89            10056.45       0  \n",
       "166             0.67            10041.84       0  \n",
       "\n",
       "[167 rows x 7 columns]"
      ]
     },
     "execution_count": 9,
     "metadata": {},
     "output_type": "execute_result"
    }
   ],
   "source": [
    "all_participants = pd.concat(df_list, ignore_index=True)\n",
    "all_participants"
   ]
  },
  {
   "cell_type": "code",
   "execution_count": 10,
   "id": "d8bb3edd",
   "metadata": {},
   "outputs": [
    {
     "name": "stdout",
     "output_type": "stream",
     "text": [
      "Correctly concatenated the different groups of data, let's move on\n"
     ]
    }
   ],
   "source": [
    "# Check if the total number of participant is correct after concatenation\n",
    "\n",
    "if len(all_participants.index)==sum(num_group):\n",
    "    print(\"Correctly concatenated the different groups of data, let's move on\")\n",
    "else:\n",
    "    print(\"The total number of participant is not correct, something went wrong in concatenation\")"
   ]
  },
  {
   "cell_type": "markdown",
   "id": "1395234d",
   "metadata": {},
   "source": [
    "====================================================================================================="
   ]
  },
  {
   "cell_type": "markdown",
   "id": "057ccb51",
   "metadata": {},
   "source": [
    "## Step 3: Data Cleanning"
   ]
  },
  {
   "cell_type": "code",
   "execution_count": 11,
   "id": "4c3d8b2b",
   "metadata": {},
   "outputs": [
    {
     "data": {
      "text/plain": [
       "Index(['participant_number', 'group', 'judgment_of_learning', 'response_time',\n",
       "       'percent_correct', 'test_delay_minutes', 'in_mri'],\n",
       "      dtype='object')"
      ]
     },
     "execution_count": 11,
     "metadata": {},
     "output_type": "execute_result"
    }
   ],
   "source": [
    "columns=all_participants.columns\n",
    "columns"
   ]
  },
  {
   "cell_type": "code",
   "execution_count": 12,
   "id": "21a83c4b",
   "metadata": {},
   "outputs": [
    {
     "name": "stdout",
     "output_type": "stream",
     "text": [
      "Now we drop the Nan in each column in the order that from left to right \n",
      "\n",
      "In column \"participant_number\",\n",
      "we droped 0 rows\n",
      "Before the dropping, there are 167 rows\n",
      "Afterwards, there are 167 rows\n",
      "\n",
      "In column \"group\",\n",
      "we droped 0 rows\n",
      "Before the dropping, there are 167 rows\n",
      "Afterwards, there are 167 rows\n",
      "\n",
      "In column \"judgment_of_learning\",\n",
      "we droped 0 rows\n",
      "Before the dropping, there are 167 rows\n",
      "Afterwards, there are 167 rows\n",
      "\n",
      "In column \"response_time\",\n",
      "we droped 0 rows\n",
      "Before the dropping, there are 167 rows\n",
      "Afterwards, there are 167 rows\n",
      "\n",
      "In column \"percent_correct\",\n",
      "we droped 0 rows\n",
      "Before the dropping, there are 167 rows\n",
      "Afterwards, there are 167 rows\n",
      "\n",
      "In column \"test_delay_minutes\",\n",
      "we droped 0 rows\n",
      "Before the dropping, there are 167 rows\n",
      "Afterwards, there are 167 rows\n",
      "\n",
      "In column \"in_mri\",\n",
      "we droped 0 rows\n",
      "Before the dropping, there are 167 rows\n",
      "Afterwards, there are 167 rows\n",
      "\n",
      "In summary, we had no missing data\n"
     ]
    }
   ],
   "source": [
    "print(\"Now we drop the Nan in each column in the order that from left to right \\n\")\n",
    "icol=[]\n",
    "drop_rows =[]\n",
    "clean_df=[]\n",
    "drops=0\n",
    "\n",
    "for icol in columns:\n",
    "    len_ori=len(all_participants.index) # the number of rows before each cleanning\n",
    "    \n",
    "    clean_df=all_participants.dropna(subset=[icol]) # the cleaned df\n",
    "    \n",
    "    drop_rows=len_ori-len(clean_df.index) # the number of rows cleaned in this iterate\n",
    "    \n",
    "    drops+=drop_rows\n",
    "    \n",
    "    print(f'In column \"{icol}\",')\n",
    "    print(f'we droped {drop_rows} rows')\n",
    "    print(f'Before the dropping, there are {len_ori} rows')\n",
    "    print(f'Afterwards, there are {len(clean_df.index)} rows\\n')\n",
    "\n",
    "    \n",
    "if len(clean_df.index)==len(all_participants.index):\n",
    "    print(\"In summary, we had no missing data\")\n",
    "else:\n",
    "    print(f\"In summary,we droped {drops} rows\")\n"
   ]
  },
  {
   "cell_type": "markdown",
   "id": "6b2bdd41",
   "metadata": {},
   "source": [
    "I dropped the missing data column by column from left to right, and count cumulatively how many rows I dropped each time. \n",
    "\n",
    "However, in each column, I dropped 0 rows cumculatively.\n",
    "\n",
    "Before each dropping for each column, the whole number of rows are 167, which remained the same (167) after each time I cleaned the data.\n",
    "\n",
    "**In total, I dropped 0 rows, so I had no missing data in omni_data**"
   ]
  },
  {
   "cell_type": "markdown",
   "id": "12cf27c7",
   "metadata": {},
   "source": [
    "====================================================================================================="
   ]
  },
  {
   "cell_type": "markdown",
   "id": "09f9a0f0",
   "metadata": {},
   "source": [
    "## Step 4: Descriptive Stats"
   ]
  },
  {
   "cell_type": "markdown",
   "id": "92edbcc5",
   "metadata": {},
   "source": [
    "Now let's look at the pattern of **percent_correct** on different levels of **group**\n",
    "\n",
    "\n",
    "percent_correct: the proportion of test trials that a person answered correctly. In other words, their memory performance. (numeric, 0 to 1)\n",
    "\n",
    "group: the study-test delay group (categorical, A, C, F, H). Between participant independent variable."
   ]
  },
  {
   "cell_type": "code",
   "execution_count": 13,
   "id": "a61586ee",
   "metadata": {},
   "outputs": [
    {
     "data": {
      "text/html": [
       "<div>\n",
       "<style scoped>\n",
       "    .dataframe tbody tr th:only-of-type {\n",
       "        vertical-align: middle;\n",
       "    }\n",
       "\n",
       "    .dataframe tbody tr th {\n",
       "        vertical-align: top;\n",
       "    }\n",
       "\n",
       "    .dataframe thead th {\n",
       "        text-align: right;\n",
       "    }\n",
       "</style>\n",
       "<table border=\"1\" class=\"dataframe\">\n",
       "  <thead>\n",
       "    <tr style=\"text-align: right;\">\n",
       "      <th></th>\n",
       "      <th>count</th>\n",
       "      <th>mean</th>\n",
       "      <th>std</th>\n",
       "      <th>min</th>\n",
       "      <th>25%</th>\n",
       "      <th>50%</th>\n",
       "      <th>75%</th>\n",
       "      <th>max</th>\n",
       "    </tr>\n",
       "    <tr>\n",
       "      <th>group</th>\n",
       "      <th></th>\n",
       "      <th></th>\n",
       "      <th></th>\n",
       "      <th></th>\n",
       "      <th></th>\n",
       "      <th></th>\n",
       "      <th></th>\n",
       "      <th></th>\n",
       "    </tr>\n",
       "  </thead>\n",
       "  <tbody>\n",
       "    <tr>\n",
       "      <th>A</th>\n",
       "      <td>20.0</td>\n",
       "      <td>0.566500</td>\n",
       "      <td>0.187316</td>\n",
       "      <td>0.27</td>\n",
       "      <td>0.415</td>\n",
       "      <td>0.54</td>\n",
       "      <td>0.6975</td>\n",
       "      <td>0.90</td>\n",
       "    </tr>\n",
       "    <tr>\n",
       "      <th>C</th>\n",
       "      <td>48.0</td>\n",
       "      <td>0.472292</td>\n",
       "      <td>0.272383</td>\n",
       "      <td>0.04</td>\n",
       "      <td>0.245</td>\n",
       "      <td>0.44</td>\n",
       "      <td>0.6750</td>\n",
       "      <td>1.00</td>\n",
       "    </tr>\n",
       "    <tr>\n",
       "      <th>F</th>\n",
       "      <td>50.0</td>\n",
       "      <td>0.372200</td>\n",
       "      <td>0.230786</td>\n",
       "      <td>0.00</td>\n",
       "      <td>0.165</td>\n",
       "      <td>0.37</td>\n",
       "      <td>0.5550</td>\n",
       "      <td>0.90</td>\n",
       "    </tr>\n",
       "    <tr>\n",
       "      <th>H</th>\n",
       "      <td>49.0</td>\n",
       "      <td>0.209388</td>\n",
       "      <td>0.182339</td>\n",
       "      <td>0.00</td>\n",
       "      <td>0.080</td>\n",
       "      <td>0.20</td>\n",
       "      <td>0.3000</td>\n",
       "      <td>0.89</td>\n",
       "    </tr>\n",
       "  </tbody>\n",
       "</table>\n",
       "</div>"
      ],
      "text/plain": [
       "       count      mean       std   min    25%   50%     75%   max\n",
       "group                                                            \n",
       "A       20.0  0.566500  0.187316  0.27  0.415  0.54  0.6975  0.90\n",
       "C       48.0  0.472292  0.272383  0.04  0.245  0.44  0.6750  1.00\n",
       "F       50.0  0.372200  0.230786  0.00  0.165  0.37  0.5550  0.90\n",
       "H       49.0  0.209388  0.182339  0.00  0.080  0.20  0.3000  0.89"
      ]
     },
     "execution_count": 13,
     "metadata": {},
     "output_type": "execute_result"
    }
   ],
   "source": [
    "percorr_bygroup=clean_df.groupby('group')['percent_correct']\n",
    "percorr_bygroup.describe()"
   ]
  },
  {
   "cell_type": "markdown",
   "id": "dca32fb7",
   "metadata": {},
   "source": [
    "Save this descriptive results of percent_correct grouped by group dataframe to a csv file"
   ]
  },
  {
   "cell_type": "code",
   "execution_count": 14,
   "id": "98e4a824",
   "metadata": {},
   "outputs": [
    {
     "name": "stdout",
     "output_type": "stream",
     "text": [
      "D:\\A-NYU\\Python_JupterNotebook_Workspace\\SciProgramming_SP22\\Assignment\\Final\n",
      "./omni_data/\n"
     ]
    },
    {
     "data": {
      "text/plain": [
       "['omni_data_group-A.csv',\n",
       " 'omni_data_group-C.csv',\n",
       " 'omni_data_group-F.csv',\n",
       " 'omni_data_group-H.csv',\n",
       " 'readme - Copy.txt']"
      ]
     },
     "execution_count": 14,
     "metadata": {},
     "output_type": "execute_result"
    }
   ],
   "source": [
    "# Save the result in df_percorr, which is a dataframe\n",
    "df_percorr=percorr_bygroup.describe()\n",
    "\n",
    "# now check the folder summary_data under omni_data dir\n",
    "print(cwd)\n",
    "print(datadir_to_check)\n",
    "os.listdir(datadir_to_check)"
   ]
  },
  {
   "cell_type": "code",
   "execution_count": 15,
   "id": "89941d24",
   "metadata": {},
   "outputs": [
    {
     "name": "stdout",
     "output_type": "stream",
     "text": [
      "The summary data will be put in ./omni_data/summary_data/\n"
     ]
    },
    {
     "data": {
      "text/plain": [
       "True"
      ]
     },
     "execution_count": 15,
     "metadata": {},
     "output_type": "execute_result"
    }
   ],
   "source": [
    "newfolder='summary_data/'\n",
    "summary_dir=datadir_to_check+newfolder\n",
    "\n",
    "if not os.path.isdir(summary_dir):\n",
    "    os.makedirs(summary_dir)\n",
    "else:\n",
    "    print('There exist a summary_data folder under omni_data dir\\n')\n",
    "\n",
    "print(f'The summary data will be put in {summary_dir}')\n",
    "\n",
    "os.path.isdir(summary_dir)\n"
   ]
  },
  {
   "cell_type": "code",
   "execution_count": 16,
   "id": "0e489d0d",
   "metadata": {},
   "outputs": [
    {
     "name": "stdout",
     "output_type": "stream",
     "text": [
      "True\n"
     ]
    },
    {
     "data": {
      "text/plain": [
       "['percorr_bygroup_summary.csv']"
      ]
     },
     "execution_count": 16,
     "metadata": {},
     "output_type": "execute_result"
    }
   ],
   "source": [
    "descri_file_dir=os.path.join(summary_dir,'percorr_bygroup_summary.csv')\n",
    "df_percorr.to_csv(descri_file_dir)\n",
    "\n",
    "print(os.path.isfile(descri_file_dir))\n",
    "os.listdir(summary_dir)"
   ]
  },
  {
   "cell_type": "markdown",
   "id": "14f0a3ff",
   "metadata": {},
   "source": [
    "====================================================================================================="
   ]
  },
  {
   "cell_type": "markdown",
   "id": "be2d1594",
   "metadata": {},
   "source": [
    "## Step 5: Pearson's Correlation and Scatterplot"
   ]
  },
  {
   "cell_type": "markdown",
   "id": "6136c36f",
   "metadata": {},
   "source": [
    "### Step 5 (1): Correlation between self report learning outcome and real performance"
   ]
  },
  {
   "cell_type": "markdown",
   "id": "c0d2fba0",
   "metadata": {},
   "source": [
    "Now let's look at if subject's self-report learning outcome (**judgment_of_learning**) correlates with the real memory accuraccy (**percent_correct**).\n",
    "\n",
    "I would hypothezed that the **percent_correct** and **judgment_of_learning** has a possitive correlation,since participants' should have a metacognition about how well they learnt in the experiment, which should be reflected by real accuarcy. \n",
    "\n",
    "Therefore, their self-report learning outcome (**judgment_of_learning**) should be higher if they really did better with higher accuarcy (**percent_correct**)."
   ]
  },
  {
   "cell_type": "code",
   "execution_count": 17,
   "id": "265979e5",
   "metadata": {},
   "outputs": [
    {
     "data": {
      "text/plain": [
       "<seaborn.axisgrid.FacetGrid at 0x1ce53f82970>"
      ]
     },
     "execution_count": 17,
     "metadata": {},
     "output_type": "execute_result"
    },
    {
     "data": {
      "image/png": "[encoded data removed]",
      "text/plain": [
       "<Figure size 360x360 with 1 Axes>"
      ]
     },
     "metadata": {
      "needs_background": "light"
     },
     "output_type": "display_data"
    }
   ],
   "source": [
    "# the scatterplot of percent_correct and judgment_of_learning\n",
    "\n",
    "sns.relplot(x='percent_correct', \n",
    "            y='judgment_of_learning', \n",
    "            data=clean_df)"
   ]
  },
  {
   "cell_type": "markdown",
   "id": "0cc595e0",
   "metadata": {},
   "source": [
    "From the scatter plot, we can see that there might exist a correlation between percent_correct and judgment_of_learning, however they seem not higher linearly related."
   ]
  },
  {
   "cell_type": "code",
   "execution_count": 18,
   "id": "f1ae7f8b",
   "metadata": {},
   "outputs": [
    {
     "name": "stdout",
     "output_type": "stream",
     "text": [
      "There is a significant correlation, r(165) = 0.35, p < .001\n"
     ]
    }
   ],
   "source": [
    "corr_results = stats.pearsonr(clean_df['percent_correct'], clean_df['judgment_of_learning'])\n",
    "corr_results\n",
    "\n",
    "n = len(clean_df.index)\n",
    "df_r=n-2 # number of pairs -2\n",
    "alpha = .05\n",
    "\n",
    "r = corr_results[0]\n",
    "p = corr_results[1]\n",
    "\n",
    "if p < alpha:\n",
    "    if corr_results[1]<0.001:\n",
    "        print(f'There is a significant correlation, r({df_r}) = {(np.round(r,2))}, p < .001')\n",
    "    elif corr_results[1]<0.01:\n",
    "        print(f'There is a significant correlation, r({df_r}) = {(np.round(r,2))}, p < .01')\n",
    "    else:\n",
    "        print(f'There is a significant correlation, r({df_r}) = {(np.round(r,2))}, p = {(np.round(p,2))}')\n",
    "else:\n",
    "    print(f'There is no significant correlation, r({df_r}) = {np.round(r,2)}, p = {np.round(p,2)}')"
   ]
  },
  {
   "cell_type": "code",
   "execution_count": 19,
   "id": "61c7f3d5",
   "metadata": {},
   "outputs": [
    {
     "data": {
      "image/png": "[encoded data removed]",
      "text/plain": [
       "<Figure size 432x288 with 1 Axes>"
      ]
     },
     "metadata": {
      "needs_background": "light"
     },
     "output_type": "display_data"
    }
   ],
   "source": [
    "# draw a best fitting line\n",
    "sns.regplot(x='percent_correct', \n",
    "            y='judgment_of_learning', \n",
    "            data=clean_df)\n",
    "\n",
    "# draw a diagonal\n",
    "# plot([x1, x2], [y1, y2])\n",
    "plt.plot([0, 1], [0, 100],color=\"green\") \n",
    "\n",
    "plt.show()"
   ]
  },
  {
   "cell_type": "markdown",
   "id": "abf1bd60",
   "metadata": {},
   "source": [
    "#### Result reports of step 5 (1)\n",
    "\n",
    "We applied Pearson's correlation to percent_correct and judgment_of_learning. \n",
    "\n",
    "As expected, the result indicates that there is a quite **significant possitive correlation** between percent_correct and judgment_of_learning, _r_(165) = 0.35, _p_ < .001.\n",
    "\n",
    "Therefore, the result suggests that participants do have a metacognition about how well they learnt for this test, and their self estimation of learning outcome gets higher if they really did better in the test.\n",
    "\n",
    "Additionally, by plotting a diagonal line, we can tell that most of the dots are above the diagonal line, which means that _**people tend to overestimate how well they learnt in the test**_, compared to their real performance"
   ]
  },
  {
   "cell_type": "markdown",
   "id": "9be22ac0",
   "metadata": {},
   "source": [
    "--------------------------------------------------------------------------"
   ]
  },
  {
   "cell_type": "markdown",
   "id": "fe1e809e",
   "metadata": {},
   "source": [
    "### Step 5 (2): Correlation between response time and accuarcy (trade-off)"
   ]
  },
  {
   "cell_type": "markdown",
   "id": "ec3fb102",
   "metadata": {},
   "source": [
    "Now let's look at if subject's real memory accuraccy (**percent_correct**) correlates with the response time (**response_time**).\n",
    "\n",
    "I would hypothezed that the percent_correct and response_time has no significant correlation,which is the situation we desired cause it means there's no trade-off between the response accuarcy and time, in which case we could treat percent_correct as a dependent variable for accuarcy without considerate the response time."
   ]
  },
  {
   "cell_type": "code",
   "execution_count": 20,
   "id": "ea0a02aa",
   "metadata": {},
   "outputs": [
    {
     "data": {
      "text/plain": [
       "<seaborn.axisgrid.FacetGrid at 0x1ce547d4370>"
      ]
     },
     "execution_count": 20,
     "metadata": {},
     "output_type": "execute_result"
    },
    {
     "data": {
      "image/png": "[encoded data removed]",
      "text/plain": [
       "<Figure size 360x360 with 1 Axes>"
      ]
     },
     "metadata": {
      "needs_background": "light"
     },
     "output_type": "display_data"
    }
   ],
   "source": [
    "sns.relplot(x='percent_correct', \n",
    "            y='response_time', \n",
    "            data=clean_df)"
   ]
  },
  {
   "cell_type": "code",
   "execution_count": 21,
   "id": "a02bff94",
   "metadata": {},
   "outputs": [
    {
     "name": "stdout",
     "output_type": "stream",
     "text": [
      "There is no significant correlation, r(165) = -0.01, p = 0.94\n"
     ]
    }
   ],
   "source": [
    "corr_results2 = stats.pearsonr(clean_df['percent_correct'], clean_df['response_time'])\n",
    "\n",
    "n = len(clean_df.index)\n",
    "df_r=n-2 # number of pairs -2\n",
    "alpha = .05\n",
    "\n",
    "r = corr_results2[0]\n",
    "p = corr_results2[1]\n",
    "\n",
    "if p < alpha:\n",
    "    if corr_results2[1]<0.001:\n",
    "        print(f'There is a significant correlation, r({df_r}) = {(np.round(r,2))}, p < .001')\n",
    "    elif corr_results2[1]<0.01:\n",
    "        print(f'There is a significant correlation, r({df_r}) = {(np.round(r,2))}, p < .01')\n",
    "    else:\n",
    "        print(f'There is a significant correlation, r({df_r}) = {(np.round(r,2))}, p = {(np.round(p,2))}')\n",
    "else:\n",
    "    print(f'There is no significant correlation, r({df_r}) = {np.round(r,2)}, p = {np.round(p,2)}')"
   ]
  },
  {
   "cell_type": "markdown",
   "id": "a7c9ffee",
   "metadata": {},
   "source": [
    "#### Result reports of step 5 (2)\n",
    "\n",
    "We applied Pearson's correlation to percent_correct and response_time. \n",
    "\n",
    "As expected, the result indicates that **there is no significant possitive correlation between percent_correct and response_time, _r_(165) = -0.01, _p_ = .94 > .05.**\n",
    "\n",
    "Therefore, the result suggests that there isn't a response accuarcy and time trade-off, we could just focus on analyzing the response accuarcy in the following analysis."
   ]
  },
  {
   "cell_type": "markdown",
   "id": "a2fde932",
   "metadata": {},
   "source": [
    "====================================================================================================="
   ]
  },
  {
   "cell_type": "markdown",
   "id": "340c0db1",
   "metadata": {},
   "source": [
    "## Step 6: T-Tests"
   ]
  },
  {
   "cell_type": "markdown",
   "id": "fad49ef2",
   "metadata": {},
   "source": [
    "Now, let's see if performing the experiment in MRI scanner (**in_mri**) affect participants performance (**percent_correct**).\n",
    "\n",
    "My hypothisis is that in_mri shouldn't affect the accuarcy, cause we want the scanner recording behaviors that also happen without scanner. BTW, in_mri is a between-subject variable, with each subject assigned to only one level of in_mri, either in the scanner or not.Therefore, I'm going to apply a **two sampe indepedent t-test**.\n",
    "\n",
    "The details about it is listed as follow:\n",
    " \n",
    "_in_mri: a binary indicator of whether a person was in the MRI scanner (in_mri=1) or not in the scanner (in_mri=0) during the study session (categorical, values of 1 or 0)_"
   ]
  },
  {
   "cell_type": "code",
   "execution_count": 22,
   "id": "eeca249d",
   "metadata": {},
   "outputs": [
    {
     "data": {
      "text/html": [
       "<div>\n",
       "<style scoped>\n",
       "    .dataframe tbody tr th:only-of-type {\n",
       "        vertical-align: middle;\n",
       "    }\n",
       "\n",
       "    .dataframe tbody tr th {\n",
       "        vertical-align: top;\n",
       "    }\n",
       "\n",
       "    .dataframe thead th {\n",
       "        text-align: right;\n",
       "    }\n",
       "</style>\n",
       "<table border=\"1\" class=\"dataframe\">\n",
       "  <thead>\n",
       "    <tr style=\"text-align: right;\">\n",
       "      <th></th>\n",
       "      <th>count</th>\n",
       "      <th>mean</th>\n",
       "      <th>std</th>\n",
       "      <th>min</th>\n",
       "      <th>25%</th>\n",
       "      <th>50%</th>\n",
       "      <th>75%</th>\n",
       "      <th>max</th>\n",
       "    </tr>\n",
       "    <tr>\n",
       "      <th>in_mri</th>\n",
       "      <th></th>\n",
       "      <th></th>\n",
       "      <th></th>\n",
       "      <th></th>\n",
       "      <th></th>\n",
       "      <th></th>\n",
       "      <th></th>\n",
       "      <th></th>\n",
       "    </tr>\n",
       "  </thead>\n",
       "  <tbody>\n",
       "    <tr>\n",
       "      <th>0</th>\n",
       "      <td>83.0</td>\n",
       "      <td>0.401566</td>\n",
       "      <td>0.262128</td>\n",
       "      <td>0.0</td>\n",
       "      <td>0.20</td>\n",
       "      <td>0.36</td>\n",
       "      <td>0.600</td>\n",
       "      <td>1.0</td>\n",
       "    </tr>\n",
       "    <tr>\n",
       "      <th>1</th>\n",
       "      <td>84.0</td>\n",
       "      <td>0.351667</td>\n",
       "      <td>0.249166</td>\n",
       "      <td>0.0</td>\n",
       "      <td>0.14</td>\n",
       "      <td>0.30</td>\n",
       "      <td>0.505</td>\n",
       "      <td>0.9</td>\n",
       "    </tr>\n",
       "  </tbody>\n",
       "</table>\n",
       "</div>"
      ],
      "text/plain": [
       "        count      mean       std  min   25%   50%    75%  max\n",
       "in_mri                                                        \n",
       "0        83.0  0.401566  0.262128  0.0  0.20  0.36  0.600  1.0\n",
       "1        84.0  0.351667  0.249166  0.0  0.14  0.30  0.505  0.9"
      ]
     },
     "execution_count": 22,
     "metadata": {},
     "output_type": "execute_result"
    }
   ],
   "source": [
    "percorr_bymri=clean_df.groupby('in_mri')['percent_correct']\n",
    "percorr_bymri.describe()"
   ]
  },
  {
   "cell_type": "code",
   "execution_count": 23,
   "id": "636a2b25",
   "metadata": {},
   "outputs": [
    {
     "name": "stdout",
     "output_type": "stream",
     "text": [
      "The number of participants in each level of in_mri is different,\n",
      "with 83.0 participants out of scanner and 84.0 in scanner\n"
     ]
    }
   ],
   "source": [
    "# Check the number of subjects in each level of is_mri\n",
    "\n",
    "percorr_bymri_des=percorr_bymri.describe()\n",
    "n1_bymri=percorr_bymri_des['count'][0]\n",
    "n2_bymri=percorr_bymri_des['count'][1]\n",
    "if n1_bymri == n2_bymri:\n",
    "    print(f'The number of participants in each level of in_mri is the same, with {n1_bymri} participants each')\n",
    "else:\n",
    "    print(f'The number of participants in each level of in_mri is different,\\nwith {n1_bymri} participants out of scanner and {n2_bymri} in scanner')"
   ]
  },
  {
   "cell_type": "markdown",
   "id": "ee661636",
   "metadata": {},
   "source": [
    "Since the number of participants in different levels of in_mri doesnt differ too much, we could ignore this and treat the data as equal size two-sample indepent t-test."
   ]
  },
  {
   "cell_type": "markdown",
   "id": "9884c5fc",
   "metadata": {},
   "source": [
    "#### Barplot the data"
   ]
  },
  {
   "cell_type": "code",
   "execution_count": 24,
   "id": "77868f90",
   "metadata": {},
   "outputs": [
    {
     "data": {
      "text/plain": [
       "<seaborn.axisgrid.FacetGrid at 0x1ce54836a30>"
      ]
     },
     "execution_count": 24,
     "metadata": {},
     "output_type": "execute_result"
    },
    {
     "data": {
      "image/png": "[encoded data removed]",
      "text/plain": [
       "<Figure size 360x360 with 1 Axes>"
      ]
     },
     "metadata": {
      "needs_background": "light"
     },
     "output_type": "display_data"
    }
   ],
   "source": [
    "# Barplot\n",
    "sns.catplot(x='in_mri', \n",
    "            y='percent_correct', \n",
    "            data=clean_df,\n",
    "           kind='bar')"
   ]
  },
  {
   "cell_type": "code",
   "execution_count": 25,
   "id": "cd4d0bf0",
   "metadata": {},
   "outputs": [
    {
     "data": {
      "text/html": [
       "<div>\n",
       "<style scoped>\n",
       "    .dataframe tbody tr th:only-of-type {\n",
       "        vertical-align: middle;\n",
       "    }\n",
       "\n",
       "    .dataframe tbody tr th {\n",
       "        vertical-align: top;\n",
       "    }\n",
       "\n",
       "    .dataframe thead th {\n",
       "        text-align: right;\n",
       "    }\n",
       "</style>\n",
       "<table border=\"1\" class=\"dataframe\">\n",
       "  <thead>\n",
       "    <tr style=\"text-align: right;\">\n",
       "      <th></th>\n",
       "      <th>participant_number</th>\n",
       "      <th>group</th>\n",
       "      <th>judgment_of_learning</th>\n",
       "      <th>response_time</th>\n",
       "      <th>percent_correct</th>\n",
       "      <th>test_delay_minutes</th>\n",
       "      <th>in_mri</th>\n",
       "    </tr>\n",
       "  </thead>\n",
       "  <tbody>\n",
       "    <tr>\n",
       "      <th>0</th>\n",
       "      <td>1</td>\n",
       "      <td>A</td>\n",
       "      <td>82.0</td>\n",
       "      <td>2.45</td>\n",
       "      <td>0.62</td>\n",
       "      <td>9.99</td>\n",
       "      <td>0</td>\n",
       "    </tr>\n",
       "    <tr>\n",
       "      <th>1</th>\n",
       "      <td>2</td>\n",
       "      <td>A</td>\n",
       "      <td>65.0</td>\n",
       "      <td>3.45</td>\n",
       "      <td>0.27</td>\n",
       "      <td>8.24</td>\n",
       "      <td>0</td>\n",
       "    </tr>\n",
       "    <tr>\n",
       "      <th>2</th>\n",
       "      <td>3</td>\n",
       "      <td>A</td>\n",
       "      <td>56.0</td>\n",
       "      <td>2.87</td>\n",
       "      <td>0.38</td>\n",
       "      <td>7.57</td>\n",
       "      <td>0</td>\n",
       "    </tr>\n",
       "    <tr>\n",
       "      <th>4</th>\n",
       "      <td>5</td>\n",
       "      <td>A</td>\n",
       "      <td>63.0</td>\n",
       "      <td>2.15</td>\n",
       "      <td>0.76</td>\n",
       "      <td>5.51</td>\n",
       "      <td>0</td>\n",
       "    </tr>\n",
       "    <tr>\n",
       "      <th>5</th>\n",
       "      <td>6</td>\n",
       "      <td>A</td>\n",
       "      <td>76.0</td>\n",
       "      <td>2.33</td>\n",
       "      <td>0.69</td>\n",
       "      <td>5.43</td>\n",
       "      <td>0</td>\n",
       "    </tr>\n",
       "  </tbody>\n",
       "</table>\n",
       "</div>"
      ],
      "text/plain": [
       "   participant_number group  judgment_of_learning  response_time  \\\n",
       "0                   1     A                  82.0           2.45   \n",
       "1                   2     A                  65.0           3.45   \n",
       "2                   3     A                  56.0           2.87   \n",
       "4                   5     A                  63.0           2.15   \n",
       "5                   6     A                  76.0           2.33   \n",
       "\n",
       "   percent_correct  test_delay_minutes  in_mri  \n",
       "0             0.62                9.99       0  \n",
       "1             0.27                8.24       0  \n",
       "2             0.38                7.57       0  \n",
       "4             0.76                5.51       0  \n",
       "5             0.69                5.43       0  "
      ]
     },
     "execution_count": 25,
     "metadata": {},
     "output_type": "execute_result"
    }
   ],
   "source": [
    "# pull data for each in_mri levels to dataframe\n",
    "inmri_data = clean_df[clean_df['in_mri']==1]\n",
    "outmri_data = clean_df[clean_df['in_mri']==0]\n",
    "outmri_data.head()"
   ]
  },
  {
   "cell_type": "markdown",
   "id": "caa848d2",
   "metadata": {},
   "source": [
    "### Step 6 (1):  Equal variance two-sample two-tailed independent t-test"
   ]
  },
  {
   "cell_type": "code",
   "execution_count": 26,
   "id": "3a531fdc",
   "metadata": {},
   "outputs": [
    {
     "data": {
      "text/plain": [
       "Ttest_indResult(statistic=-1.2609673493866687, pvalue=0.2091006528685297)"
      ]
     },
     "execution_count": 26,
     "metadata": {},
     "output_type": "execute_result"
    }
   ],
   "source": [
    "# two-sample two-tailed independent t-test\n",
    "t_results=stats.ttest_ind(inmri_data['percent_correct'], outmri_data['percent_correct'])\n",
    "t_results"
   ]
  },
  {
   "cell_type": "code",
   "execution_count": 27,
   "id": "23dde633",
   "metadata": {},
   "outputs": [
    {
     "name": "stdout",
     "output_type": "stream",
     "text": [
      "Memory performance is not significantly different whether in MRI scanner or not,\n",
      "t(165.0) = -1.26, p = 0.21\n"
     ]
    }
   ],
   "source": [
    "t_val=t_results[0]\n",
    "p=t_results[1]\n",
    "df_t=n1_bymri+n2_bymri-2 # n1+n2-2\n",
    "\n",
    "alpha = 0.05\n",
    "\n",
    "if p < alpha:\n",
    "    if t_results[1]<0.001:\n",
    "        print('Memory performance is significantly different whether in MRI scanner or not,')\n",
    "        print(f't({df_t}) = {(np.round(t_val,2))}, p < .001')\n",
    "    elif t_results[1]<0.01:\n",
    "        print('Memory performance is significantly different whether in MRI scanner or not,')\n",
    "        print(f't({df_t}) = {(np.round(t_val,2))}, p < .01')\n",
    "    else:\n",
    "        print('Memory performance is significantly different whether in MRI scanner or not,')\n",
    "        print(f't({df_t}) = {(np.round(t_val,2))}, p = {(np.round(p,2))}')\n",
    "else:\n",
    "    print('Memory performance is not significantly different whether in MRI scanner or not,')\n",
    "    print(f't({df_t}) = {np.round(t_val,2)}, p = {np.round(p,2)}')"
   ]
  },
  {
   "cell_type": "markdown",
   "id": "d81c6e09",
   "metadata": {},
   "source": [
    "### Step 6 (2): Unequal variance two-sample indenpendent t-test\n",
    "When ``n1 != n2``, the equal variance t-statistic is no longer equal to the\n",
    "    unequal variance t-statistic. \n",
    "    \n",
    "Even though I feel n1 and n2 are quite similar, let's still take a quick look at the **unequal variance** two-sample two-tailed independent t-test"
   ]
  },
  {
   "cell_type": "code",
   "execution_count": 28,
   "id": "ef0f7e39",
   "metadata": {},
   "outputs": [
    {
     "data": {
      "text/plain": [
       "Ttest_indResult(statistic=-1.2605825166227573, pvalue=0.20924598085272444)"
      ]
     },
     "execution_count": 28,
     "metadata": {},
     "output_type": "execute_result"
    }
   ],
   "source": [
    "# Unequal variance two-sample two-tailed independent t-test\n",
    "t_results_unequal=stats.ttest_ind(inmri_data['percent_correct'], outmri_data['percent_correct'], equal_var=False)\n",
    "t_results_unequal"
   ]
  },
  {
   "cell_type": "code",
   "execution_count": 29,
   "id": "f96f6388",
   "metadata": {},
   "outputs": [
    {
     "name": "stdout",
     "output_type": "stream",
     "text": [
      "Memory performance is not significantly different whether in MRI scanner or not,\n",
      "t(165.0) = -1.26, p = 0.21\n"
     ]
    }
   ],
   "source": [
    "t_val_uneq=t_results_unequal[0]\n",
    "p_uneq=t_results_unequal[1]\n",
    "df_t=np.round(n1_bymri+n2_bymri-2)\n",
    "\n",
    "alpha = 0.05\n",
    "\n",
    "if p_uneq < alpha:\n",
    "    if t_results_unequal[1]<0.001:\n",
    "        print('Memory performance is significantly different whether in MRI scanner or not,')\n",
    "        print(f't({df_t}) = {(np.round(t_val_uneq,2))}, p < .001')\n",
    "    elif t_results_unequal[1]<0.01:\n",
    "        print('Memory performance is significantly different whether in MRI scanner or not,')\n",
    "        print(f't({df_t}) = {(np.round(t_val_uneq,2))}, p < .01')\n",
    "    else:\n",
    "        print('Memory performance is significantly different whether in MRI scanner or not,')\n",
    "        print(f't({df_t}) = {(np.round(t_val_uneq,2))}, p = {(np.round(p_uneq,2))}')\n",
    "else:\n",
    "    print('Memory performance is not significantly different whether in MRI scanner or not,')\n",
    "    print(f't({df_t}) = {np.round(t_val_uneq,2)}, p = {np.round(p_uneq,2)}')"
   ]
  },
  {
   "cell_type": "markdown",
   "id": "44fc4330",
   "metadata": {},
   "source": [
    "#### Result report of Step 6\n",
    "In summary, whether or not in the MRI scanner, the real memory retrieval memory performance (**percent_correct**) is not significantly different, _t_(165.0) = -1.26, _p_ = .21 > .05.\n",
    "\n",
    "As expected, being inside of MRI scanner doesn't influence how well people do in the long-term language related memory test.We could confidently say that the experiment inside of MRI scanner could be treat parallel to performance outside of scanner, and the brain imaging inside of scanner does capture the same brain activities when they're not in the scanner."
   ]
  },
  {
   "cell_type": "markdown",
   "id": "89ca8a4c",
   "metadata": {},
   "source": [
    "====================================================================================================="
   ]
  },
  {
   "cell_type": "markdown",
   "id": "1d691218",
   "metadata": {},
   "source": [
    "## Setp 7: Regression"
   ]
  },
  {
   "cell_type": "markdown",
   "id": "3094a080",
   "metadata": {},
   "source": [
    "### Step 7 (1): Single regression of percent_correct over judgment_of_learning\n",
    "In the Correlation part, we already known that there's significant possitive correlation between percent_correct and judgment_of_learning, r(165) = 0.35, p < .001. So I'll assume that maybe judgment_of_learning could predict the percent_correct, where higher judgment_of_learning leads to higher percent_correct, since participants should have a nice metacognition about how well they learned and if u learn better u should do better in the test.\n",
    "\n",
    "To test it, let's compute a regression on percent_correct over judgment_of_learning to see if participants self-report accuarcy (**judgment_of_learning**) could predict the real memory performance (**percent_correct**) well."
   ]
  },
  {
   "cell_type": "code",
   "execution_count": 30,
   "id": "2db37eec",
   "metadata": {},
   "outputs": [
    {
     "data": {
      "text/html": [
       "<table class=\"simpletable\">\n",
       "<caption>OLS Regression Results</caption>\n",
       "<tr>\n",
       "  <th>Dep. Variable:</th>     <td>percent_correct</td> <th>  R-squared:         </th> <td>   0.119</td>\n",
       "</tr>\n",
       "<tr>\n",
       "  <th>Model:</th>                   <td>OLS</td>       <th>  Adj. R-squared:    </th> <td>   0.114</td>\n",
       "</tr>\n",
       "<tr>\n",
       "  <th>Method:</th>             <td>Least Squares</td>  <th>  F-statistic:       </th> <td>   22.31</td>\n",
       "</tr>\n",
       "<tr>\n",
       "  <th>Date:</th>             <td>Fri, 06 May 2022</td> <th>  Prob (F-statistic):</th> <td>4.93e-06</td>\n",
       "</tr>\n",
       "<tr>\n",
       "  <th>Time:</th>                 <td>01:44:05</td>     <th>  Log-Likelihood:    </th> <td>  1.5864</td>\n",
       "</tr>\n",
       "<tr>\n",
       "  <th>No. Observations:</th>      <td>   167</td>      <th>  AIC:               </th> <td>  0.8272</td>\n",
       "</tr>\n",
       "<tr>\n",
       "  <th>Df Residuals:</th>          <td>   165</td>      <th>  BIC:               </th> <td>   7.063</td>\n",
       "</tr>\n",
       "<tr>\n",
       "  <th>Df Model:</th>              <td>     1</td>      <th>                     </th>     <td> </td>   \n",
       "</tr>\n",
       "<tr>\n",
       "  <th>Covariance Type:</th>      <td>nonrobust</td>    <th>                     </th>     <td> </td>   \n",
       "</tr>\n",
       "</table>\n",
       "<table class=\"simpletable\">\n",
       "<tr>\n",
       "            <td></td>              <th>coef</th>     <th>std err</th>      <th>t</th>      <th>P>|t|</th>  <th>[0.025</th>    <th>0.975]</th>  \n",
       "</tr>\n",
       "<tr>\n",
       "  <th>Intercept</th>            <td>    0.0957</td> <td>    0.062</td> <td>    1.537</td> <td> 0.126</td> <td>   -0.027</td> <td>    0.219</td>\n",
       "</tr>\n",
       "<tr>\n",
       "  <th>judgment_of_learning</th> <td>    0.0046</td> <td>    0.001</td> <td>    4.724</td> <td> 0.000</td> <td>    0.003</td> <td>    0.007</td>\n",
       "</tr>\n",
       "</table>\n",
       "<table class=\"simpletable\">\n",
       "<tr>\n",
       "  <th>Omnibus:</th>       <td> 7.515</td> <th>  Durbin-Watson:     </th> <td>   1.602</td>\n",
       "</tr>\n",
       "<tr>\n",
       "  <th>Prob(Omnibus):</th> <td> 0.023</td> <th>  Jarque-Bera (JB):  </th> <td>   4.830</td>\n",
       "</tr>\n",
       "<tr>\n",
       "  <th>Skew:</th>          <td> 0.258</td> <th>  Prob(JB):          </th> <td>  0.0894</td>\n",
       "</tr>\n",
       "<tr>\n",
       "  <th>Kurtosis:</th>      <td> 2.346</td> <th>  Cond. No.          </th> <td>    214.</td>\n",
       "</tr>\n",
       "</table><br/><br/>Notes:<br/>[1] Standard Errors assume that the covariance matrix of the errors is correctly specified."
      ],
      "text/plain": [
       "<class 'statsmodels.iolib.summary.Summary'>\n",
       "\"\"\"\n",
       "                            OLS Regression Results                            \n",
       "==============================================================================\n",
       "Dep. Variable:        percent_correct   R-squared:                       0.119\n",
       "Model:                            OLS   Adj. R-squared:                  0.114\n",
       "Method:                 Least Squares   F-statistic:                     22.31\n",
       "Date:                Fri, 06 May 2022   Prob (F-statistic):           4.93e-06\n",
       "Time:                        01:44:05   Log-Likelihood:                 1.5864\n",
       "No. Observations:                 167   AIC:                            0.8272\n",
       "Df Residuals:                     165   BIC:                             7.063\n",
       "Df Model:                           1                                         \n",
       "Covariance Type:            nonrobust                                         \n",
       "========================================================================================\n",
       "                           coef    std err          t      P>|t|      [0.025      0.975]\n",
       "----------------------------------------------------------------------------------------\n",
       "Intercept                0.0957      0.062      1.537      0.126      -0.027       0.219\n",
       "judgment_of_learning     0.0046      0.001      4.724      0.000       0.003       0.007\n",
       "==============================================================================\n",
       "Omnibus:                        7.515   Durbin-Watson:                   1.602\n",
       "Prob(Omnibus):                  0.023   Jarque-Bera (JB):                4.830\n",
       "Skew:                           0.258   Prob(JB):                       0.0894\n",
       "Kurtosis:                       2.346   Cond. No.                         214.\n",
       "==============================================================================\n",
       "\n",
       "Notes:\n",
       "[1] Standard Errors assume that the covariance matrix of the errors is correctly specified.\n",
       "\"\"\""
      ]
     },
     "execution_count": 30,
     "metadata": {},
     "output_type": "execute_result"
    }
   ],
   "source": [
    "lr_model = smf.ols(formula = 'percent_correct ~ judgment_of_learning', data=clean_df)\n",
    "lr_fit = lr_model.fit()\n",
    "lr_fit.summary()"
   ]
  },
  {
   "cell_type": "code",
   "execution_count": 31,
   "id": "ba920bd6",
   "metadata": {},
   "outputs": [
    {
     "data": {
      "image/png": "[encoded data removed]",
      "text/plain": [
       "<Figure size 432x288 with 1 Axes>"
      ]
     },
     "metadata": {
      "needs_background": "light"
     },
     "output_type": "display_data"
    },
    {
     "data": {
      "image/png": "[encoded data removed]",
      "text/plain": [
       "<Figure size 360x360 with 1 Axes>"
      ]
     },
     "metadata": {
      "needs_background": "light"
     },
     "output_type": "display_data"
    }
   ],
   "source": [
    "# Scatterplot and best-fitting line\n",
    "sns.regplot(x=clean_df['judgment_of_learning'], y=clean_df['percent_correct'])\n",
    "sns.relplot(x=clean_df['judgment_of_learning'], y=clean_df['percent_correct'])\n",
    "\n",
    "X = np.linspace(0,100,200)\n",
    "y_pred = (lr_fit.params['judgment_of_learning']*X) + lr_fit.params['Intercept']\n",
    "\n",
    "plt.plot(X, y_pred)\n",
    "plt.show()"
   ]
  },
  {
   "cell_type": "code",
   "execution_count": 32,
   "id": "5a69bfe8",
   "metadata": {},
   "outputs": [
    {
     "name": "stdout",
     "output_type": "stream",
     "text": [
      "For a random judgment_of_learning = 96, \n",
      "predicted percent_correct is 0.5364123107893237\n"
     ]
    }
   ],
   "source": [
    "# make a prediction from a random predictor' value\n",
    "\n",
    "intercept = lr_fit.params['Intercept']\n",
    "b = lr_fit.params['judgment_of_learning']\n",
    "\n",
    "JOL = random.randint(min(clean_df['judgment_of_learning']),max(clean_df['judgment_of_learning']))\n",
    "\n",
    "y_pred =  b*JOL + intercept\n",
    "\n",
    "print(f'For a random judgment_of_learning = {JOL}, \\npredicted percent_correct is {y_pred}')\n"
   ]
  },
  {
   "cell_type": "markdown",
   "id": "0cf96892",
   "metadata": {},
   "source": [
    "#### Result report for Step 7 (1)\n",
    "\n",
    "  As expected, participants self-report accuarcy (**judgment_of_learning**) could significantly correcttly predict the real memory performance (**percent_correct**) well, with the fomula as: \n",
    "\n",
    "**percent_correct = 0.0046 * judgment_of_learning + 0.0957**, where the slop = 0.0046, _t_ = 4.724, _p_ < .001, the coeffiecient of judgment_of_learning is significantly different than zero, so judgment_of_learning is a significant predictor for percent_correct.Besides, higher judgment_of_learning leads to higher percent_correct.\n",
    "\n",
    "  Additionally, for this regression model, $R^2$ = .119, _F_(1, 165) = 22.31, _p_ < .001.The $R^2$ = .119 means the proportion of variance in percent_correct that could be explained by judgment_of_learning, which is not high enough for me as a predicting model."
   ]
  },
  {
   "cell_type": "markdown",
   "id": "f95eaf05",
   "metadata": {},
   "source": [
    "--------------------------------------------------------------------------"
   ]
  },
  {
   "cell_type": "markdown",
   "id": "ca0809d4",
   "metadata": {},
   "source": [
    "### Step 7 (2): Single regression of percent_correct over test_delay_minutes\n",
    "\n",
    "Now let's move on to form a regression on percent_correct over judgment_of_learning to see if the delay time before recall (**test_delay_minutes**) could predict the real memory performance (**percent_correct**) well.\n",
    "\n",
    "My assumption would be that longer test_delay_minutes would lead to lower percent_correct, since the memory tends to be losted or would declay as delay increases "
   ]
  },
  {
   "cell_type": "code",
   "execution_count": 33,
   "id": "1dbe5b40",
   "metadata": {},
   "outputs": [
    {
     "data": {
      "text/html": [
       "<table class=\"simpletable\">\n",
       "<caption>OLS Regression Results</caption>\n",
       "<tr>\n",
       "  <th>Dep. Variable:</th>     <td>percent_correct</td> <th>  R-squared:         </th> <td>   0.227</td>\n",
       "</tr>\n",
       "<tr>\n",
       "  <th>Model:</th>                   <td>OLS</td>       <th>  Adj. R-squared:    </th> <td>   0.223</td>\n",
       "</tr>\n",
       "<tr>\n",
       "  <th>Method:</th>             <td>Least Squares</td>  <th>  F-statistic:       </th> <td>   48.57</td>\n",
       "</tr>\n",
       "<tr>\n",
       "  <th>Date:</th>             <td>Fri, 06 May 2022</td> <th>  Prob (F-statistic):</th> <td>7.27e-11</td>\n",
       "</tr>\n",
       "<tr>\n",
       "  <th>Time:</th>                 <td>01:44:06</td>     <th>  Log-Likelihood:    </th> <td>  12.538</td>\n",
       "</tr>\n",
       "<tr>\n",
       "  <th>No. Observations:</th>      <td>   167</td>      <th>  AIC:               </th> <td>  -21.08</td>\n",
       "</tr>\n",
       "<tr>\n",
       "  <th>Df Residuals:</th>          <td>   165</td>      <th>  BIC:               </th> <td>  -14.84</td>\n",
       "</tr>\n",
       "<tr>\n",
       "  <th>Df Model:</th>              <td>     1</td>      <th>                     </th>     <td> </td>   \n",
       "</tr>\n",
       "<tr>\n",
       "  <th>Covariance Type:</th>      <td>nonrobust</td>    <th>                     </th>     <td> </td>   \n",
       "</tr>\n",
       "</table>\n",
       "<table class=\"simpletable\">\n",
       "<tr>\n",
       "           <td></td>             <th>coef</th>     <th>std err</th>      <th>t</th>      <th>P>|t|</th>  <th>[0.025</th>    <th>0.975]</th>  \n",
       "</tr>\n",
       "<tr>\n",
       "  <th>Intercept</th>          <td>    0.5250</td> <td>    0.028</td> <td>   19.048</td> <td> 0.000</td> <td>    0.471</td> <td>    0.579</td>\n",
       "</tr>\n",
       "<tr>\n",
       "  <th>test_delay_minutes</th> <td>-3.197e-05</td> <td> 4.59e-06</td> <td>   -6.969</td> <td> 0.000</td> <td> -4.1e-05</td> <td>-2.29e-05</td>\n",
       "</tr>\n",
       "</table>\n",
       "<table class=\"simpletable\">\n",
       "<tr>\n",
       "  <th>Omnibus:</th>       <td> 4.718</td> <th>  Durbin-Watson:     </th> <td>   1.998</td>\n",
       "</tr>\n",
       "<tr>\n",
       "  <th>Prob(Omnibus):</th> <td> 0.095</td> <th>  Jarque-Bera (JB):  </th> <td>   4.793</td>\n",
       "</tr>\n",
       "<tr>\n",
       "  <th>Skew:</th>          <td> 0.391</td> <th>  Prob(JB):          </th> <td>  0.0910</td>\n",
       "</tr>\n",
       "<tr>\n",
       "  <th>Kurtosis:</th>      <td> 2.721</td> <th>  Cond. No.          </th> <td>9.48e+03</td>\n",
       "</tr>\n",
       "</table><br/><br/>Notes:<br/>[1] Standard Errors assume that the covariance matrix of the errors is correctly specified.<br/>[2] The condition number is large, 9.48e+03. This might indicate that there are<br/>strong multicollinearity or other numerical problems."
      ],
      "text/plain": [
       "<class 'statsmodels.iolib.summary.Summary'>\n",
       "\"\"\"\n",
       "                            OLS Regression Results                            \n",
       "==============================================================================\n",
       "Dep. Variable:        percent_correct   R-squared:                       0.227\n",
       "Model:                            OLS   Adj. R-squared:                  0.223\n",
       "Method:                 Least Squares   F-statistic:                     48.57\n",
       "Date:                Fri, 06 May 2022   Prob (F-statistic):           7.27e-11\n",
       "Time:                        01:44:06   Log-Likelihood:                 12.538\n",
       "No. Observations:                 167   AIC:                            -21.08\n",
       "Df Residuals:                     165   BIC:                            -14.84\n",
       "Df Model:                           1                                         \n",
       "Covariance Type:            nonrobust                                         \n",
       "======================================================================================\n",
       "                         coef    std err          t      P>|t|      [0.025      0.975]\n",
       "--------------------------------------------------------------------------------------\n",
       "Intercept              0.5250      0.028     19.048      0.000       0.471       0.579\n",
       "test_delay_minutes -3.197e-05   4.59e-06     -6.969      0.000    -4.1e-05   -2.29e-05\n",
       "==============================================================================\n",
       "Omnibus:                        4.718   Durbin-Watson:                   1.998\n",
       "Prob(Omnibus):                  0.095   Jarque-Bera (JB):                4.793\n",
       "Skew:                           0.391   Prob(JB):                       0.0910\n",
       "Kurtosis:                       2.721   Cond. No.                     9.48e+03\n",
       "==============================================================================\n",
       "\n",
       "Notes:\n",
       "[1] Standard Errors assume that the covariance matrix of the errors is correctly specified.\n",
       "[2] The condition number is large, 9.48e+03. This might indicate that there are\n",
       "strong multicollinearity or other numerical problems.\n",
       "\"\"\""
      ]
     },
     "execution_count": 33,
     "metadata": {},
     "output_type": "execute_result"
    }
   ],
   "source": [
    "lr_model2 = smf.ols(formula = 'percent_correct ~ test_delay_minutes', data=clean_df)\n",
    "lr_fit2 = lr_model2.fit()\n",
    "lr_fit2.summary()"
   ]
  },
  {
   "cell_type": "code",
   "execution_count": 34,
   "id": "592b368f",
   "metadata": {},
   "outputs": [
    {
     "data": {
      "text/plain": [
       "<AxesSubplot:xlabel='test_delay_minutes', ylabel='percent_correct'>"
      ]
     },
     "execution_count": 34,
     "metadata": {},
     "output_type": "execute_result"
    },
    {
     "data": {
      "image/png": "[encoded data removed]",
      "text/plain": [
       "<Figure size 432x288 with 1 Axes>"
      ]
     },
     "metadata": {
      "needs_background": "light"
     },
     "output_type": "display_data"
    }
   ],
   "source": [
    "# Scatterplot and best-fitting line\n",
    "sns.regplot(x=clean_df['test_delay_minutes'], y=clean_df['percent_correct'])"
   ]
  },
  {
   "cell_type": "code",
   "execution_count": 35,
   "id": "16bc8f78",
   "metadata": {},
   "outputs": [
    {
     "name": "stdout",
     "output_type": "stream",
     "text": [
      "For a random test_delay_minutes = 5774.14, \n",
      "predicted percent_correct is 0.3404090004988358\n"
     ]
    }
   ],
   "source": [
    "# make a prediction from a random predictor' value\n",
    "\n",
    "intercept = lr_fit2.params['Intercept']\n",
    "b = lr_fit2.params['test_delay_minutes']\n",
    "\n",
    "test_delay = random.uniform(min(clean_df['test_delay_minutes']),max(clean_df['test_delay_minutes']))\n",
    "test_delay = np.round(test_delay,2)\n",
    "\n",
    "y_pred =  b*test_delay + intercept\n",
    "\n",
    "print(f'For a random test_delay_minutes = {test_delay}, \\npredicted percent_correct is {y_pred}')"
   ]
  },
  {
   "cell_type": "markdown",
   "id": "8d4aa53a",
   "metadata": {},
   "source": [
    "#### Result report for Step 7 (2)\n",
    "\n",
    "  As expected, participants self-report accuarcy (**test_delay_minutes**) could significantly correcttly predict the real memory performance (**percent_correct**) well, with the fomula as: \n",
    "\n",
    "**percent_correct = -3.197e-05 * test_delay_minutes + 0.5250**, where the slop = -3.197e-05, _t_ = -6.969, _p_ < .001, the coeffiecient of test_delay_minutes is significantly different than zero, so test_delay_minutes is also a significant predictor of percent_correct. Higher test_delay_minutes significantly leads to lower percent_correct.\n",
    "\n",
    "  Additionally, for this regression model, $R^2$ = .227, _F_(1, 165) = 48.57, _p_ < .001.The $R^2$ = 0.227, which is higher than that of judgment_of_learning regression model $R^2$ = .119, indicating that 22.7% of variance in percent_correct that could be explained by test_delay_minutes, which is acceptable for me as a predicting model."
   ]
  },
  {
   "cell_type": "markdown",
   "id": "60a68701",
   "metadata": {},
   "source": [
    "-----------------------------------------------------------------------------------------"
   ]
  },
  {
   "cell_type": "markdown",
   "id": "56c7e325",
   "metadata": {},
   "source": [
    "### Step 7 (3): Multiple Regression of percent_correct over judgment_of_learning and test_delay_minutes\n",
    "Now I'll see if the delay before memory retrieval (**test_delay_minutes**), and participants self-rating learning outcome (**judgment_of_learning**) could predict the memory recall accuarcy (**percent_correct**), and how well they could predict the recall accurcy."
   ]
  },
  {
   "cell_type": "code",
   "execution_count": 36,
   "id": "4886551b",
   "metadata": {},
   "outputs": [
    {
     "data": {
      "text/html": [
       "<table class=\"simpletable\">\n",
       "<caption>OLS Regression Results</caption>\n",
       "<tr>\n",
       "  <th>Dep. Variable:</th>     <td>percent_correct</td> <th>  R-squared:         </th> <td>   0.303</td>\n",
       "</tr>\n",
       "<tr>\n",
       "  <th>Model:</th>                   <td>OLS</td>       <th>  Adj. R-squared:    </th> <td>   0.295</td>\n",
       "</tr>\n",
       "<tr>\n",
       "  <th>Method:</th>             <td>Least Squares</td>  <th>  F-statistic:       </th> <td>   35.69</td>\n",
       "</tr>\n",
       "<tr>\n",
       "  <th>Date:</th>             <td>Fri, 06 May 2022</td> <th>  Prob (F-statistic):</th> <td>1.35e-13</td>\n",
       "</tr>\n",
       "<tr>\n",
       "  <th>Time:</th>                 <td>01:44:06</td>     <th>  Log-Likelihood:    </th> <td>  21.170</td>\n",
       "</tr>\n",
       "<tr>\n",
       "  <th>No. Observations:</th>      <td>   167</td>      <th>  AIC:               </th> <td>  -36.34</td>\n",
       "</tr>\n",
       "<tr>\n",
       "  <th>Df Residuals:</th>          <td>   164</td>      <th>  BIC:               </th> <td>  -26.99</td>\n",
       "</tr>\n",
       "<tr>\n",
       "  <th>Df Model:</th>              <td>     2</td>      <th>                     </th>     <td> </td>   \n",
       "</tr>\n",
       "<tr>\n",
       "  <th>Covariance Type:</th>      <td>nonrobust</td>    <th>                     </th>     <td> </td>   \n",
       "</tr>\n",
       "</table>\n",
       "<table class=\"simpletable\">\n",
       "<tr>\n",
       "            <td></td>              <th>coef</th>     <th>std err</th>      <th>t</th>      <th>P>|t|</th>  <th>[0.025</th>    <th>0.975]</th>  \n",
       "</tr>\n",
       "<tr>\n",
       "  <th>Intercept</th>            <td>    0.2850</td> <td>    0.063</td> <td>    4.556</td> <td> 0.000</td> <td>    0.161</td> <td>    0.409</td>\n",
       "</tr>\n",
       "<tr>\n",
       "  <th>test_delay_minutes</th>   <td>-2.911e-05</td> <td> 4.42e-06</td> <td>   -6.584</td> <td> 0.000</td> <td>-3.78e-05</td> <td>-2.04e-05</td>\n",
       "</tr>\n",
       "<tr>\n",
       "  <th>judgment_of_learning</th> <td>    0.0037</td> <td>    0.001</td> <td>    4.226</td> <td> 0.000</td> <td>    0.002</td> <td>    0.005</td>\n",
       "</tr>\n",
       "</table>\n",
       "<table class=\"simpletable\">\n",
       "<tr>\n",
       "  <th>Omnibus:</th>       <td> 0.218</td> <th>  Durbin-Watson:     </th> <td>   2.023</td>\n",
       "</tr>\n",
       "<tr>\n",
       "  <th>Prob(Omnibus):</th> <td> 0.897</td> <th>  Jarque-Bera (JB):  </th> <td>   0.301</td>\n",
       "</tr>\n",
       "<tr>\n",
       "  <th>Skew:</th>          <td> 0.083</td> <th>  Prob(JB):          </th> <td>   0.860</td>\n",
       "</tr>\n",
       "<tr>\n",
       "  <th>Kurtosis:</th>      <td> 2.874</td> <th>  Cond. No.          </th> <td>2.26e+04</td>\n",
       "</tr>\n",
       "</table><br/><br/>Notes:<br/>[1] Standard Errors assume that the covariance matrix of the errors is correctly specified.<br/>[2] The condition number is large, 2.26e+04. This might indicate that there are<br/>strong multicollinearity or other numerical problems."
      ],
      "text/plain": [
       "<class 'statsmodels.iolib.summary.Summary'>\n",
       "\"\"\"\n",
       "                            OLS Regression Results                            \n",
       "==============================================================================\n",
       "Dep. Variable:        percent_correct   R-squared:                       0.303\n",
       "Model:                            OLS   Adj. R-squared:                  0.295\n",
       "Method:                 Least Squares   F-statistic:                     35.69\n",
       "Date:                Fri, 06 May 2022   Prob (F-statistic):           1.35e-13\n",
       "Time:                        01:44:06   Log-Likelihood:                 21.170\n",
       "No. Observations:                 167   AIC:                            -36.34\n",
       "Df Residuals:                     164   BIC:                            -26.99\n",
       "Df Model:                           2                                         \n",
       "Covariance Type:            nonrobust                                         \n",
       "========================================================================================\n",
       "                           coef    std err          t      P>|t|      [0.025      0.975]\n",
       "----------------------------------------------------------------------------------------\n",
       "Intercept                0.2850      0.063      4.556      0.000       0.161       0.409\n",
       "test_delay_minutes   -2.911e-05   4.42e-06     -6.584      0.000   -3.78e-05   -2.04e-05\n",
       "judgment_of_learning     0.0037      0.001      4.226      0.000       0.002       0.005\n",
       "==============================================================================\n",
       "Omnibus:                        0.218   Durbin-Watson:                   2.023\n",
       "Prob(Omnibus):                  0.897   Jarque-Bera (JB):                0.301\n",
       "Skew:                           0.083   Prob(JB):                        0.860\n",
       "Kurtosis:                       2.874   Cond. No.                     2.26e+04\n",
       "==============================================================================\n",
       "\n",
       "Notes:\n",
       "[1] Standard Errors assume that the covariance matrix of the errors is correctly specified.\n",
       "[2] The condition number is large, 2.26e+04. This might indicate that there are\n",
       "strong multicollinearity or other numerical problems.\n",
       "\"\"\""
      ]
     },
     "execution_count": 36,
     "metadata": {},
     "output_type": "execute_result"
    }
   ],
   "source": [
    "mlr_model = smf.ols(formula='percent_correct ~ test_delay_minutes + judgment_of_learning', data=clean_df)\n",
    "mlr_fit = mlr_model.fit()\n",
    "mlr_fit.summary()"
   ]
  },
  {
   "cell_type": "code",
   "execution_count": 37,
   "id": "22e7edac",
   "metadata": {},
   "outputs": [
    {
     "name": "stdout",
     "output_type": "stream",
     "text": [
      "For a random combination test_delay_minutes = 3043.45, judgment_of_learning = 26, \n",
      "predicted percent_correct is 0.2928014959728175\n"
     ]
    }
   ],
   "source": [
    "# make a prediction from a random combination of predictors' values\n",
    "\n",
    "intercept = mlr_fit.params['Intercept']\n",
    "b1 = mlr_fit.params['test_delay_minutes']\n",
    "b2 = mlr_fit.params['judgment_of_learning']\n",
    "\n",
    "test_delay = random.uniform(min(clean_df['test_delay_minutes']),max(clean_df['test_delay_minutes']))\n",
    "test_delay = np.round(test_delay,2)\n",
    "JOL = random.randint(min(clean_df['judgment_of_learning']),max(clean_df['judgment_of_learning']))\n",
    "\n",
    "y_pred = b1*test_delay+ b2*JOL + intercept\n",
    "\n",
    "print(f'For a random combination test_delay_minutes = {test_delay}, judgment_of_learning = {JOL}, \\npredicted percent_correct is {y_pred}')\n"
   ]
  },
  {
   "cell_type": "markdown",
   "id": "df158192",
   "metadata": {},
   "source": [
    "#### Result report for Step 7 (3)\n",
    "\n",
    "    A multiple linear regression was calculated to predict the percent_correct, based on test_delay_minutes and judgment_of_learning.\n",
    "\n",
    "**A significant regression model was found**, where $R^2$ = .303, _F_(2, 164) = 35.69, _p_ < .001.\n",
    "\n",
    "    The equation of this multiple regression model is: \n",
    "\n",
    "percent_correct = -2.911e-05 * test_delay_minutes + 0.0037 * judgment_of_learning + 0.2850. "
   ]
  },
  {
   "cell_type": "markdown",
   "id": "99790efa",
   "metadata": {},
   "source": [
    "**Both predictors (IVs) are significant predictor of percent_correct**:\n",
    "\n",
    "where for IV test_delay_minutes, the slop = -2.911e-05, _t_ = -6.584, _p_ < .001, the coeffiecient of test_delay_minutes is significantly different than zero. Higher test_delay_minutes significantly leads to lower percent_correct.\n",
    "\n",
    "For IV judgment_of_learning, the slop = 0.0037, _t_ = 4.226, _p_ < .001, the coeffiecient of judgment_of_learning is also significantly different than zero. Higher judgment_of_learning significantly leads to higher percent_correct."
   ]
  },
  {
   "cell_type": "markdown",
   "id": "60636e52",
   "metadata": {},
   "source": [
    "**For model comparison**:\n",
    "\n",
    "For this multiple regression model, $R^2$ = .303, Log-Likelihood = 21.170， AIC = -36.34，BIC = -26.99;\n",
    "\n",
    "While for the single regression model based on test_delay_minutes, the $R^2$ = .227, Log-Likelihood = 12.538, AIC = -21.08, BIC = -14.84;\n",
    "\n",
    "for the single regression model based on judgment_of_learning, the $R^2$ = .119, Log-Likelihood = 1.5864, AIC = 0.8272, BIC = 7.063.\n",
    "\n",
    "The $R^2$ indicating that 30.3% of variance in percent_correct could be explained by the multiple regression model based on test_delay_minutes and judgment_of_learning, which is higher than that of any single regression model. Therefore, in terms of explaning the variance of predicted variable percent_correct, the multiple regression model is the best model, explaining more variance of percent_correct. \n",
    "\n",
    "Based on the truth that $R^2$ of multiple regression model is higher than that of two single regression model respectively, along with the result showing that each predictor is significant predictor, adding any predictor in the model benefits in explaining more proportion of variance in predicted variable.\n",
    "\n",
    "    The lower the value for AIC and BIC, higher log-likelihood, the better the fit of the model. \n",
    "\n",
    "Therefore, based on the value of **Log-Likelihood, AIC, and BIC**, the multiple regression model has the highest LL, lowest AIC and BIC, which means that multiple regression model is the model that fit best with the data, among the 3 regression models. Therefore, adding any predictor in the model benefits in fitting the data better."
   ]
  },
  {
   "cell_type": "markdown",
   "id": "445ce9e7",
   "metadata": {},
   "source": [
    "**Conclusion**\n",
    "\n",
    "In summary, as I expected, delay time (**test_delay_minutes**) predicts the memory preformance (**percent_correct**) where longer delay leads to losing or declay of memory, and participants metacognition about their learning outcome (**judgment_of_learning**) could predict the real memory performance (**percent_correct**) well where higher self-rating learning outcome predicts better real performance. \n",
    "\n",
    "More importantly, each of delay and self-rating learning outcome is a significant predictor, and the multiple regression model that combining the two outperformed two single regression model in $R^2$ (proportion of variances in predicted variable explained by predictors) and in fitting the data. "
   ]
  },
  {
   "cell_type": "markdown",
   "id": "90215184",
   "metadata": {},
   "source": [
    "============================================================================================================"
   ]
  },
  {
   "cell_type": "markdown",
   "id": "7914c23b",
   "metadata": {},
   "source": [
    "## Step 8: ANOVA"
   ]
  },
  {
   "cell_type": "code",
   "execution_count": 38,
   "id": "660d4aaf",
   "metadata": {},
   "outputs": [
    {
     "data": {
      "text/html": [
       "<div>\n",
       "<style scoped>\n",
       "    .dataframe tbody tr th:only-of-type {\n",
       "        vertical-align: middle;\n",
       "    }\n",
       "\n",
       "    .dataframe tbody tr th {\n",
       "        vertical-align: top;\n",
       "    }\n",
       "\n",
       "    .dataframe thead th {\n",
       "        text-align: right;\n",
       "    }\n",
       "</style>\n",
       "<table border=\"1\" class=\"dataframe\">\n",
       "  <thead>\n",
       "    <tr style=\"text-align: right;\">\n",
       "      <th></th>\n",
       "      <th>participant_number</th>\n",
       "      <th>group</th>\n",
       "      <th>judgment_of_learning</th>\n",
       "      <th>response_time</th>\n",
       "      <th>percent_correct</th>\n",
       "      <th>test_delay_minutes</th>\n",
       "      <th>in_mri</th>\n",
       "    </tr>\n",
       "  </thead>\n",
       "  <tbody>\n",
       "    <tr>\n",
       "      <th>0</th>\n",
       "      <td>1</td>\n",
       "      <td>A</td>\n",
       "      <td>82.0</td>\n",
       "      <td>2.45</td>\n",
       "      <td>0.62</td>\n",
       "      <td>9.99</td>\n",
       "      <td>0</td>\n",
       "    </tr>\n",
       "    <tr>\n",
       "      <th>1</th>\n",
       "      <td>2</td>\n",
       "      <td>A</td>\n",
       "      <td>65.0</td>\n",
       "      <td>3.45</td>\n",
       "      <td>0.27</td>\n",
       "      <td>8.24</td>\n",
       "      <td>0</td>\n",
       "    </tr>\n",
       "    <tr>\n",
       "      <th>2</th>\n",
       "      <td>3</td>\n",
       "      <td>A</td>\n",
       "      <td>56.0</td>\n",
       "      <td>2.87</td>\n",
       "      <td>0.38</td>\n",
       "      <td>7.57</td>\n",
       "      <td>0</td>\n",
       "    </tr>\n",
       "    <tr>\n",
       "      <th>3</th>\n",
       "      <td>4</td>\n",
       "      <td>A</td>\n",
       "      <td>41.0</td>\n",
       "      <td>4.38</td>\n",
       "      <td>0.72</td>\n",
       "      <td>6.65</td>\n",
       "      <td>1</td>\n",
       "    </tr>\n",
       "    <tr>\n",
       "      <th>4</th>\n",
       "      <td>5</td>\n",
       "      <td>A</td>\n",
       "      <td>63.0</td>\n",
       "      <td>2.15</td>\n",
       "      <td>0.76</td>\n",
       "      <td>5.51</td>\n",
       "      <td>0</td>\n",
       "    </tr>\n",
       "  </tbody>\n",
       "</table>\n",
       "</div>"
      ],
      "text/plain": [
       "   participant_number group  judgment_of_learning  response_time  \\\n",
       "0                   1     A                  82.0           2.45   \n",
       "1                   2     A                  65.0           3.45   \n",
       "2                   3     A                  56.0           2.87   \n",
       "3                   4     A                  41.0           4.38   \n",
       "4                   5     A                  63.0           2.15   \n",
       "\n",
       "   percent_correct  test_delay_minutes  in_mri  \n",
       "0             0.62                9.99       0  \n",
       "1             0.27                8.24       0  \n",
       "2             0.38                7.57       0  \n",
       "3             0.72                6.65       1  \n",
       "4             0.76                5.51       0  "
      ]
     },
     "execution_count": 38,
     "metadata": {},
     "output_type": "execute_result"
    }
   ],
   "source": [
    "# check the data columns again\n",
    "clean_df.head()"
   ]
  },
  {
   "cell_type": "markdown",
   "id": "6756d32e",
   "metadata": {},
   "source": [
    "### Step 8 (1) One-way ANOVA"
   ]
  },
  {
   "cell_type": "markdown",
   "id": "e913f11c",
   "metadata": {},
   "source": [
    "Before digging into whether group influence the percent_correct, I also want to have a final check on if **group** influence the **response_time**. Even though I tested that there's no correlation between precent_correct and response_time, it's still better to check if group left an influence on response_time.\n",
    "\n",
    "The **group** is a **categorical between-participant** variable that has 4 levels: A, C, F, and H, where the delay in group A < C < F < H.\n",
    "\n",
    "    group A: lower than 10 mins\n",
    "\n",
    "    group C: around 1400 mins\n",
    "\n",
    "    group F: around 4250 mins\n",
    "\n",
    "    group H: around 10000 mins\n",
    "\n",
    "My hypothesis about this test result would be that it'd be the best situation if there's no significant main effect cause in that case we could only analyze the precent_correct without looking into the response time. However, it's still possible that with delay time gets longer (group gets bigger), the response_time might be longer due to the memory lost or declay."
   ]
  },
  {
   "cell_type": "code",
   "execution_count": 39,
   "id": "ce84973d",
   "metadata": {},
   "outputs": [
    {
     "data": {
      "text/html": [
       "<div>\n",
       "<style scoped>\n",
       "    .dataframe tbody tr th:only-of-type {\n",
       "        vertical-align: middle;\n",
       "    }\n",
       "\n",
       "    .dataframe tbody tr th {\n",
       "        vertical-align: top;\n",
       "    }\n",
       "\n",
       "    .dataframe thead th {\n",
       "        text-align: right;\n",
       "    }\n",
       "</style>\n",
       "<table border=\"1\" class=\"dataframe\">\n",
       "  <thead>\n",
       "    <tr style=\"text-align: right;\">\n",
       "      <th></th>\n",
       "      <th>count</th>\n",
       "      <th>mean</th>\n",
       "      <th>std</th>\n",
       "      <th>min</th>\n",
       "      <th>25%</th>\n",
       "      <th>50%</th>\n",
       "      <th>75%</th>\n",
       "      <th>max</th>\n",
       "    </tr>\n",
       "    <tr>\n",
       "      <th>group</th>\n",
       "      <th></th>\n",
       "      <th></th>\n",
       "      <th></th>\n",
       "      <th></th>\n",
       "      <th></th>\n",
       "      <th></th>\n",
       "      <th></th>\n",
       "      <th></th>\n",
       "    </tr>\n",
       "  </thead>\n",
       "  <tbody>\n",
       "    <tr>\n",
       "      <th>A</th>\n",
       "      <td>20.0</td>\n",
       "      <td>3.421500</td>\n",
       "      <td>0.890531</td>\n",
       "      <td>2.15</td>\n",
       "      <td>2.8700</td>\n",
       "      <td>3.360</td>\n",
       "      <td>3.640</td>\n",
       "      <td>5.52</td>\n",
       "    </tr>\n",
       "    <tr>\n",
       "      <th>C</th>\n",
       "      <td>48.0</td>\n",
       "      <td>3.791250</td>\n",
       "      <td>1.054546</td>\n",
       "      <td>1.64</td>\n",
       "      <td>3.1225</td>\n",
       "      <td>3.735</td>\n",
       "      <td>4.435</td>\n",
       "      <td>6.83</td>\n",
       "    </tr>\n",
       "    <tr>\n",
       "      <th>F</th>\n",
       "      <td>50.0</td>\n",
       "      <td>4.332600</td>\n",
       "      <td>1.347988</td>\n",
       "      <td>2.21</td>\n",
       "      <td>3.3325</td>\n",
       "      <td>4.270</td>\n",
       "      <td>4.905</td>\n",
       "      <td>9.04</td>\n",
       "    </tr>\n",
       "    <tr>\n",
       "      <th>H</th>\n",
       "      <td>49.0</td>\n",
       "      <td>3.921633</td>\n",
       "      <td>1.079617</td>\n",
       "      <td>1.54</td>\n",
       "      <td>3.0600</td>\n",
       "      <td>3.920</td>\n",
       "      <td>4.780</td>\n",
       "      <td>6.13</td>\n",
       "    </tr>\n",
       "  </tbody>\n",
       "</table>\n",
       "</div>"
      ],
      "text/plain": [
       "       count      mean       std   min     25%    50%    75%   max\n",
       "group                                                             \n",
       "A       20.0  3.421500  0.890531  2.15  2.8700  3.360  3.640  5.52\n",
       "C       48.0  3.791250  1.054546  1.64  3.1225  3.735  4.435  6.83\n",
       "F       50.0  4.332600  1.347988  2.21  3.3325  4.270  4.905  9.04\n",
       "H       49.0  3.921633  1.079617  1.54  3.0600  3.920  4.780  6.13"
      ]
     },
     "execution_count": 39,
     "metadata": {},
     "output_type": "execute_result"
    }
   ],
   "source": [
    "restime_bygroup=clean_df.groupby(['group'])['response_time']\n",
    "restime_bygroup.describe()"
   ]
  },
  {
   "cell_type": "code",
   "execution_count": 40,
   "id": "3f6383af",
   "metadata": {},
   "outputs": [
    {
     "data": {
      "text/html": [
       "<div>\n",
       "<style scoped>\n",
       "    .dataframe tbody tr th:only-of-type {\n",
       "        vertical-align: middle;\n",
       "    }\n",
       "\n",
       "    .dataframe tbody tr th {\n",
       "        vertical-align: top;\n",
       "    }\n",
       "\n",
       "    .dataframe thead th {\n",
       "        text-align: right;\n",
       "    }\n",
       "</style>\n",
       "<table border=\"1\" class=\"dataframe\">\n",
       "  <thead>\n",
       "    <tr style=\"text-align: right;\">\n",
       "      <th></th>\n",
       "      <th>df</th>\n",
       "      <th>sum_sq</th>\n",
       "      <th>mean_sq</th>\n",
       "      <th>F</th>\n",
       "      <th>PR(&gt;F)</th>\n",
       "    </tr>\n",
       "  </thead>\n",
       "  <tbody>\n",
       "    <tr>\n",
       "      <th>C(group)</th>\n",
       "      <td>3.0</td>\n",
       "      <td>14.153276</td>\n",
       "      <td>4.717759</td>\n",
       "      <td>3.621883</td>\n",
       "      <td>0.01442</td>\n",
       "    </tr>\n",
       "    <tr>\n",
       "      <th>Residual</th>\n",
       "      <td>163.0</td>\n",
       "      <td>212.319011</td>\n",
       "      <td>1.302571</td>\n",
       "      <td>NaN</td>\n",
       "      <td>NaN</td>\n",
       "    </tr>\n",
       "  </tbody>\n",
       "</table>\n",
       "</div>"
      ],
      "text/plain": [
       "             df      sum_sq   mean_sq         F   PR(>F)\n",
       "C(group)    3.0   14.153276  4.717759  3.621883  0.01442\n",
       "Residual  163.0  212.319011  1.302571       NaN      NaN"
      ]
     },
     "execution_count": 40,
     "metadata": {},
     "output_type": "execute_result"
    }
   ],
   "source": [
    "oneway_model = smf.ols(formula = 'response_time ~ C(group)', data=clean_df)\n",
    "oneway_model = oneway_model.fit()\n",
    "anova_table = sm.stats.anova_lm(oneway_model, typ=1)\n",
    "anova_table"
   ]
  },
  {
   "cell_type": "code",
   "execution_count": 41,
   "id": "b3ff646d",
   "metadata": {},
   "outputs": [
    {
     "data": {
      "text/plain": [
       "0.0666604273676969"
      ]
     },
     "execution_count": 41,
     "metadata": {},
     "output_type": "execute_result"
    }
   ],
   "source": [
    "eta2=anova_table['sum_sq'][0]/anova_table['sum_sq'][1]\n",
    "eta2"
   ]
  },
  {
   "cell_type": "code",
   "execution_count": 42,
   "id": "74e7b650",
   "metadata": {},
   "outputs": [
    {
     "data": {
      "text/html": [
       "<table class=\"simpletable\">\n",
       "<caption>Multiple Comparison of Means - Tukey HSD, FWER=0.05</caption>\n",
       "<tr>\n",
       "  <th>group1</th> <th>group2</th> <th>meandiff</th>  <th>p-adj</th>  <th>lower</th>   <th>upper</th> <th>reject</th>\n",
       "</tr>\n",
       "<tr>\n",
       "     <td>A</td>      <td>C</td>    <td>0.3698</td>  <td>0.6031</td> <td>-0.4188</td> <td>1.1583</td>  <td>False</td>\n",
       "</tr>\n",
       "<tr>\n",
       "     <td>A</td>      <td>F</td>    <td>0.9111</td>  <td>0.0155</td> <td>0.1272</td>   <td>1.695</td>  <td>True</td> \n",
       "</tr>\n",
       "<tr>\n",
       "     <td>A</td>      <td>H</td>    <td>0.5001</td>  <td>0.3534</td> <td>-0.286</td>  <td>1.2863</td>  <td>False</td>\n",
       "</tr>\n",
       "<tr>\n",
       "     <td>C</td>      <td>F</td>    <td>0.5414</td>  <td>0.0917</td> <td>-0.0573</td>  <td>1.14</td>   <td>False</td>\n",
       "</tr>\n",
       "<tr>\n",
       "     <td>C</td>      <td>H</td>    <td>0.1304</td>    <td>0.9</td>  <td>-0.4713</td>  <td>0.732</td>  <td>False</td>\n",
       "</tr>\n",
       "<tr>\n",
       "     <td>F</td>      <td>H</td>    <td>-0.411</td>  <td>0.2814</td> <td>-1.0065</td> <td>0.1846</td>  <td>False</td>\n",
       "</tr>\n",
       "</table>"
      ],
      "text/plain": [
       "<class 'statsmodels.iolib.table.SimpleTable'>"
      ]
     },
     "execution_count": 42,
     "metadata": {},
     "output_type": "execute_result"
    }
   ],
   "source": [
    "# For significant one-way ANOVA, perform a post hoc Tukey's HSD test\n",
    "tukey_comparisons = pairwise_tukeyhsd(endog = clean_df['response_time'],\n",
    "                          groups = clean_df['group'],\n",
    "                          alpha = .05)\n",
    "\n",
    "tukey_comparisons.summary()"
   ]
  },
  {
   "cell_type": "code",
   "execution_count": 43,
   "id": "18c36ea1",
   "metadata": {},
   "outputs": [
    {
     "data": {
      "text/plain": [
       "<seaborn.axisgrid.FacetGrid at 0x1ce54f48160>"
      ]
     },
     "execution_count": 43,
     "metadata": {},
     "output_type": "execute_result"
    },
    {
     "data": {
      "image/png": "[encoded data removed]",
      "text/plain": [
       "<Figure size 360x360 with 1 Axes>"
      ]
     },
     "metadata": {
      "needs_background": "light"
     },
     "output_type": "display_data"
    },
    {
     "data": {
      "image/png": "[encoded data removed]",
      "text/plain": [
       "<Figure size 360x360 with 1 Axes>"
      ]
     },
     "metadata": {
      "needs_background": "light"
     },
     "output_type": "display_data"
    }
   ],
   "source": [
    "sns.catplot(x='group',\n",
    "            y='response_time', \n",
    "            data = clean_df,\n",
    "           kind='bar')\n",
    "sns.catplot(x='group',\n",
    "            y='response_time', \n",
    "            data = clean_df,\n",
    "           kind='point')"
   ]
  },
  {
   "cell_type": "markdown",
   "id": "50962752",
   "metadata": {},
   "source": [
    "#### Result report for Step 8 (1)\n",
    "\n",
    "A one-way independent ANOVA on response_time, with group (A, C, F, or H) being independent variable, was conducted. \n",
    " \n",
    "As a result, group had a significant main effect on response_time, _F_(3,163) = 3.62, _p_ = .01, $η^2$ = .07. \n",
    "\n",
    "The post-hoc Tukey’s HSD tests showed that response_time scored significantly higher in group F ($\\bar{x_F}$ = 4.33, $sd_F$ = 1.35) than group A ($\\bar{x_A}$ = 3.42, $sd_A$ = 0.89, $p = .016$), while there is no other significantly different in the comparision between other pairs between groups ($p > .05$).\n",
    "\n",
    "From the figures, there is a tendency that for bigger group level (longer delay), the response time is higher, except that the response time gets shorter after delay gets longer than 4300 mins (group F). "
   ]
  },
  {
   "cell_type": "markdown",
   "id": "5fe76ef3",
   "metadata": {},
   "source": [
    "----------------------------------------------------------------"
   ]
  },
  {
   "cell_type": "markdown",
   "id": "4be08204",
   "metadata": {},
   "source": [
    "### Step 8 (2) Two-way ANOVA"
   ]
  },
  {
   "cell_type": "markdown",
   "id": "c7b87829",
   "metadata": {},
   "source": [
    "Lastly, I want to know if **group** (divided by the study-test delay) affect the memory performance(**percent_correct**). \n",
    "\n",
    "Even though I tested a significant regression on percent_correct based on test_delay_minutes. The test_delay_minutes in each group are around a similar time logs, and they are mostly super gathered together, where participants were assigned to a random group but the real test_delay_minutes are **sightly vary between the setup time** cause the time that participants showed up varied, which could be seen from the figure below:"
   ]
  },
  {
   "cell_type": "code",
   "execution_count": 44,
   "id": "e6afe34e",
   "metadata": {},
   "outputs": [
    {
     "data": {
      "text/plain": [
       "<AxesSubplot:xlabel='test_delay_minutes', ylabel='percent_correct'>"
      ]
     },
     "execution_count": 44,
     "metadata": {},
     "output_type": "execute_result"
    },
    {
     "data": {
      "image/png": "[encoded data removed]",
      "text/plain": [
       "<Figure size 432x288 with 1 Axes>"
      ]
     },
     "metadata": {
      "needs_background": "light"
     },
     "output_type": "display_data"
    }
   ],
   "source": [
    "sns.regplot(x=clean_df['test_delay_minutes'], y=clean_df['percent_correct'])"
   ]
  },
  {
   "cell_type": "markdown",
   "id": "52e4a959",
   "metadata": {},
   "source": [
    "As we can tell from the figure above, the test_delay_minutes are not normally distributed, so treating it as a continuous data and perform parametric statstics feels not right to me.\n",
    "\n",
    "Therefore, I feel it might make more sense to treat the delay as a categorical variable, which is the **group**, and see if it affects the memory performance(**percent_correct**).\n",
    "\n",
    "The **group** is a **categorical between-participant** variable that has 4 levels: A, C, F, and H, where the delay in group A < C < F < H.\n",
    "\n",
    "    group A: lower than 10 mins\n",
    "\n",
    "    group C: around 1400 mins\n",
    "\n",
    "    group F: around 4250 mins\n",
    "\n",
    "    group H: around 10000 mins\n",
    "\n",
    "Additionally, I want to also test if there is a interaction between **group** and **in_mri**, where in_mri is also a **categorical between-participant** variable that has 2 level, indicating whether a person was in the MRI scanner (in_mri=1) or not in the scanner (in_mri=0).\n",
    "\n",
    "Therefore, let's perform a 2 (in_mri: 0 or 1) * 4 (group: A, C, F, or H) two-way independent ANOVA on percent_correct."
   ]
  },
  {
   "cell_type": "code",
   "execution_count": 45,
   "id": "009ff89b",
   "metadata": {},
   "outputs": [
    {
     "data": {
      "text/html": [
       "<div>\n",
       "<style scoped>\n",
       "    .dataframe tbody tr th:only-of-type {\n",
       "        vertical-align: middle;\n",
       "    }\n",
       "\n",
       "    .dataframe tbody tr th {\n",
       "        vertical-align: top;\n",
       "    }\n",
       "\n",
       "    .dataframe thead th {\n",
       "        text-align: right;\n",
       "    }\n",
       "</style>\n",
       "<table border=\"1\" class=\"dataframe\">\n",
       "  <thead>\n",
       "    <tr style=\"text-align: right;\">\n",
       "      <th></th>\n",
       "      <th></th>\n",
       "      <th>count</th>\n",
       "      <th>mean</th>\n",
       "      <th>std</th>\n",
       "      <th>min</th>\n",
       "      <th>25%</th>\n",
       "      <th>50%</th>\n",
       "      <th>75%</th>\n",
       "      <th>max</th>\n",
       "    </tr>\n",
       "    <tr>\n",
       "      <th>group</th>\n",
       "      <th>in_mri</th>\n",
       "      <th></th>\n",
       "      <th></th>\n",
       "      <th></th>\n",
       "      <th></th>\n",
       "      <th></th>\n",
       "      <th></th>\n",
       "      <th></th>\n",
       "      <th></th>\n",
       "    </tr>\n",
       "  </thead>\n",
       "  <tbody>\n",
       "    <tr>\n",
       "      <th rowspan=\"2\" valign=\"top\">A</th>\n",
       "      <th>0</th>\n",
       "      <td>10.0</td>\n",
       "      <td>0.539000</td>\n",
       "      <td>0.149179</td>\n",
       "      <td>0.27</td>\n",
       "      <td>0.4375</td>\n",
       "      <td>0.580</td>\n",
       "      <td>0.6150</td>\n",
       "      <td>0.76</td>\n",
       "    </tr>\n",
       "    <tr>\n",
       "      <th>1</th>\n",
       "      <td>10.0</td>\n",
       "      <td>0.594000</td>\n",
       "      <td>0.223915</td>\n",
       "      <td>0.34</td>\n",
       "      <td>0.4050</td>\n",
       "      <td>0.520</td>\n",
       "      <td>0.8250</td>\n",
       "      <td>0.90</td>\n",
       "    </tr>\n",
       "    <tr>\n",
       "      <th rowspan=\"2\" valign=\"top\">C</th>\n",
       "      <th>0</th>\n",
       "      <td>24.0</td>\n",
       "      <td>0.520417</td>\n",
       "      <td>0.279557</td>\n",
       "      <td>0.04</td>\n",
       "      <td>0.3475</td>\n",
       "      <td>0.515</td>\n",
       "      <td>0.6900</td>\n",
       "      <td>1.00</td>\n",
       "    </tr>\n",
       "    <tr>\n",
       "      <th>1</th>\n",
       "      <td>24.0</td>\n",
       "      <td>0.424167</td>\n",
       "      <td>0.261964</td>\n",
       "      <td>0.08</td>\n",
       "      <td>0.1900</td>\n",
       "      <td>0.400</td>\n",
       "      <td>0.5700</td>\n",
       "      <td>0.88</td>\n",
       "    </tr>\n",
       "    <tr>\n",
       "      <th rowspan=\"2\" valign=\"top\">F</th>\n",
       "      <th>0</th>\n",
       "      <td>25.0</td>\n",
       "      <td>0.379600</td>\n",
       "      <td>0.246145</td>\n",
       "      <td>0.00</td>\n",
       "      <td>0.1300</td>\n",
       "      <td>0.400</td>\n",
       "      <td>0.5600</td>\n",
       "      <td>0.87</td>\n",
       "    </tr>\n",
       "    <tr>\n",
       "      <th>1</th>\n",
       "      <td>25.0</td>\n",
       "      <td>0.364800</td>\n",
       "      <td>0.219186</td>\n",
       "      <td>0.02</td>\n",
       "      <td>0.1800</td>\n",
       "      <td>0.340</td>\n",
       "      <td>0.5000</td>\n",
       "      <td>0.90</td>\n",
       "    </tr>\n",
       "    <tr>\n",
       "      <th rowspan=\"2\" valign=\"top\">H</th>\n",
       "      <th>0</th>\n",
       "      <td>24.0</td>\n",
       "      <td>0.248333</td>\n",
       "      <td>0.216587</td>\n",
       "      <td>0.00</td>\n",
       "      <td>0.0775</td>\n",
       "      <td>0.220</td>\n",
       "      <td>0.3375</td>\n",
       "      <td>0.89</td>\n",
       "    </tr>\n",
       "    <tr>\n",
       "      <th>1</th>\n",
       "      <td>25.0</td>\n",
       "      <td>0.172000</td>\n",
       "      <td>0.136260</td>\n",
       "      <td>0.00</td>\n",
       "      <td>0.0800</td>\n",
       "      <td>0.140</td>\n",
       "      <td>0.2200</td>\n",
       "      <td>0.52</td>\n",
       "    </tr>\n",
       "  </tbody>\n",
       "</table>\n",
       "</div>"
      ],
      "text/plain": [
       "              count      mean       std   min     25%    50%     75%   max\n",
       "group in_mri                                                              \n",
       "A     0        10.0  0.539000  0.149179  0.27  0.4375  0.580  0.6150  0.76\n",
       "      1        10.0  0.594000  0.223915  0.34  0.4050  0.520  0.8250  0.90\n",
       "C     0        24.0  0.520417  0.279557  0.04  0.3475  0.515  0.6900  1.00\n",
       "      1        24.0  0.424167  0.261964  0.08  0.1900  0.400  0.5700  0.88\n",
       "F     0        25.0  0.379600  0.246145  0.00  0.1300  0.400  0.5600  0.87\n",
       "      1        25.0  0.364800  0.219186  0.02  0.1800  0.340  0.5000  0.90\n",
       "H     0        24.0  0.248333  0.216587  0.00  0.0775  0.220  0.3375  0.89\n",
       "      1        25.0  0.172000  0.136260  0.00  0.0800  0.140  0.2200  0.52"
      ]
     },
     "execution_count": 45,
     "metadata": {},
     "output_type": "execute_result"
    }
   ],
   "source": [
    "percorr_bygroupmri=clean_df.groupby(['group','in_mri'])['percent_correct']\n",
    "percorr_bygroupmri.describe()"
   ]
  },
  {
   "cell_type": "code",
   "execution_count": 46,
   "id": "78a1e854",
   "metadata": {},
   "outputs": [
    {
     "data": {
      "text/plain": [
       "<seaborn.axisgrid.FacetGrid at 0x1ce550879d0>"
      ]
     },
     "execution_count": 46,
     "metadata": {},
     "output_type": "execute_result"
    },
    {
     "data": {
      "image/png": "[encoded data removed]",
      "text/plain": [
       "<Figure size 402.375x360 with 1 Axes>"
      ]
     },
     "metadata": {
      "needs_background": "light"
     },
     "output_type": "display_data"
    }
   ],
   "source": [
    "sns.catplot(x='group',\n",
    "            hue='in_mri',\n",
    "            y='percent_correct', \n",
    "            data = clean_df,\n",
    "           kind='bar')"
   ]
  },
  {
   "cell_type": "code",
   "execution_count": 47,
   "id": "f391f366",
   "metadata": {},
   "outputs": [
    {
     "data": {
      "text/plain": [
       "<seaborn.axisgrid.FacetGrid at 0x1ce54f98cd0>"
      ]
     },
     "execution_count": 47,
     "metadata": {},
     "output_type": "execute_result"
    },
    {
     "data": {
      "image/png": "[encoded data removed]",
      "text/plain": [
       "<Figure size 402.375x360 with 1 Axes>"
      ]
     },
     "metadata": {
      "needs_background": "light"
     },
     "output_type": "display_data"
    },
    {
     "data": {
      "image/png": "[encoded data removed]",
      "text/plain": [
       "<Figure size 403.5x360 with 1 Axes>"
      ]
     },
     "metadata": {
      "needs_background": "light"
     },
     "output_type": "display_data"
    }
   ],
   "source": [
    "sns.catplot(x='group',\n",
    "            hue='in_mri',\n",
    "            y='percent_correct', \n",
    "            data = clean_df,\n",
    "           kind='point')\n",
    "sns.catplot(hue='group',\n",
    "            x='in_mri',\n",
    "            y='percent_correct', \n",
    "            data = clean_df,\n",
    "           kind='point')"
   ]
  },
  {
   "cell_type": "markdown",
   "id": "edef1fb5",
   "metadata": {},
   "source": [
    "From the figures, it seems that the percent_correct is affected by group, and its' hard to say if percent_correct is affected by in_mri.\n",
    "\n",
    "The pattern of percent_correct between in_mri=1 and in_mri=0 in group A seems different than that in other groups, so there might be a interaction based on the figures\n",
    "\n",
    "Let's actually run a Anova to test these."
   ]
  },
  {
   "cell_type": "code",
   "execution_count": 48,
   "id": "26b3ba6c",
   "metadata": {},
   "outputs": [
    {
     "data": {
      "text/html": [
       "<div>\n",
       "<style scoped>\n",
       "    .dataframe tbody tr th:only-of-type {\n",
       "        vertical-align: middle;\n",
       "    }\n",
       "\n",
       "    .dataframe tbody tr th {\n",
       "        vertical-align: top;\n",
       "    }\n",
       "\n",
       "    .dataframe thead th {\n",
       "        text-align: right;\n",
       "    }\n",
       "</style>\n",
       "<table border=\"1\" class=\"dataframe\">\n",
       "  <thead>\n",
       "    <tr style=\"text-align: right;\">\n",
       "      <th></th>\n",
       "      <th>df</th>\n",
       "      <th>sum_sq</th>\n",
       "      <th>mean_sq</th>\n",
       "      <th>F</th>\n",
       "      <th>PR(&gt;F)</th>\n",
       "    </tr>\n",
       "  </thead>\n",
       "  <tbody>\n",
       "    <tr>\n",
       "      <th>C(group)</th>\n",
       "      <td>3.0</td>\n",
       "      <td>2.531773</td>\n",
       "      <td>0.843924</td>\n",
       "      <td>16.446003</td>\n",
       "      <td>2.340494e-09</td>\n",
       "    </tr>\n",
       "    <tr>\n",
       "      <th>C(in_mri)</th>\n",
       "      <td>1.0</td>\n",
       "      <td>0.095791</td>\n",
       "      <td>0.095791</td>\n",
       "      <td>1.866726</td>\n",
       "      <td>1.737797e-01</td>\n",
       "    </tr>\n",
       "    <tr>\n",
       "      <th>C(group):C(in_mri)</th>\n",
       "      <td>3.0</td>\n",
       "      <td>0.104589</td>\n",
       "      <td>0.034863</td>\n",
       "      <td>0.679396</td>\n",
       "      <td>5.658782e-01</td>\n",
       "    </tr>\n",
       "    <tr>\n",
       "      <th>Residual</th>\n",
       "      <td>159.0</td>\n",
       "      <td>8.159062</td>\n",
       "      <td>0.051315</td>\n",
       "      <td>NaN</td>\n",
       "      <td>NaN</td>\n",
       "    </tr>\n",
       "  </tbody>\n",
       "</table>\n",
       "</div>"
      ],
      "text/plain": [
       "                       df    sum_sq   mean_sq          F        PR(>F)\n",
       "C(group)              3.0  2.531773  0.843924  16.446003  2.340494e-09\n",
       "C(in_mri)             1.0  0.095791  0.095791   1.866726  1.737797e-01\n",
       "C(group):C(in_mri)    3.0  0.104589  0.034863   0.679396  5.658782e-01\n",
       "Residual            159.0  8.159062  0.051315        NaN           NaN"
      ]
     },
     "execution_count": 48,
     "metadata": {},
     "output_type": "execute_result"
    }
   ],
   "source": [
    "twoway_model = smf.ols(formula = 'percent_correct ~ C(group) + C(in_mri) + C(group):C(in_mri)', \n",
    "                       data=clean_df)\n",
    "\n",
    "twoway_model_fit = twoway_model.fit()\n",
    "\n",
    "twoway_anova_table = sm.stats.anova_lm(twoway_model_fit, typ=1)\n",
    "\n",
    "twoway_anova_table "
   ]
  },
  {
   "cell_type": "code",
   "execution_count": 49,
   "id": "9a310b5e",
   "metadata": {},
   "outputs": [
    {
     "data": {
      "text/plain": [
       "C(group)              0.310302\n",
       "C(in_mri)             0.011740\n",
       "C(group):C(in_mri)    0.012819\n",
       "Name: sum_sq, dtype: float64"
      ]
     },
     "execution_count": 49,
     "metadata": {},
     "output_type": "execute_result"
    }
   ],
   "source": [
    "par_eta2=twoway_anova_table['sum_sq'][0:-1]/twoway_anova_table['sum_sq'][-1]\n",
    "par_eta2"
   ]
  },
  {
   "cell_type": "markdown",
   "id": "97b15f2e",
   "metadata": {},
   "source": [
    "Since there is no significant interaction, and only a significant main effect for group which has 4 levels, we perform a **follow-up Post Hoc comparison on different levels of group**"
   ]
  },
  {
   "cell_type": "code",
   "execution_count": 50,
   "id": "a2afe472",
   "metadata": {},
   "outputs": [
    {
     "data": {
      "text/html": [
       "<div>\n",
       "<style scoped>\n",
       "    .dataframe tbody tr th:only-of-type {\n",
       "        vertical-align: middle;\n",
       "    }\n",
       "\n",
       "    .dataframe tbody tr th {\n",
       "        vertical-align: top;\n",
       "    }\n",
       "\n",
       "    .dataframe thead th {\n",
       "        text-align: right;\n",
       "    }\n",
       "</style>\n",
       "<table border=\"1\" class=\"dataframe\">\n",
       "  <thead>\n",
       "    <tr style=\"text-align: right;\">\n",
       "      <th></th>\n",
       "      <th>count</th>\n",
       "      <th>mean</th>\n",
       "      <th>std</th>\n",
       "      <th>min</th>\n",
       "      <th>25%</th>\n",
       "      <th>50%</th>\n",
       "      <th>75%</th>\n",
       "      <th>max</th>\n",
       "    </tr>\n",
       "    <tr>\n",
       "      <th>group</th>\n",
       "      <th></th>\n",
       "      <th></th>\n",
       "      <th></th>\n",
       "      <th></th>\n",
       "      <th></th>\n",
       "      <th></th>\n",
       "      <th></th>\n",
       "      <th></th>\n",
       "    </tr>\n",
       "  </thead>\n",
       "  <tbody>\n",
       "    <tr>\n",
       "      <th>A</th>\n",
       "      <td>20.0</td>\n",
       "      <td>0.566500</td>\n",
       "      <td>0.187316</td>\n",
       "      <td>0.27</td>\n",
       "      <td>0.415</td>\n",
       "      <td>0.54</td>\n",
       "      <td>0.6975</td>\n",
       "      <td>0.90</td>\n",
       "    </tr>\n",
       "    <tr>\n",
       "      <th>C</th>\n",
       "      <td>48.0</td>\n",
       "      <td>0.472292</td>\n",
       "      <td>0.272383</td>\n",
       "      <td>0.04</td>\n",
       "      <td>0.245</td>\n",
       "      <td>0.44</td>\n",
       "      <td>0.6750</td>\n",
       "      <td>1.00</td>\n",
       "    </tr>\n",
       "    <tr>\n",
       "      <th>F</th>\n",
       "      <td>50.0</td>\n",
       "      <td>0.372200</td>\n",
       "      <td>0.230786</td>\n",
       "      <td>0.00</td>\n",
       "      <td>0.165</td>\n",
       "      <td>0.37</td>\n",
       "      <td>0.5550</td>\n",
       "      <td>0.90</td>\n",
       "    </tr>\n",
       "    <tr>\n",
       "      <th>H</th>\n",
       "      <td>49.0</td>\n",
       "      <td>0.209388</td>\n",
       "      <td>0.182339</td>\n",
       "      <td>0.00</td>\n",
       "      <td>0.080</td>\n",
       "      <td>0.20</td>\n",
       "      <td>0.3000</td>\n",
       "      <td>0.89</td>\n",
       "    </tr>\n",
       "  </tbody>\n",
       "</table>\n",
       "</div>"
      ],
      "text/plain": [
       "       count      mean       std   min    25%   50%     75%   max\n",
       "group                                                            \n",
       "A       20.0  0.566500  0.187316  0.27  0.415  0.54  0.6975  0.90\n",
       "C       48.0  0.472292  0.272383  0.04  0.245  0.44  0.6750  1.00\n",
       "F       50.0  0.372200  0.230786  0.00  0.165  0.37  0.5550  0.90\n",
       "H       49.0  0.209388  0.182339  0.00  0.080  0.20  0.3000  0.89"
      ]
     },
     "execution_count": 50,
     "metadata": {},
     "output_type": "execute_result"
    }
   ],
   "source": [
    "percorr_bygroup=clean_df.groupby(['group'])['percent_correct']\n",
    "percorr_bygroup.describe()"
   ]
  },
  {
   "cell_type": "code",
   "execution_count": 51,
   "id": "5ea35bad",
   "metadata": {},
   "outputs": [
    {
     "data": {
      "text/plain": [
       "<seaborn.axisgrid.FacetGrid at 0x1ce56129640>"
      ]
     },
     "execution_count": 51,
     "metadata": {},
     "output_type": "execute_result"
    },
    {
     "data": {
      "image/png": "[encoded data removed]",
      "text/plain": [
       "<Figure size 360x360 with 1 Axes>"
      ]
     },
     "metadata": {
      "needs_background": "light"
     },
     "output_type": "display_data"
    },
    {
     "data": {
      "image/png": "[encoded data removed]",
      "text/plain": [
       "<Figure size 360x360 with 1 Axes>"
      ]
     },
     "metadata": {
      "needs_background": "light"
     },
     "output_type": "display_data"
    }
   ],
   "source": [
    "sns.catplot(x='group', \n",
    "            y='percent_correct', \n",
    "            data=clean_df,\n",
    "           kind='bar')\n",
    "sns.catplot(x='group',\n",
    "            y='percent_correct', \n",
    "            data = clean_df,\n",
    "           kind='point')"
   ]
  },
  {
   "cell_type": "code",
   "execution_count": 52,
   "id": "84d5be30",
   "metadata": {},
   "outputs": [
    {
     "data": {
      "text/html": [
       "<table class=\"simpletable\">\n",
       "<caption>Multiple Comparison of Means - Tukey HSD, FWER=0.05</caption>\n",
       "<tr>\n",
       "  <th>group1</th> <th>group2</th> <th>meandiff</th>  <th>p-adj</th>  <th>lower</th>   <th>upper</th>  <th>reject</th>\n",
       "</tr>\n",
       "<tr>\n",
       "     <td>A</td>      <td>C</td>    <td>-0.0942</td> <td>0.4039</td> <td>-0.2507</td> <td>0.0623</td>   <td>False</td>\n",
       "</tr>\n",
       "<tr>\n",
       "     <td>A</td>      <td>F</td>    <td>-0.1943</td> <td>0.0078</td> <td>-0.3498</td> <td>-0.0388</td>  <td>True</td> \n",
       "</tr>\n",
       "<tr>\n",
       "     <td>A</td>      <td>H</td>    <td>-0.3571</td>  <td>0.001</td> <td>-0.5131</td> <td>-0.2011</td>  <td>True</td> \n",
       "</tr>\n",
       "<tr>\n",
       "     <td>C</td>      <td>F</td>    <td>-0.1001</td>  <td>0.131</td> <td>-0.2189</td> <td>0.0187</td>   <td>False</td>\n",
       "</tr>\n",
       "<tr>\n",
       "     <td>C</td>      <td>H</td>    <td>-0.2629</td>  <td>0.001</td> <td>-0.3823</td> <td>-0.1435</td>  <td>True</td> \n",
       "</tr>\n",
       "<tr>\n",
       "     <td>F</td>      <td>H</td>    <td>-0.1628</td> <td>0.0026</td> <td>-0.281</td>  <td>-0.0446</td>  <td>True</td> \n",
       "</tr>\n",
       "</table>"
      ],
      "text/plain": [
       "<class 'statsmodels.iolib.table.SimpleTable'>"
      ]
     },
     "execution_count": 52,
     "metadata": {},
     "output_type": "execute_result"
    }
   ],
   "source": [
    "# Post Hoc tests\n",
    "tukey_comparisons = pairwise_tukeyhsd(endog = clean_df['percent_correct'],\n",
    "                          groups = clean_df['group'],\n",
    "                          alpha = .05)\n",
    "\n",
    "tukey_comparisons.summary()"
   ]
  },
  {
   "cell_type": "markdown",
   "id": "078574e0",
   "metadata": {},
   "source": [
    "A 2 (in_mri: 0 or 1) * 4 (group: A, C, F, or H) two-way independent ANOVA on percent_correct was conducted. \n",
    " \n",
    "As a result, group had a significant main effect on percent_correct, _F_(3,159) = 16.45, _p_ < .001, partial $η^2$ = .31. \n",
    "\n",
    "The post-hoc Tukey’s HSD tests showed that percent_correct scored significantly higher in group A ($\\bar{x_A}$ = 0.57, $sd_A$ = 0.19) than group F ($\\bar{x_F}$ = 0.37, $sd_F$ = 0.23, $p = .008$) and H ($\\bar{x_H}$ = 0.21, $sd_H$ = 0.18, $p = .001$), which is also scored significantly higher in group C ($\\bar{x_C}$ = 0.47, $sd_C$ = 0.27) than in group H ($p = .001$), and scored statistically higher in F than H ($p = .003$). While the percent_correct was not significantly different in the comparision between group A and C ($p = .40$), nor C and F ($p = 0.13$).\n",
    " \n",
    " However, in_mri didn't reach a significant main effect on percent_correct, _F_(1,159) = 1.87, _p_ = .17, partial $η^2$ = .01. \n",
    " \n",
    " The interaction between group and in_mri was not significant, _F_(3,159) = 0.68, _p_ = .57, partial $η^2$ = .01.\n",
    " "
   ]
  },
  {
   "cell_type": "markdown",
   "id": "11f05107",
   "metadata": {},
   "source": [
    "============================================================================================================"
   ]
  },
  {
   "cell_type": "markdown",
   "id": "963536c0",
   "metadata": {},
   "source": [
    "## Step 9: Analysis Summary"
   ]
  },
  {
   "cell_type": "markdown",
   "id": "012e9fdd",
   "metadata": {},
   "source": [
    "The whole analysis in this project is about testing which factors influence or predict the long term language related memory retrieval (**percent_correct**).\n",
    "\n",
    "After the exploratary statsitical analysis from Pearson's correlation, two-sample t-tests, one-way and two-way regression, one-way and two-way independent ANOVA, we now reached more facts about the question we are asking:\n",
    "\n",
    "- Based on correlation test, there is no trade-off between the response_time and percent_correct, so we could simply deal with percent_correct accuracy data as the dependent variable within the statsitical analysis.\n",
    "\n",
    "Therefore, let's check a little bit on the response_time first and then get back to percent_correct:\n",
    "   "
   ]
  },
  {
   "cell_type": "markdown",
   "id": "cfcfbaaa",
   "metadata": {},
   "source": [
    "**For response_time:**\n",
    "\n",
    "- One-way Anova reported a significant main effect of group on response_time. Therefore, group affect the response_time, and response_time tend to be longer for a larger group (longer delay). Additionally, post hoc tests showed that response_time only scored higher in group F than group A"
   ]
  },
  {
   "cell_type": "markdown",
   "id": "052890c9",
   "metadata": {},
   "source": [
    "**For percent_correct:**\n",
    "\n",
    "\n",
    "- (1) t-test result indicates that performing the experiment in MRI scanner (in_mri) doesn't affect participants performance (percent_correct). MRI is recording the similar brain activities during the experiment compared to the env without MRI.\n",
    "\n",
    "\n",
    "- (2) judgement_of learning correlates with percent_correct, and it gets higher when percent_correct increases. Therefore, subjects has metacognition about how well they learned, but they tend to overestimate their learning outcome. However, subjects tend to overestimate their learning outcome.\n",
    "\n",
    "\n",
    "- (3) Multiple regression amd model comparison results together show that test_delay_minutes and judgment_of_learning are both significant predictors of percent_correct, each of them adding the variances in precent_correct that could be explained by the model, and adding the model fitting.\n",
    "\n",
    "\n",
    "- (4) A 2 (in_mri: 0 or 1) * 4 (group: A, C, F, or H) two-way independent ANOVA on percent_correct was performed. \n",
    "    - The results indicate that group affect the percent_correct, where the post hoc tests showed that percent_correct scored significantly higher in group A than group F and H,higher in group C than in group H, and higher in F than H. While no difference in the comparision between group A and C, nor C and F.\n",
    "    - in_mri doesnt affect the percent_correct, and doesnt interact with group to leave a effect on percent_correct"
   ]
  },
  {
   "cell_type": "markdown",
   "id": "d277aac0",
   "metadata": {},
   "source": [
    "**In summary, it's great that there's no response time-accuarcy trade-off. For response_time, group affect the response_time, and response_time tend to be longer for a larger group (longer delay). For percent_correct, in_mri doesn't affect it, but the higher judgement of learning and shorter test_delay_minutes could successfully predict a higher percent_correct, and it's significantly affected by group.**"
   ]
  }
 ],
 "metadata": {
  "kernelspec": {
   "display_name": "Python 3 (ipykernel)",
   "language": "python",
   "name": "python3"
  },
  "language_info": {
   "codemirror_mode": {
    "name": "ipython",
    "version": 3
   },
   "file_extension": ".py",
   "mimetype": "text/x-python",
   "name": "python",
   "nbconvert_exporter": "python",
   "pygments_lexer": "ipython3",
   "version": "3.9.7"
  }
 },
 "nbformat": 4,
 "nbformat_minor": 5
}
