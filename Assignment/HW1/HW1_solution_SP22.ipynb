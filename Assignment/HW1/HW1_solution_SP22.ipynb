{
 "cells": [
  {
   "cell_type": "markdown",
   "metadata": {},
   "source": [
    "# Scientific Programming, Assignment 1 - Solutions\n",
    "\n",
    "This notebook gives example solutions for the problems in graded Assignment 1.\n",
    "\n",
    "You are permitted to review this document and modify your original homework submission if you find that you have learned something new from the solutions. But please make sure you understand why the solution works!\n",
    "\n",
    "**Note**: In many cases there is more than one way to achieve a desired coding outcome. If you solved a problem on this assignment using a different strategy than is presented here and you got the correct output it is entirely possible that your code is fine as is, but feel free to check with us if you want some clarification."
   ]
  },
  {
   "cell_type": "markdown",
   "metadata": {},
   "source": [
    "### Problem 1: Variables and Strings"
   ]
  },
  {
   "cell_type": "markdown",
   "metadata": {},
   "source": [
    "<div class=\"alert alert-success\" role=\"alert\"> \n",
    "<b>P1-A (1 pts)</b><br>\n",
    "    Create the three variables <code>first_name</code>, <code>last_name</code> and <code>netid</code> that store the value of your first name, last name, and NYU netID (the stuff that goes before your nyu email address, NOT your N# from the back of your ID card), respectively. Print the contents of those three variables. </div>"
   ]
  },
  {
   "cell_type": "code",
   "execution_count": 1,
   "metadata": {},
   "outputs": [],
   "source": [
    "first_name = 'shannon'\n",
    "last_name = 'tubridy'\n",
    "netid = 'st704'"
   ]
  },
  {
   "cell_type": "code",
   "execution_count": 2,
   "metadata": {},
   "outputs": [
    {
     "name": "stdout",
     "output_type": "stream",
     "text": [
      "shannon\n",
      "tubridy\n",
      "st704\n"
     ]
    }
   ],
   "source": [
    "#There are two ways of printing:\n",
    "#(1) you print the individual variables:\n",
    "print(first_name)\n",
    "print(last_name)\n",
    "print(netid)"
   ]
  },
  {
   "cell_type": "code",
   "execution_count": 3,
   "metadata": {},
   "outputs": [
    {
     "name": "stdout",
     "output_type": "stream",
     "text": [
      "shannon tubridy st704\n"
     ]
    }
   ],
   "source": [
    "#(2) you can print things as a single output. \n",
    "# Within the print command the target output (variables, strings, etc) can be seperated by \",\"\n",
    "print(first_name, last_name, netid)"
   ]
  },
  {
   "cell_type": "markdown",
   "metadata": {},
   "source": [
    "<div class=\"alert alert-success\" role=\"alert\"> <b>P1-B (2 pts)</b><br> Print the 3rd letter in <code>first_name</code> </div>"
   ]
  },
  {
   "cell_type": "code",
   "execution_count": 4,
   "metadata": {},
   "outputs": [
    {
     "data": {
      "text/plain": [
       "'a'"
      ]
     },
     "execution_count": 4,
     "metadata": {},
     "output_type": "execute_result"
    }
   ],
   "source": [
    "#index position=2, since forward indexing starts at 0\n",
    "first_name[2]"
   ]
  },
  {
   "cell_type": "markdown",
   "metadata": {},
   "source": [
    "<div class=\"alert alert-success\" role=\"alert\"><b>P1-C (2 pts)</b><br> \n",
    "    Print the second to last letter or number in <code>netid</code> using reverse indexing</div>"
   ]
  },
  {
   "cell_type": "code",
   "execution_count": null,
   "metadata": {},
   "outputs": [],
   "source": [
    "#index position=-2, since reverse indexing starts at -1\n",
    "netid[-2]\n"
   ]
  },
  {
   "cell_type": "markdown",
   "metadata": {},
   "source": [
    "<div class=\"alert alert-success\" role=\"alert\"><b>P1-D (2 pts)</b><br> \n",
    "    Use slicing to print from the second character through the end of your <code>netid</code>"
   ]
  },
  {
   "cell_type": "code",
   "execution_count": null,
   "metadata": {},
   "outputs": [],
   "source": [
    "# By indexing [1:], we specify that we want to limit only the start of the string. \n",
    "# This means start at position 1 and stop at the end of the string\n",
    "netid[1:]"
   ]
  },
  {
   "cell_type": "markdown",
   "metadata": {},
   "source": [
    "<div class=\"alert alert-success\" role=\"alert\"><b>P1-E (2 pts)</b><br> \n",
    "    Use slicing to print from the beginning of your <code>netid</code> up to, but not including, the fourth character."
   ]
  },
  {
   "cell_type": "code",
   "execution_count": null,
   "metadata": {},
   "outputs": [],
   "source": [
    "# By indexing [:3], we specify that we want to limit only the end of the string. \n",
    "# This means start at position 0 (1st character) \n",
    "# and stop at position 3 (character 4; n-1=3) end of the string\n",
    "\n",
    "netid[:3]"
   ]
  },
  {
   "cell_type": "markdown",
   "metadata": {},
   "source": [
    "### Problem 2: Concatenating strings"
   ]
  },
  {
   "cell_type": "markdown",
   "metadata": {},
   "source": [
    "<div class=\"alert alert-success\" role=\"alert\"><b>P2-A (3 pts)</b><br> \n",
    "    <b><i>Combine</b></i> (concatenate) your <code>last_name</code>, <code>first_name</code> and <code>netid</code> variables <i>using the plus operator (+)</i> and put an underscore between them. Your output should look like:\n",
    "    \n",
    "    Tubridy_Shannon_st704\n"
   ]
  },
  {
   "cell_type": "code",
   "execution_count": 5,
   "metadata": {},
   "outputs": [
    {
     "name": "stdout",
     "output_type": "stream",
     "text": [
      "tubridy_shannon_st704\n"
     ]
    }
   ],
   "source": [
    "full_id = last_name + '_' + first_name + '_' + netid\n",
    "print(full_id)"
   ]
  },
  {
   "cell_type": "markdown",
   "metadata": {},
   "source": [
    "<div class=\"alert alert-success\" role=\"alert\"><b>P2-B (3 pts)</b><br> \n",
    "<b><i>Combine</b></i> <code>last_name</code>, <code>first_name</code> and <code>netid</code> with underscores between them <i>using an f string (f'')</i>. Your output should look like:\n",
    "\n",
    "    \n",
    "```\n",
    "Tubridy_Shannon_st704_HW1\n",
    "```\n",
    "\n",
    "    \n"
   ]
  },
  {
   "cell_type": "code",
   "execution_count": null,
   "metadata": {},
   "outputs": [],
   "source": [
    "#Within the f string, use of {} differentiates a variable from string\n",
    "full_id = f'{last_name}_{first_name}_{netid}'\n",
    "print(full_id)"
   ]
  },
  {
   "cell_type": "markdown",
   "metadata": {},
   "source": [
    "### Problem 3: Joining and splitting strings and lists"
   ]
  },
  {
   "cell_type": "markdown",
   "metadata": {},
   "source": [
    "<div class=\"alert alert-success\" role=\"alert\"><b>P3-A (3 pts)</b><br> \n",
    "\n",
    "  Make a new variable called <code>fileparts</code> that is a _list_ that has three elements containing the **values** of your last name, first name, and netid in that order.\n",
    "    \n",
    "(check the python_basics_lists.ipynb for guidance on lists) \n",
    "\n",
    "    \n",
    "    "
   ]
  },
  {
   "cell_type": "code",
   "execution_count": 7,
   "metadata": {},
   "outputs": [
    {
     "name": "stdout",
     "output_type": "stream",
     "text": [
      "['tubridy', 'shannon', 'st704']\n"
     ]
    }
   ],
   "source": [
    "# lists are created by square brackets enclosing a comma\n",
    "# seprated list items (values, variables, etc)\n",
    "fileparts = [last_name, first_name, netid]\n",
    "print(fileparts)"
   ]
  },
  {
   "cell_type": "markdown",
   "metadata": {},
   "source": [
    "<div class=\"alert alert-success\" role=\"alert\"><b>P3-B (2 pts)</b><br> \n",
    "\n",
    "Print the first element of your list using list indexing.\n",
    "    \n",
    "    "
   ]
  },
  {
   "cell_type": "code",
   "execution_count": 8,
   "metadata": {},
   "outputs": [
    {
     "name": "stdout",
     "output_type": "stream",
     "text": [
      "tubridy\n"
     ]
    }
   ],
   "source": [
    "print(fileparts[0])"
   ]
  },
  {
   "cell_type": "markdown",
   "metadata": {},
   "source": [
    "<div class=\"alert alert-success\" role=\"alert\"><b>P3-C (1 pts)</b><br> \n",
    "Define a new string variable called <code>sep</code> and set its value to be an underscore symbol (_)\n"
   ]
  },
  {
   "cell_type": "code",
   "execution_count": 9,
   "metadata": {},
   "outputs": [],
   "source": [
    "sep = '_'"
   ]
  },
  {
   "cell_type": "markdown",
   "metadata": {},
   "source": [
    "<div class=\"alert alert-success\" role=\"alert\"><b>P3-D (4 pts)</b><br> \n",
    "    Using the str.join() method, your <code>sep</code> variable from P3-C, and your <code>fileparts</code> list from P3-A combine the three elements in your list with an underscore between them so that your output looks like the required filename for this notebook (see intro). <br>Store the output in a variable called <code>fname</code> "
   ]
  },
  {
   "cell_type": "code",
   "execution_count": 10,
   "metadata": {},
   "outputs": [
    {
     "ename": "SyntaxError",
     "evalue": "EOL while scanning string literal (Temp/ipykernel_10332/3706590367.py, line 9)",
     "output_type": "error",
     "traceback": [
      "\u001b[1;36m  File \u001b[1;32m\"C:\\Users\\ADMINI~1\\AppData\\Local\\Temp/ipykernel_10332/3706590367.py\"\u001b[1;36m, line \u001b[1;32m9\u001b[0m\n\u001b[1;33m    print(f'sep)\u001b[0m\n\u001b[1;37m                ^\u001b[0m\n\u001b[1;31mSyntaxError\u001b[0m\u001b[1;31m:\u001b[0m EOL while scanning string literal\n"
     ]
    }
   ],
   "source": [
    "# the string.join() method that is attached to each string object\n",
    "# can be used to put whatever is in the string variable between \n",
    "# each element of the input to join()\n",
    "# So here we use a string variable containing underscore '_'\n",
    "# and use that variables join() method with input list fileparts\n",
    "# and we get back each entry in the fileparts list glued together\n",
    "# with the contents of the sep variable between them\n",
    "\n",
    "print(f'sep)\n",
    "fname = sep.join(fileparts)\n",
    "print(fname)"
   ]
  },
  {
   "cell_type": "markdown",
   "metadata": {},
   "source": [
    "<div class=\"alert alert-success\" role=\"alert\"><b>P3-E (4 pts)</b><br> \n",
    "Using the str.split() method and your <code>fname</code> from P3-D, separate the fname back into the three parts (last name, first name, net id).\n",
    "    \n",
    "If you were unable to get the correct output in P3-D you may define an <code>fname</code> variable by hand and then use that to do str.split()\n",
    "    "
   ]
  },
  {
   "cell_type": "code",
   "execution_count": null,
   "metadata": {},
   "outputs": [],
   "source": [
    "# The split() method attached to string objectsmethod breaks up a string \n",
    "# wherever the input character appears\n",
    "# We want to break fname on underscores, so we use underscore as input\n",
    "# to fname.split()\n",
    "sep = '_'\n",
    "fname.split(sep)"
   ]
  },
  {
   "cell_type": "markdown",
   "metadata": {},
   "source": [
    "### Problem 4: Title the notebook correctly"
   ]
  },
  {
   "cell_type": "markdown",
   "metadata": {},
   "source": [
    "<div class=\"alert alert-success\" role=\"alert\"><b>P4 (1 pts)</b><br> \n",
    "Regardless of whether you sucessfully completed P2-A, P2-B, or P3-D, set the filename for this notebook to match the required format (specified in the intro)."
   ]
  },
  {
   "cell_type": "markdown",
   "metadata": {},
   "source": [
    "### Problem 5: Counting, finding, and replacing in strings"
   ]
  },
  {
   "cell_type": "markdown",
   "metadata": {},
   "source": [
    "<div class=\"alert alert-success\" role=\"alert\"><b>P5-A (3 pts)</b><br> \n",
    "\n",
    "The following cell has a string variable named <code>s1</code> pre-defined. Write code to count and print how many time the sub-string <code>'AL'</code> appears in it."
   ]
  },
  {
   "cell_type": "code",
   "execution_count": 13,
   "metadata": {},
   "outputs": [
    {
     "data": {
      "text/plain": [
       "2"
      ]
     },
     "execution_count": 13,
     "metadata": {},
     "output_type": "execute_result"
    }
   ],
   "source": [
    "# add your code to this cell, but make sure you leave s1 in it\n",
    "s1 = 'SUPERCALIFRAGILISTICEXPIALIDOCIOUS'\n",
    "\n",
    "# use the string.count() method with input being the thing \n",
    "# you want to count inside of the calling string\n",
    "\n",
    "s1.count('AL')"
   ]
  },
  {
   "cell_type": "markdown",
   "metadata": {},
   "source": [
    "<div class=\"alert alert-success\" role=\"alert\"><b>P5-B (3 pts)</b><br> \n",
    "\n",
    "<i>Find</i> the index position of the start of substring 'CALI' in the <code>s1</code> variable and store that index position in a variable. You should try to do this using code that would work for any string in s1 without you personally counting the position (meaning you should use .find() and not just count it yourself)."
   ]
  },
  {
   "cell_type": "code",
   "execution_count": 14,
   "metadata": {},
   "outputs": [
    {
     "name": "stdout",
     "output_type": "stream",
     "text": [
      "5\n",
      "CALIFRAGILISTICEXPIALIDOCIOUS\n"
     ]
    }
   ],
   "source": [
    "# the string_var.find() method will tell you the index position\n",
    "# in string_var of the beginning of the first occurrence of the input\n",
    "# to find\n",
    "\n",
    "idx = s1.find('CALI')\n",
    "print(idx)\n",
    "\n",
    "# use it to index from that position the end\n",
    "# and we see that 'CALI' is the beginning\n",
    "# of our slide\n",
    "print(s1[idx:])"
   ]
  },
  {
   "cell_type": "markdown",
   "metadata": {},
   "source": [
    "<div class=\"alert alert-success\" role=\"alert\"><b>P5-C (3 pts)</b><br> \n",
    "\n",
    "Using the index position you found in P5-B, print the characters in <code>s1</code> from the beginning up to, but not including, the 'cali' substring."
   ]
  },
  {
   "cell_type": "code",
   "execution_count": 15,
   "metadata": {},
   "outputs": [
    {
     "name": "stdout",
     "output_type": "stream",
     "text": [
      "SUPER\n"
     ]
    }
   ],
   "source": [
    "#Since we stored the index value of 'CALI' in variable idx in P5B, \n",
    "# we can just use the variable instead of typing the index position\n",
    "\n",
    "# slicing ([start:stop]) without a start position uses index position 0\n",
    "# as the start\n",
    "# slice from beginning up to but not including the index position we found\n",
    "# in P5-B\n",
    "first_part = s1[:idx]\n",
    "\n",
    "print(first_part)"
   ]
  },
  {
   "cell_type": "markdown",
   "metadata": {},
   "source": [
    "<div class=\"alert alert-success\" role=\"alert\"><b>P5-D (3 pts)</b><br> \n",
    "\n",
    "Using the string replace() method, change the portion of <code>s1</code> that you found in P5-C to a new character or string of your choice and print the result."
   ]
  },
  {
   "cell_type": "code",
   "execution_count": null,
   "metadata": {},
   "outputs": [],
   "source": [
    "# In P5-C we found the portion of our string to be replaced \n",
    "# and stored that value in a variable first_part.\n",
    "# the string_var.replace() method takes two inputs:\n",
    "# first is the thing to replace\n",
    "# second is the thing to replace with\n",
    "\n",
    "# replace() is not IN PLACE so to keep track of the\n",
    "# replace we store the result in a variable\n",
    "# you could either store in the previous variable, updating the value:\n",
    "s1 = s1.replace(first_part, 'DUPER')\n",
    "print(s1)\n",
    "\n",
    "\n",
    "# or if you want to keep s1 as it was you could do this to put\n",
    "# the new string in its own variable\n",
    "updated_s1 = s1.replace(first_part, 'DUPER')\n",
    "print(updated_s1)"
   ]
  },
  {
   "cell_type": "markdown",
   "metadata": {},
   "source": [
    "### Problem 6:  Numbers and variables"
   ]
  },
  {
   "cell_type": "markdown",
   "metadata": {},
   "source": [
    "<div class=\"alert alert-success\" role=\"alert\"><b>P6-A (2 pts)</b><br> \n",
    "    \n",
    "Define two variables <code>x</code> and <code>y</code>. Set <code>x</code> to 10 and <code>y</code> to 11 and print the values.\n"
   ]
  },
  {
   "cell_type": "code",
   "execution_count": null,
   "metadata": {},
   "outputs": [],
   "source": [
    "x = 10\n",
    "y = 11\n",
    "print(x)\n",
    "print(y)"
   ]
  },
  {
   "cell_type": "markdown",
   "metadata": {},
   "source": [
    "<div class=\"alert alert-success\" role=\"alert\"><b>P6-B (2 pts)</b><br> \n",
    "    \n",
    "Sum <code>x</code> and <code>y</code> and store the result in a variable called <code>z</code>\n"
   ]
  },
  {
   "cell_type": "code",
   "execution_count": null,
   "metadata": {},
   "outputs": [],
   "source": [
    "z = x+y\n",
    "print(z)"
   ]
  },
  {
   "cell_type": "markdown",
   "metadata": {},
   "source": [
    "<div class=\"alert alert-success\" role=\"alert\"><b>P6-C (2 pts)</b><br> \n",
    "    \n",
    "Print the result of raising <code>z</code> to the third power ($z^3$)\n"
   ]
  },
  {
   "cell_type": "code",
   "execution_count": null,
   "metadata": {},
   "outputs": [],
   "source": [
    "#There are two ways of approching this problem\n",
    "# Using **:\n",
    "print(z**3)\n",
    "\n",
    "# Using the pow() function\n",
    "answer = pow(z,3)\n",
    "print(answer)"
   ]
  },
  {
   "cell_type": "markdown",
   "metadata": {},
   "source": [
    "<div class=\"alert alert-success\" role=\"alert\"><b>P6-D (2 pts)</b><br> \n",
    "    \n",
    "Report the remainder after dividing 99 by 30.\n"
   ]
  },
  {
   "cell_type": "code",
   "execution_count": null,
   "metadata": {},
   "outputs": [],
   "source": [
    "#The simplest way to get remainder is by using %\n",
    "print(99%30)\n",
    "\n",
    "#An alternate way is using python's inbuilt function divmod(). \n",
    "#It returns output (quotient, remainder)\n",
    "result = divmod(99, 30)\n",
    "\n",
    "# result is a 'tuple' of length two\n",
    "print(result)\n",
    "\n",
    "# a tuple is like a list, so get the second item\n",
    "# (the remainder) with indexing:\n",
    "remainder = result[1]\n",
    "print(remainder)"
   ]
  },
  {
   "cell_type": "code",
   "execution_count": 16,
   "metadata": {},
   "outputs": [
    {
     "name": "stdout",
     "output_type": "stream",
     "text": [
      "9\n"
     ]
    }
   ],
   "source": [
    "# Alternative way to gather the outputs of divmod\n",
    "# When a function returns multiple values in a tuple\n",
    "# we can split those into their own variables like this:\n",
    "\n",
    "q, r = divmod(99, 30)\n",
    "\n",
    "print(r)\n"
   ]
  },
  {
   "cell_type": "markdown",
   "metadata": {},
   "source": [
    "<div class=\"alert alert-success\" role=\"alert\"><b>P6-E (3 pts)</b><br> \n",
    "    \n",
    "Using parentheses to control the order of operations, write a one line expression that:\n",
    "    \n",
    "1. adds 3 + 4\n",
    "2. multiplies result of <mark>step 1</mark> times 9\n",
    "3. subtracts 4 from the result of <mark>step 2</mark>\n",
    "4. multiplies 3x6 and then multiples that result with the result of <mark>step 3</mark>\n",
    "    \n",
    "By one line expression we mean that your code should look something like this:\n",
    "    \n",
    "```\n",
    "    ((1-3)+(8*5))+3\n",
    "```"
   ]
  },
  {
   "cell_type": "code",
   "execution_count": null,
   "metadata": {},
   "outputs": [],
   "source": [
    "(((3+4)*9)-4) * (3*6)"
   ]
  },
  {
   "cell_type": "markdown",
   "metadata": {},
   "source": [
    "### Problem 7: Lists"
   ]
  },
  {
   "cell_type": "markdown",
   "metadata": {},
   "source": [
    "<div class=\"alert alert-success\" role=\"alert\"><b>P7-A (2 pts)</b><br> \n",
    "    \n",
    "Define a list called <code>user_id</code> and put the values 'A1', 'A3', 'B1', 'B2', 'B3' into it"
   ]
  },
  {
   "cell_type": "code",
   "execution_count": 21,
   "metadata": {},
   "outputs": [
    {
     "name": "stdout",
     "output_type": "stream",
     "text": [
      "['A1', 'A3', 'B1', 'B2', 'B3']\n"
     ]
    }
   ],
   "source": [
    "user_id = ['A1', 'A3', 'B1', 'B2', 'B3']\n",
    "print(user_id)"
   ]
  },
  {
   "cell_type": "markdown",
   "metadata": {},
   "source": [
    "<div class=\"alert alert-success\" role=\"alert\"><b>P7-B (3 pts)</b><br> \n",
    "    \n",
    "Using indexing, change the second entry in the list to be 'Z1'"
   ]
  },
  {
   "cell_type": "code",
   "execution_count": 22,
   "metadata": {},
   "outputs": [
    {
     "name": "stdout",
     "output_type": "stream",
     "text": [
      "['A1', 'Z1', 'B1', 'B2', 'B3']\n"
     ]
    }
   ],
   "source": [
    "# unlike strings which require using .replace() to change an element,\n",
    "# in a list we can directly reassign a value using the index position:\n",
    "user_id[1] = 'Z1'\n",
    "print(user_id)"
   ]
  },
  {
   "cell_type": "markdown",
   "metadata": {},
   "source": [
    "<div class=\"alert alert-success\" role=\"alert\"><b>P7-C (3 pts)</b><br> \n",
    "    \n",
    "Using indexing or append, put another element with the value 'D1' at the end of your <code>user_id</code> list. You should still have all the original IDs from P7-A and B in your list."
   ]
  },
  {
   "cell_type": "code",
   "execution_count": 24,
   "metadata": {},
   "outputs": [
    {
     "name": "stdout",
     "output_type": "stream",
     "text": [
      "['A1', 'Z1', 'B1', 'B2', 'B3', 'D1']\n"
     ]
    }
   ],
   "source": [
    "# Using append. list_var.append() will put whatever is in the append()\n",
    "# at the end of list_var\n",
    "user_id.append('D1')\n",
    "print(user_id)"
   ]
  },
  {
   "cell_type": "code",
   "execution_count": 17,
   "metadata": {},
   "outputs": [
    {
     "name": "stdout",
     "output_type": "stream",
     "text": [
      "[1, 2, 3, 5]\n",
      "[1, 2, 3, 4, 5]\n"
     ]
    }
   ],
   "source": [
    "# Using indexing and insert\n",
    "# Lists also have a .insert() method or function that takes an index position and a value\n",
    "# and will insert that value in the list:\n",
    "\n",
    "#      list.insert(index, new_element)\n",
    "\n",
    "# for example, but the number 4 in the third index position\n",
    "mylist = [1, 2, 3, 5]\n",
    "print(mylist)\n",
    "\n",
    "# insert a 4 in the third position and push\n",
    "# everything after that forward one index position:\n",
    "mylist.insert(3,4)\n",
    "print(mylist)"
   ]
  },
  {
   "cell_type": "code",
   "execution_count": 18,
   "metadata": {},
   "outputs": [
    {
     "ename": "NameError",
     "evalue": "name 'user_id' is not defined",
     "output_type": "error",
     "traceback": [
      "\u001b[1;31m---------------------------------------------------------------------------\u001b[0m",
      "\u001b[1;31mNameError\u001b[0m                                 Traceback (most recent call last)",
      "\u001b[1;32mC:\\Users\\ADMINI~1\\AppData\\Local\\Temp/ipykernel_10332/1034551861.py\u001b[0m in \u001b[0;36m<module>\u001b[1;34m\u001b[0m\n\u001b[0;32m      7\u001b[0m \u001b[1;31m# final slot in the list\u001b[0m\u001b[1;33m\u001b[0m\u001b[1;33m\u001b[0m\u001b[0m\n\u001b[0;32m      8\u001b[0m \u001b[1;33m\u001b[0m\u001b[0m\n\u001b[1;32m----> 9\u001b[1;33m \u001b[0muser_id\u001b[0m\u001b[1;33m.\u001b[0m\u001b[0minsert\u001b[0m\u001b[1;33m(\u001b[0m\u001b[0mlen\u001b[0m\u001b[1;33m(\u001b[0m\u001b[0muser_id\u001b[0m\u001b[1;33m)\u001b[0m\u001b[1;33m,\u001b[0m \u001b[1;34m'D2'\u001b[0m\u001b[1;33m)\u001b[0m\u001b[1;33m\u001b[0m\u001b[1;33m\u001b[0m\u001b[0m\n\u001b[0m\u001b[0;32m     10\u001b[0m \u001b[0mprint\u001b[0m\u001b[1;33m(\u001b[0m\u001b[0muser_id\u001b[0m\u001b[1;33m)\u001b[0m\u001b[1;33m\u001b[0m\u001b[1;33m\u001b[0m\u001b[0m\n",
      "\u001b[1;31mNameError\u001b[0m: name 'user_id' is not defined"
     ]
    }
   ],
   "source": [
    "# To 'insert' something at the end of a list we can give\n",
    "# the current final index position + 1\n",
    "# We can conveniently get that desired index position using\n",
    "# the len() function. len() tells us how many items are in a list\n",
    "# and because indexing is 0 to length-1, the overall length will\n",
    "# give us the index position we want which is one past the current\n",
    "# final slot in the list\n",
    "\n",
    "user_id.insert(len(user_id), 'D2')\n",
    "print(user_id)"
   ]
  },
  {
   "cell_type": "markdown",
   "metadata": {},
   "source": [
    "<div class=\"alert alert-success\" role=\"alert\"><b>P7-D (2 pts)</b><br> \n",
    "    \n",
    "Without counting it yourself, report the length (how many items) of your <code>user_id</code> list"
   ]
  },
  {
   "cell_type": "code",
   "execution_count": 25,
   "metadata": {},
   "outputs": [
    {
     "name": "stdout",
     "output_type": "stream",
     "text": [
      "Length of the list userid is 6\n"
     ]
    }
   ],
   "source": [
    "n_items = len(user_id)\n",
    "\n",
    "print('Length of the list userid is', n_items)"
   ]
  },
  {
   "cell_type": "markdown",
   "metadata": {},
   "source": [
    "### Problem 8: Keeping track of variables"
   ]
  },
  {
   "cell_type": "markdown",
   "metadata": {},
   "source": [
    "<div class=\"alert alert-success\" role=\"alert\"><b>P8 (2 pts)</b><br> \n",
    "    \n",
    "Get a report of which variables you currently have defined."
   ]
  },
  {
   "cell_type": "code",
   "execution_count": null,
   "metadata": {},
   "outputs": [],
   "source": [
    "%whos"
   ]
  }
 ],
 "metadata": {
  "kernelspec": {
   "display_name": "Python 3 (ipykernel)",
   "language": "python",
   "name": "python3"
  },
  "language_info": {
   "codemirror_mode": {
    "name": "ipython",
    "version": 3
   },
   "file_extension": ".py",
   "mimetype": "text/x-python",
   "name": "python",
   "nbconvert_exporter": "python",
   "pygments_lexer": "ipython3",
   "version": "3.9.7"
  }
 },
 "nbformat": 4,
 "nbformat_minor": 4
}
