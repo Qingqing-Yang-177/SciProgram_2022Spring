{
 "cells": [
  {
   "cell_type": "markdown",
   "metadata": {},
   "source": [
    "# Example solutions to HW2"
   ]
  },
  {
   "cell_type": "markdown",
   "metadata": {},
   "source": [
    "### Problem 1: Comparisons and Booleans"
   ]
  },
  {
   "cell_type": "markdown",
   "metadata": {},
   "source": [
    "<div class=\"alert alert-success\" role=\"alert\"><b>P1-A (3 pts)</b><br> \n",
    "    \n",
    "Define two string variables with names of your choice, write code to get a Boolean value indicating whether the two variables have the same string in them or not."
   ]
  },
  {
   "cell_type": "code",
   "execution_count": null,
   "metadata": {},
   "outputs": [],
   "source": [
    "# your code goes here\n",
    "# add more cells if you need\n",
    "\n",
    "a = 'broadway'\n",
    "b = 'lafayette'\n",
    "\n",
    "# compare strings with == returns True if the same, False otherwise\n",
    "a == b"
   ]
  },
  {
   "cell_type": "code",
   "execution_count": null,
   "metadata": {},
   "outputs": [],
   "source": [
    "# alternative:\n",
    "# compare strings with != returns True if not the same, False otherwise\n",
    "a != b"
   ]
  },
  {
   "cell_type": "code",
   "execution_count": null,
   "metadata": {},
   "outputs": [],
   "source": [
    "# overly complicated alternative \n",
    "# use in operator to see if a string appears in another string\n",
    "# if two strings appear in each other they are the same\n",
    "#\n",
    "# combine two in checks with an and :\n",
    "\n",
    "a = 'lafayette'\n",
    "b = 'lafayette'\n",
    "\n",
    "if a in b and b in a:\n",
    "    print('they are the same')\n",
    "\n"
   ]
  },
  {
   "cell_type": "markdown",
   "metadata": {},
   "source": [
    "<div class=\"alert alert-success\" role=\"alert\"><b>P1-B (3 pts)</b><br> \n",
    "    \n",
    "Define two numeric variables called <code>x</code> and <code>y</code> and check whether <code>x</code> is greater than <code>y</code>"
   ]
  },
  {
   "cell_type": "code",
   "execution_count": null,
   "metadata": {},
   "outputs": [],
   "source": [
    "x = 3\n",
    "y = 5\n",
    "\n",
    "x > y"
   ]
  },
  {
   "cell_type": "code",
   "execution_count": null,
   "metadata": {},
   "outputs": [],
   "source": [
    "x < y"
   ]
  },
  {
   "cell_type": "markdown",
   "metadata": {},
   "source": [
    "<div class=\"alert alert-success\" role=\"alert\"><b>P1-C (3 pts)</b><br> \n",
    "    \n",
    "The code cell below has a list of months. Use a *membership operator* to get a Boolean output that reports whether 'nov' appears in the list."
   ]
  },
  {
   "cell_type": "code",
   "execution_count": null,
   "metadata": {},
   "outputs": [],
   "source": [
    "# add your code to this cell, but make sure you leave spring_semester in it\n",
    "spring_semester = ['jan', 'feb', 'mar', 'apr', 'may']\n",
    "\n",
    "# use the 'in' check\n",
    "\n",
    "'nov' in spring_semester"
   ]
  },
  {
   "cell_type": "code",
   "execution_count": null,
   "metadata": {},
   "outputs": [],
   "source": [
    "'apr' in spring_semester"
   ]
  },
  {
   "cell_type": "markdown",
   "metadata": {},
   "source": [
    "### Problem 2: For loops"
   ]
  },
  {
   "cell_type": "markdown",
   "metadata": {},
   "source": [
    "<div class=\"alert alert-success\" role=\"alert\"><b>P2-A (4pts)</b><br> \n",
    "    \n",
    "Using range(), write a for loop that prints each of the numbers from 0 to 10 one at a time."
   ]
  },
  {
   "cell_type": "code",
   "execution_count": 1,
   "metadata": {},
   "outputs": [
    {
     "name": "stdout",
     "output_type": "stream",
     "text": [
      "0\n",
      "1\n",
      "2\n",
      "3\n",
      "4\n",
      "5\n",
      "6\n",
      "7\n",
      "8\n",
      "9\n"
     ]
    }
   ],
   "source": [
    "# option 1, explicitly set the start at 0:\n",
    "\n",
    "for i in range(0, 10):\n",
    "    print(i)"
   ]
  },
  {
   "cell_type": "code",
   "execution_count": null,
   "metadata": {},
   "outputs": [],
   "source": [
    "# option 2, single input to range defaults to start at 0\n",
    "\n",
    "for i in range(10):\n",
    "    print(i)"
   ]
  },
  {
   "cell_type": "markdown",
   "metadata": {},
   "source": [
    "<div class=\"alert alert-success\" role=\"alert\"><b>P2-B (4pts)</b><br> \n",
    "    \n",
    "Write a for loop that iterates directly over the items in the spring_semester list below and prints them out one a time. By \"iterating directly\" we mean that your code should print the elements of spring_semester **without** using numeric indexing of the list positions."
   ]
  },
  {
   "cell_type": "code",
   "execution_count": null,
   "metadata": {},
   "outputs": [],
   "source": [
    "# add your code to this cell, but make sure you \n",
    "# leave spring_semester in it\n",
    "spring_semester = ['jan', 'feb', 'mar', 'apr', 'may']\n",
    "\n",
    "# m takes the values in spring_semester one at a time\n",
    "for m in spring_semester:\n",
    "\n",
    "    print(m)\n"
   ]
  },
  {
   "cell_type": "markdown",
   "metadata": {},
   "source": [
    "### Problem 3: if/else"
   ]
  },
  {
   "cell_type": "markdown",
   "metadata": {},
   "source": [
    "<div class=\"alert alert-success\" role=\"alert\"><b>P3-A (4pts)</b><br> \n",
    "    \n",
    "Define two string variables. Use an if statement to check if they are the same. If they are, print the message 'the values match'. If they are not the same, print the message 'value mismatch'."
   ]
  },
  {
   "cell_type": "code",
   "execution_count": null,
   "metadata": {},
   "outputs": [],
   "source": [
    "# your code goes here\n",
    "# add more cells if you need\n",
    "\n",
    "str1 = 'uptown'\n",
    "str2 = 'downtown'\n",
    "\n",
    "# if statement looks to see if the\n",
    "# statement is True and executes the indented\n",
    "# code block if it is\n",
    "\n",
    "if str1 == str2:\n",
    "    print('the values match')\n",
    "    \n",
    "else:\n",
    "    print('value mismatch')"
   ]
  },
  {
   "cell_type": "markdown",
   "metadata": {},
   "source": [
    "<div class=\"alert alert-success\" role=\"alert\"><b>P3-B (4pts)</b><br> \n",
    "    \n",
    "Define two numeric variables <code>a</code> and <code>b</code>. \n",
    "    \n",
    "Write a block of code that does the following: checks if variable <code>a</code> is less than variable <code>b</code>. If it is, print ('a less than b'). Otherwise, print ('a greater than or equal to b')."
   ]
  },
  {
   "cell_type": "code",
   "execution_count": null,
   "metadata": {},
   "outputs": [],
   "source": [
    "a = 74\n",
    "\n",
    "b = 32\n",
    "\n",
    "if a < b:\n",
    "    print('a less than b')\n",
    "    \n",
    "else:\n",
    "    print('a is greater than or equal to b')"
   ]
  },
  {
   "cell_type": "markdown",
   "metadata": {},
   "source": [
    "### Problem 4: Combining for loops and if/else"
   ]
  },
  {
   "attachments": {
    "avg_flow.png": {
     "image/png": "[encoded data removed]"
    }
   },
   "cell_type": "markdown",
   "metadata": {},
   "source": [
    "<div class=\"alert alert-success\" role=\"alert\"><b>P4 (10pts)</b><br> \n",
    "    \n",
    "The code in the cell below this has a list of average scores for for an intake assessment in a study.\n",
    "    \n",
    "Write a combined for loop with nested if statements to achieve the flow in this diagram. You should loop over the values in <code>avg_intake_scores</code>, and **for each loop the current value should be stored in a variable called <code>avg</code> and subjected to the following checks**:\n",
    "    \n",
    "    \n",
    "    \n",
    "\n",
    "<div>\n",
    "<img src=\"attachment:avg_flow.png\" width=\"300\"/>\n",
    "</div>\n",
    "    \n"
   ]
  },
  {
   "cell_type": "markdown",
   "metadata": {},
   "source": [
    "<div class=\"alert alert-info\">\n",
    "This problem has multiple parts and so is worth substantial points. However, if you find yourself struggling to get the whole thing to work, include whatever code you can and in a Markdown cell try describing in words what code you want to use and any insights you have as to why it doesn't work.\n",
    "</div>"
   ]
  },
  {
   "cell_type": "code",
   "execution_count": null,
   "metadata": {},
   "outputs": [],
   "source": [
    "# your code goes here but make sure you keep the avg_intake_scores list\n",
    "avg_intake_scores = ['9.2', '9.9', '4.01', '5.1', '1.8', '7.6', '5']"
   ]
  },
  {
   "cell_type": "markdown",
   "metadata": {},
   "source": [
    "Solving this one requires:\n",
    "\n",
    "    1) looping over the values in the avg_intake_scoes list\n",
    "    2) converting the values in the list to numbers for use in the comparisons\n",
    "    3) implementing a series of if/elif/else statements to run inside of the loop"
   ]
  },
  {
   "cell_type": "code",
   "execution_count": null,
   "metadata": {},
   "outputs": [],
   "source": [
    "# add more cells if you need\n",
    "\n",
    "# get the list elements one at a time and \n",
    "# put them in variable called score\n",
    "for avg in avg_intake_scores:\n",
    "    \n",
    "    # CONVERT THE SCORE TO A STRING FOR COMPARISON\n",
    "    # note: float(avg) can also be used directly\n",
    "    # in the comparisons rather than being stored\n",
    "    # in a variable\n",
    "    avg = float(avg)\n",
    "    \n",
    "    \n",
    "    if avg > 5:\n",
    "        print('average is greater than 5')\n",
    "    \n",
    "    elif avg == 5:\n",
    "        print('average is equal to 5')\n",
    "        \n",
    "    elif avg < 5:\n",
    "        print('average is less than 5')    "
   ]
  },
  {
   "cell_type": "markdown",
   "metadata": {},
   "source": [
    "### Problem 5: Importing libraries and additional tools\n",
    "\n",
    "Importing relevant libraries is often one of the first steps in building code.\n",
    "\n",
    "This first code cell shows examples of importing two libraries and you should run that cell so those libraries are available to you for this assignment."
   ]
  },
  {
   "cell_type": "code",
   "execution_count": null,
   "metadata": {},
   "outputs": [],
   "source": [
    "# RUN THIS CELL\n",
    "#for example\n",
    "import random\n",
    "#you can also rename the imported libraries, such as\n",
    "import matplotlib.pyplot as plt"
   ]
  },
  {
   "cell_type": "markdown",
   "metadata": {},
   "source": [
    "<div class=\"alert alert-success\" role=\"alert\"> \n",
    "<b>P5-A (1 pts)</b><br>Import pandas and rename it according to the conventional short name like we used in the inclass code notebook."
   ]
  },
  {
   "cell_type": "code",
   "execution_count": null,
   "metadata": {},
   "outputs": [],
   "source": [
    "# your code here\n",
    "import pandas as pd"
   ]
  },
  {
   "cell_type": "markdown",
   "metadata": {},
   "source": [
    "<div class=\"alert alert-success\" role=\"alert\"> \n",
    "<b>P5-B (2 pts)</b><br>\n",
    "    The `random` library that you imported has a function called randint(). You can run it using random.randint() and it will give you a random integer. According to the documentation for the function it takes two inputs and behaves like so:\n",
    "    \n",
    "```random.randint(a, b)\n",
    "        Return a random integer N such that a <= N <= b. Alias for\n",
    "        randrange(a, b+1)```\n",
    "    \n",
    "Use the function to get a random number between 1 and 20, inclusive, and store it in a variable called `secret_number`."
   ]
  },
  {
   "cell_type": "code",
   "execution_count": null,
   "metadata": {},
   "outputs": [],
   "source": [
    "# your code here\n",
    "secret_number = random.randint(1, 20)"
   ]
  },
  {
   "cell_type": "markdown",
   "metadata": {},
   "source": [
    "<div class=\"alert alert-success\" role=\"alert\"> \n",
    "<b>P5-C (1 pt)</b><br>\n",
    "    \n",
    "Guess a number between 1-20 and store in a var called <code>guess</code>"
   ]
  },
  {
   "cell_type": "code",
   "execution_count": null,
   "metadata": {},
   "outputs": [],
   "source": [
    "# your code here\n",
    "guess = 6"
   ]
  },
  {
   "cell_type": "markdown",
   "metadata": {},
   "source": [
    "<div class=\"alert alert-success\" role=\"alert\"> \n",
    "<b>P5-D (3 pts)</b><br>\n",
    "Write some code that checks if the `guess` from P5-C matches the secret number stored in <code>secret_number</code> as defined in P5-B. **If** it does match, print a message to confirm that. If it does not, print whether the guessed number is higher or lower than the secret number."
   ]
  },
  {
   "cell_type": "code",
   "execution_count": null,
   "metadata": {},
   "outputs": [],
   "source": [
    "# Structure of the solution is if then elif\n",
    "\n",
    "guess = 6\n",
    "\n",
    "# first check if they're equal:\n",
    "if guess == secret_number:\n",
    "    print('you guessed it correctly')\n",
    "    \n",
    "# sequentially check greater and less than, order doesn't matter\n",
    "\n",
    "elif guess > secret_number:\n",
    "    print(f'{guess} is greater than the secret number')\n",
    "\n",
    "    \n",
    "elif guess < secret_number:\n",
    "    print(f'{guess} is less than the secret number')\n"
   ]
  },
  {
   "cell_type": "markdown",
   "metadata": {},
   "source": [
    "### Problem 6: Solving errors"
   ]
  },
  {
   "attachments": {
    "str.png": {
     "image/png": "[encoded data removed]"
    }
   },
   "cell_type": "markdown",
   "metadata": {},
   "source": [
    "<div class=\"alert alert-success\" role=\"alert\"> \n",
    "<b>P6-A (2 pts)</b><br> The code in the cell after this is expected to produce the following output: \n",
    "\n",
    "![str.png](attachment:str.png)\n",
    "\n",
    "Correct the code the code to produce the desired output.\n",
    "    \n",
    "    "
   ]
  },
  {
   "cell_type": "markdown",
   "metadata": {},
   "source": [
    "*Hint*: multiplying a string times a number `y` will give you `y` occurrences of the string or letter. For example this code:\n",
    "\n",
    "```python\n",
    "some_string = 'a'\n",
    "\n",
    "some_string * 3\n",
    "```\n",
    "\n",
    "Results in this output:\n",
    "\n",
    "'aaa'"
   ]
  },
  {
   "cell_type": "markdown",
   "metadata": {},
   "source": [
    "The original code is this:\n",
    "\n",
    "\n",
    "```python\n",
    "for i in range(10):\n",
    "    \n",
    "    sym = i*str(i)\n",
    "    \n",
    "print(sym)\n",
    "```\n",
    "\n",
    "And it only outputs a single number 9\n",
    "\n",
    "\n",
    "Solution logic:\n",
    "\n",
    "    1) move the print statement inside the for loop so we get some output for every i in the range (10). This will be the numbers 0 to 9 which is part of what we want.\n",
    "    2) multiply the current sym or the str(i) times the number currently stored in i. That will give a single 1, two 2s, three 3s, etc\n",
    "\n"
   ]
  },
  {
   "cell_type": "code",
   "execution_count": null,
   "metadata": {},
   "outputs": [],
   "source": [
    "# this code doesn't do what we want\n",
    "# try to fix it\n",
    "for i in range(10):\n",
    "    \n",
    "    sym = str(i)*i\n",
    "    \n",
    "    print(sym)"
   ]
  },
  {
   "cell_type": "markdown",
   "metadata": {},
   "source": [
    "### Problem 7: Working with dictionaries\n",
    "\n",
    "<div class=\"alert alert-success\" role=\"alert\"> \n",
    "<b>P7-A (2 pts) </b><br>\n",
    "\n",
    "A dictionary can be a convenient structure for keeping track of information like the details of an individual participant in an experiment.\n",
    "\n",
    "Define a dictionary called `participant_1` that has keys for `age`, `city`, and `participation_date`.\n",
    "\n",
    "Choose a value of your choice for each of those keys (age in years, city is place where the person lives, and `participation_date` is some date (month, day, and year) when this person came into the lab to participate in a study.\n",
    "\n"
   ]
  },
  {
   "cell_type": "code",
   "execution_count": null,
   "metadata": {},
   "outputs": [],
   "source": [
    "participant_1 = {'age': 31, 'city': 'chicago', 'participation_date': 'jun-11-2021'}"
   ]
  },
  {
   "cell_type": "markdown",
   "metadata": {},
   "source": [
    "<div class=\"alert alert-success\" role=\"alert\"> \n",
    "    <b>P7-B (2 pts)</b><br> The participant from <b>P8-A</b> enrolled in four studies with the following names: \"counting\", \"learning\", \"recall\" and \"sleep\". Add a new key called <b>experiment</b> to the already created `participant_1` dictionary. The value for that key should contain all four of the studies listed above."
   ]
  },
  {
   "cell_type": "code",
   "execution_count": null,
   "metadata": {},
   "outputs": [],
   "source": [
    "# add a new key to a dictionary by giving the new key name in square brackets\n",
    "# and assigning the values using =\n",
    "\n",
    "# make a list of the new study names\n",
    "new_exps = [\"counting\", \"learning\", \"recall\", \"sleep\"]\n",
    "\n",
    "# assign the new_exps list as the value for a new dictionary key called experiment\n",
    "participant_1['experiment'] = new_exps"
   ]
  },
  {
   "cell_type": "code",
   "execution_count": null,
   "metadata": {},
   "outputs": [],
   "source": [
    "# retrieve the values for a key:\n",
    "participant_1['experiment']"
   ]
  },
  {
   "cell_type": "code",
   "execution_count": null,
   "metadata": {},
   "outputs": [],
   "source": [
    "participant_1['age']"
   ]
  },
  {
   "cell_type": "markdown",
   "metadata": {},
   "source": [
    "### Problem 8: Working with pandas\n",
    "\n",
    "Working with datasets is an essential part of research. In this part of the assignment you'll start getting familiar with student performance datasets collected from two different schools in Portugal. \n",
    "\n",
    "To get a more comprehensive understanding of the datatset, you can [click here](https://archive.ics.uci.edu/ml/datasets/Student+Performance), although an in-depth knowledge or familiarity of the original datset is not required for this particular assignment. <br>\n",
    "\n",
    "\n",
    "This assignment will use the <code>student-mat.csv</code> file. To download it, visit: https://archive.ics.uci.edu/ml/machine-learning-databases/00320/ <br>\n",
    "Download <code>student.zip</code> and unzip it on your computer to reveal the student-mat.csv that we want.\n",
    "\n",
    "\n",
    "You may find it easiest to load the targeted file <code>student-mat.csv</code> if it's in the same location as this jupyter notebook, but this is not required.\n",
    "\n",
    "<i><b>Source:</b></i> P. Cortez and A. Silva. Using Data Mining to Predict Secondary School Student Performance. In A. Brito and J. Teixeira Eds., Proceedings of 5th FUture BUsiness TEChnology Conference (FUBUTEC 2008) pp. 5-12, Porto, Portugal, April, 2008, EUROSIS, ISBN 978-9077381-39-7. \n"
   ]
  },
  {
   "cell_type": "markdown",
   "metadata": {},
   "source": [
    "<div class=\"alert alert-success\" role=\"alert\"> \n",
    "<b>P8-A (1 pts) </b><br>\n",
    "    Make a string variable called <code>fname</code> which contains the file name of the dataset. If your file is not stored in the same directory as your jupyter notebook, make sure the variable fname has the file path as well as the file name."
   ]
  },
  {
   "cell_type": "code",
   "execution_count": null,
   "metadata": {},
   "outputs": [],
   "source": [
    "# if the data is not in the same folder as the notebook\n",
    "# make sure the full path (absolute or relative) is defined\n",
    "data_dir = '../data/'\n",
    "\n",
    "fname = 'student-mat.csv'\n",
    "\n",
    "full_path = data_dir + fname\n",
    "\n",
    "print(full_path)"
   ]
  },
  {
   "cell_type": "markdown",
   "metadata": {},
   "source": [
    "<div class=\"alert alert-success\" role=\"alert\"> \n",
    "<b>P8-B (2 pts)</b><br>\n",
    "Using your `fname` from P9-A, load the csv file into a dataframe using pandas and look at the contents </div>\n",
    "\n",
    "***When you look at your dataframe it probably doesn't look right***\n",
    "\n",
    "Take a close look at the name of the dataframe columns. It looks like maybe they are separated by  <code>;</code> instead of <code>,</code>. This suggests you might need to use a different value for <code>sep</code> when loading the data.\n",
    "\n",
    "**Hint:** Refer to pandas_part1.ipynb"
   ]
  },
  {
   "cell_type": "code",
   "execution_count": null,
   "metadata": {},
   "outputs": [],
   "source": [
    "# the csv file has semicolon as the column separator\n",
    "# so use pd.read_csv() with optional sep= input\n",
    "df = pd.read_csv(full_path, sep=';')\n",
    "df"
   ]
  },
  {
   "cell_type": "markdown",
   "metadata": {},
   "source": [
    "<div class=\"alert alert-success\" role=\"alert\"> \n",
    "<b>P8-C (1 pts)</b><br>\n",
    "    Display the top of the dataframe (header and first few rows)."
   ]
  },
  {
   "cell_type": "code",
   "execution_count": null,
   "metadata": {},
   "outputs": [],
   "source": [
    "# your code here\n",
    "df.head()"
   ]
  },
  {
   "cell_type": "markdown",
   "metadata": {},
   "source": [
    "<div class=\"alert alert-success\" role=\"alert\"> \n",
    "<b>P8-D (1 pts) </b><br>\n",
    "Each row of the dataframe is one student. How many total students in the dataset?"
   ]
  },
  {
   "cell_type": "code",
   "execution_count": null,
   "metadata": {},
   "outputs": [],
   "source": [
    "# you can get the number of rows using df.shape\n",
    "# the first entry in the two-element tuple is the rows\n",
    "# the second entry is number of columns\n",
    "df.shape\n"
   ]
  },
  {
   "cell_type": "markdown",
   "metadata": {},
   "source": [
    "<div class=\"alert alert-success\" role=\"alert\"> \n",
    "<b>P8-E (3 pts) </b><br>The people who originally collected this data have indicated that there was an error in collecting the <code>freetime</code> data. Drop that column from the dataframe and store the new dataframe in the same variable name as you originally were using.</div>\n",
    "    \n",
    "**Hint (pandas_part1.ipynb):** Note that if you find a relevant example from inclass code it might include .head() attached to it. That is only for visualization and to get the whole df you will want to get rid of that part."
   ]
  },
  {
   "cell_type": "code",
   "execution_count": null,
   "metadata": {},
   "outputs": [],
   "source": [
    "# Syntax 1 using drop with axis=1\n",
    "df = df.drop('freetime', axis=1)\n",
    "df.shape"
   ]
  },
  {
   "cell_type": "code",
   "execution_count": null,
   "metadata": {},
   "outputs": [],
   "source": [
    "# Syntax 1 using drop with columns= argument\n",
    "df = df.drop(columns='freetime')\n",
    "df.shape"
   ]
  },
  {
   "cell_type": "markdown",
   "metadata": {},
   "source": [
    "<div class=\"alert alert-success\" role=\"alert\"> \n",
    "<b>P8-F (2 pts) </b><br> In addition to reading a csv, pandas lets us save a dataframe back out as a csv using the `to_csv()` function or method that is attached to each dataframe. That function takes one required input which is a string specifying the path and filename for your output.\n",
    "    \n",
    "Save the dataframe from P9E (the one where you dropped a column). Your output filename should let us know that this is related to the `student-mat.csv` dataset, but because we don't want to overwrite the original raw data you should choose a name is some variation on `student-mat.csv`."
   ]
  },
  {
   "cell_type": "code",
   "execution_count": null,
   "metadata": {},
   "outputs": [],
   "source": [
    "# your code here\n",
    "\n",
    "df.to_csv('path_to_file_and_file_name.csv')"
   ]
  },
  {
   "cell_type": "markdown",
   "metadata": {},
   "source": [
    "### Problem 9: Setting up a structured project\n",
    "\n",
    "For the last part of this homework you should try to use the `os` library (discussed in os_library.ipynb notebook) to make a standardized directory structure where you will have your class notebooks and data.\n",
    "\n",
    "*At a minimum* you should choose a name for your class folder and manually set things up so you have the following structure:\n",
    "\n",
    "```\n",
    "<top level name of your choice>\n",
    "|_code\n",
    "|_data\n",
    "```\n",
    "\n",
    "\n",
    "For me the top level name is SciProgramming_SP22 and you are welcome to use that or any other name that you like. That folder can live wherever you want on your computer.\n",
    "\n",
    "*Ideally* you will use os.makedirs() function from the os library to do this, but if you are having trouble doing that you can just do it using the normal tools.\n",
    "\n",
    "Your \"answer\" to this problem is either the code you use to make the directory and/or a screenshot of your completed directory structure.\n",
    "\n",
    "To add an image to a jupyter notebook, make a new markdown cell, go into edit mode, and then drag your image file from the Finder or Browser into the markdown cell. "
   ]
  },
  {
   "cell_type": "code",
   "execution_count": null,
   "metadata": {},
   "outputs": [],
   "source": [
    "# code based solution\n",
    "import os\n",
    "\n",
    "top_level = '/Users/shannon/science/temp/SciProgramming_SP22/'\n",
    "\n",
    "os.makedirs(top_level)\n",
    "os.makedirs(top_level + 'code')\n",
    "os.makedirs(top_level + 'data')"
   ]
  },
  {
   "cell_type": "code",
   "execution_count": null,
   "metadata": {},
   "outputs": [],
   "source": []
  }
 ],
 "metadata": {
  "kernelspec": {
   "display_name": "Python 3 (ipykernel)",
   "language": "python",
   "name": "python3"
  },
  "language_info": {
   "codemirror_mode": {
    "name": "ipython",
    "version": 3
   },
   "file_extension": ".py",
   "mimetype": "text/x-python",
   "name": "python",
   "nbconvert_exporter": "python",
   "pygments_lexer": "ipython3",
   "version": "3.9.7"
  }
 },
 "nbformat": 4,
 "nbformat_minor": 4
}
