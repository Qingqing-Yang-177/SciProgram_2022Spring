{
 "cells": [
  {
   "cell_type": "markdown",
   "metadata": {},
   "source": [
    "# Instructions"
   ]
  },
  {
   "cell_type": "markdown",
   "metadata": {},
   "source": [
    "Rename your notebook according to the format LastName_FirstName_netID_HW3\n",
    "\n",
    "**Due Date**\n",
    "You should complete the homework by Tuesday April 5th.  On that day we will post solutions and answer questions. If you find that you made mistakes or learned something new during the in-class dicussion you may incoporate those insights into your assignment. If you do this it is your responsbility to ensure that you undestand why an answer is correct.\n",
    "\n",
    "***Submission instructions***\n",
    "Send a copy of your notebook to nyu.sci.programming@gmail.com with subject line ``[HW3] <LastName> <netID>``"
   ]
  },
  {
   "cell_type": "markdown",
   "metadata": {},
   "source": [
    "### Problem 1: IBM attrition dataset"
   ]
  },
  {
   "cell_type": "markdown",
   "metadata": {},
   "source": [
    "For this problem we will use the IBM-Attrition.csv dataset introduced in class. You can find the csv on Brightspace under Content / Data /.\n",
    "\n",
    "You can find a description of the dataset here: http://inseaddataanalytics.github.io/INSEADAnalytics/groupprojects/January2018FBL/IBM_Attrition_VSS.html"
   ]
  },
  {
   "cell_type": "markdown",
   "metadata": {},
   "source": [
    "<div class=\"alert alert-success\" role=\"alert\"> \n",
    "<b>P1-A (3 pts)</b><br> Import pandas and load the data in IBM-Attrition.csv into a dataframe.</div>\n"
   ]
  },
  {
   "cell_type": "code",
   "execution_count": null,
   "metadata": {},
   "outputs": [],
   "source": []
  },
  {
   "cell_type": "markdown",
   "metadata": {},
   "source": [
    "<div class=\"alert alert-success\" role=\"alert\"> \n",
    "<b>P1-B (3 pts)</b><br> Use a Boolean comparison to select and output the rows of the dataframe where <code>EducationField</code> is 'Life Sciences'.</div>\n",
    "\n",
    "**Hint:** pandas_part2.ipynb"
   ]
  },
  {
   "cell_type": "code",
   "execution_count": null,
   "metadata": {},
   "outputs": [],
   "source": []
  },
  {
   "cell_type": "markdown",
   "metadata": {},
   "source": [
    "<div class=\"alert alert-success\" role=\"alert\"> \n",
    "<b>P1-C (1 pts) </b><br> Each row corresponds to a person. How many people have EducationField that is Life Sciences?\n"
   ]
  },
  {
   "cell_type": "code",
   "execution_count": null,
   "metadata": {},
   "outputs": [],
   "source": []
  },
  {
   "cell_type": "markdown",
   "metadata": {},
   "source": [
    "<div class=\"alert alert-success\" role=\"alert\"> \n",
    "<b>P1-D (5 pts) </b><br> Use a Boolean comparison to select and output the rows of the dataframe where <code>TotalWorkingYears</code> is between 4 and 8, inclusive (i.e., if the value is 4 or 8 it should be included).\n"
   ]
  },
  {
   "cell_type": "code",
   "execution_count": null,
   "metadata": {},
   "outputs": [],
   "source": []
  },
  {
   "cell_type": "markdown",
   "metadata": {},
   "source": [
    "<div class=\"alert alert-success\" role=\"alert\"> \n",
    "<b>P1-E (5 pts) </b><br> The dataframe has a column <code>YearsAtCompany</code> that indicates the number of years someone worked there and <code>YearsInCurrentRole</code> which indicates how long they've had their current position. \n",
    "<br>To find out how long someone worked at the company before they had their current role we could take the difference between those columns.<br>\n",
    "<br>Make a new column in the dataframe called 'YearsBeforeCurrentRole' where the values are calculated as the difference between 'YearsAtCompany' and 'YearsInCurrentRole'.\n",
    "    \n",
    "    "
   ]
  },
  {
   "cell_type": "code",
   "execution_count": null,
   "metadata": {},
   "outputs": [],
   "source": []
  },
  {
   "cell_type": "markdown",
   "metadata": {},
   "source": [
    "<div class=\"alert alert-success\" role=\"alert\"> \n",
    "<b>P1-F (5 pts)</b><br>\n",
    "    Using the pandas dataframe <b>.groupby()</b> function, output a new dataframe that shows just the average (mean) of the <code>Age</code> values separately for each <code>Department</code> in the dataframe.</div>\n",
    "    \n",
    "**Hint (pandas_groupby.ipynb)**"
   ]
  },
  {
   "cell_type": "code",
   "execution_count": null,
   "metadata": {},
   "outputs": [],
   "source": []
  },
  {
   "cell_type": "markdown",
   "metadata": {},
   "source": [
    "<div class=\"alert alert-success\" role=\"alert\"> \n",
    "    <b>P1-G (5 pts)</b><br>Let's break the average <code>Age</code> scores down even further. Now output the average of the age column after grouping by <b>'EducationField'</b> as well as <b>'Department'</b>. </div>"
   ]
  },
  {
   "cell_type": "code",
   "execution_count": null,
   "metadata": {},
   "outputs": [],
   "source": []
  },
  {
   "cell_type": "markdown",
   "metadata": {},
   "source": [
    "<div class=\"alert alert-success\" role=\"alert\"> \n",
    "<b>P1-H (5 pts) </b><br>Your collaborators would like to see more descriptive stats about the <code>Age</code> values within the Department groupings. Write some code that will give us a full range of descriptive statistics for just the <code>Age</code> column for the <b>Department</b> groupings in P1-F."
   ]
  },
  {
   "cell_type": "code",
   "execution_count": null,
   "metadata": {},
   "outputs": [],
   "source": []
  },
  {
   "cell_type": "markdown",
   "metadata": {},
   "source": [
    "### Problem 2: Visualizing data"
   ]
  },
  {
   "cell_type": "markdown",
   "metadata": {},
   "source": [
    "<div class=\"alert alert-success\" role=\"alert\"> \n",
    "    <b>P2-A (2 pts)</b><br>Import the seaborn plotting library using the conventional short name for it.</div>"
   ]
  },
  {
   "cell_type": "code",
   "execution_count": null,
   "metadata": {},
   "outputs": [],
   "source": []
  },
  {
   "cell_type": "markdown",
   "metadata": {},
   "source": [
    "<div class=\"alert alert-success\" role=\"alert\"> \n",
    "    <b>P2-B (5 pts)</b><br>In the previous problem we computed some basic statistics for our dataset and output them as tables of numbers. Tables can be hard to parse visually so now try plotting some of those results. First, make a <b>bar plot</b> that shows the average <code>Age</code> score for the different <b>'Department'</b> categories.</div>\n",
    "    \n",
    "**Hint:** Refer to sns.catplot() and viz_and_stats_1.ipynb"
   ]
  },
  {
   "cell_type": "code",
   "execution_count": null,
   "metadata": {},
   "outputs": [],
   "source": []
  },
  {
   "cell_type": "markdown",
   "metadata": {},
   "source": [
    "<div class=\"alert alert-success\" role=\"alert\"> \n",
    "    <b>P2-C (6 pts)</b><br>Now add in the <b>EducationField</b> grouping to your bar plot so that we have bars for each of the  <b>Department</b> X <b>EducationField</b> groups. \n",
    "    \n",
    "<b>Hint:</b> the color, or <code>hue</code>, can be used to further break down the bars from the previous problem. Look for examples using hue= in the  viz_and_stats_1.ipynb notebook\n",
    "    "
   ]
  },
  {
   "cell_type": "code",
   "execution_count": null,
   "metadata": {},
   "outputs": [],
   "source": []
  },
  {
   "cell_type": "markdown",
   "metadata": {},
   "source": [
    "<div class=\"alert alert-success\" role=\"alert\"> \n",
    "    <b>P2-D (5 pts)</b><br>Let's see if Age is related to pay rate. Use Seaborn to make a scatterplot showing the Age and 'MonthlyIncome' data. "
   ]
  },
  {
   "cell_type": "code",
   "execution_count": null,
   "metadata": {},
   "outputs": [],
   "source": []
  },
  {
   "cell_type": "markdown",
   "metadata": {},
   "source": [
    "<div class=\"alert alert-success\" role=\"alert\"> \n",
    "    <b>P2-E (5 pts)</b><br>We should complement our scatterplot with some statistics. Use scipy.stats pearsonr() function to assess the degree of correlation between 'Age' and 'MontlyIncome'. Report the r value and the p value. (Hint: in viz_and_stats_1.ipynb we calculated the correlation between total_bill and tips) "
   ]
  },
  {
   "cell_type": "code",
   "execution_count": null,
   "metadata": {},
   "outputs": [],
   "source": []
  },
  {
   "cell_type": "markdown",
   "metadata": {},
   "source": [
    "### Problem 3: Data Exploration"
   ]
  },
  {
   "cell_type": "markdown",
   "metadata": {},
   "source": [
    "<div class=\"alert alert-success\" role=\"alert\"> \n",
    "    <b>P3-A (1 pts)</b><br> Use <code>seaborn</code> to load the dataset called <b>car_crashes</b> using this command \n",
    "    \n",
    "    sns.load_dataset('car_crashes') \n",
    "    \n",
    "Make sure you store the result in a variable called <code>df_cars</code> for further use. </div>"
   ]
  },
  {
   "cell_type": "code",
   "execution_count": null,
   "metadata": {},
   "outputs": [],
   "source": []
  },
  {
   "cell_type": "markdown",
   "metadata": {},
   "source": [
    "<div class=\"alert alert-success\" role=\"alert\"> \n",
    "    <b>P3-B (1 pts)</b><br> Take a look at the top of the dataset from <b>P3-A</b> and print out the column names."
   ]
  },
  {
   "cell_type": "code",
   "execution_count": null,
   "metadata": {},
   "outputs": [],
   "source": []
  },
  {
   "cell_type": "markdown",
   "metadata": {},
   "source": [
    "<div class=\"alert alert-success\" role=\"alert\"> \n",
    "    <b>P3-C (2 pts)</b><br>This dataset gives us some information for a series of car crashes. Each numeric column is in a scale that indicates the severity of the quantity being measured and then there is an '<b>abbrev</b>' column that lists the state where this happened.\n",
    "    \n",
    "Get an output that tells us the <b>unique values</b> in the '<b>abbrev</b>' column. By unique we mean that we want an output that gives one entry for each possible value in that column."
   ]
  },
  {
   "cell_type": "code",
   "execution_count": null,
   "metadata": {},
   "outputs": [],
   "source": []
  },
  {
   "cell_type": "markdown",
   "metadata": {},
   "source": [
    "<div class=\"alert alert-success\" role=\"alert\"> \n",
    "    <b>P3-D (5 pts) </b><br>Take a look at the distribution of `<b>speeding</b>` scores in this dataset. Make a <b>histogram</b> that shows the '<b>speeding</b>' scores. </div>"
   ]
  },
  {
   "cell_type": "code",
   "execution_count": null,
   "metadata": {},
   "outputs": [],
   "source": []
  },
  {
   "cell_type": "markdown",
   "metadata": {},
   "source": [
    "<div class=\"alert alert-success\" role=\"alert\"> \n",
    "    <b>P3-E (5 pts)</b><br><code>Seaborn</code> makes a decision about how many bins to separate the histogram into, but we'd prefer a finer grained look at our data. Make another histogram of the `<b>speeding</b>` column but now separate the values into 50 bins."
   ]
  },
  {
   "cell_type": "code",
   "execution_count": null,
   "metadata": {},
   "outputs": [],
   "source": []
  },
  {
   "cell_type": "markdown",
   "metadata": {},
   "source": [
    "<div class=\"alert alert-success\" role=\"alert\"> \n",
    "    <b>P3-F (5 pts)</b><br>We have a hypothesis that level of <b>alcohol</b> is related to <b>speeding</b>. Make a <b>scatterplot</b> that shows the relationship between these two variables. We think that alcohol level is what probably causes or leads to speeding, so you should assign <b>alcohol</b> and <b>speeding</b> to the <b>scatterplot</b> x and y inputs in a way that indicates that expectation.\n",
    "    "
   ]
  },
  {
   "cell_type": "code",
   "execution_count": null,
   "metadata": {},
   "outputs": [],
   "source": []
  },
  {
   "cell_type": "markdown",
   "metadata": {},
   "source": [
    "<div class=\"alert alert-success\" role=\"alert\"> \n",
    "    <b>P3-G (1 pts)</b><br>\n",
    "Use a markdown cell or <b>#-denoted</b> comment in a code cell to decribe if it looks like there is a relationship between alcohol level and speeding level based on the output of <b>P3-F</b>?"
   ]
  },
  {
   "cell_type": "code",
   "execution_count": null,
   "metadata": {},
   "outputs": [],
   "source": []
  },
  {
   "cell_type": "markdown",
   "metadata": {},
   "source": [
    "<div class=\"alert alert-success\" role=\"alert\"> \n",
    "    <b>P3-H (3 pts)</b><br>Let's add some more information to our <b>scatterplot</b> of <b>alchohol</b> and <b>speeding</b> scores and also indicate whether that car accident was someone who had a high or a low insurance premium.\n",
    "    \n",
    "The next cell has code that will add a column to your dataframe and will turn the continuous `ins_premium` scores into a binary 1 or 0 depending on whether the value is above or below the median of all the ins_premium scores. \n",
    "    \n",
    "To make it work for your dataframe you will probably need to change dataframe name from <code>df_cars</code> in the example code to whatever variable name you chose to store the dataset."
   ]
  },
  {
   "cell_type": "code",
   "execution_count": null,
   "metadata": {},
   "outputs": [],
   "source": [
    "df_cars['insurance_category'] = (df_cars['ins_premium'] >= df_cars['ins_premium'].median()).astype(int)\n",
    "df_cars.head()"
   ]
  },
  {
   "cell_type": "markdown",
   "metadata": {},
   "source": [
    "<div class=\"alert alert-success\" role=\"alert\"> \n",
    "    <b>P3-I (4 pts)</b><br>Our new <code>insurance_category</code> column has a numeric code but that's not informative. Change the values to be strings: insurance <b>category 0</b> should become '<b>low</b>' and insurance <b>category 1</b> should become '<b>high</b>'.\n",
    "    \n",
    "We can replace values in a dataframe column using the <code>dataframe.replace()</code> function with a dictionary as input. The dictionary has keys corresponding to the current value you'd like to replace and the value for that dictionary key is the new thing you'd like to use as a replacement.\n",
    "\n",
    "<br>\n",
    "For example, to change the 'AL' values in the 'abbrev' column to 'LA' we could do:\n",
    "    \n",
    "`df_cars['abbrev'].replace({'AL': 'LA'}, inplace=True)`\n",
    "\n",
    "<br>\n",
    "    \n",
    "You can see inside of the `replace()` function that there is a dictionary that gives the current value 'AL' as a key and the desired replacement 'LA' as a value. \n",
    "    \n",
    "The **inplace=True** part means make that change is in the current dataframe, which is what we want. This example has a single entry in the dictionary, but as you hopefully already know a dictionary can have multiple entries (multiple key-value pairs).\n",
    "\n",
    "\n",
    "You should write code that will replace the *numbers* 0 and 1 in the insurance_category column with the strings 'low' and 'high', respectively, in your car crash dataframe."
   ]
  },
  {
   "cell_type": "code",
   "execution_count": null,
   "metadata": {},
   "outputs": [],
   "source": []
  },
  {
   "cell_type": "markdown",
   "metadata": {},
   "source": [
    "<div class=\"alert alert-success\" role=\"alert\"> \n",
    "<b>P3-J (6 pts)</b><br>Now let's add the <code>insurance_category</code> information into our <b>scatterplot</b> from <b>P3-F</b>: use the <code>insurance_category</code> values to set both the <i>color of the dots</i> and the <i>style</i> of the dots."
   ]
  },
  {
   "cell_type": "code",
   "execution_count": null,
   "metadata": {},
   "outputs": [],
   "source": []
  }
 ],
 "metadata": {
  "kernelspec": {
   "display_name": "Python 3 (ipykernel)",
   "language": "python",
   "name": "python3"
  },
  "language_info": {
   "codemirror_mode": {
    "name": "ipython",
    "version": 3
   },
   "file_extension": ".py",
   "mimetype": "text/x-python",
   "name": "python",
   "nbconvert_exporter": "python",
   "pygments_lexer": "ipython3",
   "version": "3.8.12"
  }
 },
 "nbformat": 4,
 "nbformat_minor": 4
}
