{
 "cells": [
  {
   "cell_type": "markdown",
   "metadata": {},
   "source": [
    "### Run the import command in the next cell so that you have access to these two functions:\n",
    "`math.sqrt()`\n",
    "\n",
    "`statistics.mean()`"
   ]
  },
  {
   "cell_type": "code",
   "execution_count": 1,
   "metadata": {},
   "outputs": [],
   "source": [
    "import math\n",
    "import statistics"
   ]
  },
  {
   "cell_type": "markdown",
   "metadata": {},
   "source": [
    "### Show that an object named 'a' is indeed greater than or equal to 50"
   ]
  },
  {
   "cell_type": "code",
   "execution_count": null,
   "metadata": {},
   "outputs": [],
   "source": []
  },
  {
   "cell_type": "markdown",
   "metadata": {},
   "source": [
    "### Show that two string objects are not equal to each other with a \"True\" output"
   ]
  },
  {
   "cell_type": "code",
   "execution_count": null,
   "metadata": {},
   "outputs": [],
   "source": []
  },
  {
   "cell_type": "markdown",
   "metadata": {},
   "source": [
    "### Create a for loop using if and else to find whether this list of numbers is odd or even 2, 48, 19, 58, 475, 38, 1919, 44."
   ]
  },
  {
   "cell_type": "code",
   "execution_count": null,
   "metadata": {},
   "outputs": [],
   "source": []
  },
  {
   "cell_type": "markdown",
   "metadata": {},
   "source": [
    "### Use membership operators to get two true outputs from one cell: find that 2 is in the last list you created, and that 59 is not"
   ]
  },
  {
   "cell_type": "code",
   "execution_count": null,
   "metadata": {},
   "outputs": [],
   "source": []
  },
  {
   "cell_type": "markdown",
   "metadata": {},
   "source": [
    "### Use a membership operator to find whether a string object is within another string object"
   ]
  },
  {
   "cell_type": "code",
   "execution_count": null,
   "metadata": {},
   "outputs": [],
   "source": []
  },
  {
   "cell_type": "markdown",
   "metadata": {},
   "source": [
    "### Use the range function in a for loop to display the numbers 0 to 25"
   ]
  },
  {
   "cell_type": "code",
   "execution_count": null,
   "metadata": {},
   "outputs": [],
   "source": []
  },
  {
   "cell_type": "markdown",
   "metadata": {},
   "source": [
    "### Use the range function in a for loop to display all the even numbers in the range 20-26"
   ]
  },
  {
   "cell_type": "code",
   "execution_count": null,
   "metadata": {},
   "outputs": [],
   "source": []
  },
  {
   "cell_type": "markdown",
   "metadata": {},
   "source": [
    "### Use the range function in a for loop to display all even numbers from 1-50, backwards"
   ]
  },
  {
   "cell_type": "code",
   "execution_count": null,
   "metadata": {},
   "outputs": [],
   "source": []
  },
  {
   "cell_type": "markdown",
   "metadata": {},
   "source": [
    "### Use len() and range() in a for loop to print out all values and the corresponding index value of this list iteratively:\n",
    "<code> list = ['first', 'second', 'third']</code>"
   ]
  },
  {
   "cell_type": "code",
   "execution_count": null,
   "metadata": {},
   "outputs": [],
   "source": []
  },
  {
   "cell_type": "markdown",
   "metadata": {},
   "source": [
    "### Print out all the values of that list in a for loop without using the range function"
   ]
  },
  {
   "cell_type": "code",
   "execution_count": null,
   "metadata": {},
   "outputs": [],
   "source": []
  },
  {
   "cell_type": "markdown",
   "metadata": {},
   "source": [
    "### Create a for loop that creates a list for each elements deviations from the mean (only absolute values):\n",
    "<code> list = [55, 29, 50, 77, 33]</code>\n",
    "\n",
    "*Hint: importing the **math** and **statistics** will make this much easier*"
   ]
  },
  {
   "cell_type": "code",
   "execution_count": null,
   "metadata": {},
   "outputs": [],
   "source": []
  },
  {
   "cell_type": "markdown",
   "metadata": {},
   "source": [
    "### Create a for loop that prints the address of all the hotmail addresses in this list (bonus: don't print the @hotmail.com part)\n",
    "\n",
    "<code> email_list = ['student1@hotmail.com','student2@gmail.com','student3@hotmail.com','student4@gmail.com','student5@gmail.com', 'student6@nyu.edu']</code>\n",
    "\n",
    "**Another bonus: Print when the student does not have a hotmail address, e.g. ('student2 does not have a hotmail address')**"
   ]
  },
  {
   "cell_type": "code",
   "execution_count": null,
   "metadata": {},
   "outputs": [],
   "source": []
  },
  {
   "cell_type": "markdown",
   "metadata": {},
   "source": [
    "### Using the same list and the same for loop, add a feature to the loop that specifies whether a students email is an NYU address"
   ]
  },
  {
   "cell_type": "code",
   "execution_count": null,
   "metadata": {},
   "outputs": [],
   "source": []
  },
  {
   "cell_type": "markdown",
   "metadata": {},
   "source": [
    "### Using two for loops (nested), print every value in this list of lists:\n",
    "<code>\n",
    "all_data = [['student1', 'student2', 'student3'],['brown', 'blonde', 'blue'],['brown','brown','brown'],['a masters','a masters','a bachelors']]\n",
    "attribute_list = ['hair', 'eyes', 'degree']\n",
    "</code>"
   ]
  },
  {
   "cell_type": "code",
   "execution_count": null,
   "metadata": {},
   "outputs": [],
   "source": []
  },
  {
   "cell_type": "markdown",
   "metadata": {},
   "source": [
    "### Using two for loops (nested), generate this output:\n",
    "\n",
    "student1 has <br>\n",
    "brown hair<br>\n",
    "brown eyes<br>\n",
    "a masters degree<br>\n",
    "\n",
    "student2 has<br>\n",
    "blonde hair<br>\n",
    "brown eyes<br>\n",
    "a masters degree<br>\n",
    "\n",
    "student3 has<br>\n",
    "blue hair<br>\n",
    "brown eyes<br>\n",
    "a bachelors degree<br>\n",
    "\n",
    "Use these lists: <br>\n",
    "`all_data = [['student1', 'student2', 'student3'],['brown', 'blonde', 'blue'],['brown','brown','brown'],['a masters','a masters','a bachelors']]\n",
    "attribute_list = ['hair', 'eyes', 'degree']`"
   ]
  },
  {
   "cell_type": "code",
   "execution_count": null,
   "metadata": {},
   "outputs": [],
   "source": []
  }
 ],
 "metadata": {
  "kernelspec": {
   "display_name": "Python 3 (ipykernel)",
   "language": "python",
   "name": "python3"
  },
  "language_info": {
   "codemirror_mode": {
    "name": "ipython",
    "version": 3
   },
   "file_extension": ".py",
   "mimetype": "text/x-python",
   "name": "python",
   "nbconvert_exporter": "python",
   "pygments_lexer": "ipython3",
   "version": "3.9.7"
  }
 },
 "nbformat": 4,
 "nbformat_minor": 4
}
