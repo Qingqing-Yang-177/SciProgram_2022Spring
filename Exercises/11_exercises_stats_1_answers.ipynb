{
 "cells": [
  {
   "cell_type": "markdown",
   "metadata": {},
   "source": [
    "# Exercises, stats 1\n",
    "\n",
    "\n",
    "This notebook provides practice problems focused on dataframe manipulation, plotting, and running correlations, t-tests and regression.\n",
    "\n",
    "These exercises will have you load data from three different csv files:\n",
    "\n",
    "bounce.csv\n",
    "\n",
    "demo_and_data.csv\n",
    "\n",
    "nyc_covid.csv\n",
    "\n",
    "These are on Brightspace under Content / Data /\n",
    "\n",
    "You will want to download that and put the files somewhere so that you can load them using pd.read_csv() as we've done on previous assignments."
   ]
  },
  {
   "cell_type": "markdown",
   "metadata": {},
   "source": [
    "#### Imports\n",
    "\n",
    "You will need to import the following libraries:\n",
    "\n",
    "- scipy.stats\n",
    "- numpy\n",
    "- seaborn\n",
    "- pandas\n",
    "- pingouin\n",
    "\n",
    "Examples of doing this can be found at the top of the various viz_and_stats notebooks.\n",
    "\n"
   ]
  },
  {
   "cell_type": "code",
   "execution_count": 3,
   "metadata": {},
   "outputs": [],
   "source": [
    "import numpy as np\n",
    "import seaborn as sns\n",
    "import pandas as pd\n",
    "\n",
    "# stats functions:\n",
    "import pingouin as pg\n",
    "import scipy.stats as stats\n",
    "import statsmodels.formula.api as smf\n"
   ]
  },
  {
   "cell_type": "markdown",
   "metadata": {},
   "source": [
    " ### Paired t-tests"
   ]
  },
  {
   "cell_type": "markdown",
   "metadata": {},
   "source": [
    "For this problem we will use a sample dataset stored in the file `demo_and_data.csv`.\n",
    "\n",
    "The file contains data from a set of participants who participated in a study with two trial types: congruent and incongruent. Each row of the dataframe has data for one participant in either the congruent or incongruent trial_type condition. Each person completed both conditions so we have a within-person design.\n",
    "\n",
    "In addition to the `trial_type` column, the data includes the average percent correct for those trials (`acc`), the average response time (`RT`), the participant id (`uid`) and some demographic information."
   ]
  },
  {
   "cell_type": "markdown",
   "metadata": {},
   "source": [
    "#### Import pandas and load the data into a dataframe"
   ]
  },
  {
   "cell_type": "code",
   "execution_count": 8,
   "metadata": {},
   "outputs": [
    {
     "data": {
      "text/html": [
       "<div>\n",
       "<style scoped>\n",
       "    .dataframe tbody tr th:only-of-type {\n",
       "        vertical-align: middle;\n",
       "    }\n",
       "\n",
       "    .dataframe tbody tr th {\n",
       "        vertical-align: top;\n",
       "    }\n",
       "\n",
       "    .dataframe thead th {\n",
       "        text-align: right;\n",
       "    }\n",
       "</style>\n",
       "<table border=\"1\" class=\"dataframe\">\n",
       "  <thead>\n",
       "    <tr style=\"text-align: right;\">\n",
       "      <th></th>\n",
       "      <th>trial_type</th>\n",
       "      <th>acc</th>\n",
       "      <th>RT</th>\n",
       "      <th>uid</th>\n",
       "      <th>location</th>\n",
       "      <th>age_group</th>\n",
       "    </tr>\n",
       "  </thead>\n",
       "  <tbody>\n",
       "    <tr>\n",
       "      <th>0</th>\n",
       "      <td>congruent</td>\n",
       "      <td>0.46</td>\n",
       "      <td>1.221674</td>\n",
       "      <td>sub-496</td>\n",
       "      <td>urban</td>\n",
       "      <td>child</td>\n",
       "    </tr>\n",
       "    <tr>\n",
       "      <th>1</th>\n",
       "      <td>incongruent</td>\n",
       "      <td>0.52</td>\n",
       "      <td>1.891844</td>\n",
       "      <td>sub-496</td>\n",
       "      <td>urban</td>\n",
       "      <td>child</td>\n",
       "    </tr>\n",
       "    <tr>\n",
       "      <th>2</th>\n",
       "      <td>congruent</td>\n",
       "      <td>0.42</td>\n",
       "      <td>1.177773</td>\n",
       "      <td>sub-882</td>\n",
       "      <td>urban</td>\n",
       "      <td>child</td>\n",
       "    </tr>\n",
       "    <tr>\n",
       "      <th>3</th>\n",
       "      <td>incongruent</td>\n",
       "      <td>0.56</td>\n",
       "      <td>2.195114</td>\n",
       "      <td>sub-882</td>\n",
       "      <td>urban</td>\n",
       "      <td>child</td>\n",
       "    </tr>\n",
       "    <tr>\n",
       "      <th>4</th>\n",
       "      <td>congruent</td>\n",
       "      <td>0.42</td>\n",
       "      <td>1.356243</td>\n",
       "      <td>sub-265</td>\n",
       "      <td>urban</td>\n",
       "      <td>adult</td>\n",
       "    </tr>\n",
       "    <tr>\n",
       "      <th>...</th>\n",
       "      <td>...</td>\n",
       "      <td>...</td>\n",
       "      <td>...</td>\n",
       "      <td>...</td>\n",
       "      <td>...</td>\n",
       "      <td>...</td>\n",
       "    </tr>\n",
       "    <tr>\n",
       "      <th>95</th>\n",
       "      <td>incongruent</td>\n",
       "      <td>0.48</td>\n",
       "      <td>2.082495</td>\n",
       "      <td>sub-900</td>\n",
       "      <td>urban</td>\n",
       "      <td>adult</td>\n",
       "    </tr>\n",
       "    <tr>\n",
       "      <th>96</th>\n",
       "      <td>congruent</td>\n",
       "      <td>0.60</td>\n",
       "      <td>1.146174</td>\n",
       "      <td>sub-292</td>\n",
       "      <td>urban</td>\n",
       "      <td>child</td>\n",
       "    </tr>\n",
       "    <tr>\n",
       "      <th>97</th>\n",
       "      <td>incongruent</td>\n",
       "      <td>0.52</td>\n",
       "      <td>2.206634</td>\n",
       "      <td>sub-292</td>\n",
       "      <td>urban</td>\n",
       "      <td>child</td>\n",
       "    </tr>\n",
       "    <tr>\n",
       "      <th>98</th>\n",
       "      <td>congruent</td>\n",
       "      <td>0.58</td>\n",
       "      <td>1.163608</td>\n",
       "      <td>sub-366</td>\n",
       "      <td>urban</td>\n",
       "      <td>adult</td>\n",
       "    </tr>\n",
       "    <tr>\n",
       "      <th>99</th>\n",
       "      <td>incongruent</td>\n",
       "      <td>0.48</td>\n",
       "      <td>1.951114</td>\n",
       "      <td>sub-366</td>\n",
       "      <td>urban</td>\n",
       "      <td>adult</td>\n",
       "    </tr>\n",
       "  </tbody>\n",
       "</table>\n",
       "<p>100 rows × 6 columns</p>\n",
       "</div>"
      ],
      "text/plain": [
       "     trial_type   acc        RT      uid location age_group\n",
       "0     congruent  0.46  1.221674  sub-496    urban     child\n",
       "1   incongruent  0.52  1.891844  sub-496    urban     child\n",
       "2     congruent  0.42  1.177773  sub-882    urban     child\n",
       "3   incongruent  0.56  2.195114  sub-882    urban     child\n",
       "4     congruent  0.42  1.356243  sub-265    urban     adult\n",
       "..          ...   ...       ...      ...      ...       ...\n",
       "95  incongruent  0.48  2.082495  sub-900    urban     adult\n",
       "96    congruent  0.60  1.146174  sub-292    urban     child\n",
       "97  incongruent  0.52  2.206634  sub-292    urban     child\n",
       "98    congruent  0.58  1.163608  sub-366    urban     adult\n",
       "99  incongruent  0.48  1.951114  sub-366    urban     adult\n",
       "\n",
       "[100 rows x 6 columns]"
      ]
     },
     "execution_count": 8,
     "metadata": {},
     "output_type": "execute_result"
    }
   ],
   "source": [
    "# on my computer the data folder is one level up from where this\n",
    "# notebook is stored\n",
    "data_dir = '../data/'\n",
    "\n",
    "# load the csv file by combining it with it's path and passing to read_csv()\n",
    "df = pd.read_csv(data_dir + 'demo_and_data.csv')\n",
    "df"
   ]
  },
  {
   "cell_type": "markdown",
   "metadata": {},
   "source": [
    "#### Check the possible unique values of the trial_type column"
   ]
  },
  {
   "cell_type": "code",
   "execution_count": 9,
   "metadata": {},
   "outputs": [
    {
     "data": {
      "text/plain": [
       "array(['congruent', 'incongruent'], dtype=object)"
      ]
     },
     "execution_count": 9,
     "metadata": {},
     "output_type": "execute_result"
    }
   ],
   "source": [
    "df['trial_type'].unique()"
   ]
  },
  {
   "cell_type": "markdown",
   "metadata": {},
   "source": [
    "#### In preparation for running a t-test comparing RT values for each of the two trial_types in the dataframe we need to pull the RT data for each trial_type into their own variable.\n",
    "\n",
    "Use grouby() and get_group() to pull the data for each trial type into their own dataframes.\n",
    "\n",
    "If you loaded the data into a dataframe called df, then this code would give you a smaller dataframe for only those places where trial_type was 'congruent':\n",
    "\n",
    "```python\n",
    "cong_df = df.groupby('trial_type').get_group('congruent').copy()\n",
    "```\n",
    "\n",
    "#### Make two new dataframes, one that has the data for 'congruent' trial type and the other for 'incongruent' trial type:"
   ]
  },
  {
   "cell_type": "code",
   "execution_count": 11,
   "metadata": {},
   "outputs": [],
   "source": [
    "cong_df = df.groupby('trial_type').get_group('congruent').copy()\n",
    "incong_df = df.groupby('trial_type').get_group('incongruent').copy()"
   ]
  },
  {
   "cell_type": "code",
   "execution_count": 12,
   "metadata": {},
   "outputs": [],
   "source": [
    "# alternative approach using boolean indexing\n",
    "sel = df['trial_type']=='congruent'\n",
    "cong_df = df[sel]\n",
    "\n",
    "sel = df['trial_type']=='incongruent'\n",
    "incong_df = df[sel]\n"
   ]
  },
  {
   "cell_type": "code",
   "execution_count": 13,
   "metadata": {},
   "outputs": [
    {
     "data": {
      "text/html": [
       "<div>\n",
       "<style scoped>\n",
       "    .dataframe tbody tr th:only-of-type {\n",
       "        vertical-align: middle;\n",
       "    }\n",
       "\n",
       "    .dataframe tbody tr th {\n",
       "        vertical-align: top;\n",
       "    }\n",
       "\n",
       "    .dataframe thead th {\n",
       "        text-align: right;\n",
       "    }\n",
       "</style>\n",
       "<table border=\"1\" class=\"dataframe\">\n",
       "  <thead>\n",
       "    <tr style=\"text-align: right;\">\n",
       "      <th></th>\n",
       "      <th>trial_type</th>\n",
       "      <th>acc</th>\n",
       "      <th>RT</th>\n",
       "      <th>uid</th>\n",
       "      <th>location</th>\n",
       "      <th>age_group</th>\n",
       "    </tr>\n",
       "  </thead>\n",
       "  <tbody>\n",
       "    <tr>\n",
       "      <th>0</th>\n",
       "      <td>congruent</td>\n",
       "      <td>0.46</td>\n",
       "      <td>1.221674</td>\n",
       "      <td>sub-496</td>\n",
       "      <td>urban</td>\n",
       "      <td>child</td>\n",
       "    </tr>\n",
       "    <tr>\n",
       "      <th>2</th>\n",
       "      <td>congruent</td>\n",
       "      <td>0.42</td>\n",
       "      <td>1.177773</td>\n",
       "      <td>sub-882</td>\n",
       "      <td>urban</td>\n",
       "      <td>child</td>\n",
       "    </tr>\n",
       "    <tr>\n",
       "      <th>4</th>\n",
       "      <td>congruent</td>\n",
       "      <td>0.42</td>\n",
       "      <td>1.356243</td>\n",
       "      <td>sub-265</td>\n",
       "      <td>urban</td>\n",
       "      <td>adult</td>\n",
       "    </tr>\n",
       "    <tr>\n",
       "      <th>6</th>\n",
       "      <td>congruent</td>\n",
       "      <td>0.46</td>\n",
       "      <td>1.211723</td>\n",
       "      <td>sub-197</td>\n",
       "      <td>rural</td>\n",
       "      <td>adult</td>\n",
       "    </tr>\n",
       "    <tr>\n",
       "      <th>8</th>\n",
       "      <td>congruent</td>\n",
       "      <td>0.52</td>\n",
       "      <td>1.079626</td>\n",
       "      <td>sub-501</td>\n",
       "      <td>rural</td>\n",
       "      <td>adult</td>\n",
       "    </tr>\n",
       "  </tbody>\n",
       "</table>\n",
       "</div>"
      ],
      "text/plain": [
       "  trial_type   acc        RT      uid location age_group\n",
       "0  congruent  0.46  1.221674  sub-496    urban     child\n",
       "2  congruent  0.42  1.177773  sub-882    urban     child\n",
       "4  congruent  0.42  1.356243  sub-265    urban     adult\n",
       "6  congruent  0.46  1.211723  sub-197    rural     adult\n",
       "8  congruent  0.52  1.079626  sub-501    rural     adult"
      ]
     },
     "execution_count": 13,
     "metadata": {},
     "output_type": "execute_result"
    }
   ],
   "source": [
    "cong_df.head()"
   ]
  },
  {
   "cell_type": "code",
   "execution_count": 14,
   "metadata": {},
   "outputs": [
    {
     "data": {
      "text/html": [
       "<div>\n",
       "<style scoped>\n",
       "    .dataframe tbody tr th:only-of-type {\n",
       "        vertical-align: middle;\n",
       "    }\n",
       "\n",
       "    .dataframe tbody tr th {\n",
       "        vertical-align: top;\n",
       "    }\n",
       "\n",
       "    .dataframe thead th {\n",
       "        text-align: right;\n",
       "    }\n",
       "</style>\n",
       "<table border=\"1\" class=\"dataframe\">\n",
       "  <thead>\n",
       "    <tr style=\"text-align: right;\">\n",
       "      <th></th>\n",
       "      <th>trial_type</th>\n",
       "      <th>acc</th>\n",
       "      <th>RT</th>\n",
       "      <th>uid</th>\n",
       "      <th>location</th>\n",
       "      <th>age_group</th>\n",
       "    </tr>\n",
       "  </thead>\n",
       "  <tbody>\n",
       "    <tr>\n",
       "      <th>1</th>\n",
       "      <td>incongruent</td>\n",
       "      <td>0.52</td>\n",
       "      <td>1.891844</td>\n",
       "      <td>sub-496</td>\n",
       "      <td>urban</td>\n",
       "      <td>child</td>\n",
       "    </tr>\n",
       "    <tr>\n",
       "      <th>3</th>\n",
       "      <td>incongruent</td>\n",
       "      <td>0.56</td>\n",
       "      <td>2.195114</td>\n",
       "      <td>sub-882</td>\n",
       "      <td>urban</td>\n",
       "      <td>child</td>\n",
       "    </tr>\n",
       "    <tr>\n",
       "      <th>5</th>\n",
       "      <td>incongruent</td>\n",
       "      <td>0.66</td>\n",
       "      <td>1.977480</td>\n",
       "      <td>sub-265</td>\n",
       "      <td>urban</td>\n",
       "      <td>adult</td>\n",
       "    </tr>\n",
       "    <tr>\n",
       "      <th>7</th>\n",
       "      <td>incongruent</td>\n",
       "      <td>0.56</td>\n",
       "      <td>1.972873</td>\n",
       "      <td>sub-197</td>\n",
       "      <td>rural</td>\n",
       "      <td>adult</td>\n",
       "    </tr>\n",
       "    <tr>\n",
       "      <th>9</th>\n",
       "      <td>incongruent</td>\n",
       "      <td>0.52</td>\n",
       "      <td>2.102339</td>\n",
       "      <td>sub-501</td>\n",
       "      <td>rural</td>\n",
       "      <td>adult</td>\n",
       "    </tr>\n",
       "  </tbody>\n",
       "</table>\n",
       "</div>"
      ],
      "text/plain": [
       "    trial_type   acc        RT      uid location age_group\n",
       "1  incongruent  0.52  1.891844  sub-496    urban     child\n",
       "3  incongruent  0.56  2.195114  sub-882    urban     child\n",
       "5  incongruent  0.66  1.977480  sub-265    urban     adult\n",
       "7  incongruent  0.56  1.972873  sub-197    rural     adult\n",
       "9  incongruent  0.52  2.102339  sub-501    rural     adult"
      ]
     },
     "execution_count": 14,
     "metadata": {},
     "output_type": "execute_result"
    }
   ],
   "source": [
    "incong_df.head()"
   ]
  },
  {
   "cell_type": "markdown",
   "metadata": {},
   "source": [
    "#### Sort the data\n",
    "\n",
    "We have RT data for each participant in the two trial types. To compare these RT values between conditions we can do a t-test. \n",
    "\n",
    "Our data are paired: we have both measurements for each person, so we will want to run a paired t-test. \n",
    "\n",
    "The paired t-test assumes that the numbers that we give it are lined up within pair, so we need to make sure that the two dataframes we created in P1-B are in the same `uid` order.\n",
    "\n",
    "Use the pandas dataframe sort_values() function. This function will take in a column name to sort by, and you should include an inplace=True argument to preserve the changes being made to the dataframe.\n",
    "\n",
    "\n",
    "This code will sort the rows in a dataframe called df based on the values in 'column_name' and the sorted dataframe will be the new version (due to inplace=True)\n",
    "\n",
    "```python\n",
    "df.sort_values('column_name',inplace=True)\n",
    "```"
   ]
  },
  {
   "cell_type": "code",
   "execution_count": 17,
   "metadata": {},
   "outputs": [
    {
     "name": "stderr",
     "output_type": "stream",
     "text": [
      "/opt/anaconda3/lib/python3.8/site-packages/pandas/util/_decorators.py:311: SettingWithCopyWarning: \n",
      "A value is trying to be set on a copy of a slice from a DataFrame\n",
      "\n",
      "See the caveats in the documentation: https://pandas.pydata.org/pandas-docs/stable/user_guide/indexing.html#returning-a-view-versus-a-copy\n",
      "  return func(*args, **kwargs)\n"
     ]
    },
    {
     "data": {
      "text/html": [
       "<div>\n",
       "<style scoped>\n",
       "    .dataframe tbody tr th:only-of-type {\n",
       "        vertical-align: middle;\n",
       "    }\n",
       "\n",
       "    .dataframe tbody tr th {\n",
       "        vertical-align: top;\n",
       "    }\n",
       "\n",
       "    .dataframe thead th {\n",
       "        text-align: right;\n",
       "    }\n",
       "</style>\n",
       "<table border=\"1\" class=\"dataframe\">\n",
       "  <thead>\n",
       "    <tr style=\"text-align: right;\">\n",
       "      <th></th>\n",
       "      <th>trial_type</th>\n",
       "      <th>acc</th>\n",
       "      <th>RT</th>\n",
       "      <th>uid</th>\n",
       "      <th>location</th>\n",
       "      <th>age_group</th>\n",
       "    </tr>\n",
       "  </thead>\n",
       "  <tbody>\n",
       "    <tr>\n",
       "      <th>69</th>\n",
       "      <td>incongruent</td>\n",
       "      <td>0.46</td>\n",
       "      <td>2.005256</td>\n",
       "      <td>sub-103</td>\n",
       "      <td>urban</td>\n",
       "      <td>adult</td>\n",
       "    </tr>\n",
       "    <tr>\n",
       "      <th>63</th>\n",
       "      <td>incongruent</td>\n",
       "      <td>0.48</td>\n",
       "      <td>2.241769</td>\n",
       "      <td>sub-116</td>\n",
       "      <td>urban</td>\n",
       "      <td>adult</td>\n",
       "    </tr>\n",
       "    <tr>\n",
       "      <th>27</th>\n",
       "      <td>incongruent</td>\n",
       "      <td>0.38</td>\n",
       "      <td>1.981894</td>\n",
       "      <td>sub-12</td>\n",
       "      <td>urban</td>\n",
       "      <td>adult</td>\n",
       "    </tr>\n",
       "    <tr>\n",
       "      <th>17</th>\n",
       "      <td>incongruent</td>\n",
       "      <td>0.54</td>\n",
       "      <td>2.027019</td>\n",
       "      <td>sub-129</td>\n",
       "      <td>rural</td>\n",
       "      <td>adult</td>\n",
       "    </tr>\n",
       "    <tr>\n",
       "      <th>73</th>\n",
       "      <td>incongruent</td>\n",
       "      <td>0.52</td>\n",
       "      <td>2.203529</td>\n",
       "      <td>sub-137</td>\n",
       "      <td>rural</td>\n",
       "      <td>adult</td>\n",
       "    </tr>\n",
       "  </tbody>\n",
       "</table>\n",
       "</div>"
      ],
      "text/plain": [
       "     trial_type   acc        RT      uid location age_group\n",
       "69  incongruent  0.46  2.005256  sub-103    urban     adult\n",
       "63  incongruent  0.48  2.241769  sub-116    urban     adult\n",
       "27  incongruent  0.38  1.981894   sub-12    urban     adult\n",
       "17  incongruent  0.54  2.027019  sub-129    rural     adult\n",
       "73  incongruent  0.52  2.203529  sub-137    rural     adult"
      ]
     },
     "execution_count": 17,
     "metadata": {},
     "output_type": "execute_result"
    }
   ],
   "source": [
    "cong_df.sort_values('uid', inplace=True)\n",
    "incong_df.sort_values('uid', inplace=True)\n",
    "incong_df.head()"
   ]
  },
  {
   "cell_type": "markdown",
   "metadata": {},
   "source": [
    "#### Use pinguoin (imported as pg) to run a paired t-test comparing the 'RT' in the congruent to the incongruent trials.\n",
    "\n",
    "the syntax is like this:\n",
    "\n",
    "```python\n",
    "pg.ttest(x=some_data, y=some_other_data, paired=True)\n",
    "```\n",
    "\n",
    "\n",
    "The x= and y= arguments are the sets of paired measurements we are comparing. Previously you pulled the congruent and incongruent into different data frames. So you can point x and y to the 'RT' column in those two dataframes."
   ]
  },
  {
   "cell_type": "code",
   "execution_count": 22,
   "metadata": {},
   "outputs": [
    {
     "data": {
      "text/html": [
       "<div>\n",
       "<style scoped>\n",
       "    .dataframe tbody tr th:only-of-type {\n",
       "        vertical-align: middle;\n",
       "    }\n",
       "\n",
       "    .dataframe tbody tr th {\n",
       "        vertical-align: top;\n",
       "    }\n",
       "\n",
       "    .dataframe thead th {\n",
       "        text-align: right;\n",
       "    }\n",
       "</style>\n",
       "<table border=\"1\" class=\"dataframe\">\n",
       "  <thead>\n",
       "    <tr style=\"text-align: right;\">\n",
       "      <th></th>\n",
       "      <th>T</th>\n",
       "      <th>dof</th>\n",
       "      <th>alternative</th>\n",
       "      <th>p-val</th>\n",
       "      <th>CI95%</th>\n",
       "      <th>cohen-d</th>\n",
       "      <th>BF10</th>\n",
       "      <th>power</th>\n",
       "    </tr>\n",
       "  </thead>\n",
       "  <tbody>\n",
       "    <tr>\n",
       "      <th>T-test</th>\n",
       "      <td>-35.414501</td>\n",
       "      <td>49</td>\n",
       "      <td>two-sided</td>\n",
       "      <td>1.428093e-36</td>\n",
       "      <td>[-0.92, -0.82]</td>\n",
       "      <td>6.803012</td>\n",
       "      <td>1.329e+33</td>\n",
       "      <td>1.0</td>\n",
       "    </tr>\n",
       "  </tbody>\n",
       "</table>\n",
       "</div>"
      ],
      "text/plain": [
       "                T  dof alternative         p-val           CI95%   cohen-d  \\\n",
       "T-test -35.414501   49   two-sided  1.428093e-36  [-0.92, -0.82]  6.803012   \n",
       "\n",
       "             BF10  power  \n",
       "T-test  1.329e+33    1.0  "
      ]
     },
     "execution_count": 22,
     "metadata": {},
     "output_type": "execute_result"
    }
   ],
   "source": [
    "# your t-test code goes here\n",
    "\n",
    "t_results = pg.ttest(x=cong_df['RT'], y=incong_df['RT'], paired=True)\n",
    "\n",
    "t_results"
   ]
  },
  {
   "cell_type": "code",
   "execution_count": 26,
   "metadata": {},
   "outputs": [
    {
     "name": "stdout",
     "output_type": "stream",
     "text": [
      "The t-test indicated a significant difference: t(49)=-35.415, p < .05\n"
     ]
    }
   ],
   "source": [
    "tval = t_results['T'][0]\n",
    "dof =  t_results['dof'][0]\n",
    "p = t_results['p-val'][0]\n",
    "\n",
    "# round t and p to three decimal places\n",
    "tval = np.round(tval, 3)\n",
    "p = np.round(p, 3)\n",
    "\n",
    "alpha = .05\n",
    "if p < alpha:\n",
    "    print(f'The t-test indicated a significant difference: t({dof})={tval}, p < .05')\n",
    "else:\n",
    "    print(f'The t-test indicated no significant difference: t({dof})={tval}, p = {p}')"
   ]
  },
  {
   "cell_type": "markdown",
   "metadata": {},
   "source": [
    "\n",
    "#### The dataset includes children and we'd like to know if they could perform the task better than random. The `acc` column gives the average percent correct for each person, and .5 means they were not performing better than random chance.\n",
    "    \n",
    "Run a one-sample t-test comparing the `acc` for children in the dataset against a comparison value of .5\n",
    "    \n",
    "You will need to find a way to get just the parts of the dataframe where age_group is 'child'. In your answer you should report whether the childrens accuracy was significantly different from .5\n",
    "\n",
    "\n",
    "Pingouin one-sample t-test:\n",
    "\n",
    "```python\n",
    "pg.ttest(x=some_numbers, y=population_mean)\n",
    "```\n",
    "\n",
    "x is an array of numbers and the one-sample t-test assess whether they were likely to be random samples from a distribution with a mean value as specified in the y= input"
   ]
  },
  {
   "cell_type": "code",
   "execution_count": 33,
   "metadata": {},
   "outputs": [
    {
     "name": "stdout",
     "output_type": "stream",
     "text": [
      "0     0.46\n",
      "1     0.52\n",
      "2     0.42\n",
      "3     0.56\n",
      "12    0.46\n",
      "13    0.62\n",
      "14    0.50\n",
      "15    0.48\n",
      "18    0.52\n",
      "19    0.52\n",
      "20    0.46\n",
      "21    0.54\n",
      "22    0.44\n",
      "23    0.46\n",
      "28    0.50\n",
      "29    0.50\n",
      "30    0.54\n",
      "31    0.48\n",
      "36    0.42\n",
      "37    0.56\n",
      "42    0.48\n",
      "43    0.48\n",
      "46    0.42\n",
      "47    0.62\n",
      "48    0.46\n",
      "49    0.46\n",
      "56    0.46\n",
      "57    0.44\n",
      "66    0.64\n",
      "67    0.56\n",
      "74    0.54\n",
      "75    0.42\n",
      "76    0.52\n",
      "77    0.66\n",
      "80    0.48\n",
      "81    0.48\n",
      "84    0.48\n",
      "85    0.42\n",
      "96    0.60\n",
      "97    0.52\n",
      "Name: acc, dtype: float64\n"
     ]
    },
    {
     "data": {
      "text/plain": [
       "40"
      ]
     },
     "execution_count": 33,
     "metadata": {},
     "output_type": "execute_result"
    }
   ],
   "source": [
    "# pull data for just the kids\n",
    "sel = df['age_group']=='child'\n",
    "\n",
    "child_acc = df[sel]['acc']\n",
    "print(child_acc)\n",
    "len(child_acc)"
   ]
  },
  {
   "cell_type": "code",
   "execution_count": 34,
   "metadata": {},
   "outputs": [
    {
     "data": {
      "text/html": [
       "<div>\n",
       "<style scoped>\n",
       "    .dataframe tbody tr th:only-of-type {\n",
       "        vertical-align: middle;\n",
       "    }\n",
       "\n",
       "    .dataframe tbody tr th {\n",
       "        vertical-align: top;\n",
       "    }\n",
       "\n",
       "    .dataframe thead th {\n",
       "        text-align: right;\n",
       "    }\n",
       "</style>\n",
       "<table border=\"1\" class=\"dataframe\">\n",
       "  <thead>\n",
       "    <tr style=\"text-align: right;\">\n",
       "      <th></th>\n",
       "      <th>T</th>\n",
       "      <th>dof</th>\n",
       "      <th>alternative</th>\n",
       "      <th>p-val</th>\n",
       "      <th>CI95%</th>\n",
       "      <th>cohen-d</th>\n",
       "      <th>BF10</th>\n",
       "      <th>power</th>\n",
       "    </tr>\n",
       "  </thead>\n",
       "  <tbody>\n",
       "    <tr>\n",
       "      <th>T-test</th>\n",
       "      <td>0.25117</td>\n",
       "      <td>39</td>\n",
       "      <td>two-sided</td>\n",
       "      <td>0.803001</td>\n",
       "      <td>[0.48, 0.52]</td>\n",
       "      <td>0.039713</td>\n",
       "      <td>0.176</td>\n",
       "      <td>0.056907</td>\n",
       "    </tr>\n",
       "  </tbody>\n",
       "</table>\n",
       "</div>"
      ],
      "text/plain": [
       "              T  dof alternative     p-val         CI95%   cohen-d   BF10  \\\n",
       "T-test  0.25117   39   two-sided  0.803001  [0.48, 0.52]  0.039713  0.176   \n",
       "\n",
       "           power  \n",
       "T-test  0.056907  "
      ]
     },
     "execution_count": 34,
     "metadata": {},
     "output_type": "execute_result"
    }
   ],
   "source": [
    "# run a one-sample t-test comparing the kids accuracy scores (0 to 1) against random\n",
    "# chance or guess rate of .5\n",
    "\n",
    "pop_mean = .5\n",
    "\n",
    "one_sample_results = pg.ttest(x=child_acc, y=pop_mean)\n",
    "\n",
    "one_sample_results"
   ]
  },
  {
   "cell_type": "markdown",
   "metadata": {},
   "source": [
    "## Covid dataset\n",
    "\n",
    "The _nyc_covid.csv_ file has data for the following variables:\n",
    "\n",
    "\n",
    "- zip: the zip code where the data were collected\n",
    "- borough: the borough where the zip code is located\t\n",
    "- neighborhood: the neighborhood where the zip code is located\t\t\n",
    "- deathper100k: covid deaths per 100k people in this zip code\t\n",
    "- whitepct: percent of population identified as white in this zip code\n",
    "- medianincome: median income level across people in this zip code\t\n",
    "- asthmapct: percent of people in this zip code with athsma\n",
    "- popdens: population density in this zip code\t\n",
    "- medianage: median age in this zip code\t\n",
    "- housesize: average number of people per household in this zipcode"
   ]
  },
  {
   "cell_type": "markdown",
   "metadata": {},
   "source": [
    "#### Load the covid data into a dataframe and get the descriptive statistics for each borough in the dataset. \n",
    "\n",
    "Hint: use groupby() with 'borough'"
   ]
  },
  {
   "cell_type": "code",
   "execution_count": 38,
   "metadata": {},
   "outputs": [
    {
     "data": {
      "text/html": [
       "<div>\n",
       "<style scoped>\n",
       "    .dataframe tbody tr th:only-of-type {\n",
       "        vertical-align: middle;\n",
       "    }\n",
       "\n",
       "    .dataframe tbody tr th {\n",
       "        vertical-align: top;\n",
       "    }\n",
       "\n",
       "    .dataframe thead th {\n",
       "        text-align: right;\n",
       "    }\n",
       "</style>\n",
       "<table border=\"1\" class=\"dataframe\">\n",
       "  <thead>\n",
       "    <tr style=\"text-align: right;\">\n",
       "      <th></th>\n",
       "      <th>zip</th>\n",
       "      <th>borough</th>\n",
       "      <th>neighborhood</th>\n",
       "      <th>deathper100k</th>\n",
       "      <th>whitepct</th>\n",
       "      <th>medianincome</th>\n",
       "      <th>asthmapct</th>\n",
       "      <th>popdens</th>\n",
       "      <th>medianage</th>\n",
       "      <th>housesize</th>\n",
       "    </tr>\n",
       "  </thead>\n",
       "  <tbody>\n",
       "    <tr>\n",
       "      <th>0</th>\n",
       "      <td>10001</td>\n",
       "      <td>Manhattan</td>\n",
       "      <td>Chelsea/NoMad/West Chelsea</td>\n",
       "      <td>94.16</td>\n",
       "      <td>62.91</td>\n",
       "      <td>88526</td>\n",
       "      <td>9.6</td>\n",
       "      <td>37291.65</td>\n",
       "      <td>37</td>\n",
       "      <td>1.76</td>\n",
       "    </tr>\n",
       "    <tr>\n",
       "      <th>1</th>\n",
       "      <td>10002</td>\n",
       "      <td>Manhattan</td>\n",
       "      <td>Chinatown/Lower East Side</td>\n",
       "      <td>252.25</td>\n",
       "      <td>32.23</td>\n",
       "      <td>35859</td>\n",
       "      <td>9.2</td>\n",
       "      <td>85336.07</td>\n",
       "      <td>44</td>\n",
       "      <td>2.18</td>\n",
       "    </tr>\n",
       "    <tr>\n",
       "      <th>2</th>\n",
       "      <td>10003</td>\n",
       "      <td>Manhattan</td>\n",
       "      <td>East Village/Gramercy/Greenwich Village</td>\n",
       "      <td>68.55</td>\n",
       "      <td>75.91</td>\n",
       "      <td>112131</td>\n",
       "      <td>10.1</td>\n",
       "      <td>94859.59</td>\n",
       "      <td>32</td>\n",
       "      <td>1.70</td>\n",
       "    </tr>\n",
       "    <tr>\n",
       "      <th>3</th>\n",
       "      <td>10004</td>\n",
       "      <td>Manhattan</td>\n",
       "      <td>Financial District</td>\n",
       "      <td>67.29</td>\n",
       "      <td>62.81</td>\n",
       "      <td>157645</td>\n",
       "      <td>9.2</td>\n",
       "      <td>5554.12</td>\n",
       "      <td>37</td>\n",
       "      <td>1.82</td>\n",
       "    </tr>\n",
       "    <tr>\n",
       "      <th>4</th>\n",
       "      <td>10005</td>\n",
       "      <td>Manhattan</td>\n",
       "      <td>Financial District</td>\n",
       "      <td>0.00</td>\n",
       "      <td>73.42</td>\n",
       "      <td>173333</td>\n",
       "      <td>9.4</td>\n",
       "      <td>121496.87</td>\n",
       "      <td>30</td>\n",
       "      <td>2.02</td>\n",
       "    </tr>\n",
       "  </tbody>\n",
       "</table>\n",
       "</div>"
      ],
      "text/plain": [
       "     zip    borough                             neighborhood  deathper100k  \\\n",
       "0  10001  Manhattan               Chelsea/NoMad/West Chelsea         94.16   \n",
       "1  10002  Manhattan                Chinatown/Lower East Side        252.25   \n",
       "2  10003  Manhattan  East Village/Gramercy/Greenwich Village         68.55   \n",
       "3  10004  Manhattan                       Financial District         67.29   \n",
       "4  10005  Manhattan                       Financial District          0.00   \n",
       "\n",
       "   whitepct  medianincome  asthmapct    popdens  medianage  housesize  \n",
       "0     62.91         88526        9.6   37291.65         37       1.76  \n",
       "1     32.23         35859        9.2   85336.07         44       2.18  \n",
       "2     75.91        112131       10.1   94859.59         32       1.70  \n",
       "3     62.81        157645        9.2    5554.12         37       1.82  \n",
       "4     73.42        173333        9.4  121496.87         30       2.02  "
      ]
     },
     "execution_count": 38,
     "metadata": {},
     "output_type": "execute_result"
    }
   ],
   "source": [
    "# load the data, get descriptive stats for each borough\n",
    "data_dir = '../data/'\n",
    "fname = 'nyc_covid.csv'\n",
    "\n",
    "cov_df = pd.read_csv(data_dir+fname)\n",
    "cov_df.head()"
   ]
  },
  {
   "cell_type": "code",
   "execution_count": 39,
   "metadata": {},
   "outputs": [
    {
     "data": {
      "text/html": [
       "<div>\n",
       "<style scoped>\n",
       "    .dataframe tbody tr th:only-of-type {\n",
       "        vertical-align: middle;\n",
       "    }\n",
       "\n",
       "    .dataframe tbody tr th {\n",
       "        vertical-align: top;\n",
       "    }\n",
       "\n",
       "    .dataframe thead tr th {\n",
       "        text-align: left;\n",
       "    }\n",
       "\n",
       "    .dataframe thead tr:last-of-type th {\n",
       "        text-align: right;\n",
       "    }\n",
       "</style>\n",
       "<table border=\"1\" class=\"dataframe\">\n",
       "  <thead>\n",
       "    <tr>\n",
       "      <th></th>\n",
       "      <th colspan=\"8\" halign=\"left\">zip</th>\n",
       "      <th colspan=\"2\" halign=\"left\">deathper100k</th>\n",
       "      <th>...</th>\n",
       "      <th colspan=\"2\" halign=\"left\">medianage</th>\n",
       "      <th colspan=\"8\" halign=\"left\">housesize</th>\n",
       "    </tr>\n",
       "    <tr>\n",
       "      <th></th>\n",
       "      <th>count</th>\n",
       "      <th>mean</th>\n",
       "      <th>std</th>\n",
       "      <th>min</th>\n",
       "      <th>25%</th>\n",
       "      <th>50%</th>\n",
       "      <th>75%</th>\n",
       "      <th>max</th>\n",
       "      <th>count</th>\n",
       "      <th>mean</th>\n",
       "      <th>...</th>\n",
       "      <th>75%</th>\n",
       "      <th>max</th>\n",
       "      <th>count</th>\n",
       "      <th>mean</th>\n",
       "      <th>std</th>\n",
       "      <th>min</th>\n",
       "      <th>25%</th>\n",
       "      <th>50%</th>\n",
       "      <th>75%</th>\n",
       "      <th>max</th>\n",
       "    </tr>\n",
       "    <tr>\n",
       "      <th>borough</th>\n",
       "      <th></th>\n",
       "      <th></th>\n",
       "      <th></th>\n",
       "      <th></th>\n",
       "      <th></th>\n",
       "      <th></th>\n",
       "      <th></th>\n",
       "      <th></th>\n",
       "      <th></th>\n",
       "      <th></th>\n",
       "      <th></th>\n",
       "      <th></th>\n",
       "      <th></th>\n",
       "      <th></th>\n",
       "      <th></th>\n",
       "      <th></th>\n",
       "      <th></th>\n",
       "      <th></th>\n",
       "      <th></th>\n",
       "      <th></th>\n",
       "      <th></th>\n",
       "    </tr>\n",
       "  </thead>\n",
       "  <tbody>\n",
       "    <tr>\n",
       "      <th>Bronx</th>\n",
       "      <td>25.0</td>\n",
       "      <td>10463.000000</td>\n",
       "      <td>7.359801</td>\n",
       "      <td>10451.0</td>\n",
       "      <td>10457.00</td>\n",
       "      <td>10463.0</td>\n",
       "      <td>10469.00</td>\n",
       "      <td>10475.0</td>\n",
       "      <td>25.0</td>\n",
       "      <td>303.849200</td>\n",
       "      <td>...</td>\n",
       "      <td>40.00</td>\n",
       "      <td>45.0</td>\n",
       "      <td>25.0</td>\n",
       "      <td>2.761200</td>\n",
       "      <td>0.281000</td>\n",
       "      <td>2.18</td>\n",
       "      <td>2.5900</td>\n",
       "      <td>2.850</td>\n",
       "      <td>2.9300</td>\n",
       "      <td>3.18</td>\n",
       "    </tr>\n",
       "    <tr>\n",
       "      <th>Brooklyn</th>\n",
       "      <td>37.0</td>\n",
       "      <td>11220.297297</td>\n",
       "      <td>11.259230</td>\n",
       "      <td>11201.0</td>\n",
       "      <td>11211.00</td>\n",
       "      <td>11220.0</td>\n",
       "      <td>11230.00</td>\n",
       "      <td>11239.0</td>\n",
       "      <td>37.0</td>\n",
       "      <td>256.783784</td>\n",
       "      <td>...</td>\n",
       "      <td>38.00</td>\n",
       "      <td>47.0</td>\n",
       "      <td>37.0</td>\n",
       "      <td>2.673243</td>\n",
       "      <td>0.375293</td>\n",
       "      <td>1.95</td>\n",
       "      <td>2.4100</td>\n",
       "      <td>2.680</td>\n",
       "      <td>2.9200</td>\n",
       "      <td>3.64</td>\n",
       "    </tr>\n",
       "    <tr>\n",
       "      <th>Manhattan</th>\n",
       "      <td>44.0</td>\n",
       "      <td>10039.090909</td>\n",
       "      <td>58.083668</td>\n",
       "      <td>10001.0</td>\n",
       "      <td>10012.75</td>\n",
       "      <td>10025.5</td>\n",
       "      <td>10036.25</td>\n",
       "      <td>10282.0</td>\n",
       "      <td>44.0</td>\n",
       "      <td>154.007955</td>\n",
       "      <td>...</td>\n",
       "      <td>40.00</td>\n",
       "      <td>48.0</td>\n",
       "      <td>44.0</td>\n",
       "      <td>2.081818</td>\n",
       "      <td>0.359989</td>\n",
       "      <td>1.57</td>\n",
       "      <td>1.8275</td>\n",
       "      <td>2.005</td>\n",
       "      <td>2.2775</td>\n",
       "      <td>2.99</td>\n",
       "    </tr>\n",
       "    <tr>\n",
       "      <th>Queens</th>\n",
       "      <td>59.0</td>\n",
       "      <td>11378.135593</td>\n",
       "      <td>144.541422</td>\n",
       "      <td>11004.0</td>\n",
       "      <td>11361.50</td>\n",
       "      <td>11378.0</td>\n",
       "      <td>11422.50</td>\n",
       "      <td>11697.0</td>\n",
       "      <td>59.0</td>\n",
       "      <td>274.831017</td>\n",
       "      <td>...</td>\n",
       "      <td>43.00</td>\n",
       "      <td>49.0</td>\n",
       "      <td>59.0</td>\n",
       "      <td>2.934915</td>\n",
       "      <td>0.481808</td>\n",
       "      <td>2.02</td>\n",
       "      <td>2.6000</td>\n",
       "      <td>2.940</td>\n",
       "      <td>3.2850</td>\n",
       "      <td>3.97</td>\n",
       "    </tr>\n",
       "    <tr>\n",
       "      <th>Staten Island</th>\n",
       "      <td>12.0</td>\n",
       "      <td>10306.750000</td>\n",
       "      <td>4.025487</td>\n",
       "      <td>10301.0</td>\n",
       "      <td>10303.75</td>\n",
       "      <td>10306.5</td>\n",
       "      <td>10309.25</td>\n",
       "      <td>10314.0</td>\n",
       "      <td>12.0</td>\n",
       "      <td>239.822500</td>\n",
       "      <td>...</td>\n",
       "      <td>41.25</td>\n",
       "      <td>44.0</td>\n",
       "      <td>12.0</td>\n",
       "      <td>2.832500</td>\n",
       "      <td>0.156967</td>\n",
       "      <td>2.52</td>\n",
       "      <td>2.8075</td>\n",
       "      <td>2.840</td>\n",
       "      <td>2.8875</td>\n",
       "      <td>3.16</td>\n",
       "    </tr>\n",
       "  </tbody>\n",
       "</table>\n",
       "<p>5 rows × 64 columns</p>\n",
       "</div>"
      ],
      "text/plain": [
       "                zip                                                        \\\n",
       "              count          mean         std      min       25%      50%   \n",
       "borough                                                                     \n",
       "Bronx          25.0  10463.000000    7.359801  10451.0  10457.00  10463.0   \n",
       "Brooklyn       37.0  11220.297297   11.259230  11201.0  11211.00  11220.0   \n",
       "Manhattan      44.0  10039.090909   58.083668  10001.0  10012.75  10025.5   \n",
       "Queens         59.0  11378.135593  144.541422  11004.0  11361.50  11378.0   \n",
       "Staten Island  12.0  10306.750000    4.025487  10301.0  10303.75  10306.5   \n",
       "\n",
       "                                 deathper100k              ... medianage  \\\n",
       "                    75%      max        count        mean  ...       75%   \n",
       "borough                                                    ...             \n",
       "Bronx          10469.00  10475.0         25.0  303.849200  ...     40.00   \n",
       "Brooklyn       11230.00  11239.0         37.0  256.783784  ...     38.00   \n",
       "Manhattan      10036.25  10282.0         44.0  154.007955  ...     40.00   \n",
       "Queens         11422.50  11697.0         59.0  274.831017  ...     43.00   \n",
       "Staten Island  10309.25  10314.0         12.0  239.822500  ...     41.25   \n",
       "\n",
       "                    housesize                                           \\\n",
       "                max     count      mean       std   min     25%    50%   \n",
       "borough                                                                  \n",
       "Bronx          45.0      25.0  2.761200  0.281000  2.18  2.5900  2.850   \n",
       "Brooklyn       47.0      37.0  2.673243  0.375293  1.95  2.4100  2.680   \n",
       "Manhattan      48.0      44.0  2.081818  0.359989  1.57  1.8275  2.005   \n",
       "Queens         49.0      59.0  2.934915  0.481808  2.02  2.6000  2.940   \n",
       "Staten Island  44.0      12.0  2.832500  0.156967  2.52  2.8075  2.840   \n",
       "\n",
       "                             \n",
       "                  75%   max  \n",
       "borough                      \n",
       "Bronx          2.9300  3.18  \n",
       "Brooklyn       2.9200  3.64  \n",
       "Manhattan      2.2775  2.99  \n",
       "Queens         3.2850  3.97  \n",
       "Staten Island  2.8875  3.16  \n",
       "\n",
       "[5 rows x 64 columns]"
      ]
     },
     "execution_count": 39,
     "metadata": {},
     "output_type": "execute_result"
    }
   ],
   "source": [
    "# get descriptive stats after grouping by borough\n",
    "cov_df.groupby('borough').describe()"
   ]
  },
  {
   "cell_type": "code",
   "execution_count": 42,
   "metadata": {},
   "outputs": [
    {
     "data": {
      "text/html": [
       "<div>\n",
       "<style scoped>\n",
       "    .dataframe tbody tr th:only-of-type {\n",
       "        vertical-align: middle;\n",
       "    }\n",
       "\n",
       "    .dataframe tbody tr th {\n",
       "        vertical-align: top;\n",
       "    }\n",
       "\n",
       "    .dataframe thead th {\n",
       "        text-align: right;\n",
       "    }\n",
       "</style>\n",
       "<table border=\"1\" class=\"dataframe\">\n",
       "  <thead>\n",
       "    <tr style=\"text-align: right;\">\n",
       "      <th></th>\n",
       "      <th>count</th>\n",
       "      <th>mean</th>\n",
       "      <th>std</th>\n",
       "      <th>min</th>\n",
       "      <th>25%</th>\n",
       "      <th>50%</th>\n",
       "      <th>75%</th>\n",
       "      <th>max</th>\n",
       "    </tr>\n",
       "    <tr>\n",
       "      <th>borough</th>\n",
       "      <th></th>\n",
       "      <th></th>\n",
       "      <th></th>\n",
       "      <th></th>\n",
       "      <th></th>\n",
       "      <th></th>\n",
       "      <th></th>\n",
       "      <th></th>\n",
       "    </tr>\n",
       "  </thead>\n",
       "  <tbody>\n",
       "    <tr>\n",
       "      <th>Bronx</th>\n",
       "      <td>25.0</td>\n",
       "      <td>2.761200</td>\n",
       "      <td>0.281000</td>\n",
       "      <td>2.18</td>\n",
       "      <td>2.5900</td>\n",
       "      <td>2.850</td>\n",
       "      <td>2.9300</td>\n",
       "      <td>3.18</td>\n",
       "    </tr>\n",
       "    <tr>\n",
       "      <th>Brooklyn</th>\n",
       "      <td>37.0</td>\n",
       "      <td>2.673243</td>\n",
       "      <td>0.375293</td>\n",
       "      <td>1.95</td>\n",
       "      <td>2.4100</td>\n",
       "      <td>2.680</td>\n",
       "      <td>2.9200</td>\n",
       "      <td>3.64</td>\n",
       "    </tr>\n",
       "    <tr>\n",
       "      <th>Manhattan</th>\n",
       "      <td>44.0</td>\n",
       "      <td>2.081818</td>\n",
       "      <td>0.359989</td>\n",
       "      <td>1.57</td>\n",
       "      <td>1.8275</td>\n",
       "      <td>2.005</td>\n",
       "      <td>2.2775</td>\n",
       "      <td>2.99</td>\n",
       "    </tr>\n",
       "    <tr>\n",
       "      <th>Queens</th>\n",
       "      <td>59.0</td>\n",
       "      <td>2.934915</td>\n",
       "      <td>0.481808</td>\n",
       "      <td>2.02</td>\n",
       "      <td>2.6000</td>\n",
       "      <td>2.940</td>\n",
       "      <td>3.2850</td>\n",
       "      <td>3.97</td>\n",
       "    </tr>\n",
       "    <tr>\n",
       "      <th>Staten Island</th>\n",
       "      <td>12.0</td>\n",
       "      <td>2.832500</td>\n",
       "      <td>0.156967</td>\n",
       "      <td>2.52</td>\n",
       "      <td>2.8075</td>\n",
       "      <td>2.840</td>\n",
       "      <td>2.8875</td>\n",
       "      <td>3.16</td>\n",
       "    </tr>\n",
       "  </tbody>\n",
       "</table>\n",
       "</div>"
      ],
      "text/plain": [
       "               count      mean       std   min     25%    50%     75%   max\n",
       "borough                                                                    \n",
       "Bronx           25.0  2.761200  0.281000  2.18  2.5900  2.850  2.9300  3.18\n",
       "Brooklyn        37.0  2.673243  0.375293  1.95  2.4100  2.680  2.9200  3.64\n",
       "Manhattan       44.0  2.081818  0.359989  1.57  1.8275  2.005  2.2775  2.99\n",
       "Queens          59.0  2.934915  0.481808  2.02  2.6000  2.940  3.2850  3.97\n",
       "Staten Island   12.0  2.832500  0.156967  2.52  2.8075  2.840  2.8875  3.16"
      ]
     },
     "execution_count": 42,
     "metadata": {},
     "output_type": "execute_result"
    }
   ],
   "source": [
    "# do descriptive stats for just one column\n",
    "# get descriptive stats after grouping by borough\n",
    "cov_df.groupby('borough')['housesize'].describe()"
   ]
  },
  {
   "cell_type": "code",
   "execution_count": 45,
   "metadata": {},
   "outputs": [
    {
     "data": {
      "text/plain": [
       "<seaborn.axisgrid.FacetGrid at 0x7fb4324f4490>"
      ]
     },
     "execution_count": 45,
     "metadata": {},
     "output_type": "execute_result"
    },
    {
     "data": {
      "image/png": "[encoded data removed]",
      "text/plain": [
       "<Figure size 360x360 with 1 Axes>"
      ]
     },
     "metadata": {
      "needs_background": "light"
     },
     "output_type": "display_data"
    }
   ],
   "source": [
    "# make a bar plot to vizualize housesize (how many people per household) in each borough\n",
    "import seaborn as sns\n",
    "\n",
    "sns.catplot(x='borough', \n",
    "            y='housesize', \n",
    "            data=cov_df, \n",
    "            kind='bar')"
   ]
  },
  {
   "cell_type": "markdown",
   "metadata": {},
   "source": [
    "#### use the unique() method to find out which possible values appear in the 'borough' column"
   ]
  },
  {
   "cell_type": "code",
   "execution_count": 37,
   "metadata": {},
   "outputs": [
    {
     "data": {
      "text/plain": [
       "array(['Manhattan', 'Staten Island', 'Bronx', 'Queens', 'Brooklyn'],\n",
       "      dtype=object)"
      ]
     },
     "execution_count": 37,
     "metadata": {},
     "output_type": "execute_result"
    }
   ],
   "source": [
    "cov_df['borough'].unique()"
   ]
  },
  {
   "cell_type": "markdown",
   "metadata": {},
   "source": [
    "#### Use the dataframe groupby() method to group the dataframe by `borough`, and then use the `get_groups()` method to pull the data for one of the boroughs that you choose.\n",
    "    \n",
    "You can use it like this:\n",
    "\n",
    "    \n",
    "    \n",
    "```\n",
    "group_object = df.groupby('col_name_to_group_by')\n",
    "one_group_df = group_object.get_group('name of desired group')\n",
    "```\n",
    "    \n",
    "or in one line:\n",
    "```\n",
    "one_group_df = df.groupby('col_name_to_group_by').get_group('name of desired group')\n",
    "```  "
   ]
  },
  {
   "cell_type": "code",
   "execution_count": 52,
   "metadata": {},
   "outputs": [
    {
     "data": {
      "text/html": [
       "<div>\n",
       "<style scoped>\n",
       "    .dataframe tbody tr th:only-of-type {\n",
       "        vertical-align: middle;\n",
       "    }\n",
       "\n",
       "    .dataframe tbody tr th {\n",
       "        vertical-align: top;\n",
       "    }\n",
       "\n",
       "    .dataframe thead th {\n",
       "        text-align: right;\n",
       "    }\n",
       "</style>\n",
       "<table border=\"1\" class=\"dataframe\">\n",
       "  <thead>\n",
       "    <tr style=\"text-align: right;\">\n",
       "      <th></th>\n",
       "      <th>zip</th>\n",
       "      <th>borough</th>\n",
       "      <th>neighborhood</th>\n",
       "      <th>deathper100k</th>\n",
       "      <th>whitepct</th>\n",
       "      <th>medianincome</th>\n",
       "      <th>asthmapct</th>\n",
       "      <th>popdens</th>\n",
       "      <th>medianage</th>\n",
       "      <th>housesize</th>\n",
       "    </tr>\n",
       "  </thead>\n",
       "  <tbody>\n",
       "    <tr>\n",
       "      <th>0</th>\n",
       "      <td>10001</td>\n",
       "      <td>Manhattan</td>\n",
       "      <td>Chelsea/NoMad/West Chelsea</td>\n",
       "      <td>94.16</td>\n",
       "      <td>62.91</td>\n",
       "      <td>88526</td>\n",
       "      <td>9.6</td>\n",
       "      <td>37291.65</td>\n",
       "      <td>37</td>\n",
       "      <td>1.76</td>\n",
       "    </tr>\n",
       "    <tr>\n",
       "      <th>1</th>\n",
       "      <td>10002</td>\n",
       "      <td>Manhattan</td>\n",
       "      <td>Chinatown/Lower East Side</td>\n",
       "      <td>252.25</td>\n",
       "      <td>32.23</td>\n",
       "      <td>35859</td>\n",
       "      <td>9.2</td>\n",
       "      <td>85336.07</td>\n",
       "      <td>44</td>\n",
       "      <td>2.18</td>\n",
       "    </tr>\n",
       "    <tr>\n",
       "      <th>2</th>\n",
       "      <td>10003</td>\n",
       "      <td>Manhattan</td>\n",
       "      <td>East Village/Gramercy/Greenwich Village</td>\n",
       "      <td>68.55</td>\n",
       "      <td>75.91</td>\n",
       "      <td>112131</td>\n",
       "      <td>10.1</td>\n",
       "      <td>94859.59</td>\n",
       "      <td>32</td>\n",
       "      <td>1.70</td>\n",
       "    </tr>\n",
       "    <tr>\n",
       "      <th>3</th>\n",
       "      <td>10004</td>\n",
       "      <td>Manhattan</td>\n",
       "      <td>Financial District</td>\n",
       "      <td>67.29</td>\n",
       "      <td>62.81</td>\n",
       "      <td>157645</td>\n",
       "      <td>9.2</td>\n",
       "      <td>5554.12</td>\n",
       "      <td>37</td>\n",
       "      <td>1.82</td>\n",
       "    </tr>\n",
       "    <tr>\n",
       "      <th>4</th>\n",
       "      <td>10005</td>\n",
       "      <td>Manhattan</td>\n",
       "      <td>Financial District</td>\n",
       "      <td>0.00</td>\n",
       "      <td>73.42</td>\n",
       "      <td>173333</td>\n",
       "      <td>9.4</td>\n",
       "      <td>121496.87</td>\n",
       "      <td>30</td>\n",
       "      <td>2.02</td>\n",
       "    </tr>\n",
       "  </tbody>\n",
       "</table>\n",
       "</div>"
      ],
      "text/plain": [
       "     zip    borough                             neighborhood  deathper100k  \\\n",
       "0  10001  Manhattan               Chelsea/NoMad/West Chelsea         94.16   \n",
       "1  10002  Manhattan                Chinatown/Lower East Side        252.25   \n",
       "2  10003  Manhattan  East Village/Gramercy/Greenwich Village         68.55   \n",
       "3  10004  Manhattan                       Financial District         67.29   \n",
       "4  10005  Manhattan                       Financial District          0.00   \n",
       "\n",
       "   whitepct  medianincome  asthmapct    popdens  medianage  housesize  \n",
       "0     62.91         88526        9.6   37291.65         37       1.76  \n",
       "1     32.23         35859        9.2   85336.07         44       2.18  \n",
       "2     75.91        112131       10.1   94859.59         32       1.70  \n",
       "3     62.81        157645        9.2    5554.12         37       1.82  \n",
       "4     73.42        173333        9.4  121496.87         30       2.02  "
      ]
     },
     "execution_count": 52,
     "metadata": {},
     "output_type": "execute_result"
    }
   ],
   "source": [
    "# get data for one borough using get_group()\n",
    "manhattan_df = cov_df.groupby('borough').get_group('Manhattan')\n",
    "\n",
    "manhattan_df.head()"
   ]
  },
  {
   "cell_type": "markdown",
   "metadata": {},
   "source": [
    "Using the dataframe for one borough that you just created, make a scatterplot showing the relationship between medianincome and deathper100k columns. \n",
    "\n",
    "Your plot should include a title that tells us which Borough you selected for your analysis group.\n",
    "\n",
    "You can add a title to your plot by putting this after the seaborn plot command:\n",
    "\n",
    "```python\n",
    "plt.title('your title')\n",
    "```"
   ]
  },
  {
   "cell_type": "code",
   "execution_count": 51,
   "metadata": {},
   "outputs": [
    {
     "data": {
      "text/plain": [
       "Text(0.5, 1.0, 'Scatterplot of median income and deathper100 in manhattan')"
      ]
     },
     "execution_count": 51,
     "metadata": {},
     "output_type": "execute_result"
    },
    {
     "data": {
      "image/png": "[encoded data removed]",
      "text/plain": [
       "<Figure size 360x360 with 1 Axes>"
      ]
     },
     "metadata": {
      "needs_background": "light"
     },
     "output_type": "display_data"
    }
   ],
   "source": [
    "# scatterplot medianincome vs deathper100k\n",
    "import matplotlib.pyplot as plt\n",
    "sns.relplot(x='medianincome', y='deathper100k', data=manhattan_df)\n",
    "plt.title('Scatterplot of median income and deathper100 in manhattan')"
   ]
  },
  {
   "cell_type": "markdown",
   "metadata": {},
   "source": [
    "#### Compute the correlation between medianincome and deathper100k within your selected borough. What is the r value, what is the p value?\n",
    "\n",
    "In class we used scipy.stats to compute pearsonr().\n",
    "\n",
    "Pingouin also has a nice correlation function that can be used like this:\n",
    "\n",
    "```python\n",
    "import pingouin as pg\n",
    "corr_results = pg.corr(x=df['col1'], y = df['col2'])\n",
    "```\n",
    "\n",
    "That would compute the correlation between col1 and col2 in a dataframe called df. The results object is dataframe with the r value, p value, and other information."
   ]
  },
  {
   "cell_type": "code",
   "execution_count": 53,
   "metadata": {},
   "outputs": [
    {
     "data": {
      "text/html": [
       "<div>\n",
       "<style scoped>\n",
       "    .dataframe tbody tr th:only-of-type {\n",
       "        vertical-align: middle;\n",
       "    }\n",
       "\n",
       "    .dataframe tbody tr th {\n",
       "        vertical-align: top;\n",
       "    }\n",
       "\n",
       "    .dataframe thead th {\n",
       "        text-align: right;\n",
       "    }\n",
       "</style>\n",
       "<table border=\"1\" class=\"dataframe\">\n",
       "  <thead>\n",
       "    <tr style=\"text-align: right;\">\n",
       "      <th></th>\n",
       "      <th>n</th>\n",
       "      <th>r</th>\n",
       "      <th>CI95%</th>\n",
       "      <th>p-val</th>\n",
       "      <th>BF10</th>\n",
       "      <th>power</th>\n",
       "    </tr>\n",
       "  </thead>\n",
       "  <tbody>\n",
       "    <tr>\n",
       "      <th>pearson</th>\n",
       "      <td>44</td>\n",
       "      <td>-0.608399</td>\n",
       "      <td>[-0.77, -0.38]</td>\n",
       "      <td>0.000012</td>\n",
       "      <td>2019.986</td>\n",
       "      <td>0.99541</td>\n",
       "    </tr>\n",
       "  </tbody>\n",
       "</table>\n",
       "</div>"
      ],
      "text/plain": [
       "          n         r           CI95%     p-val      BF10    power\n",
       "pearson  44 -0.608399  [-0.77, -0.38]  0.000012  2019.986  0.99541"
      ]
     },
     "execution_count": 53,
     "metadata": {},
     "output_type": "execute_result"
    }
   ],
   "source": [
    "# compute the correlation\n",
    "cr = pg.corr(x=manhattan_df['medianincome'], y=manhattan_df['deathper100k'])\n",
    "cr"
   ]
  },
  {
   "cell_type": "code",
   "execution_count": 56,
   "metadata": {},
   "outputs": [
    {
     "name": "stdout",
     "output_type": "stream",
     "text": [
      "The correlation between medianincome and deathper100k in Manhattan was negative: \n",
      "r = -0.608, p < .05\n"
     ]
    }
   ],
   "source": [
    "r = cr['r'][0]\n",
    "r = np.round(r,3)\n",
    "p = cr['p-val'][0]\n",
    "p = np.round(p,3)\n",
    "\n",
    "\n",
    "# do some automatic stats reporting\n",
    "if r < 0:\n",
    "    corr_direction = 'negative'\n",
    "elif r > 0:\n",
    "    corr_direction = 'positive'\n",
    "else:\n",
    "    corr_direction = 'none'\n",
    "    \n",
    "alpha = .05\n",
    "\n",
    "var1 = 'medianincome'\n",
    "var2 = 'deathper100k'\n",
    "borough = 'Manhattan'\n",
    "\n",
    "if p < alpha:\n",
    "    print(f'The correlation between {var1} and {var2} in {borough} was {corr_direction}: ')\n",
    "    print(f'r = {r}, p < .05')\n",
    "    \n",
    "else:\n",
    "    print(f'The correlation between {var1} and {var2} in {borough} was not significant')\n",
    "    \n",
    "    \n",
    "\n"
   ]
  },
  {
   "cell_type": "markdown",
   "metadata": {},
   "source": [
    "#### Compute t-test\n",
    "\n",
    "For this problem you'll use the overall covid dataframe you loaded at the beginning of this section (the one with all the boroughs in it). \n",
    "    \n",
    "We'd like to determine if the rate of covid deaths (`deathper100k`) differed between Manhattan and Brooklyn. \n",
    "\n",
    "Conduct a t-test to answer this question. You will need to get the death rate data for these two boroughs into their own columns. There are several ways to do this (including one that you've seen in this notebook).\n",
    "    \n",
    "Report whether there is a difference in deathper100k rates in these two boroughs.\n",
    "\n",
    "In addition to the scipy t-test functions we learned about in class, Pingouin provides some t-test functions that provide more information in the results.\n",
    "\n",
    "To run an independent sample t-test with Pingouin you do this:\n",
    "\n",
    "```python\n",
    "t_results = pg.ttest(x=df['some_column'], y = df2['some_column'], correction=True)\n",
    "```\n",
    "\n",
    "Where x= and y= point to arrays of numbers to compare and the correction= argument is for Welch's test if the variances are unequal. From the pg.ttest() documentation:\n",
    "\n",
    "_\"**correction:** string or boolean<br>\n",
    "For unpaired two sample T-tests, specify whether or not to correct for unequal variances using Welch separate variances T-test. If ‘auto’, it will automatically uses Welch T-test when the sample sizes are unequal, as recommended by Zimmerman 2004.\"_\n",
    "\n"
   ]
  },
  {
   "cell_type": "code",
   "execution_count": 61,
   "metadata": {},
   "outputs": [],
   "source": [
    "# run the t-test\n",
    "\n",
    "# get the rows where borough is manhattan\n",
    "sel = cov_df['borough']=='Manhattan'\n",
    "\n",
    "# subselect the overall dataframe using the selector and then pull the 'deathper100k' column\n",
    "manhattan_df = cov_df[sel]\n",
    "\n",
    "# same for brooklyn\n",
    "# get the rows where borough is manhattan\n",
    "sel = cov_df['borough']=='Brooklyn'\n",
    "\n",
    "# subselect the overall dataframe using the selector and then pull the 'deathper100k' column\n",
    "brooklyn_df = cov_df[sel]\n"
   ]
  },
  {
   "cell_type": "code",
   "execution_count": 62,
   "metadata": {},
   "outputs": [
    {
     "data": {
      "text/html": [
       "<div>\n",
       "<style scoped>\n",
       "    .dataframe tbody tr th:only-of-type {\n",
       "        vertical-align: middle;\n",
       "    }\n",
       "\n",
       "    .dataframe tbody tr th {\n",
       "        vertical-align: top;\n",
       "    }\n",
       "\n",
       "    .dataframe thead th {\n",
       "        text-align: right;\n",
       "    }\n",
       "</style>\n",
       "<table border=\"1\" class=\"dataframe\">\n",
       "  <thead>\n",
       "    <tr style=\"text-align: right;\">\n",
       "      <th></th>\n",
       "      <th>T</th>\n",
       "      <th>dof</th>\n",
       "      <th>alternative</th>\n",
       "      <th>p-val</th>\n",
       "      <th>CI95%</th>\n",
       "      <th>cohen-d</th>\n",
       "      <th>BF10</th>\n",
       "      <th>power</th>\n",
       "    </tr>\n",
       "  </thead>\n",
       "  <tbody>\n",
       "    <tr>\n",
       "      <th>T-test</th>\n",
       "      <td>-3.942931</td>\n",
       "      <td>66.726445</td>\n",
       "      <td>two-sided</td>\n",
       "      <td>0.000196</td>\n",
       "      <td>[-154.81, -50.74]</td>\n",
       "      <td>0.899729</td>\n",
       "      <td>137.474</td>\n",
       "      <td>0.978524</td>\n",
       "    </tr>\n",
       "  </tbody>\n",
       "</table>\n",
       "</div>"
      ],
      "text/plain": [
       "               T        dof alternative     p-val              CI95%  \\\n",
       "T-test -3.942931  66.726445   two-sided  0.000196  [-154.81, -50.74]   \n",
       "\n",
       "         cohen-d     BF10     power  \n",
       "T-test  0.899729  137.474  0.978524  "
      ]
     },
     "execution_count": 62,
     "metadata": {},
     "output_type": "execute_result"
    }
   ],
   "source": [
    "t_results = pg.ttest(x=manhattan_df['deathper100k'], \n",
    "                     y = brooklyn_df['deathper100k'], \n",
    "                     correction=True)\n",
    "\n",
    "t_results"
   ]
  },
  {
   "cell_type": "markdown",
   "metadata": {},
   "source": [
    "#### make a bar plot that shows the mean deathper100k rate within each borrow using sns.catplot() or another tool of your choice."
   ]
  },
  {
   "cell_type": "code",
   "execution_count": 63,
   "metadata": {},
   "outputs": [
    {
     "data": {
      "text/plain": [
       "<seaborn.axisgrid.FacetGrid at 0x7fb4500603d0>"
      ]
     },
     "execution_count": 63,
     "metadata": {},
     "output_type": "execute_result"
    },
    {
     "data": {
      "image/png": "[encoded data removed]",
      "text/plain": [
       "<Figure size 360x360 with 1 Axes>"
      ]
     },
     "metadata": {
      "needs_background": "light"
     },
     "output_type": "display_data"
    }
   ],
   "source": [
    "sns.catplot(x='borough', y='deathper100k', data=cov_df, kind='bar')"
   ]
  },
  {
   "cell_type": "markdown",
   "metadata": {},
   "source": [
    "### Regression on the Covid data"
   ]
  },
  {
   "cell_type": "markdown",
   "metadata": {},
   "source": [
    "We'd like to see if we can predict how death rates vary across our measured zipcodes by using the other information we have for those zipcodes.\n",
    "    \n",
    "Conduct a multiple regression trying to predict deathper100k based on three other variables in the dataset. The other variables should be numeric and you can take your pick of which you think would be relevant for the prediction.\n",
    "    \n",
    "In your answer, indicate whether the estimated coefficient for each predictor variable is significantly different from zero.\n",
    "    \n",
    "You can use the ols() function implemented in statsmodels.formula.api\n",
    "    \n",
    "In the class examples we import statsmodels.formula.api as smf and then use smf.ols() to set up and fit the regression model.\n",
    "\n",
    "More examples of multiple regression are in the viz_and_stats_regression_inclass_April5th.ipynb and viz_and_stats_regression_inclass_April12th.ipynb notebooks."
   ]
  },
  {
   "cell_type": "code",
   "execution_count": 64,
   "metadata": {},
   "outputs": [
    {
     "data": {
      "text/html": [
       "<div>\n",
       "<style scoped>\n",
       "    .dataframe tbody tr th:only-of-type {\n",
       "        vertical-align: middle;\n",
       "    }\n",
       "\n",
       "    .dataframe tbody tr th {\n",
       "        vertical-align: top;\n",
       "    }\n",
       "\n",
       "    .dataframe thead th {\n",
       "        text-align: right;\n",
       "    }\n",
       "</style>\n",
       "<table border=\"1\" class=\"dataframe\">\n",
       "  <thead>\n",
       "    <tr style=\"text-align: right;\">\n",
       "      <th></th>\n",
       "      <th>zip</th>\n",
       "      <th>borough</th>\n",
       "      <th>neighborhood</th>\n",
       "      <th>deathper100k</th>\n",
       "      <th>whitepct</th>\n",
       "      <th>medianincome</th>\n",
       "      <th>asthmapct</th>\n",
       "      <th>popdens</th>\n",
       "      <th>medianage</th>\n",
       "      <th>housesize</th>\n",
       "    </tr>\n",
       "  </thead>\n",
       "  <tbody>\n",
       "    <tr>\n",
       "      <th>0</th>\n",
       "      <td>10001</td>\n",
       "      <td>Manhattan</td>\n",
       "      <td>Chelsea/NoMad/West Chelsea</td>\n",
       "      <td>94.16</td>\n",
       "      <td>62.91</td>\n",
       "      <td>88526</td>\n",
       "      <td>9.6</td>\n",
       "      <td>37291.65</td>\n",
       "      <td>37</td>\n",
       "      <td>1.76</td>\n",
       "    </tr>\n",
       "    <tr>\n",
       "      <th>1</th>\n",
       "      <td>10002</td>\n",
       "      <td>Manhattan</td>\n",
       "      <td>Chinatown/Lower East Side</td>\n",
       "      <td>252.25</td>\n",
       "      <td>32.23</td>\n",
       "      <td>35859</td>\n",
       "      <td>9.2</td>\n",
       "      <td>85336.07</td>\n",
       "      <td>44</td>\n",
       "      <td>2.18</td>\n",
       "    </tr>\n",
       "    <tr>\n",
       "      <th>2</th>\n",
       "      <td>10003</td>\n",
       "      <td>Manhattan</td>\n",
       "      <td>East Village/Gramercy/Greenwich Village</td>\n",
       "      <td>68.55</td>\n",
       "      <td>75.91</td>\n",
       "      <td>112131</td>\n",
       "      <td>10.1</td>\n",
       "      <td>94859.59</td>\n",
       "      <td>32</td>\n",
       "      <td>1.70</td>\n",
       "    </tr>\n",
       "    <tr>\n",
       "      <th>3</th>\n",
       "      <td>10004</td>\n",
       "      <td>Manhattan</td>\n",
       "      <td>Financial District</td>\n",
       "      <td>67.29</td>\n",
       "      <td>62.81</td>\n",
       "      <td>157645</td>\n",
       "      <td>9.2</td>\n",
       "      <td>5554.12</td>\n",
       "      <td>37</td>\n",
       "      <td>1.82</td>\n",
       "    </tr>\n",
       "    <tr>\n",
       "      <th>4</th>\n",
       "      <td>10005</td>\n",
       "      <td>Manhattan</td>\n",
       "      <td>Financial District</td>\n",
       "      <td>0.00</td>\n",
       "      <td>73.42</td>\n",
       "      <td>173333</td>\n",
       "      <td>9.4</td>\n",
       "      <td>121496.87</td>\n",
       "      <td>30</td>\n",
       "      <td>2.02</td>\n",
       "    </tr>\n",
       "  </tbody>\n",
       "</table>\n",
       "</div>"
      ],
      "text/plain": [
       "     zip    borough                             neighborhood  deathper100k  \\\n",
       "0  10001  Manhattan               Chelsea/NoMad/West Chelsea         94.16   \n",
       "1  10002  Manhattan                Chinatown/Lower East Side        252.25   \n",
       "2  10003  Manhattan  East Village/Gramercy/Greenwich Village         68.55   \n",
       "3  10004  Manhattan                       Financial District         67.29   \n",
       "4  10005  Manhattan                       Financial District          0.00   \n",
       "\n",
       "   whitepct  medianincome  asthmapct    popdens  medianage  housesize  \n",
       "0     62.91         88526        9.6   37291.65         37       1.76  \n",
       "1     32.23         35859        9.2   85336.07         44       2.18  \n",
       "2     75.91        112131       10.1   94859.59         32       1.70  \n",
       "3     62.81        157645        9.2    5554.12         37       1.82  \n",
       "4     73.42        173333        9.4  121496.87         30       2.02  "
      ]
     },
     "execution_count": 64,
     "metadata": {},
     "output_type": "execute_result"
    }
   ],
   "source": [
    "cov_df.head()"
   ]
  },
  {
   "cell_type": "code",
   "execution_count": 65,
   "metadata": {},
   "outputs": [
    {
     "data": {
      "text/html": [
       "<table class=\"simpletable\">\n",
       "<caption>OLS Regression Results</caption>\n",
       "<tr>\n",
       "  <th>Dep. Variable:</th>      <td>deathper100k</td>   <th>  R-squared:         </th> <td>   0.178</td>\n",
       "</tr>\n",
       "<tr>\n",
       "  <th>Model:</th>                   <td>OLS</td>       <th>  Adj. R-squared:    </th> <td>   0.164</td>\n",
       "</tr>\n",
       "<tr>\n",
       "  <th>Method:</th>             <td>Least Squares</td>  <th>  F-statistic:       </th> <td>   12.51</td>\n",
       "</tr>\n",
       "<tr>\n",
       "  <th>Date:</th>             <td>Tue, 19 Apr 2022</td> <th>  Prob (F-statistic):</th> <td>1.91e-07</td>\n",
       "</tr>\n",
       "<tr>\n",
       "  <th>Time:</th>                 <td>14:08:43</td>     <th>  Log-Likelihood:    </th> <td> -1084.1</td>\n",
       "</tr>\n",
       "<tr>\n",
       "  <th>No. Observations:</th>      <td>   177</td>      <th>  AIC:               </th> <td>   2176.</td>\n",
       "</tr>\n",
       "<tr>\n",
       "  <th>Df Residuals:</th>          <td>   173</td>      <th>  BIC:               </th> <td>   2189.</td>\n",
       "</tr>\n",
       "<tr>\n",
       "  <th>Df Model:</th>              <td>     3</td>      <th>                     </th>     <td> </td>   \n",
       "</tr>\n",
       "<tr>\n",
       "  <th>Covariance Type:</th>      <td>nonrobust</td>    <th>                     </th>     <td> </td>   \n",
       "</tr>\n",
       "</table>\n",
       "<table class=\"simpletable\">\n",
       "<tr>\n",
       "      <td></td>         <th>coef</th>     <th>std err</th>      <th>t</th>      <th>P>|t|</th>  <th>[0.025</th>    <th>0.975]</th>  \n",
       "</tr>\n",
       "<tr>\n",
       "  <th>Intercept</th> <td> -208.3545</td> <td>  113.453</td> <td>   -1.836</td> <td> 0.068</td> <td> -432.285</td> <td>   15.576</td>\n",
       "</tr>\n",
       "<tr>\n",
       "  <th>housesize</th> <td>   89.5789</td> <td>   19.203</td> <td>    4.665</td> <td> 0.000</td> <td>   51.677</td> <td>  127.481</td>\n",
       "</tr>\n",
       "<tr>\n",
       "  <th>medianage</th> <td>    5.8436</td> <td>    2.016</td> <td>    2.899</td> <td> 0.004</td> <td>    1.865</td> <td>    9.822</td>\n",
       "</tr>\n",
       "<tr>\n",
       "  <th>popdens</th>   <td>   -0.0001</td> <td>    0.000</td> <td>   -0.371</td> <td> 0.711</td> <td>   -0.001</td> <td>    0.001</td>\n",
       "</tr>\n",
       "</table>\n",
       "<table class=\"simpletable\">\n",
       "<tr>\n",
       "  <th>Omnibus:</th>       <td>55.689</td> <th>  Durbin-Watson:     </th> <td>   1.493</td>\n",
       "</tr>\n",
       "<tr>\n",
       "  <th>Prob(Omnibus):</th> <td> 0.000</td> <th>  Jarque-Bera (JB):  </th> <td> 134.483</td>\n",
       "</tr>\n",
       "<tr>\n",
       "  <th>Skew:</th>          <td> 1.366</td> <th>  Prob(JB):          </th> <td>6.27e-30</td>\n",
       "</tr>\n",
       "<tr>\n",
       "  <th>Kurtosis:</th>      <td> 6.281</td> <th>  Cond. No.          </th> <td>7.50e+05</td>\n",
       "</tr>\n",
       "</table><br/><br/>Notes:<br/>[1] Standard Errors assume that the covariance matrix of the errors is correctly specified.<br/>[2] The condition number is large, 7.5e+05. This might indicate that there are<br/>strong multicollinearity or other numerical problems."
      ],
      "text/plain": [
       "<class 'statsmodels.iolib.summary.Summary'>\n",
       "\"\"\"\n",
       "                            OLS Regression Results                            \n",
       "==============================================================================\n",
       "Dep. Variable:           deathper100k   R-squared:                       0.178\n",
       "Model:                            OLS   Adj. R-squared:                  0.164\n",
       "Method:                 Least Squares   F-statistic:                     12.51\n",
       "Date:                Tue, 19 Apr 2022   Prob (F-statistic):           1.91e-07\n",
       "Time:                        14:08:43   Log-Likelihood:                -1084.1\n",
       "No. Observations:                 177   AIC:                             2176.\n",
       "Df Residuals:                     173   BIC:                             2189.\n",
       "Df Model:                           3                                         \n",
       "Covariance Type:            nonrobust                                         \n",
       "==============================================================================\n",
       "                 coef    std err          t      P>|t|      [0.025      0.975]\n",
       "------------------------------------------------------------------------------\n",
       "Intercept   -208.3545    113.453     -1.836      0.068    -432.285      15.576\n",
       "housesize     89.5789     19.203      4.665      0.000      51.677     127.481\n",
       "medianage      5.8436      2.016      2.899      0.004       1.865       9.822\n",
       "popdens       -0.0001      0.000     -0.371      0.711      -0.001       0.001\n",
       "==============================================================================\n",
       "Omnibus:                       55.689   Durbin-Watson:                   1.493\n",
       "Prob(Omnibus):                  0.000   Jarque-Bera (JB):              134.483\n",
       "Skew:                           1.366   Prob(JB):                     6.27e-30\n",
       "Kurtosis:                       6.281   Cond. No.                     7.50e+05\n",
       "==============================================================================\n",
       "\n",
       "Notes:\n",
       "[1] Standard Errors assume that the covariance matrix of the errors is correctly specified.\n",
       "[2] The condition number is large, 7.5e+05. This might indicate that there are\n",
       "strong multicollinearity or other numerical problems.\n",
       "\"\"\""
      ]
     },
     "execution_count": 65,
     "metadata": {},
     "output_type": "execute_result"
    }
   ],
   "source": [
    "# In this example I'm runing a regression trying to predict deathper100 based on:\n",
    "# housesize\n",
    "# medianage\n",
    "# popdens (population density)\n",
    "\n",
    "# first, define the regression formula and pass it to the ordinary least squares function\n",
    "\n",
    "reg_formula = 'deathper100k ~ housesize + medianage + popdens'\n",
    "\n",
    "reg_model = smf.ols(formula = reg_formula, data=cov_df)\n",
    "\n",
    "# use the fit() method to get the regression coefficients\n",
    "reg_results = reg_model.fit()\n",
    "\n",
    "# look at the results\n",
    "reg_results.summary()"
   ]
  },
  {
   "cell_type": "markdown",
   "metadata": {},
   "source": [
    "### Regression results\n",
    "\n",
    "The regression summary table tells us that our regression model could account for about 18% of the variance in deathrates across zip codes ($R^2$) and that this is significantly more than would be accounted for ab a null model ($Prob (F-statistic)$ is less than .05).\n",
    "\n",
    "For the individual coefficients, housesize and medianage were positively associated with deathper100k as indicated by their positive **coef** values in the middle table. In addition these values were statistically greater than zero based on the t and $P>|t|$ in each row of the table. The popdens variable seemed to not contribute to the prediction based on its small coef and the p value on that value being > .05"
   ]
  },
  {
   "cell_type": "markdown",
   "metadata": {},
   "source": [
    "## Bounce data"
   ]
  },
  {
   "cell_type": "markdown",
   "metadata": {},
   "source": [
    "In this question you will be analyzing a dataset that looks at the \"bounce times\"\n",
    "of users of a website with cooking recipes. The bounce time is a measure of how quickly someone leaves a website, e.g. the number of seconds after which a user first accesses a webpage from the website and then leaves."
   ]
  },
  {
   "cell_type": "markdown",
   "metadata": {},
   "source": [
    "Load the dataset in bounce.csv . The datatset has one row for each participant in the study. You should load the data into a dataframe called `bounce_data` and report the total number of people we have data for."
   ]
  },
  {
   "cell_type": "code",
   "execution_count": 67,
   "metadata": {},
   "outputs": [
    {
     "data": {
      "text/html": [
       "<div>\n",
       "<style scoped>\n",
       "    .dataframe tbody tr th:only-of-type {\n",
       "        vertical-align: middle;\n",
       "    }\n",
       "\n",
       "    .dataframe tbody tr th {\n",
       "        vertical-align: top;\n",
       "    }\n",
       "\n",
       "    .dataframe thead th {\n",
       "        text-align: right;\n",
       "    }\n",
       "</style>\n",
       "<table border=\"1\" class=\"dataframe\">\n",
       "  <thead>\n",
       "    <tr style=\"text-align: right;\">\n",
       "      <th></th>\n",
       "      <th>bounce_time</th>\n",
       "      <th>age</th>\n",
       "      <th>county</th>\n",
       "      <th>location</th>\n",
       "    </tr>\n",
       "  </thead>\n",
       "  <tbody>\n",
       "    <tr>\n",
       "      <th>0</th>\n",
       "      <td>165.548520</td>\n",
       "      <td>16</td>\n",
       "      <td>devon</td>\n",
       "      <td>a</td>\n",
       "    </tr>\n",
       "    <tr>\n",
       "      <th>1</th>\n",
       "      <td>167.559314</td>\n",
       "      <td>34</td>\n",
       "      <td>devon</td>\n",
       "      <td>a</td>\n",
       "    </tr>\n",
       "    <tr>\n",
       "      <th>2</th>\n",
       "      <td>165.882952</td>\n",
       "      <td>6</td>\n",
       "      <td>devon</td>\n",
       "      <td>a</td>\n",
       "    </tr>\n",
       "    <tr>\n",
       "      <th>3</th>\n",
       "      <td>167.685525</td>\n",
       "      <td>19</td>\n",
       "      <td>devon</td>\n",
       "      <td>a</td>\n",
       "    </tr>\n",
       "    <tr>\n",
       "      <th>4</th>\n",
       "      <td>169.959681</td>\n",
       "      <td>34</td>\n",
       "      <td>devon</td>\n",
       "      <td>a</td>\n",
       "    </tr>\n",
       "  </tbody>\n",
       "</table>\n",
       "</div>"
      ],
      "text/plain": [
       "   bounce_time  age county location\n",
       "0   165.548520   16  devon        a\n",
       "1   167.559314   34  devon        a\n",
       "2   165.882952    6  devon        a\n",
       "3   167.685525   19  devon        a\n",
       "4   169.959681   34  devon        a"
      ]
     },
     "execution_count": 67,
     "metadata": {},
     "output_type": "execute_result"
    }
   ],
   "source": [
    "data_dir = '../data/'\n",
    "data_file = 'bounce.csv'\n",
    "\n",
    "bounce_df = pd.read_csv(data_dir + data_file)\n",
    "bounce_df.head()"
   ]
  },
  {
   "cell_type": "markdown",
   "metadata": {},
   "source": [
    "#### Plot a histogram of the distribution of bounce times in the dataset. \n",
    "\n",
    "Your plot should include a title, and the title should indicate what it is that you are plotting as well as the mean of the bounce time values. \n",
    "\n",
    "You should store the mean of the bounce time values in a variable and then concatenate that with the rest of your title. \n",
    "\n",
    "In other words, your code should work for any dataset of the same structure; you should not compute the mean and then enter that number directly into the figure title.\n",
    "\n",
    "\n",
    "**Hint**: dataframes have a .mean() method attached to them that will return the mean of all numeric columns in the data. The .mean() method returns a **Series**, and to get the value for one element in the Series you can ask for it by name: \n",
    "```# get the mean for all the columns:\n",
    "results = df.mean()\n",
    "# extract the mean for one column or variable:\n",
    "one_mean = results[<desired variable/column name>]\n",
    "\n",
    "# or you can do the above but all in one line\n",
    "one_mean = df.mean()[<desired variable/column name>]\n",
    "\n",
    "\n",
    "```\n",
    "\n",
    "**Hint**: you can make a title for a seaborn figure by putting plt.title() after your plotting code. The plt.title() function takes a string as input and puts that string as a figure title. In order to access that library you will need to import matplotlib.pyplot as plt"
   ]
  },
  {
   "cell_type": "code",
   "execution_count": 73,
   "metadata": {},
   "outputs": [
    {
     "name": "stderr",
     "output_type": "stream",
     "text": [
      "/var/folders/6w/0hq8cxf50h7_lj6_wkn2h6vr0000gn/T/ipykernel_27701/2732383229.py:2: FutureWarning: Dropping of nuisance columns in DataFrame reductions (with 'numeric_only=None') is deprecated; in a future version this will raise TypeError.  Select only valid columns before calling the reduction.\n",
      "  bounce_mean = bounce_df.mean()['bounce_time']\n"
     ]
    },
    {
     "data": {
      "text/plain": [
       "201.316"
      ]
     },
     "execution_count": 73,
     "metadata": {},
     "output_type": "execute_result"
    }
   ],
   "source": [
    "# get the average bounce time across the whole data\n",
    "bounce_mean = bounce_df.mean()['bounce_time']\n",
    "# round it to three decimal places\n",
    "bounce_mean = np.round(bounce_mean,3)\n",
    "bounce_mean"
   ]
  },
  {
   "cell_type": "code",
   "execution_count": 74,
   "metadata": {},
   "outputs": [
    {
     "data": {
      "text/plain": [
       "Text(0.5, 1.0, 'Distribution of bounce_times (mean=201.316)')"
      ]
     },
     "execution_count": 74,
     "metadata": {},
     "output_type": "execute_result"
    },
    {
     "data": {
      "image/png": "[encoded data removed]",
      "text/plain": [
       "<Figure size 360x360 with 1 Axes>"
      ]
     },
     "metadata": {
      "needs_background": "light"
     },
     "output_type": "display_data"
    }
   ],
   "source": [
    "# make histogram with seaborn displot()\n",
    "sns.displot(x='bounce_time', data=bounce_df)\n",
    "\n",
    "# add a title and use the calculated mean value\n",
    "title_string = f'Distribution of bounce_times (mean={bounce_mean})'\n",
    "plt.title(title_string)"
   ]
  },
  {
   "cell_type": "markdown",
   "metadata": {},
   "source": [
    "#### Plot a scatterplot of bounce times versus age snd inspect the plot.\n",
    "We are interested in whether bounce times can be related to the age of the user.  Does it look there is a relationship between age and bounce time? Do older or younger people spend more time on the website?\n",
    "\n"
   ]
  },
  {
   "cell_type": "code",
   "execution_count": 76,
   "metadata": {},
   "outputs": [
    {
     "data": {
      "text/plain": [
       "<seaborn.axisgrid.FacetGrid at 0x7fb450747ca0>"
      ]
     },
     "execution_count": 76,
     "metadata": {},
     "output_type": "execute_result"
    },
    {
     "data": {
      "image/png": "[encoded data removed]",
      "text/plain": [
       "<Figure size 360x360 with 1 Axes>"
      ]
     },
     "metadata": {
      "needs_background": "light"
     },
     "output_type": "display_data"
    }
   ],
   "source": [
    "sns.relplot(x='age', y='bounce_time', data=bounce_df)"
   ]
  },
  {
   "cell_type": "markdown",
   "metadata": {},
   "source": [
    "### Based on the scatter plot it looks like there might be a positive relationship between age and bounce time: as age goes up, bounce time does as well"
   ]
  },
  {
   "cell_type": "markdown",
   "metadata": {},
   "source": [
    "Quantify the relationship proposed in the last scatterplot question: compute a regression that will tell us whether bounce time can be predicted by age. \n",
    "    \n",
    "After running the regression you should report the estimated coefficient for age and whether that coefficient is significantly different from zero. \n",
    "\n",
    "(reminder: after setting up and fitting your model, there is a .summary() method attached to the model fit object and that will give you all the info you need)\n",
    "\n"
   ]
  },
  {
   "cell_type": "code",
   "execution_count": 77,
   "metadata": {},
   "outputs": [
    {
     "data": {
      "text/html": [
       "<table class=\"simpletable\">\n",
       "<caption>OLS Regression Results</caption>\n",
       "<tr>\n",
       "  <th>Dep. Variable:</th>       <td>bounce_time</td>   <th>  R-squared:         </th> <td>   0.150</td>\n",
       "</tr>\n",
       "<tr>\n",
       "  <th>Model:</th>                   <td>OLS</td>       <th>  Adj. R-squared:    </th> <td>   0.149</td>\n",
       "</tr>\n",
       "<tr>\n",
       "  <th>Method:</th>             <td>Least Squares</td>  <th>  F-statistic:       </th> <td>   84.58</td>\n",
       "</tr>\n",
       "<tr>\n",
       "  <th>Date:</th>             <td>Tue, 19 Apr 2022</td> <th>  Prob (F-statistic):</th> <td>1.14e-18</td>\n",
       "</tr>\n",
       "<tr>\n",
       "  <th>Time:</th>                 <td>14:17:52</td>     <th>  Log-Likelihood:    </th> <td> -1978.7</td>\n",
       "</tr>\n",
       "<tr>\n",
       "  <th>No. Observations:</th>      <td>   480</td>      <th>  AIC:               </th> <td>   3961.</td>\n",
       "</tr>\n",
       "<tr>\n",
       "  <th>Df Residuals:</th>          <td>   478</td>      <th>  BIC:               </th> <td>   3970.</td>\n",
       "</tr>\n",
       "<tr>\n",
       "  <th>Df Model:</th>              <td>     1</td>      <th>                     </th>     <td> </td>   \n",
       "</tr>\n",
       "<tr>\n",
       "  <th>Covariance Type:</th>      <td>nonrobust</td>    <th>                     </th>     <td> </td>   \n",
       "</tr>\n",
       "</table>\n",
       "<table class=\"simpletable\">\n",
       "<tr>\n",
       "      <td></td>         <th>coef</th>     <th>std err</th>      <th>t</th>      <th>P>|t|</th>  <th>[0.025</th>    <th>0.975]</th>  \n",
       "</tr>\n",
       "<tr>\n",
       "  <th>Intercept</th> <td>  187.4091</td> <td>    1.659</td> <td>  112.951</td> <td> 0.000</td> <td>  184.149</td> <td>  190.669</td>\n",
       "</tr>\n",
       "<tr>\n",
       "  <th>age</th>       <td>    0.2755</td> <td>    0.030</td> <td>    9.197</td> <td> 0.000</td> <td>    0.217</td> <td>    0.334</td>\n",
       "</tr>\n",
       "</table>\n",
       "<table class=\"simpletable\">\n",
       "<tr>\n",
       "  <th>Omnibus:</th>       <td>12.593</td> <th>  Durbin-Watson:     </th> <td>   0.383</td>\n",
       "</tr>\n",
       "<tr>\n",
       "  <th>Prob(Omnibus):</th> <td> 0.002</td> <th>  Jarque-Bera (JB):  </th> <td>   6.671</td>\n",
       "</tr>\n",
       "<tr>\n",
       "  <th>Skew:</th>          <td> 0.019</td> <th>  Prob(JB):          </th> <td>  0.0356</td>\n",
       "</tr>\n",
       "<tr>\n",
       "  <th>Kurtosis:</th>      <td> 2.424</td> <th>  Cond. No.          </th> <td>    135.</td>\n",
       "</tr>\n",
       "</table><br/><br/>Notes:<br/>[1] Standard Errors assume that the covariance matrix of the errors is correctly specified."
      ],
      "text/plain": [
       "<class 'statsmodels.iolib.summary.Summary'>\n",
       "\"\"\"\n",
       "                            OLS Regression Results                            \n",
       "==============================================================================\n",
       "Dep. Variable:            bounce_time   R-squared:                       0.150\n",
       "Model:                            OLS   Adj. R-squared:                  0.149\n",
       "Method:                 Least Squares   F-statistic:                     84.58\n",
       "Date:                Tue, 19 Apr 2022   Prob (F-statistic):           1.14e-18\n",
       "Time:                        14:17:52   Log-Likelihood:                -1978.7\n",
       "No. Observations:                 480   AIC:                             3961.\n",
       "Df Residuals:                     478   BIC:                             3970.\n",
       "Df Model:                           1                                         \n",
       "Covariance Type:            nonrobust                                         \n",
       "==============================================================================\n",
       "                 coef    std err          t      P>|t|      [0.025      0.975]\n",
       "------------------------------------------------------------------------------\n",
       "Intercept    187.4091      1.659    112.951      0.000     184.149     190.669\n",
       "age            0.2755      0.030      9.197      0.000       0.217       0.334\n",
       "==============================================================================\n",
       "Omnibus:                       12.593   Durbin-Watson:                   0.383\n",
       "Prob(Omnibus):                  0.002   Jarque-Bera (JB):                6.671\n",
       "Skew:                           0.019   Prob(JB):                       0.0356\n",
       "Kurtosis:                       2.424   Cond. No.                         135.\n",
       "==============================================================================\n",
       "\n",
       "Notes:\n",
       "[1] Standard Errors assume that the covariance matrix of the errors is correctly specified.\n",
       "\"\"\""
      ]
     },
     "execution_count": 77,
     "metadata": {},
     "output_type": "execute_result"
    }
   ],
   "source": [
    "# first, define the regression formula and pass it to the ordinary least squares function\n",
    "\n",
    "reg_formula = 'bounce_time ~ age'\n",
    "\n",
    "reg_model = smf.ols(formula = reg_formula, data=bounce_df)\n",
    "\n",
    "# use the fit() method to get the regression coefficients\n",
    "reg_results = reg_model.fit()\n",
    "\n",
    "# look at the results\n",
    "reg_results.summary()"
   ]
  },
  {
   "cell_type": "markdown",
   "metadata": {},
   "source": [
    "### Regression results: there is a positive and significant relationship between age and bounce_time\n",
    "\n",
    "The coeficient for 'age' is .2755 and the p value on the test of whether this is different from zero is something smaller than .05 ($P>|t|$ colum for age in the middle table of the results summary)"
   ]
  },
  {
   "cell_type": "markdown",
   "metadata": {},
   "source": [
    "#### Plot the best fit regression line\n",
    "\n",
    "The standard equation for a line is of the form \n",
    "\n",
    "$y = Intercept + w*x$\n",
    "\n",
    "Where x is each input value. \n",
    "    \n",
    "The regression results from the last question give you all the information you need to produce the best fitting regression line relating age to bounce time: if we ask for the summary() from the fit object we get an intercept from the model, and we have a coefficient that corresponds to the $w$ in our $w*x$ above.\n",
    "\n",
    "In this problem you will replot your age X bounce scatterplot from before but this time overlaying the best fit line. \n",
    "\n",
    "You can do that by first calling your seaborn plot and then calling matplotlib.pyplot to plot the line:\n",
    "\n",
    "```\n",
    "import seaborn as sns\n",
    "import numpy as np\n",
    "import matplotlib.pyplot as plt\n",
    "\n",
    "# do your scatterplot:\n",
    "sns.whatever_kind_of_plot(whatever inputs)\n",
    "\n",
    "# add a line by specifying a set of x values and y values to pass to plt.plot():\n",
    "plt.plot(x_vals, y_vals)\n",
    "```\n",
    "\n",
    "To complete this problem you will need to generate a set of y_vals by re-writing the equation for a line and including the relevant intercept and w values from your regression model. You can get a bunch of y values all at once by applying your code to an array of x values. \n",
    "    \n",
    "    You can use `x_vals = np.linspace(0,100)` to get an array of x values from zero to 100. Then, if you did something like this, where b1 is the value for the regression coefficient for your predictor and intercept is the Intercept, you would get a bunch of y values based on the coefficient:\n",
    "    \n",
    "    b1 = .45\n",
    "    intercept = 10.1\n",
    "    x_vals = np.linspace(0,100)\n",
    "    \n",
    "    y_pred = (b1*x_vals) + intercept\n",
    "   "
   ]
  },
  {
   "cell_type": "code",
   "execution_count": 82,
   "metadata": {},
   "outputs": [],
   "source": [
    "# get the intercept and the coefficient for age\n",
    "intercept = reg_results.params['Intercept']\n",
    "b1 = reg_results.params['age']\n",
    "\n",
    "# get the min and max age \n",
    "# these will be used to set the boundaries on our line\n",
    "amin = bounce_df['age'].min()\n",
    "amax = bounce_df['age'].max()\n",
    "\n",
    "# make an array of 100 x values going from min to max\n",
    "x = np.linspace(amin, amax, 100)\n",
    "\n",
    "\n",
    "# use the intercept, b1, and the x values to get predicted y values\n",
    "y_pred = (b1*x) + intercept"
   ]
  },
  {
   "cell_type": "code",
   "execution_count": 84,
   "metadata": {},
   "outputs": [
    {
     "data": {
      "text/plain": [
       "[<matplotlib.lines.Line2D at 0x7fb433a450d0>]"
      ]
     },
     "execution_count": 84,
     "metadata": {},
     "output_type": "execute_result"
    },
    {
     "data": {
      "image/png": "[encoded data removed]",
      "text/plain": [
       "<Figure size 360x360 with 1 Axes>"
      ]
     },
     "metadata": {
      "needs_background": "light"
     },
     "output_type": "display_data"
    }
   ],
   "source": [
    "# replot the scatterplot from before\n",
    "sns.relplot(x='age', y='bounce_time', data=bounce_df)\n",
    "\n",
    "\n",
    "# add the best fit line\n",
    "# make it red and dashed\n",
    "plt.plot(x, y_pred, 'r:')"
   ]
  },
  {
   "cell_type": "markdown",
   "metadata": {},
   "source": [
    "## Simulating data\n",
    "\n",
    "In this section we will take advantage of the random selection functions provided by numpy.\n",
    "\n",
    "```\n",
    "import numpy.random as npr\n",
    "\n",
    "# randomly select N numbers from a Gaussian normal distribution with mean mu and standard deviation sd\n",
    "mu = 0\n",
    "sd = 1\n",
    "N = 10\n",
    "npr.normal(mu, sd, N)\n",
    "\n",
    "# randomly select N numbers from a uniform distribution between min (inclusive) and max (not included)\n",
    "min = 0\n",
    "max = 100\n",
    "npr.uniform(min, max, N)\n",
    "\n",
    "# randomly select N INTEGERS from a uniform distribution between min (inclusive) and max (not included)\n",
    "min = 0\n",
    "max = 100\n",
    "npr.randint(min, max, N)\n",
    "\n",
    "\n",
    "# you can use np.mean() to get the average of a set of samples\n",
    "all_samples = npr.normal(mu, sd, N)\n",
    "all_samples_mean = np.mean(all_samples)\n",
    "\n",
    "# or in one line:\n",
    "all_samples_mean = np.mean(npr.normal(mu, sd, N))\n",
    "\n",
    "```\n",
    "\n"
   ]
  },
  {
   "cell_type": "markdown",
   "metadata": {},
   "source": [
    "Select 10 samples from a Gaussian normal distribution with mean and sd of your choice. Make a histogram."
   ]
  },
  {
   "cell_type": "code",
   "execution_count": 87,
   "metadata": {},
   "outputs": [
    {
     "data": {
      "text/plain": [
       "Text(0.5, 1.0, '10 samples from a normal distribution with mean=10 and sd=5')"
      ]
     },
     "execution_count": 87,
     "metadata": {},
     "output_type": "execute_result"
    },
    {
     "data": {
      "image/png": "[encoded data removed]",
      "text/plain": [
       "<Figure size 360x360 with 1 Axes>"
      ]
     },
     "metadata": {
      "needs_background": "light"
     },
     "output_type": "display_data"
    }
   ],
   "source": [
    "import numpy.random as npr\n",
    "\n",
    "\n",
    "n_samples = 10\n",
    "mu = 10\n",
    "sd = 5\n",
    "\n",
    "# get samples from a normal distribution\n",
    "d = npr.normal(mu, sd, n_samples)\n",
    "\n",
    "# make a histogram\n",
    "sns.displot(d)\n",
    "\n",
    "plt.title(f'{n_samples} samples from a normal distribution with mean={mu} and sd={sd}')"
   ]
  },
  {
   "cell_type": "markdown",
   "metadata": {},
   "source": [
    "Now try taking samples of 25, 50, 100, 500, 1000, and 10000 and plotting the histogram. What happens to the shape as the sample size goes up?"
   ]
  },
  {
   "cell_type": "code",
   "execution_count": 88,
   "metadata": {
    "scrolled": false
   },
   "outputs": [
    {
     "data": {
      "image/png": "[encoded data removed]",
      "text/plain": [
       "<Figure size 360x360 with 1 Axes>"
      ]
     },
     "metadata": {
      "needs_background": "light"
     },
     "output_type": "display_data"
    },
    {
     "data": {
      "image/png": "[encoded data removed]",
      "text/plain": [
       "<Figure size 360x360 with 1 Axes>"
      ]
     },
     "metadata": {
      "needs_background": "light"
     },
     "output_type": "display_data"
    },
    {
     "data": {
      "image/png": "[encoded data removed]",
      "text/plain": [
       "<Figure size 360x360 with 1 Axes>"
      ]
     },
     "metadata": {
      "needs_background": "light"
     },
     "output_type": "display_data"
    },
    {
     "data": {
      "image/png": "[encoded data removed]",
      "text/plain": [
       "<Figure size 360x360 with 1 Axes>"
      ]
     },
     "metadata": {
      "needs_background": "light"
     },
     "output_type": "display_data"
    },
    {
     "data": {
      "image/png": "[encoded data removed]",
      "text/plain": [
       "<Figure size 360x360 with 1 Axes>"
      ]
     },
     "metadata": {
      "needs_background": "light"
     },
     "output_type": "display_data"
    },
    {
     "data": {
      "image/png": "[encoded data removed]",
      "text/plain": [
       "<Figure size 360x360 with 1 Axes>"
      ]
     },
     "metadata": {
      "needs_background": "light"
     },
     "output_type": "display_data"
    }
   ],
   "source": [
    "sample_sizes = [25, 50, 100, 500, 1000, 10000]\n",
    "\n",
    "\n",
    "for n_samples in sample_sizes:\n",
    "    d = npr.normal(mu, sd, n_samples)\n",
    "    \n",
    "    sns.displot(d)\n",
    "    plt.title(f'{n_samples} samples')\n"
   ]
  },
  {
   "cell_type": "markdown",
   "metadata": {},
   "source": [
    "Select 1000 samples from a uniform distribution with min 0 and max 100. Histogram the results."
   ]
  },
  {
   "cell_type": "code",
   "execution_count": 90,
   "metadata": {},
   "outputs": [],
   "source": [
    "n_samples = 1000\n",
    "smallest = 0\n",
    "largest = 100\n",
    "\n",
    "d = npr.uniform(smallest, largest, n_samples)"
   ]
  },
  {
   "cell_type": "code",
   "execution_count": 91,
   "metadata": {},
   "outputs": [
    {
     "data": {
      "text/plain": [
       "Text(0.5, 1.0, '1000 samples from uniform distribution over 0 to 100')"
      ]
     },
     "execution_count": 91,
     "metadata": {},
     "output_type": "execute_result"
    },
    {
     "data": {
      "image/png": "[encoded data removed]",
      "text/plain": [
       "<Figure size 360x360 with 1 Axes>"
      ]
     },
     "metadata": {
      "needs_background": "light"
     },
     "output_type": "display_data"
    }
   ],
   "source": [
    "sns.displot(d)\n",
    "\n",
    "plt.title(f'{n_samples} samples from uniform distribution over {smallest} to {largest}')"
   ]
  },
  {
   "cell_type": "markdown",
   "metadata": {},
   "source": [
    "#### random samples in a loop\n",
    "\n",
    "Random number samples can be variable, and although you might be drawing data from a true normal distribution using npr.normal(), by chance you might sometimes get extreme values.\n",
    "    \n",
    "Build a loop that will run 1000 times. \n",
    "\n",
    "Each time through the loop, do a new sample of 25 values from a normal distribution with mean 0 and SD of 1. Then calculate the mean of those values using np.mean(x) where x is the set of 25 random samples.\n",
    "\n",
    "Store (append) the mean from each iteration of your loop in a list variable. You will want to make an empty list before the loop and then append the mean values to that.\n",
    "\n",
    "When you're done, histogram your 1000 mean values. You have now generated the \"sampling distribution of the mean\" which gives a sense of how often you would expect to observe sample means of various values give your sample size."
   ]
  },
  {
   "cell_type": "code",
   "execution_count": 95,
   "metadata": {},
   "outputs": [],
   "source": [
    "mu = 0\n",
    "\n",
    "sd = 1\n",
    "\n",
    "n_samples = 25\n",
    "\n",
    "# an empty list to append to in the loop\n",
    "sample_means = []\n",
    "\n",
    "n_loops = 1000\n",
    "\n",
    "for i in range(0, n_loops):\n",
    "\n",
    "    # take a random sample\n",
    "    d = npr.normal(mu, sd, n_samples)\n",
    "    \n",
    "    # calculate the mean of the sample and save the value\n",
    "    sample_means.append(np.mean(d))"
   ]
  },
  {
   "cell_type": "code",
   "execution_count": 97,
   "metadata": {},
   "outputs": [
    {
     "data": {
      "text/plain": [
       "<seaborn.axisgrid.FacetGrid at 0x7fb435ed11f0>"
      ]
     },
     "execution_count": 97,
     "metadata": {},
     "output_type": "execute_result"
    },
    {
     "data": {
      "image/png": "[encoded data removed]",
      "text/plain": [
       "<Figure size 360x360 with 1 Axes>"
      ]
     },
     "metadata": {
      "needs_background": "light"
     },
     "output_type": "display_data"
    }
   ],
   "source": [
    "sns.displot(sample_means)\n",
    "\n"
   ]
  },
  {
   "cell_type": "code",
   "execution_count": null,
   "metadata": {},
   "outputs": [],
   "source": []
  }
 ],
 "metadata": {
  "kernelspec": {
   "display_name": "Python 3 (ipykernel)",
   "language": "python",
   "name": "python3"
  },
  "language_info": {
   "codemirror_mode": {
    "name": "ipython",
    "version": 3
   },
   "file_extension": ".py",
   "mimetype": "text/x-python",
   "name": "python",
   "nbconvert_exporter": "python",
   "pygments_lexer": "ipython3",
   "version": "3.8.12"
  }
 },
 "nbformat": 4,
 "nbformat_minor": 4
}
