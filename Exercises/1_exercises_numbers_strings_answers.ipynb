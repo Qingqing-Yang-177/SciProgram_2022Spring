{
 "cells": [
  {
   "cell_type": "markdown",
   "metadata": {},
   "source": [
    "#### Create a float variable"
   ]
  },
  {
   "cell_type": "code",
   "execution_count": 1,
   "metadata": {},
   "outputs": [
    {
     "name": "stdout",
     "output_type": "stream",
     "text": [
      "<class 'float'>\n"
     ]
    }
   ],
   "source": [
    "# create a float by using a decimal point number\n",
    "x = 20.2\n",
    "print(type(x))"
   ]
  },
  {
   "cell_type": "code",
   "execution_count": 2,
   "metadata": {},
   "outputs": [
    {
     "name": "stdout",
     "output_type": "stream",
     "text": [
      "<class 'float'>\n"
     ]
    }
   ],
   "source": [
    "# create a float by using a decimal point number\n",
    "x = 10.0\n",
    "print(type(x))"
   ]
  },
  {
   "cell_type": "code",
   "execution_count": 15,
   "metadata": {},
   "outputs": [
    {
     "name": "stdout",
     "output_type": "stream",
     "text": [
      "x is a:\n",
      "<class 'int'>\n",
      "now x is a:\n",
      "<class 'float'>\n"
     ]
    }
   ],
   "source": [
    "# use the float() function to convert from another\n",
    "# type like integer\n",
    "\n",
    "# make an integer and check the data type\n",
    "x = 9\n",
    "print('x is a:')\n",
    "print(type(x))\n",
    "\n",
    "\n",
    "\n",
    "\n",
    "# use float() to convert x to a floating\n",
    "# point number. store the result back in the\n",
    "# x variable, overwriting the previous integer value\n",
    "x = float(x)\n",
    "print('now x is a:')\n",
    "\n",
    "print(type(x))"
   ]
  },
  {
   "cell_type": "markdown",
   "metadata": {},
   "source": [
    "#### Find the data type of a float variable"
   ]
  },
  {
   "cell_type": "code",
   "execution_count": 17,
   "metadata": {},
   "outputs": [
    {
     "data": {
      "text/plain": [
       "float"
      ]
     },
     "execution_count": 17,
     "metadata": {},
     "output_type": "execute_result"
    }
   ],
   "source": [
    "# use the type() function with an input of a variable\n",
    "# whose type you want to check\n",
    "type(x)"
   ]
  },
  {
   "cell_type": "markdown",
   "metadata": {},
   "source": [
    "#### Run two commands but only show the output of 1"
   ]
  },
  {
   "cell_type": "code",
   "execution_count": 23,
   "metadata": {},
   "outputs": [
    {
     "name": "stdout",
     "output_type": "stream",
     "text": [
      "7\n"
     ]
    }
   ],
   "source": [
    "# Two ways to get jupyter notebooks to give you output\n",
    "# make a variable name the last line of the cell or use pring\n",
    "\n",
    "x = 3\n",
    "# this won't get displayed because it's not the last line\n",
    "x\n",
    "\n",
    "# display this result\n",
    "print(x+4)\n"
   ]
  },
  {
   "cell_type": "markdown",
   "metadata": {},
   "source": [
    "#### Make the number 3 a string, and find the type of that output"
   ]
  },
  {
   "cell_type": "code",
   "execution_count": 24,
   "metadata": {},
   "outputs": [
    {
     "name": "stdout",
     "output_type": "stream",
     "text": [
      "<class 'int'>\n",
      "<class 'str'>\n"
     ]
    }
   ],
   "source": [
    "# use the str() function to convert a variable\n",
    "# to a string\n",
    "\n",
    "# make a number\n",
    "x = 3\n",
    "\n",
    "# check the type\n",
    "print(type(x))\n",
    "\n",
    "\n",
    "# convert x to a string\n",
    "xstr = str(x)\n",
    "\n",
    "# check the type\n",
    "print(type(xstr))\n"
   ]
  },
  {
   "cell_type": "markdown",
   "metadata": {},
   "source": [
    "#### Show all available variables in the kernel"
   ]
  },
  {
   "cell_type": "code",
   "execution_count": 25,
   "metadata": {},
   "outputs": [
    {
     "name": "stdout",
     "output_type": "stream",
     "text": [
      "Variable   Type    Data/Info\n",
      "----------------------------\n",
      "x          int     3\n",
      "xstr       str     3\n"
     ]
    }
   ],
   "source": [
    "%whos"
   ]
  },
  {
   "cell_type": "markdown",
   "metadata": {},
   "source": [
    "#### String Indexing "
   ]
  },
  {
   "cell_type": "markdown",
   "metadata": {},
   "source": [
    "Print the last character in a string 'Python'"
   ]
  },
  {
   "cell_type": "code",
   "execution_count": 26,
   "metadata": {},
   "outputs": [
    {
     "name": "stdout",
     "output_type": "stream",
     "text": [
      "n\n"
     ]
    }
   ],
   "source": [
    "s = 'Python'\n",
    "\n",
    "# solution 1: use reverse indexing starting from -1\n",
    "print(s[-1])"
   ]
  },
  {
   "cell_type": "code",
   "execution_count": 30,
   "metadata": {},
   "outputs": [
    {
     "name": "stdout",
     "output_type": "stream",
     "text": [
      "s is 6 letters long\n",
      "n\n"
     ]
    }
   ],
   "source": [
    "s = 'Python'\n",
    "\n",
    "# solution 2: use forward indexing starting from 0 \n",
    "# final position will the length of the string minus 1\n",
    "# check the python_basics_numbers_and_strings.ipynb notebook\n",
    "# for more details\n",
    "\n",
    "# get the length of the string\n",
    "# using the len() function\n",
    "\n",
    "s_len = len(s)\n",
    "print(f's is {s_len} letters long')\n",
    "\n",
    "# the final position will be the length\n",
    "# minus 1\n",
    "idx = s_len-1\n",
    "\n",
    "# use the calculated index value to extract the \n",
    "# last character\n",
    "final_letter = s[idx]\n",
    "\n",
    "print(final_letter)\n",
    "\n",
    "\n"
   ]
  },
  {
   "cell_type": "code",
   "execution_count": 31,
   "metadata": {},
   "outputs": [
    {
     "name": "stdout",
     "output_type": "stream",
     "text": [
      "n\n"
     ]
    }
   ],
   "source": [
    "# solution 2 in one line\n",
    "s = 'Python'\n",
    "print(s[len(s)-1])"
   ]
  },
  {
   "cell_type": "markdown",
   "metadata": {},
   "source": [
    "#### Slicing"
   ]
  },
  {
   "cell_type": "markdown",
   "metadata": {},
   "source": [
    "Print the 2nd to 4th characters in your string"
   ]
  },
  {
   "cell_type": "code",
   "execution_count": 35,
   "metadata": {},
   "outputs": [
    {
     "name": "stdout",
     "output_type": "stream",
     "text": [
      "Python\n",
      "yth\n"
     ]
    }
   ],
   "source": [
    "# slicing takes a start position, a colon, and a stop position\n",
    "# you will get back everything from the start up to, but not including\n",
    "# the stop position\n",
    "\n",
    "# to get second to fourth characters in our string\n",
    "# we need index positions 1 to 3 (index positions start from 0)\n",
    "\n",
    "# slice from 1:4 because we get everything up to but not including the stop\n",
    "# position\n",
    "print(s)\n",
    "\n",
    "\n",
    "# get the second to fourth letters\n",
    "print(s[1:4])"
   ]
  },
  {
   "cell_type": "markdown",
   "metadata": {},
   "source": [
    "In string[start:stop], what is special about that stop value? It is not included in the output. The slicing stops right at that value."
   ]
  },
  {
   "cell_type": "markdown",
   "metadata": {},
   "source": [
    "## String Operations \n",
    "\n",
    "***Conduct these string operations:***\n",
    "- Add a _ between all letters of 'September'\n",
    "- Remove the spaces from  '          September     '"
   ]
  },
  {
   "cell_type": "code",
   "execution_count": 39,
   "metadata": {},
   "outputs": [
    {
     "data": {
      "text/plain": [
       "'S_e_p_t_e_m_b_e_r'"
      ]
     },
     "execution_count": 39,
     "metadata": {},
     "output_type": "execute_result"
    }
   ],
   "source": [
    "# ADDING A CHARACTER BETWEEN ELEMENTS OF A STRING\n",
    "# each string variable has a join() method or function\n",
    "# attached to it\n",
    "#\n",
    "# the join() method takes as input a string and it will\n",
    "# insert the value of the calling variable between\n",
    "# each element of the input string\n",
    "#\n",
    "# Seeing how it works will clarify:\n",
    "\n",
    "# first make a string that will get underscores\n",
    "# inserted into it:\n",
    "spt = 'September'\n",
    "\n",
    "# make a variable that holds the character we're going\n",
    "# to be inserting or using to \"join\" the other string letters\n",
    "join_char = '_'\n",
    "\n",
    "\n",
    "# now use the join() method attached to our second variable\n",
    "# and give \"September as the input\"\n",
    "join_char.join(spt)\n",
    "\n"
   ]
  },
  {
   "cell_type": "code",
   "execution_count": 40,
   "metadata": {},
   "outputs": [
    {
     "data": {
      "text/plain": [
       "'a-b-c-d-e-f-g'"
      ]
     },
     "execution_count": 40,
     "metadata": {},
     "output_type": "execute_result"
    }
   ],
   "source": [
    "# another join example with a different set of strings\n",
    "s1 = 'abcdefg'\n",
    "\n",
    "# set a symbol to use to join s1 elements\n",
    "s2 = '-'\n",
    "\n",
    "# insert a dash between each element of s1\n",
    "s2.join(s1)"
   ]
  },
  {
   "cell_type": "code",
   "execution_count": 42,
   "metadata": {},
   "outputs": [
    {
     "data": {
      "text/plain": [
       "'September'"
      ]
     },
     "execution_count": 42,
     "metadata": {},
     "output_type": "execute_result"
    }
   ],
   "source": [
    "# REMOVE OR REPLACE PART OF A STRING\n",
    "# each string variable has a replace() method\n",
    "# attached to it.\n",
    "# replace() takes two inputs: first is what you're looking for\n",
    "# second input is what you want to replace it with\n",
    "\n",
    "# make a variable with some spaces in it\n",
    "s1 = \" September \"\n",
    "\n",
    "# use the replace method attached to our s1 variable\n",
    "# first input is what we want to replace (a space)\n",
    "# second is what we want instead (in this case nothing at all)\n",
    "s1.replace(\" \",\"\")"
   ]
  },
  {
   "cell_type": "code",
   "execution_count": 43,
   "metadata": {},
   "outputs": [
    {
     "data": {
      "text/plain": [
       "'November'"
      ]
     },
     "execution_count": 43,
     "metadata": {},
     "output_type": "execute_result"
    }
   ],
   "source": [
    "# Replace example 2\n",
    "# Replace Sept with Nov\n",
    "s1 = \"September\"\n",
    "\n",
    "# use the replace method attached to our s1 variable\n",
    "# first input is what we want to replace (a space)\n",
    "# second is what we want instead (in this case nothing at all)\n",
    "s1.replace(\"Sept\",\"Nov\")"
   ]
  },
  {
   "cell_type": "markdown",
   "metadata": {},
   "source": [
    "#### Count how many e's are in september"
   ]
  },
  {
   "cell_type": "code",
   "execution_count": 46,
   "metadata": {},
   "outputs": [
    {
     "data": {
      "text/plain": [
       "3"
      ]
     },
     "execution_count": 46,
     "metadata": {},
     "output_type": "execute_result"
    }
   ],
   "source": [
    "# each string has a count() method\n",
    "# attached to it\n",
    "# count() takes as input a string (single or multiple characters)\n",
    "# and returns how many times that substring occurs in your calling variable\n",
    "s = 'september'\n",
    "s.count('e')\n"
   ]
  },
  {
   "cell_type": "code",
   "execution_count": 48,
   "metadata": {},
   "outputs": [
    {
     "data": {
      "text/plain": [
       "3"
      ]
     },
     "execution_count": 48,
     "metadata": {},
     "output_type": "execute_result"
    }
   ],
   "source": [
    "# store the to-be-found string in a variable\n",
    "sub_string = 'e'\n",
    "\n",
    "s.count(sub_string)"
   ]
  },
  {
   "cell_type": "code",
   "execution_count": 49,
   "metadata": {},
   "outputs": [
    {
     "name": "stdout",
     "output_type": "stream",
     "text": [
      "september\n",
      "1\n"
     ]
    }
   ],
   "source": [
    "# count how many times larger substring appears\n",
    "sub_string= 'em'\n",
    "print(s)\n",
    "print(s.count(sub_string))\n"
   ]
  },
  {
   "cell_type": "markdown",
   "metadata": {},
   "source": [
    "#### Find the index of the first of the e's in september"
   ]
  },
  {
   "cell_type": "code",
   "execution_count": 51,
   "metadata": {},
   "outputs": [
    {
     "data": {
      "text/plain": [
       "1"
      ]
     },
     "execution_count": 51,
     "metadata": {},
     "output_type": "execute_result"
    }
   ],
   "source": [
    "# Strings have a find() method attached to them\n",
    "# find takes as input a string (single or multiple characters)\n",
    "# and returns the index position of the FIRST OCCURRENCE\n",
    "# of that string\n",
    "s = 'september'\n",
    "\n",
    "# use find() to get the index of the first 'e'\n",
    "s.find('e')\n",
    "\n",
    "# notice that we only get one value back\n",
    "# (1, indicating that the first e is the second letter in our string)"
   ]
  },
  {
   "cell_type": "code",
   "execution_count": 52,
   "metadata": {},
   "outputs": [
    {
     "data": {
      "text/plain": [
       "10"
      ]
     },
     "execution_count": 52,
     "metadata": {},
     "output_type": "execute_result"
    }
   ],
   "source": [
    "# use find() with a multi-letter string\n",
    "email = 'st704@nyu.edu'\n",
    "\n",
    "email.find('edu')"
   ]
  },
  {
   "cell_type": "markdown",
   "metadata": {},
   "source": [
    "##### Delete the e's in september"
   ]
  },
  {
   "cell_type": "code",
   "execution_count": 53,
   "metadata": {},
   "outputs": [
    {
     "data": {
      "text/plain": [
       "'sptmbr'"
      ]
     },
     "execution_count": 53,
     "metadata": {},
     "output_type": "execute_result"
    }
   ],
   "source": [
    "# use the str.replace() method with \n",
    "# first input 'e' and second a null value ''\n",
    "s = 'september'\n",
    "\n",
    "s.replace('e','')"
   ]
  },
  {
   "cell_type": "markdown",
   "metadata": {},
   "source": [
    "##### Create string \"this is september\" from 5 separate strings"
   ]
  },
  {
   "cell_type": "code",
   "execution_count": 56,
   "metadata": {},
   "outputs": [
    {
     "name": "stdout",
     "output_type": "stream",
     "text": [
      "this is september\n"
     ]
    }
   ],
   "source": [
    "# use + string concatenation\n",
    "\n",
    "s1 = 'this'\n",
    "# s2 is a space\n",
    "s2 = ' '\n",
    "s3 = 'is'\n",
    "# s4 is also space, set it equal to s2\n",
    "s4 = s2\n",
    "\n",
    "s5 = 'september'\n",
    "\n",
    "\n",
    "big_string = s1 + s2 + s3 + s4 + s5\n",
    "print(big_string)\n",
    "\n"
   ]
  },
  {
   "cell_type": "code",
   "execution_count": 57,
   "metadata": {},
   "outputs": [
    {
     "name": "stdout",
     "output_type": "stream",
     "text": [
      "this is september\n"
     ]
    }
   ],
   "source": [
    "# do it with f string\n",
    "\n",
    "big_string = f'{s1}{s2}{s3}{s4}{s5}'\n",
    "print(big_string)"
   ]
  },
  {
   "cell_type": "code",
   "execution_count": 59,
   "metadata": {},
   "outputs": [
    {
     "name": "stdout",
     "output_type": "stream",
     "text": [
      "this is september\n"
     ]
    }
   ],
   "source": [
    "# a nice feature of f strings over + concatenation\n",
    "# is that we can avoid seprating definitely the spaces\n",
    "# as variables and can just use them as spaces in the\n",
    "# f string itself\n",
    "\n",
    "big_string2 = f'{s1} {s3} {s5}'\n",
    "print(big_string2)"
   ]
  },
  {
   "cell_type": "markdown",
   "metadata": {},
   "source": [
    "#### Create 'September 2020' string where the 2020 was originally a number"
   ]
  },
  {
   "cell_type": "code",
   "execution_count": 61,
   "metadata": {},
   "outputs": [
    {
     "name": "stdout",
     "output_type": "stream",
     "text": [
      "September 2020\n"
     ]
    }
   ],
   "source": [
    "# Use plus concatenation and convert 2020 to a string\n",
    "month = 'September'\n",
    "year = 2020\n",
    "\n",
    "# have to insert a space\n",
    "# and have to convert year to string\n",
    "# before we glue it to the other two strings(month and space)\n",
    "new_string = month + ' ' + str(year)\n",
    "print(new_string)"
   ]
  },
  {
   "cell_type": "markdown",
   "metadata": {},
   "source": [
    "#### Create the string 'September 2020' by combining 'september' with the number 2020 without converting the year variable (i.e. without using the str() function)\n",
    "\n",
    "__hint__: look into \"f strings\" in the strings and numbers notebook."
   ]
  },
  {
   "cell_type": "code",
   "execution_count": 63,
   "metadata": {},
   "outputs": [
    {
     "name": "stdout",
     "output_type": "stream",
     "text": [
      "September 2020\n"
     ]
    }
   ],
   "source": [
    "# Use f string\n",
    "# advantage is that we don't need to use pluses\n",
    "# and we don't need to convert year to string\n",
    "\n",
    "new_string2 = f'{month} {year}'\n",
    "print(new_string2)"
   ]
  },
  {
   "cell_type": "markdown",
   "metadata": {},
   "source": [
    "#### Make 'SEPTEMBER' into september then September using functions only\n",
    "\n",
    "__hint__ see what happens if you make a string variable and then use .upper(), .lower(), or .title() on it.\n",
    "\n",
    "my_string = 'SHANNON'\n",
    "\n",
    "my_string.upper()\n",
    "\n",
    "my_string.lower()\n",
    "\n",
    "my_string.title()"
   ]
  },
  {
   "cell_type": "code",
   "execution_count": 67,
   "metadata": {},
   "outputs": [
    {
     "name": "stdout",
     "output_type": "stream",
     "text": [
      "september\n",
      "September\n"
     ]
    }
   ],
   "source": [
    "s1 = 'SEPTEMBER'\n",
    "\n",
    "# convert to lower case:\n",
    "print(s1.lower())\n",
    "\n",
    "# convert to a title format\n",
    "print(s1.title())"
   ]
  },
  {
   "cell_type": "markdown",
   "metadata": {},
   "source": [
    "#### Add 10 zeros to the beginning of 'September' using a function"
   ]
  },
  {
   "cell_type": "code",
   "execution_count": 69,
   "metadata": {},
   "outputs": [
    {
     "name": "stdout",
     "output_type": "stream",
     "text": [
      "00a\n"
     ]
    }
   ],
   "source": [
    "# use the zfill method or function attached to each string\n",
    "# z fill takes as input the total number of characters you want\n",
    "# your string to be and adds enough zeros to the beginning to make \n",
    "# it that length\n",
    "\n",
    "# basic example\n",
    "str1 = 'a'\n",
    "\n",
    "# make our string three characters wide by adding\n",
    "# two zeros to the front\n",
    "print(str1.zfill(3))\n",
    "\n"
   ]
  },
  {
   "cell_type": "code",
   "execution_count": 72,
   "metadata": {},
   "outputs": [
    {
     "data": {
      "text/plain": [
       "'abcd'"
      ]
     },
     "execution_count": 72,
     "metadata": {},
     "output_type": "execute_result"
    }
   ],
   "source": [
    "# if your string is already as long or longer\n",
    "# than the zfill input then nothing will happen:\n",
    "str2 = 'abcd'\n",
    "str2.zfill(3)"
   ]
  },
  {
   "cell_type": "code",
   "execution_count": 78,
   "metadata": {},
   "outputs": [
    {
     "name": "stdout",
     "output_type": "stream",
     "text": [
      "s1_length is 9\n"
     ]
    },
    {
     "data": {
      "text/plain": [
       "'0000000000September'"
      ]
     },
     "execution_count": 78,
     "metadata": {},
     "output_type": "execute_result"
    }
   ],
   "source": [
    "# to add 10 zeros we need to know the current length\n",
    "# of our string and then we can use that number plus 10 \n",
    "# as input to zfill\n",
    "s1 = 'September'\n",
    "\n",
    "s1_length = len(s1)\n",
    "\n",
    "# use an f string to tell us about s1\n",
    "print(f's1_length is {s1_length}')\n",
    "\n",
    "\n",
    "\n",
    "# Now use the calculated length and add 10\n",
    "# so that zfill will add 10 zeros to\n",
    "# the beginning of the string\n",
    "s1.zfill(10+s1_length)\n",
    "\n",
    "\n",
    "\n",
    "# s1.zfill(10)\n"
   ]
  },
  {
   "cell_type": "markdown",
   "metadata": {},
   "source": [
    "#### Divide 25 by 5 "
   ]
  },
  {
   "cell_type": "code",
   "execution_count": 79,
   "metadata": {},
   "outputs": [
    {
     "data": {
      "text/plain": [
       "5.0"
      ]
     },
     "execution_count": 79,
     "metadata": {},
     "output_type": "execute_result"
    }
   ],
   "source": [
    "25/5"
   ]
  },
  {
   "cell_type": "code",
   "execution_count": 80,
   "metadata": {},
   "outputs": [
    {
     "data": {
      "text/plain": [
       "5.0"
      ]
     },
     "execution_count": 80,
     "metadata": {},
     "output_type": "execute_result"
    }
   ],
   "source": [
    "# or:\n",
    "x = 25\n",
    "y = 5\n",
    "x/y"
   ]
  },
  {
   "cell_type": "code",
   "execution_count": 83,
   "metadata": {},
   "outputs": [
    {
     "data": {
      "text/plain": [
       "(5, 0)"
      ]
     },
     "execution_count": 83,
     "metadata": {},
     "output_type": "execute_result"
    }
   ],
   "source": [
    "# or:\n",
    "\n",
    "divmod(x,y)\n",
    "\n",
    "# first entry of the output is quotient, second is remainder"
   ]
  },
  {
   "cell_type": "code",
   "execution_count": 92,
   "metadata": {},
   "outputs": [
    {
     "name": "stdout",
     "output_type": "stream",
     "text": [
      "<class 'tuple'>\n",
      "(5, 0)\n",
      "5 goes into 25 5 times with 0 left over\n"
     ]
    }
   ],
   "source": [
    "# optional: store the answer in a variable, extract a value\n",
    "\n",
    "x = 25\n",
    "y = 5\n",
    "\n",
    "result = divmod(x,y)\n",
    "\n",
    "# the result is a data type called a tuple\n",
    "# which we haven't dealt with yet\n",
    "# Tuples can have multiple values\n",
    "# and we access them with indexing just like\n",
    "# for strings and lists\n",
    "print(type(result))\n",
    "\n",
    "\n",
    "print(result)\n",
    "\n",
    "\n",
    "# exract the values from the result\n",
    "quotient = result[0]\n",
    "remainder = result[1]\n",
    "\n",
    "print(f'{y} goes into {x} {quotient} times with {remainder} left over')"
   ]
  },
  {
   "cell_type": "markdown",
   "metadata": {},
   "source": [
    "#### Get the remainder of 25 divided by 6\n"
   ]
  },
  {
   "cell_type": "code",
   "execution_count": 95,
   "metadata": {},
   "outputs": [
    {
     "name": "stdout",
     "output_type": "stream",
     "text": [
      "1\n"
     ]
    }
   ],
   "source": [
    "# option 1: the modulo operator gives us the remainder\n",
    "remainder = 25%6\n",
    "print(remainder)"
   ]
  },
  {
   "cell_type": "code",
   "execution_count": 97,
   "metadata": {},
   "outputs": [
    {
     "name": "stdout",
     "output_type": "stream",
     "text": [
      "1\n"
     ]
    }
   ],
   "source": [
    "# option 2: use the divmod function like above\n",
    "x = 25\n",
    "y = 6\n",
    "result = divmod(x,y)\n",
    "\n",
    "# divmod result has two entries\n",
    "# first is quotient\n",
    "# second is remainder\n",
    "# use indexing to extract the remainder value\n",
    "remainder = result[1]\n",
    "print(remainder)"
   ]
  },
  {
   "cell_type": "markdown",
   "metadata": {},
   "source": [
    "#### Use the modulo operator to show that 25 is not an even number"
   ]
  },
  {
   "cell_type": "code",
   "execution_count": 98,
   "metadata": {},
   "outputs": [
    {
     "data": {
      "text/plain": [
       "1"
      ]
     },
     "execution_count": 98,
     "metadata": {},
     "output_type": "execute_result"
    }
   ],
   "source": [
    "# any even number divided by 2 has remainder zero\n",
    "# any odd number divided by 2 has remainder 1\n",
    "\n",
    "# use modulo operator and see if result is zero (even number)\n",
    "# or 1 (odd number)\n",
    "25%2"
   ]
  },
  {
   "cell_type": "code",
   "execution_count": 99,
   "metadata": {},
   "outputs": [
    {
     "data": {
      "text/plain": [
       "0"
      ]
     },
     "execution_count": 99,
     "metadata": {},
     "output_type": "execute_result"
    }
   ],
   "source": [
    "24%2"
   ]
  }
 ],
 "metadata": {
  "kernelspec": {
   "display_name": "Python 3 (ipykernel)",
   "language": "python",
   "name": "python3"
  },
  "language_info": {
   "codemirror_mode": {
    "name": "ipython",
    "version": 3
   },
   "file_extension": ".py",
   "mimetype": "text/x-python",
   "name": "python",
   "nbconvert_exporter": "python",
   "pygments_lexer": "ipython3",
   "version": "3.8.12"
  }
 },
 "nbformat": 4,
 "nbformat_minor": 4
}
