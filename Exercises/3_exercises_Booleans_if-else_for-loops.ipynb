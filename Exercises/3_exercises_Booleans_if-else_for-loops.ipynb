{
 "cells": [
  {
   "cell_type": "markdown",
   "metadata": {},
   "source": [
    "### 1. Make a variable named 'a' with a number in it and check whether it is `greater than or equal` to 50"
   ]
  },
  {
   "cell_type": "code",
   "execution_count": 1,
   "metadata": {},
   "outputs": [
    {
     "name": "stdout",
     "output_type": "stream",
     "text": [
      "False\n"
     ]
    }
   ],
   "source": [
    "a = 1\n",
    "print(1 >= 50)"
   ]
  },
  {
   "cell_type": "markdown",
   "metadata": {},
   "source": [
    "### 2. Define two different string variables. Use a 'not equal to` comparison to see if they are the same. You should have two different strings and the result of your check should be a True output (i.e., it is True that they are not equal to each other)"
   ]
  },
  {
   "cell_type": "code",
   "execution_count": 3,
   "metadata": {},
   "outputs": [
    {
     "data": {
      "text/plain": [
       "True"
      ]
     },
     "execution_count": 3,
     "metadata": {},
     "output_type": "execute_result"
    }
   ],
   "source": [
    "a = 'sda'\n",
    "b = 'sadasd'\n",
    "a != b"
   ]
  },
  {
   "cell_type": "markdown",
   "metadata": {},
   "source": [
    "### 3. Use a `for loop` and `if/else statement` statement to find whether a list of numbers is `odd or even`. The list should contain the following numbers: 2, 48, 19, 58, 475, 38, 1919, 44.\n",
    "\n",
    "For each number in the list of numbers you should print out the number itself and whether it is even or odd."
   ]
  },
  {
   "cell_type": "markdown",
   "metadata": {},
   "source": [
    "<div class=\"alert alert-block alert-info\">\n",
    "Hint: When divided by 2, all even numbers have a 0 remainder and all odd numbers have 1 as the remainder.\n",
    "</div>"
   ]
  },
  {
   "cell_type": "code",
   "execution_count": 4,
   "metadata": {},
   "outputs": [
    {
     "name": "stdout",
     "output_type": "stream",
     "text": [
      "2 is a even number\n",
      "48 is a even number\n",
      "19 is a odd number\n",
      "58 is a even number\n",
      "475 is a odd number\n",
      "38 is a even number\n",
      "1919 is a odd number\n",
      "44 is a even number\n"
     ]
    }
   ],
   "source": [
    "a = [2, 48, 19, 58, 475, 38, 1919, 44]\n",
    "for i in a:\n",
    "    if i%2==0:\n",
    "        print(i,'is a even number')\n",
    "    elif i%2 ==1:\n",
    "        print(i,\"is a odd number\")"
   ]
  },
  {
   "cell_type": "markdown",
   "metadata": {},
   "source": [
    "### 4. Use `membership operators` to check the following conditions:\n",
    "\n",
    "- Get a Boolean True or False that indicates whether 2 `is in` the last list you created \n",
    "- Get a Boolean True or False that indicates whether 59 `is not in` the list you created\n",
    "\n",
    "\n",
    "Examples:\n",
    "```\n",
    "list_of_numbers = [1,2,3,4,5]\n",
    "\n",
    "# check if 5 is in the list\n",
    "5 in list_of_numbers\n",
    "\n",
    "# check if 6 is not in the list\n",
    "6 not in list_of_numbers\n",
    "\n",
    "```"
   ]
  },
  {
   "cell_type": "markdown",
   "metadata": {},
   "source": [
    "<div class=\"alert alert-block alert-info\">\n",
    "Hint: review the section <strong>Membership Operators (in and not in)</strong> in the checking_conditions_Booleans.ipynb notebook\n",
    "</div>"
   ]
  },
  {
   "cell_type": "code",
   "execution_count": 7,
   "metadata": {},
   "outputs": [
    {
     "name": "stdout",
     "output_type": "stream",
     "text": [
      "2 is in the list\n",
      "59 is not in the list\n"
     ]
    }
   ],
   "source": [
    "list = [1,2,3,4,5,6,7,8]\n",
    "if 2 in list:\n",
    "    print(\"2 is in the list\")\n",
    "else:\n",
    "    print(\"2 is not in the list\")\n",
    "if 59 in list:\n",
    "    print(\"59 is in the list\")\n",
    "else:\n",
    "    print(\"59 is not in the list\")"
   ]
  },
  {
   "cell_type": "markdown",
   "metadata": {},
   "source": [
    "### 5. Use a `membership operator` to find whether a string object is within another string object\n",
    "\n",
    "You will need to first define to string and then use \"in\" or \"not in\" just like with lists."
   ]
  },
  {
   "cell_type": "code",
   "execution_count": 8,
   "metadata": {},
   "outputs": [
    {
     "data": {
      "text/plain": [
       "True"
      ]
     },
     "execution_count": 8,
     "metadata": {},
     "output_type": "execute_result"
    }
   ],
   "source": [
    "a = \"sad\"\n",
    "b=\"notsad\"\n",
    "a in b"
   ]
  },
  {
   "cell_type": "markdown",
   "metadata": {},
   "source": [
    "### 6. Use the range function in a for loop to display the numbers 0 to 25\n",
    "\n",
    "<div class=\"alert alert-block alert-info\">\n",
    "Hint: review the section <strong>The range() data type</strong> in the flow_control_forloops_ifelse.ipynb notebook\n",
    "</div>"
   ]
  },
  {
   "cell_type": "code",
   "execution_count": 9,
   "metadata": {},
   "outputs": [
    {
     "name": "stdout",
     "output_type": "stream",
     "text": [
      "0\n",
      "1\n",
      "2\n",
      "3\n",
      "4\n",
      "5\n",
      "6\n",
      "7\n",
      "8\n",
      "9\n",
      "10\n",
      "11\n",
      "12\n",
      "13\n",
      "14\n",
      "15\n",
      "16\n",
      "17\n",
      "18\n",
      "19\n",
      "20\n",
      "21\n",
      "22\n",
      "23\n",
      "24\n",
      "25\n"
     ]
    }
   ],
   "source": [
    "for i in range(26):\n",
    "    print(i)"
   ]
  },
  {
   "cell_type": "markdown",
   "metadata": {},
   "source": [
    "### 7. Use the range function in a for loop to display all the even numbers in the range 20-26"
   ]
  },
  {
   "cell_type": "code",
   "execution_count": 11,
   "metadata": {},
   "outputs": [
    {
     "name": "stdout",
     "output_type": "stream",
     "text": [
      "20\n",
      "22\n",
      "24\n",
      "26\n"
     ]
    }
   ],
   "source": [
    "for i in range(20, 27,2):\n",
    "    print(i)"
   ]
  },
  {
   "cell_type": "markdown",
   "metadata": {},
   "source": [
    "### 8. Use the range function in a for loop to display all odd numbers from 1-50, backwards"
   ]
  },
  {
   "cell_type": "code",
   "execution_count": 12,
   "metadata": {},
   "outputs": [
    {
     "name": "stdout",
     "output_type": "stream",
     "text": [
      "49\n",
      "47\n",
      "45\n",
      "43\n",
      "41\n",
      "39\n",
      "37\n",
      "35\n",
      "33\n",
      "31\n",
      "29\n",
      "27\n",
      "25\n",
      "23\n",
      "21\n",
      "19\n",
      "17\n",
      "15\n",
      "13\n",
      "11\n",
      "9\n",
      "7\n",
      "5\n",
      "3\n",
      "1\n"
     ]
    }
   ],
   "source": [
    "for i in range(50,0,-1):\n",
    "    if i%2==1:\n",
    "        print(i)\n"
   ]
  },
  {
   "cell_type": "markdown",
   "metadata": {},
   "source": [
    "### 9. Use len() and range() in a for loop to print out all values and the corresponding index value of this list iteratively:\n",
    "<code> list = ['first', 'second', 'third']</code>\n",
    "\n",
    "On each pass through the loop you should be priting both the current index position and the value in the list."
   ]
  },
  {
   "cell_type": "code",
   "execution_count": 27,
   "metadata": {},
   "outputs": [
    {
     "name": "stdout",
     "output_type": "stream",
     "text": [
      "the 0 item is\n",
      "first\n",
      "the 1 item is\n",
      "second\n",
      "the 2 item is\n",
      "third\n"
     ]
    }
   ],
   "source": [
    "lista = ['first','second','third']\n",
    "lens=len(lista)\n",
    "for i in range(0,lens):\n",
    "    print(f'the {i} item is')\n",
    "    print(lista[i])"
   ]
  },
  {
   "cell_type": "markdown",
   "metadata": {},
   "source": [
    "### 10. Print out all the values of that list in a for loop without using the range function"
   ]
  },
  {
   "cell_type": "markdown",
   "metadata": {},
   "source": [
    "<div class=\"alert alert-block alert-info\">\n",
    "    Hint: This will be an example of looping directly over items in an <i>iterable</i> object. Check the section <b>For Loops using Sequential Data Types</b> in flow_control_forloops_ifelse.ipynb \n",
    "</div>"
   ]
  },
  {
   "cell_type": "code",
   "execution_count": 28,
   "metadata": {},
   "outputs": [
    {
     "name": "stdout",
     "output_type": "stream",
     "text": [
      "first\n",
      "second\n",
      "third\n"
     ]
    }
   ],
   "source": [
    "for i in lista:\n",
    "    print(i)"
   ]
  },
  {
   "cell_type": "markdown",
   "metadata": {},
   "source": [
    "### 11. Create a for loop that goes through the list of email addresses defined in the code cell below and makes a new list composed of only those students with a hotmail.com address\n",
    "\n",
    "You will need to use the following concepts: for loop, if statement to check if hotmail.com is an an address, appending the hotmail email addresses to a new list called hotmail."
   ]
  },
  {
   "cell_type": "markdown",
   "metadata": {},
   "source": [
    "<div class=\"alert alert-block alert-info\">\n",
    "Hint: You can use membership operators to check if the value in the list is a hotmail address. \n",
    "</div>"
   ]
  },
  {
   "cell_type": "code",
   "execution_count": 29,
   "metadata": {},
   "outputs": [
    {
     "name": "stdout",
     "output_type": "stream",
     "text": [
      "['student1@hotmail.com', 'student3@hotmail.com']\n"
     ]
    }
   ],
   "source": [
    "# original list\n",
    "email_list = ['student1@hotmail.com',\n",
    "              'student2@gmail.com',\n",
    "              'student3@hotmail.com',\n",
    "              'student4@gmail.com',\n",
    "              'student5@gmail.com', \n",
    "              'student6@nyu.edu']\n",
    "\n",
    "# an empty list that we will fill up with hotmail addresses\n",
    "hotmail = []\n",
    "\n",
    "for i in email_list:\n",
    "    if 'hotmail'in i:\n",
    "        hotmail.append(i)\n",
    "print(hotmail)"
   ]
  },
  {
   "cell_type": "markdown",
   "metadata": {},
   "source": [
    "### 12. Using the same email list, modify your code so that we also end up with a list of students who have nyu.edu email addresses\n",
    "\n",
    "The result of your code should be two lists (hotmail and nyu) that contain the relevant student emails from the original `email_list`"
   ]
  },
  {
   "cell_type": "code",
   "execution_count": 31,
   "metadata": {},
   "outputs": [
    {
     "name": "stdout",
     "output_type": "stream",
     "text": [
      "['student1@hotmail.com', 'student3@hotmail.com']\n",
      "['student6@nyu.edu']\n"
     ]
    }
   ],
   "source": [
    "hotmail = []\n",
    "nyu=[]\n",
    "for i in email_list:\n",
    "    if 'hotmail' in i:\n",
    "        hotmail.append(i)\n",
    "    elif 'nyu' in i:\n",
    "        nyu.append(i)\n",
    "print(hotmail)\n",
    "print(nyu)"
   ]
  },
  {
   "cell_type": "markdown",
   "metadata": {},
   "source": [
    "### 13. Using two for loops (nested), print every individual value in this list of lists:\n",
    "\n",
    "\n",
    "<code>all_data = [['student1', 'student2', 'student3'],['brown', 'blonde', 'blue'],['brown','brown','brown'],['a masters','a masters','a bachelors']]\n",
    "</code>"
   ]
  },
  {
   "cell_type": "code",
   "execution_count": 34,
   "metadata": {},
   "outputs": [
    {
     "name": "stdout",
     "output_type": "stream",
     "text": [
      "approach one: student2\n",
      "approach two: student2\n"
     ]
    }
   ],
   "source": [
    "# this is a list of lists\n",
    "all_data = [['student1', 'student2', 'student3'],\n",
    "            ['brown', 'blonde', 'blue'],\n",
    "            ['brown','brown','brown'],\n",
    "            ['a masters','a masters','a bachelors']]\n",
    "\n",
    "# hint: each entry in all_data is a list, so we can get\n",
    "# values from the sublists using code like this\n",
    "# store the first entry from all_data in sub_list\n",
    "# check the second entry in that list:\n",
    "\n",
    "sub_list = all_data[0]\n",
    "print(f'approach one: {sub_list[1]}')\n",
    "\n",
    "# or chain the indexing together\n",
    "print(f'approach two: {all_data[0][1]}')\n"
   ]
  },
  {
   "cell_type": "markdown",
   "metadata": {},
   "source": [
    "### 14. Using two for loops (nested), generate this output:\n",
    "\n",
    "Using the two lists defined below, make output that looks like this:\n",
    "\n",
    "\n",
    "student1 has <br>\n",
    "brown hair<br>\n",
    "brown eyes<br>\n",
    "a masters degree<br>\n",
    "\n",
    "student2 has<br>\n",
    "blonde hair<br>\n",
    "brown eyes<br>\n",
    "a masters degree<br>\n",
    "\n",
    "student3 has<br>\n",
    "blue hair<br>\n",
    "brown eyes<br>\n",
    "a bachelors degree<br>\n",
    "\n",
    "\n",
    "**This one is hard**! The all_data variable is a list of lists containing information about three students. Each sublist (student id, student hair color, student eye color, and student degree obtained) has three positions corresponding to each of the three students. So student1 is index position 0 whithin each of those sublists, student2 is index position 1, etc.\n"
   ]
  },
  {
   "cell_type": "code",
   "execution_count": 36,
   "metadata": {},
   "outputs": [],
   "source": [
    "# Use these lists\n",
    "all_data = [['student1', 'student2', 'student3'],\n",
    "            ['brown', 'blonde', 'blue'],\n",
    "            ['brown','brown','brown'],\n",
    "            ['a masters','a masters','a bachelors']]\n",
    "\n",
    "attribute_list = ['hair', 'eyes', 'degree']"
   ]
  },
  {
   "cell_type": "code",
   "execution_count": 51,
   "metadata": {},
   "outputs": [
    {
     "name": "stdout",
     "output_type": "stream",
     "text": [
      "the student1 has\n",
      "brown hair\n",
      "brown eyes\n",
      "a masters degree\n",
      "\n",
      "\n",
      "the student2 has\n",
      "blonde hair\n",
      "brown eyes\n",
      "a masters degree\n",
      "\n",
      "\n",
      "the student3 has\n",
      "blue hair\n",
      "brown eyes\n",
      "a bachelors degree\n",
      "\n",
      "\n"
     ]
    }
   ],
   "source": [
    "for i in range(len(all_data[0])):\n",
    "    print(f'the {all_data[0][i]} has')\n",
    "    for j in range(len(attribute_list)):\n",
    "        jj=j+1\n",
    "        print(all_data[jj][i],attribute_list[j])\n",
    "    print(\"\\n\")"
   ]
  }
 ],
 "metadata": {
  "kernelspec": {
   "display_name": "Python 3 (ipykernel)",
   "language": "python",
   "name": "python3"
  },
  "language_info": {
   "codemirror_mode": {
    "name": "ipython",
    "version": 3
   },
   "file_extension": ".py",
   "mimetype": "text/x-python",
   "name": "python",
   "nbconvert_exporter": "python",
   "pygments_lexer": "ipython3",
   "version": "3.9.7"
  }
 },
 "nbformat": 4,
 "nbformat_minor": 4
}
