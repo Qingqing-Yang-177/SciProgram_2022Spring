{
 "cells": [
  {
   "cell_type": "markdown",
   "id": "45eed821",
   "metadata": {},
   "source": [
    "# Exercises to follow-up on pandas_part1 and pandas_part2"
   ]
  },
  {
   "cell_type": "markdown",
   "id": "10c177ed",
   "metadata": {},
   "source": [
    "### 1: Selecting and subsetting dataframe with Boolean indexing"
   ]
  },
  {
   "cell_type": "markdown",
   "id": "bd7a9db0",
   "metadata": {},
   "source": [
    "We will return to the student dataset used in HW2. This is the dataset that got downloaded as student.zip and had student-mat.csv inside of it.\n",
    "\n",
    "If you still have it on your computer from HW2 you can use that original file again (assuming that in HW2 P9F you saved the altered file with a new name).\n",
    "\n",
    "If not you can download it again:\n",
    "\n",
    "https://archive.ics.uci.edu/ml/machine-learning-databases/00320/\n",
    "\n",
    "Download student.zip\n",
    "\n",
    "It is advised that the targeted file student-mat.csv should be stored in the same location as this jupyter notebook to simplify load it, however this is not required.\n",
    "\n",
    "Source: P. Cortez and A. Silva. Using Data Mining to Predict Secondary School Student Performance. In A. Brito and J. Teixeira Eds., Proceedings of 5th FUture BUsiness TEChnology Conference (FUBUTEC 2008) pp. 5-12, Porto, Portugal, April, 2008, EUROSIS, ISBN 978-9077381-39-7.\n",
    "\n",
    "### Guide to important columns in the dataset\n",
    "\n",
    "You can find a description of the fields in the data file if you look at the student.txt file that is included in the zip that you downloaded.\n",
    "\n",
    "Each row of the data file corresponds to a student.\n",
    "\n",
    "Some columns that you will use in the next few problems are described here:\n",
    "\n",
    "* 'school': which school a student attends\n",
    "* 'age': student age\n",
    "* 'famsize': student's family size (binary (two values): \"LE3\" - less or equal to 3 or \"GT3\" - greater than 3))\n",
    "* 'traveltime': home to school travel time (numeric coding: 1 is <15 min., 2 is 15 to 30 min., 3 is 30 min. to 1 hour, or 4 is >1 hour)\n",
    "* 'freetime': free time after school (numeric: from 1 - very low to 5 - very high)\n",
    "* 'absences': number of school absences (numeric: from 0 to 93)\n",
    "* 'G1', 'G2', and 'G3': these three numeric columns (0-20) are grades"
   ]
  },
  {
   "cell_type": "markdown",
   "id": "44983872",
   "metadata": {},
   "source": [
    "**Load the data in student-mat.csv into a dataframe. You can revisit HW2 if you run into trouble with the delimiter... Don't forget to import pandas first.**\n"
   ]
  },
  {
   "cell_type": "code",
   "execution_count": null,
   "id": "cfc71694",
   "metadata": {},
   "outputs": [],
   "source": []
  },
  {
   "cell_type": "markdown",
   "id": "f8008b58",
   "metadata": {},
   "source": [
    "**Use a Boolean comparison to select and output the rows of the dataframe where <code>school</code> is 'GP'.**\n",
    "\n",
    "**Hint:** pandas_part2.ipynb"
   ]
  },
  {
   "cell_type": "code",
   "execution_count": null,
   "id": "20296384",
   "metadata": {},
   "outputs": [],
   "source": []
  },
  {
   "cell_type": "markdown",
   "id": "3192add5",
   "metadata": {},
   "source": [
    "**Use a Boolean comparison to select and output the rows of the dataframe where <code>absences</code> is greater than zero <i>and </i> less than 10.**\n"
   ]
  },
  {
   "cell_type": "code",
   "execution_count": null,
   "id": "76ae210f",
   "metadata": {},
   "outputs": [],
   "source": []
  },
  {
   "cell_type": "markdown",
   "id": "304d4f95",
   "metadata": {},
   "source": [
    "### 2: Descriptive Stats with DataFrame "
   ]
  },
  {
   "cell_type": "markdown",
   "id": "45becde8",
   "metadata": {},
   "source": [
    "**Create a new column in your dataframe called <code>composite</code> that is the average of the scores of columns G1, G2 and G3.**"
   ]
  },
  {
   "cell_type": "code",
   "execution_count": 1,
   "id": "85a57600",
   "metadata": {},
   "outputs": [],
   "source": []
  },
  {
   "cell_type": "markdown",
   "id": "e4898814",
   "metadata": {},
   "source": [
    "**Report the average age and the standard deviation of the ages in the entire dataset** (hint: we can calculate the mean() and std() on a data frame column)"
   ]
  },
  {
   "cell_type": "code",
   "execution_count": null,
   "id": "a31868ed",
   "metadata": {},
   "outputs": [],
   "source": []
  },
  {
   "cell_type": "markdown",
   "id": "d72640bd",
   "metadata": {},
   "source": [
    "**What is the minimum (lowest) age in the dataset?** "
   ]
  },
  {
   "cell_type": "code",
   "execution_count": null,
   "id": "22cb4d53",
   "metadata": {},
   "outputs": [],
   "source": []
  },
  {
   "cell_type": "markdown",
   "id": "dc7c384c",
   "metadata": {},
   "source": [
    "**Subselect only those rows where school equals 'GP' and store it in a new dataframe. Do the same thing for school equals 'MS'.**"
   ]
  },
  {
   "cell_type": "code",
   "execution_count": null,
   "id": "65fdaac5",
   "metadata": {},
   "outputs": [],
   "source": []
  },
  {
   "cell_type": "markdown",
   "id": "c27d28e4",
   "metadata": {},
   "source": [
    "**Using your dataframes from the last section (one for each school), compute the mean 'composite' score for each school and store those values in variables.** Then, write an if/else block that checks whether the average composite scores for school 'GP' are greater than or less than the average scores for school 'MS'. Your code should use the if/else blocks to print a statement about which shools average composite score is higher."
   ]
  },
  {
   "cell_type": "code",
   "execution_count": null,
   "id": "e1b5d70b",
   "metadata": {},
   "outputs": [],
   "source": []
  }
 ],
 "metadata": {
  "kernelspec": {
   "display_name": "Python 3 (ipykernel)",
   "language": "python",
   "name": "python3"
  },
  "language_info": {
   "codemirror_mode": {
    "name": "ipython",
    "version": 3
   },
   "file_extension": ".py",
   "mimetype": "text/x-python",
   "name": "python",
   "nbconvert_exporter": "python",
   "pygments_lexer": "ipython3",
   "version": "3.8.12"
  }
 },
 "nbformat": 4,
 "nbformat_minor": 5
}
