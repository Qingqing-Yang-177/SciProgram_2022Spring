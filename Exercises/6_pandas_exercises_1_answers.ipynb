{
 "cells": [
  {
   "cell_type": "markdown",
   "id": "45eed821",
   "metadata": {},
   "source": [
    "# Exercises to follow-up on pandas_part1 and pandas_part2"
   ]
  },
  {
   "cell_type": "markdown",
   "id": "10c177ed",
   "metadata": {},
   "source": [
    "### 1: Selecting and subsetting dataframe with Boolean indexing"
   ]
  },
  {
   "cell_type": "markdown",
   "id": "bd7a9db0",
   "metadata": {},
   "source": [
    "We will return to the student dataset used in HW2. This is the dataset that got downloaded as student.zip and had student-mat.csv inside of it.\n",
    "\n",
    "If you still have it on your computer from HW2 you can use that original file again (assuming that in HW2 P9F you saved the altered file with a new name).\n",
    "\n",
    "If not you can download it again:\n",
    "\n",
    "https://archive.ics.uci.edu/ml/machine-learning-databases/00320/\n",
    "\n",
    "Download student.zip\n",
    "\n",
    "It is advised that the targeted file student-mat.csv should be stored in the same location as this jupyter notebook to simplify load it, however this is not required.\n",
    "\n",
    "Source: P. Cortez and A. Silva. Using Data Mining to Predict Secondary School Student Performance. In A. Brito and J. Teixeira Eds., Proceedings of 5th FUture BUsiness TEChnology Conference (FUBUTEC 2008) pp. 5-12, Porto, Portugal, April, 2008, EUROSIS, ISBN 978-9077381-39-7.\n",
    "\n",
    "### Guide to important columns in the dataset\n",
    "\n",
    "You can find a description of the fields in the data file if you look at the student.txt file that is included in the zip that you downloaded.\n",
    "\n",
    "Each row of the data file corresponds to a student.\n",
    "\n",
    "Some columns that you will use in the next few problems are described here:\n",
    "\n",
    "* 'school': which school a student attends\n",
    "* 'age': student age\n",
    "* 'famsize': student's family size (binary (two values): \"LE3\" - less or equal to 3 or \"GT3\" - greater than 3))\n",
    "* 'traveltime': home to school travel time (numeric coding: 1 is <15 min., 2 is 15 to 30 min., 3 is 30 min. to 1 hour, or 4 is >1 hour)\n",
    "* 'freetime': free time after school (numeric: from 1 - very low to 5 - very high)\n",
    "* 'absences': number of school absences (numeric: from 0 to 93)\n",
    "* 'G1', 'G2', and 'G3': these three numeric columns (0-20) are grades"
   ]
  },
  {
   "cell_type": "markdown",
   "id": "44983872",
   "metadata": {},
   "source": [
    "**Load the data in student-mat.csv into a dataframe. You can revisit HW2 if you run into trouble with the delimiter... Don't forget to import pandas first.**\n"
   ]
  },
  {
   "cell_type": "markdown",
   "id": "1507c6b6",
   "metadata": {},
   "source": [
    "## This code assumes that one level up from this notebook is a folder called /student/ and inside of that is a file called student-mat.csv"
   ]
  },
  {
   "cell_type": "code",
   "execution_count": null,
   "id": "d7fb7d9f",
   "metadata": {},
   "outputs": [],
   "source": [
    "# import pandas using conventional short name\n",
    "import pandas as pd"
   ]
  },
  {
   "cell_type": "markdown",
   "id": "0e571235",
   "metadata": {},
   "source": [
    "## student-mat.csv has semicolon ';' as delimiter so specify that on the import:"
   ]
  },
  {
   "cell_type": "code",
   "execution_count": null,
   "id": "cfc71694",
   "metadata": {},
   "outputs": [],
   "source": [
    "# load the student mat using relative path\n",
    "sdf = pd.read_csv('../student/student-mat.csv', delimiter=';')"
   ]
  },
  {
   "cell_type": "code",
   "execution_count": null,
   "id": "efc90674",
   "metadata": {},
   "outputs": [],
   "source": [
    "# take a look at the top of the dataframe\n",
    "sdf.head()"
   ]
  },
  {
   "cell_type": "markdown",
   "id": "f8008b58",
   "metadata": {},
   "source": [
    "**Use a Boolean comparison to select and output the rows of the dataframe where <code>school</code> is 'GP'.**\n",
    "\n",
    "**Hint:** pandas_part2.ipynb"
   ]
  },
  {
   "cell_type": "code",
   "execution_count": null,
   "id": "20296384",
   "metadata": {},
   "outputs": [],
   "source": [
    "# get a series of True/False values, one for each row, specifying whether \n",
    "# the 'school' column has value GP in that row\n",
    "gp_sel = sdf['school']=='GP'\n",
    "gp_sel"
   ]
  },
  {
   "cell_type": "code",
   "execution_count": null,
   "id": "82592a32",
   "metadata": {},
   "outputs": [],
   "source": [
    "# use the gp_sel to pull out only those rows of the dataframe that have True\n",
    "# this will correspond to rows of the dataframe that have school equal to GP\n",
    "gp_df = sdf[gp_sel]\n",
    "gp_df.head()"
   ]
  },
  {
   "cell_type": "code",
   "execution_count": null,
   "id": "631d6896",
   "metadata": {},
   "outputs": [],
   "source": [
    "# or do it all at once without using \n",
    "# a separate variable to hold the True/False series\n",
    "\n",
    "# the inner part of the brackets generates the True/False\n",
    "# and then that gets passed directly to the datatframe\n",
    "gp_df = sdf[sdf['school']=='GP']\n",
    "gp_df.head()"
   ]
  },
  {
   "cell_type": "markdown",
   "id": "3192add5",
   "metadata": {},
   "source": [
    "**Use a Boolean comparison to select and output the rows of the dataframe where <code>absences</code> is greater than zero <i>and </i> less than 10.**\n"
   ]
  },
  {
   "cell_type": "markdown",
   "id": "1136b2de",
   "metadata": {},
   "source": [
    "## For compound comparisoms, wrap individual checks in parentheses and combine them with & symbol"
   ]
  },
  {
   "cell_type": "code",
   "execution_count": null,
   "id": "76ae210f",
   "metadata": {},
   "outputs": [],
   "source": [
    "# use compound comparisons, each one wrapped in parentheses, combined with &\n",
    "# this will return a series of True/False with True if both conditions are met\n",
    "abs_selector = (sdf['absences']>0) & (sdf['absences']<10)\n",
    "\n",
    "# use that Boolean series to pull only the dataframe rows with absences between 0 and 10\n",
    "abs_df = sdf[abs_sel]\n",
    "abs_df"
   ]
  },
  {
   "cell_type": "code",
   "execution_count": null,
   "id": "b73c62eb",
   "metadata": {},
   "outputs": [],
   "source": [
    "# use the dataframe column unique() method to see absence values left over in the resulting\n",
    "# dataframe. Their shouldn't be any outside our desired range\n",
    "abs_df['absences'].unique()"
   ]
  },
  {
   "cell_type": "markdown",
   "id": "304d4f95",
   "metadata": {},
   "source": [
    "### 2: Descriptive Stats with DataFrame "
   ]
  },
  {
   "cell_type": "markdown",
   "id": "45becde8",
   "metadata": {},
   "source": [
    "**Create a new column in your dataframe called <code>composite</code> that is the average of the scores of columns G1, G2 and G3.**"
   ]
  },
  {
   "cell_type": "code",
   "execution_count": null,
   "id": "85a57600",
   "metadata": {},
   "outputs": [],
   "source": [
    "# make a new column by giving it's name and what goes into it\n",
    "# we can do element-wise math (rows lined up) by giving whole columns at once\n",
    "\n",
    "# put the summing of the three columns in parentheses so we get the sum \n",
    "# before dividing by 3\n",
    "sdf['composite'] = (sdf['G1'] + sdf['G2'] + sdf['G3'])/3\n",
    "sdf['composite']"
   ]
  },
  {
   "cell_type": "markdown",
   "id": "e4898814",
   "metadata": {},
   "source": [
    "**Report the average age and the standard deviation of the ages in the entire dataset** (hint: we can calculate the mean() and std() on a data frame column)"
   ]
  },
  {
   "cell_type": "code",
   "execution_count": null,
   "id": "a31868ed",
   "metadata": {},
   "outputs": [],
   "source": [
    "sdf['age'].mean()"
   ]
  },
  {
   "cell_type": "code",
   "execution_count": null,
   "id": "918d9bc5",
   "metadata": {},
   "outputs": [],
   "source": [
    "sdf['age'].std()"
   ]
  },
  {
   "cell_type": "markdown",
   "id": "d72640bd",
   "metadata": {},
   "source": [
    "**What is the minimum (lowest) age in the dataset?** "
   ]
  },
  {
   "cell_type": "code",
   "execution_count": null,
   "id": "22cb4d53",
   "metadata": {},
   "outputs": [],
   "source": [
    "sdf['age'].min()"
   ]
  },
  {
   "cell_type": "markdown",
   "id": "dc7c384c",
   "metadata": {},
   "source": [
    "**Subselect only those rows where school equals 'GP' and store it in a new dataframe. Do the same thing for school equals 'MS'.**"
   ]
  },
  {
   "cell_type": "code",
   "execution_count": null,
   "id": "65fdaac5",
   "metadata": {},
   "outputs": [],
   "source": [
    "gp_sel = sdf['school'] == 'GP'\n",
    "\n",
    "# the copy() command here makes a \"copy\" of the data\n",
    "# rather than just pointing a reference to it\n",
    "# this isn't strictly necessary but it avoids some warnings (not errors)\n",
    "# that can pop up later\n",
    "# The warning will say \"A value is trying to be set on a copy of a slice from a DataFrame.\"\n",
    "# This isn't a problem for now but it can be annoying to look at.\n",
    "gp_df = sdf[gp_sel].copy()\n",
    "gp_df.head()"
   ]
  },
  {
   "cell_type": "code",
   "execution_count": null,
   "id": "2160276b",
   "metadata": {},
   "outputs": [],
   "source": [
    "ms_sel = sdf['school'] == 'MS'\n",
    "ms_df = sdf[ms_sel].copy()\n",
    "ms_df.head()"
   ]
  },
  {
   "cell_type": "markdown",
   "id": "c27d28e4",
   "metadata": {},
   "source": [
    "**Using your dataframes from the last section (one for each school), compute the mean 'composite' score for each school and store those values in variables.** Then, write an if/else block that checks whether the average composite scores for school 'GP' are greater than or less than the average scores for school 'MS'. Your code should use the if/else blocks to print a statement about which shools average composite score is higher."
   ]
  },
  {
   "cell_type": "code",
   "execution_count": null,
   "id": "e1b5d70b",
   "metadata": {},
   "outputs": [],
   "source": [
    "# make composite score for GP, put the summing in parentheses, then divide by three\n",
    "gp_df['composite'] = (gp_df['G1'] + gp_df['G2'] + gp_df['G3'])/3 \n",
    "gp_df['composite']"
   ]
  },
  {
   "cell_type": "code",
   "execution_count": null,
   "id": "fdbfe04f",
   "metadata": {},
   "outputs": [],
   "source": [
    "# make composite score for MS, put the summing in parentheses, then divide by three\n",
    "ms_df['composite'] = (ms_df['G1'] + ms_df['G2'] + ms_df['G3'])/3 \n",
    "ms_df['composite']"
   ]
  },
  {
   "cell_type": "code",
   "execution_count": null,
   "id": "1d3743d2",
   "metadata": {},
   "outputs": [],
   "source": [
    "# do a check on which average composite score is higher\n",
    "\n",
    "if gp_df['composite'].mean() > ms_df['composite'].mean():\n",
    "    print('gp composite mean is higher')\n",
    "    \n",
    "elif gp_df['composite'].mean() < ms_df['composite'].mean():\n",
    "    print('gp composite mean is lower')\n",
    "    \n",
    "elif gp_df['composite'].mean() == ms_df['composite'].mean():\n",
    "    print('gp and ms have same composite mean score')"
   ]
  }
 ],
 "metadata": {
  "kernelspec": {
   "display_name": "Python 3 (ipykernel)",
   "language": "python",
   "name": "python3"
  },
  "language_info": {
   "codemirror_mode": {
    "name": "ipython",
    "version": 3
   },
   "file_extension": ".py",
   "mimetype": "text/x-python",
   "name": "python",
   "nbconvert_exporter": "python",
   "pygments_lexer": "ipython3",
   "version": "3.8.12"
  }
 },
 "nbformat": 4,
 "nbformat_minor": 5
}
