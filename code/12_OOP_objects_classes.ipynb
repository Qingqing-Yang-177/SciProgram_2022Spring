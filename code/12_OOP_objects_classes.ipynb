{
 "cells": [
  {
   "cell_type": "markdown",
   "metadata": {},
   "source": [
    "# Objected Oriented Programming and Classes\n",
    "\n",
    "\n",
    "\n",
    "_This notebook includes content drawn from materials released by  [Folgert Karsdorp and Maarten van Gompel](https://github.com/fbkarsdorp/python-course) and from materials released by [Erik Matthes](https://github.com/ehmatthes) and adapted by [Gary Lupyan and colleagues](https://github.com/lupyanlab) under the open [MIT license](https://github.com/ehmatthes/intro_programming/blob/master/LICENSE.md). Special thanks to these researchers for their generosity._"
   ]
  },
  {
   "cell_type": "markdown",
   "metadata": {},
   "source": [
    "This notebok introduces **Object Oriented Programming** and Classes in Python.\n",
    "\n"
   ]
  },
  {
   "cell_type": "code",
   "execution_count": null,
   "metadata": {},
   "outputs": [],
   "source": [
    "import pandas as pd\n",
    "import numpy as np\n",
    "import numpy.random as npr\n",
    "import seaborn as sns"
   ]
  },
  {
   "cell_type": "markdown",
   "metadata": {},
   "source": [
    "## What are classes?\n",
    "\n",
    "Classes are a way of combining information and behavior. "
   ]
  },
  {
   "cell_type": "markdown",
   "metadata": {},
   "source": [
    "For example, think about what you'd need to do if you were creating a rocket ship in a game, or in a physics simulation. \n",
    "\n",
    "At its core, a Rocket is a thing that moves around in space. It has a location and a way to change its location.\n",
    "\n",
    "We can start by defining a Rocket class that has an x and y position corresponding to some point a point in the horizontal (x) and vertical (y) planes. \n",
    "\n",
    "**Later we'll come back to the specifics of the syntax used here. For now just try to get a feel for the general set up and use.**"
   ]
  },
  {
   "cell_type": "code",
   "execution_count": null,
   "metadata": {},
   "outputs": [],
   "source": [
    "# define a rocket class with attributes for x and y position\n",
    "\n",
    "class Rocket():\n",
    "    # Rocket simulates a rocket ship for a game,\n",
    "    #  or a physics simulation.\n",
    "    \n",
    "    def __init__(self):\n",
    "        # Each rocket has an (x,y) position.\n",
    "        self.x = 0\n",
    "        self.y = 0"
   ]
  },
  {
   "cell_type": "markdown",
   "metadata": {},
   "source": [
    "Similar to how the defining a function didn't execute the function, defining a class like in the last cell just makes such a class available for use.\n",
    "\n",
    "Invoking the defined class to make an individual rocket would result in creation of an object in memory that is an _instance_ of the Rocket class. \n",
    "\n",
    "We have already done this a thousand times this semester. Every time we made a data frame or a seaborn plot or almost anything else we were making instances of classes defined by other people.\n",
    "\n",
    "Now we can make a useless rocket instance from our class definition:"
   ]
  },
  {
   "cell_type": "code",
   "execution_count": null,
   "metadata": {},
   "outputs": [],
   "source": []
  },
  {
   "cell_type": "markdown",
   "metadata": {},
   "source": [
    "We can try to look at the `useless_rocket` and we'll see that it is an object in memory:"
   ]
  },
  {
   "cell_type": "code",
   "execution_count": null,
   "metadata": {},
   "outputs": [],
   "source": []
  },
  {
   "cell_type": "markdown",
   "metadata": {},
   "source": [
    "And also it has values for an x and y position:"
   ]
  },
  {
   "cell_type": "code",
   "execution_count": null,
   "metadata": {},
   "outputs": [],
   "source": []
  },
  {
   "cell_type": "code",
   "execution_count": null,
   "metadata": {},
   "outputs": [],
   "source": []
  },
  {
   "cell_type": "markdown",
   "metadata": {},
   "source": [
    "The Rocket class stores two pieces of information, but it can't do anything. \n",
    "\n",
    "Now we'll add a behavior to the class definition. This function, or **method**, of the class will move the rocket up."
   ]
  },
  {
   "cell_type": "code",
   "execution_count": null,
   "metadata": {},
   "outputs": [],
   "source": [
    "# define a rocket class with attributes for x and y position\n",
    "# add a move_up() method that incremens the y-position of the rocket\n",
    "\n",
    "class Rocket():\n",
    "    # Rocket simulates a rocket ship for a game,\n",
    "    #  or a physics simulation.\n",
    "    \n",
    "    def __init__(self):\n",
    "        # Each rocket has an (x,y) position.\n",
    "        self.x = 0\n",
    "        self.y = 0\n",
    "        \n",
    "    # define a move_up method:\n",
    "    def move_up(self):\n",
    "        # increment the y-position up one \n",
    "        self.y += 1"
   ]
  },
  {
   "cell_type": "markdown",
   "metadata": {},
   "source": [
    "The Rocket class can now store some information in the form of a position in space, and it can do something, in this case changing the position "
   ]
  },
  {
   "cell_type": "code",
   "execution_count": null,
   "metadata": {},
   "outputs": [],
   "source": [
    "# Create a Rocket object.\n"
   ]
  },
  {
   "cell_type": "markdown",
   "metadata": {},
   "source": [
    "Now we have a new rocket object, or *instance* of the Rocket class; it has a copy of each of the class's variables, and it can do any action that is defined for the class.\n",
    "\n",
    "Like our useless_rocket it has an x and y position:"
   ]
  },
  {
   "cell_type": "code",
   "execution_count": null,
   "metadata": {},
   "outputs": [],
   "source": []
  },
  {
   "cell_type": "markdown",
   "metadata": {},
   "source": [
    "And it can move up, using the move_up() method we added to the class definition:"
   ]
  },
  {
   "cell_type": "code",
   "execution_count": null,
   "metadata": {},
   "outputs": [],
   "source": [
    "# invoke the move_up() method\n"
   ]
  },
  {
   "cell_type": "code",
   "execution_count": null,
   "metadata": {},
   "outputs": [],
   "source": [
    "# check the x and y position\n"
   ]
  },
  {
   "cell_type": "code",
   "execution_count": null,
   "metadata": {},
   "outputs": [],
   "source": [
    "# move it again and check the position\n"
   ]
  },
  {
   "cell_type": "code",
   "execution_count": null,
   "metadata": {},
   "outputs": [],
   "source": [
    "# initiate a new rocket and have it blast off for ten steps:\n",
    "takeoff_duration = 10\n"
   ]
  },
  {
   "cell_type": "code",
   "execution_count": null,
   "metadata": {},
   "outputs": [],
   "source": [
    "my_rocket.move_up"
   ]
  },
  {
   "cell_type": "markdown",
   "metadata": {},
   "source": [
    "To access an object's variables or methods, you give the name of the object and then use *dot notation* to access the variables and methods. \n",
    "\n",
    "So to get the y-value of `my_rocket` you use `my_rocket.y`. To use the move_up() method on my_rocket, you write `my_rocket.move_up()`.\n",
    "\n",
    "You may not realize it, but we have already made use of countless objects and methods throughout this course.\n",
    "\n",
    "Things like strings, lists, sets, dictionaries are all objects.\n",
    "\n",
    "This reflects the underlying object oriented paradigm that underlies much of Python.\n",
    "\n",
    "<div class=\"alert alert-block alert-info\">\n",
    "You'll recognize this dot notation from things like random.shuffle() (shuffle is one of the methods possessed by objects instantiated by the Random class inside the random module contained in random.py). \n",
    "<br><br>    \n",
    "An example of a class where we saw both methods and attributes using this kind of notation is pandas dataframes. \n",
    "    \n",
    "We define a DataFrame using the DataFrame() class name in the pandas library. \n",
    "    \n",
    "Then we did things like `df.groupby()` which was a **method** attached to the DataFrame class and `df.shape` which returned information about **attributes or properties** of our object (the n rows and n columns)\n",
    "</div>\n",
    "\n",
    "\n",
    "\n",
    "Once you have a class defined, you can create as many objects from that class as you want. \n",
    "\n",
    "Each object is its own instance of that class, with its own separate variables. All of the objects are capable of the same behavior, but each object's particular actions do not affect any of the other objects. Here is how you might make a simple fleet of rockets:"
   ]
  },
  {
   "cell_type": "code",
   "execution_count": null,
   "metadata": {},
   "outputs": [],
   "source": [
    "# Create a fleet of 5 rockets, and store them in a list.\n",
    "my_rockets = []\n",
    "\n",
    "\n",
    "for x in range(0,5):\n",
    "    new_rocket = Rocket()\n",
    "    my_rockets.append(new_rocket)\n",
    "\n",
    "# Show that each rocket is a separate object.\n",
    "for rocket in my_rockets:\n",
    "    print(rocket)"
   ]
  },
  {
   "cell_type": "markdown",
   "metadata": {},
   "source": [
    "You can see that each rocket is at a separate place in memory."
   ]
  },
  {
   "cell_type": "markdown",
   "metadata": {},
   "source": [
    "You can prove that each rocket has its own x and y values by moving just one of the rockets and checking the position of another one:"
   ]
  },
  {
   "cell_type": "code",
   "execution_count": null,
   "metadata": {},
   "outputs": [],
   "source": []
  },
  {
   "cell_type": "markdown",
   "metadata": {},
   "source": [
    "The syntax for classes may not be very clear at this point, but consider for a moment how you might create a rocket without using classes. \n",
    "\n",
    "You might store the x and y values in a dictionary, but you would have to write a lot of ugly, hard-to-maintain code to manage even a small set of rockets. \n",
    "\n",
    "As more features become incorporated into the Rocket class, you will see how much more efficiently we can manage the information and actions associated with a Rocket using classes. \n",
    "\n",
    "Then we will introduce some examples of using Classes in other settings like managing the data from an experimental session or a user browsing a website."
   ]
  },
  {
   "cell_type": "markdown",
   "metadata": {},
   "source": [
    "## Object-Oriented terminology\n",
    "\n",
    "A **class** is a body of code that defines the **attributes** and **behaviors** required to accurately model something you need for your program. You can model something from the real world, such as a rocket ship or a guitar string, or you can model something from a virtual world such as a rocket in a game, or a set of physical laws for a game engine.\n",
    "\n",
    "An **attribute** is a piece of information. In code, an attribute is just a variable that is part of a class.\n",
    "\n",
    "A **behavior** is an action that is defined within a class. These are made up of **methods**, which are just functions that are defined for the class.\n",
    "\n",
    "An **object** is a particular instance of a class. An object has a certain set of values for all of the attributes (variables) in the class. You can have as many objects as you want for any one class.\n",
    "\n",
    "One of the key features of object oriented programming and Classes of objects is **Encapsulation** in which the data and behaviors are packaged together. The object only reveals the interfaces needed to interact with it\n",
    "Internal data and behaviors can remain hidden."
   ]
  },
  {
   "cell_type": "markdown",
   "metadata": {},
   "source": [
    "### A closer look at the Rocket class"
   ]
  },
  {
   "cell_type": "markdown",
   "metadata": {},
   "source": [
    "Here is the code that defined out simplest rocket class:"
   ]
  },
  {
   "cell_type": "code",
   "execution_count": null,
   "metadata": {},
   "outputs": [],
   "source": [
    "class Rocket():\n",
    "    # Rocket simulates a rocket ship for a game,\n",
    "    #  or a physics simulation.\n",
    "    \n",
    "    def __init__(self):\n",
    "        # Each rocket has an (x,y) position.\n",
    "        self.x = 0\n",
    "        self.y = 0"
   ]
  },
  {
   "cell_type": "markdown",
   "metadata": {},
   "source": [
    "The first line shows how a class is created in Python. \n",
    "\n",
    "The keyword **class** tells Python that you are about to define a class and then anything indented under that line is part of the Class definition.\n",
    "\n",
    "The rules for naming a class are the same rules you learned about naming things in general in Python, but there is a strong convention among Python programmers that classes should be named using CamelCase where each letter that starts a word is capitalized, with no underscores in the name:\n",
    "\n",
    "\n",
    "```python\n",
    "class Animal():\n",
    "    ...\n",
    "```\n",
    "\n",
    "```python \n",
    "class BengalTiger():\n",
    "    ...\n",
    "```\n",
    "\n",
    "```python\n",
    "class SmallBrownDog():\n",
    "    ...\n",
    "```\n",
    "\n",
    "```python\n",
    "class Customer():\n",
    "    ...\n",
    "```\n",
    "\n",
    "```python\n",
    "class DataHandler():\n",
    "    ...\n",
    "```\n",
    "\n",
    "\n",
    "The name of the class is followed by a set of parentheses. These parentheses will be empty for now, but later they may contain a class upon which the new class is based.\n",
    "\n",
    "It is good practice to write a comment at the beginning of your class, describing the class. \n",
    "\n",
    "There is a [more formal syntax](http://www.python.org/dev/peps/pep-0257/) for documenting your classes. \n",
    "\n"
   ]
  },
  {
   "cell_type": "markdown",
   "metadata": {},
   "source": [
    "### The \\_\\_init\\_\\_() method\n",
    "\n",
    "```python\n",
    "class Rocket():\n",
    "    # Rocket simulates a rocket ship for a game,\n",
    "    #  or a physics simulation.\n",
    "    \n",
    "    def __init__(self):\n",
    "        # Each rocket has an (x,y) position.\n",
    "        self.x = 0\n",
    "        self.y = 0\n",
    "```\n",
    "\n",
    "Function names that start and end with two underscores are special built-in functions that Python uses in certain ways. \n",
    "\n",
    "The \\_\\_init()\\_\\_ method is one of these special functions. It is called automatically when you create an object from your class. \n",
    "\n",
    "The \\_\\_init()\\_\\_ method lets you make sure that all relevant attributes are set to their proper values when an object is created from the class, before the object is used. In this case, The \\_\\_init\\_\\_() method initializes the x and y values of the Rocket to 0.\n",
    "\n",
    "\n",
    "\n",
    "Now let's take a closer look at a **method**."
   ]
  },
  {
   "cell_type": "markdown",
   "metadata": {},
   "source": [
    "### What about the self. thing?\n",
    "\n",
    "The **self** keyword often takes people a little while to understand. \n",
    "\n",
    "The word \"self\" refers to the current object instantiation that you are working with. \n",
    "\n",
    "When you are writing a class, it lets you refer to certain attributes from any other part of the class.All methods in a class need the *self* object as their first argument, so they can access any attribute that is part of the class.\n",
    "\n",
    "An example with an animal class that has a name might help clarify."
   ]
  },
  {
   "cell_type": "code",
   "execution_count": null,
   "metadata": {},
   "outputs": [],
   "source": [
    "class Animal():\n",
    "    def __init__(self, name):    # Constructor of the class\n",
    "        self.name = name\n",
    "        \n",
    "    def introduce_myself(self):\n",
    "        print(f'Hi, my name is {self.name}')\n"
   ]
  },
  {
   "cell_type": "code",
   "execution_count": null,
   "metadata": {},
   "outputs": [],
   "source": []
  },
  {
   "cell_type": "markdown",
   "metadata": {},
   "source": [
    "The Animal class takes a name as input to the __init__ function and that gets assigned to the self.name attribute.\n",
    "\n",
    "The introduce_myself() method takes as input self and then has access to the self.name value.\n",
    "\n",
    "For both of the cats we created, anything inside the class prefixed with self. refers to the value of that attribute inside the specific instantiation of the object."
   ]
  },
  {
   "cell_type": "markdown",
   "metadata": {},
   "source": [
    "### Class methods\n",
    "\n",
    "Here is the method that was defined for the Rocket class to move up:"
   ]
  },
  {
   "cell_type": "code",
   "execution_count": null,
   "metadata": {},
   "outputs": [],
   "source": [
    "class Rocket():\n",
    "    # Rocket simulates a rocket ship for a game,\n",
    "    #  or a physics simulation.\n",
    "    \n",
    "    def __init__(self):\n",
    "        # Each rocket has an (x,y) position.\n",
    "        self.x = 0\n",
    "        self.y = 0\n",
    "        \n",
    "    def move_up(self):\n",
    "        # Increment the y-position of the rocket.\n",
    "        self.y += 1"
   ]
  },
  {
   "cell_type": "markdown",
   "metadata": {},
   "source": [
    "A method is just a function that is part of a class. \n",
    "\n",
    "Since it is just a function, you can do anything with a method that you learned about with functions. \n",
    "\n",
    "You can accept positional arguments, keyword arguments, or any combination of these. \n",
    "\n",
    "Your class methods can return a value or a set of values if you want, or they can just do some work without returning any values as in the rocket move_up() method.\n",
    "\n",
    "### Important\n",
    "\n",
    "Each method has to accept one argument by default: the value **self**. \n",
    "\n",
    "This is a reference to the particular object that is calling the method. This *self* argument gives you access to the calling object's attributes. \n",
    "\n",
    "In this example, the self argument is used to access a Rocket object's y-value. That value is increased by 1, every time the method move_up() is called by a particular Rocket object. \n",
    "\n",
    "However, note that when we actually call a method like `move_up` in the next cells we don't need to put self as an input -- we get it for free.\n"
   ]
  },
  {
   "cell_type": "code",
   "execution_count": null,
   "metadata": {},
   "outputs": [],
   "source": [
    "# Create a Rocket object, and have it start to move up.\n",
    "my_rocket = Rocket()\n",
    "print(\"Rocket altitude:\", my_rocket.y)\n",
    "\n",
    "# Use move_up method -- it changes the value of self.y\n",
    "my_rocket.move_up()\n",
    "print(\"Rocket altitude:\", my_rocket.y)\n",
    "\n",
    "my_rocket.move_up()\n",
    "print(\"Rocket altitude:\", my_rocket.y)"
   ]
  },
  {
   "cell_type": "markdown",
   "metadata": {},
   "source": [
    "In this example, a Rocket object is created and stored in the variable my_rocket. \n",
    "\n",
    "After this object is created, its y value is printed.  `my_rocket.y` asks Python to return \"the value of the variable y attached to the object my_rocket\".\n",
    "\n",
    "After the object my_rocket is created and its initial y-value is printed, the method move_up() is called. This tells Python to apply the method move_up() to the object my_rocket. Python finds the y-value associated with my_rocket and adds 1 to that value. "
   ]
  },
  {
   "cell_type": "markdown",
   "metadata": {},
   "source": [
    "<div class=\"alert alert-block alert-info\">\n",
    "Want to remind yourself what methods are defined/available for use with an object? Use `help(your_object)`\n",
    "</div>\n"
   ]
  },
  {
   "cell_type": "markdown",
   "metadata": {},
   "source": [
    "### Making multiple objects from a class\n",
    "\n",
    "One of the goals of object-oriented programming is to create reusable code. \n",
    "\n",
    "Once you have written the code for a class, you can create as many objects from that class as you need. \n",
    "\n",
    "It is worth mentioning at this point that classes are usually saved in a separate file, and then imported into the program you are working on. So you can build a library of classes, and use those classes over and over again in different programs. Once you know a class works well, you can leave it alone and know that the objects you create in a new program are going to work as they always have."
   ]
  },
  {
   "cell_type": "markdown",
   "metadata": {},
   "source": [
    "Refining the Rocket class\n",
    "===\n",
    "The Rocket class so far is very simple. It can be made a little more interesting with some refinements to the \\_\\_init\\_\\_() method, and by the addition of some methods.\n",
    "\n",
    "In these next examples we will both be modifying the rocket class but also introducing some general methods for making classes more flexible."
   ]
  },
  {
   "cell_type": "markdown",
   "metadata": {},
   "source": [
    "Accepting parameters for the \\_\\_init\\_\\_() method\n",
    "---\n",
    "The \\_\\_init\\_\\_() method is run automatically one time when you create a new object from a class. The \\_\\_init\\_\\_() method for the Rocket class so far is pretty simple and simply creates an x and y attribute with values of 0."
   ]
  },
  {
   "cell_type": "code",
   "execution_count": null,
   "metadata": {},
   "outputs": [],
   "source": [
    "class Rocket():\n",
    "    # Rocket simulates a rocket ship for a game,\n",
    "    #  or a physics simulation.\n",
    "    \n",
    "    def __init__(self):\n",
    "        # Each rocket has an (x,y) position.\n",
    "        self.x = 0\n",
    "        self.y = 0\n",
    "        \n",
    "    def move_up(self):\n",
    "        # Increment the y-position of the rocket.\n",
    "        self.y += 1"
   ]
  },
  {
   "cell_type": "markdown",
   "metadata": {},
   "source": [
    "We can add a couple keyword arguments to the move_up() method so that new rockets can be initialized at any position."
   ]
  },
  {
   "cell_type": "code",
   "execution_count": null,
   "metadata": {},
   "outputs": [],
   "source": [
    "class Rocket():\n",
    "    # Rocket simulates a rocket ship for a game,\n",
    "    #  or a physics simulation.\n",
    "    \n",
    "    # init can take optional x and y values to start at position other\n",
    "    # than 0, 0\n",
    "    # if no inputs are given, defaults are used\n",
    "    def __init__(self, x=0, y=0):\n",
    "        # Each rocket has an (x,y) position.\n",
    "        self.x = x\n",
    "        self.y = y\n",
    "        \n",
    "    def move_up(self):\n",
    "        # Increment the y-position of the rocket.\n",
    "        self.y += 1"
   ]
  },
  {
   "cell_type": "markdown",
   "metadata": {},
   "source": [
    "Now when you create a new Rocket object you have the choice of passing in arbitrary initial values for x and y:"
   ]
  },
  {
   "cell_type": "code",
   "execution_count": null,
   "metadata": {},
   "outputs": [],
   "source": []
  },
  {
   "cell_type": "code",
   "execution_count": null,
   "metadata": {},
   "outputs": [],
   "source": []
  },
  {
   "cell_type": "markdown",
   "metadata": {},
   "source": [
    "Accepting parameters in a method\n",
    "---\n",
    "The \\_\\_init\\_\\_ method is just a special method that serves a particular purpose, which is to help create new objects from a class. When you _invoke_ a class to create an object instantiation the init function runs automatically.\n",
    "\n",
    "Other methods in a class can also accept parameters or arguments like any function, as long as self is the first value in the method definition.\n",
    "\n",
    "In this example we will modify the move_up() method to take inputs that the rocket to change position in either the x or y direction."
   ]
  },
  {
   "cell_type": "code",
   "execution_count": null,
   "metadata": {},
   "outputs": [],
   "source": [
    "###highlight=[11,12,13,14,15]\n",
    "class Rocket():\n",
    "    # Rocket simulates a rocket ship for a game,\n",
    "    #  or a physics simulation.\n",
    "    \n",
    "    def __init__(self, x=0, y=0):\n",
    "        # Each rocket has an (x,y) position.\n",
    "        self.x = x\n",
    "        self.y = y\n",
    "        \n",
    "    def move_rocket(self, x_increment=0, y_increment=1):\n",
    "        # Move the rocket according to the paremeters given.\n",
    "        #  Default behavior is to move the rocket up one unit.\n",
    "        self.x += x_increment\n",
    "        self.y += y_increment"
   ]
  },
  {
   "cell_type": "markdown",
   "metadata": {},
   "source": [
    "The paremeters for the move() method are named x_increment and y_increment rather than x and y. \n",
    "\n",
    "These names emphasize that these are changes in the x and y position, not new values for the actual position of the rocket. \n",
    "\n",
    "If someone calls the method move_rocket() with no parameters, the rocket will simply move up one unit in the y-direciton. \n",
    "\n",
    "Note that this method can be given negative values to move the rocket left or right:"
   ]
  },
  {
   "cell_type": "code",
   "execution_count": null,
   "metadata": {},
   "outputs": [],
   "source": []
  },
  {
   "attachments": {
    "image.png": {
     "image/png": "[encoded data removed]"
    }
   },
   "cell_type": "markdown",
   "metadata": {},
   "source": [
    "Adding a new method\n",
    "---\n",
    "One of the strengths of object-oriented programming is the ability to closely model real-world phenomena by adding appropriate attributes and behaviors to classes. \n",
    "\n",
    "One of the jobs of a team piloting a rocket is to make sure the rocket does not get too close to any other rockets. \n",
    "\n",
    "Let's add a method that will report the distance from one rocket to any other rocket.\n",
    "\n",
    "If you are not familiar with distance calculations, there is a fairly simple formula to tell the distance between two points if you know the x and y values of each point -- it is the same as the Pythagoras formula:\n",
    "\n",
    "$c = \\sqrt{(a^2 + b^2)}$\n",
    "\n",
    "\n",
    "In the case of two points in x and y space, a in the above formula is the _difference_ in the two x points and b is the difference in the two y points. These make the two perpendicular sides of the triangle and the shortest distance between those points is the hypotenuse.\n",
    "\n",
    "\n",
    "![image.png](attachment:image.png)\n",
    "\n",
    "Now we add a get_distance() method that will perform that calculation so that a rocket can report the distance between itself and another rocket."
   ]
  },
  {
   "cell_type": "code",
   "execution_count": null,
   "metadata": {},
   "outputs": [],
   "source": [
    "from math import sqrt\n",
    "\n",
    "class Rocket():\n",
    "    # Rocket simulates a rocket ship for a game,\n",
    "    #  or a physics simulation.\n",
    "    \n",
    "    def __init__(self, x=0, y=0):\n",
    "        # Each rocket has an (x,y) position.\n",
    "        self.x = x\n",
    "        self.y = y\n",
    "        \n",
    "    def move_rocket(self, x_increment=0, y_increment=1):\n",
    "        # Move the rocket according to the paremeters given.\n",
    "        #  Default behavior is to move the rocket up one unit.\n",
    "        self.x += x_increment\n",
    "        self.y += y_increment\n",
    "        \n",
    "    def get_distance(self, other_rocket):\n",
    "        # Calculates the distance from this rocket to another rocket,\n",
    "        #  and returns that value.\n",
    "        distance = sqrt((self.x-other_rocket.x)**2+(self.y-other_rocket.y)**2)\n",
    "        return distance"
   ]
  },
  {
   "cell_type": "markdown",
   "metadata": {},
   "source": [
    "The new get_distance() method takes as input the self value (automatically) and another rocket instantiation.\n",
    "\n",
    "It uses its own x and y positions (self.x and self.y) to compute the distance to the other rockets x and y position."
   ]
  },
  {
   "cell_type": "code",
   "execution_count": null,
   "metadata": {},
   "outputs": [],
   "source": [
    "# Make two rockets, at different places.\n",
    "rocket_0 = Rocket()\n",
    "rocket_1 = Rocket(10,5)\n",
    "\n",
    "# Show the distance between them.\n",
    "distance = rocket_0.get_distance(rocket_1)\n",
    "\n",
    "print(f\"The rockets are {distance} units apart.\")"
   ]
  },
  {
   "cell_type": "markdown",
   "metadata": {},
   "source": [
    "We could go on and continue to refine the rocket class in various ways, maybe adding things like a gas tank that gets filled on the init() method and then decreases every time the rocket moves or whatever other mix of **attributes** and **behaviors** make sense to combine in a single object.\n",
    "\n",
    "But now we will turn to another example to discuss the idea of class Inheritance."
   ]
  },
  {
   "cell_type": "markdown",
   "metadata": {},
   "source": [
    "Inheritance\n",
    "===\n",
    "One of the most important goals of the object-oriented approach to programming is the creation of stable, reliable, reusable code. \n",
    "\n",
    "If you had to create a new class for every kind of object you wanted to use or model, you would hardly have any reusable code. \n",
    "\n",
    "In Python, one class can **inherit** from another class. \n",
    "\n",
    "This means you can base a new class on an existing class; the new class *inherits* all of the attributes and behavior of the class it is based on. \n",
    "\n",
    "A new class can override any undesirable attributes or behavior of the class it inherits from, and it can add any new attributes or behavior that are appropriate. \n",
    "\n",
    "The original class is called the **parent** class, and the new class is a **child** of the parent class. The parent class is also called a **superclass**, and the child class is also called a **subclass**.\n",
    "\n",
    "The child class inherits all attributes and behavior from the parent class, but any attributes that are defined in the child class are not available to the parent class. If a child class defines a method that also appears in the parent class, objects of the child class will use the new method rather than the parent class method.\n",
    "\n",
    "To better understand inheritance, let's look at an example of sub classes that can be based on an Animal class."
   ]
  },
  {
   "cell_type": "code",
   "execution_count": null,
   "metadata": {},
   "outputs": [],
   "source": [
    "# Define a generic animal class\n",
    "\n",
    "class Animal():\n",
    "    \n",
    "    # class definition takes input of a name\n",
    "    def __init__(self, name):    # Constructor of the class\n",
    "        self.name = name\n",
    "        self.sleeping = False            \n",
    "    \n",
    "    # a method to say my name:\n",
    "    def introduce_myself(self):\n",
    "        if self.sleeping == True:\n",
    "            print('shhh, its sleeping')\n",
    "        else:\n",
    "            print(f'Hi, my name is {self.name}')\n",
    "            \n",
    "    # a method to say what i'm into\n",
    "    def what_do_i_do(self):\n",
    "        return 'I do animal things'\n",
    "    \n",
    "    # a method to take a nap\n",
    "    def go_to_sleep(self):\n",
    "        # set self.sleeping to True\n",
    "        self.sleeping = True\n",
    "        return 'I''m taking a nap'   \n",
    "    \n",
    "    def wake_up(self):\n",
    "        self.sleeping = False\n"
   ]
  },
  {
   "cell_type": "code",
   "execution_count": null,
   "metadata": {},
   "outputs": [],
   "source": [
    "a1 = Animal('Simon')"
   ]
  },
  {
   "cell_type": "markdown",
   "metadata": {},
   "source": [
    "Now we can create new subclasses of animals that inherit everything from the Animal class but also enable us to add new, subclass specific attributes and methods or to modify the methods defined in the Animal class."
   ]
  },
  {
   "cell_type": "markdown",
   "metadata": {},
   "source": [
    "The way it works is to put the name of the super class, or parent class, in the parentheses in the first line of the class definition. \n",
    "\n",
    "Then, the new class init function takes in arguments for the parent class followed by the new class and calls the parent class init\n",
    "\n",
    "\n",
    "```python\n",
    "class SpaceShuttle(Rocket):\n",
    "    # Shuttle simulates a space shuttle, which is really\n",
    "    #  just a reusable rocket.\n",
    "    \n",
    "    def __init__(self, x=0, y=0, flights_completed=0):\n",
    "        super().__init__(x, y)\n",
    "        self.flights_completed = flights_completed\n",
    "```\n",
    "\n",
    "In this shuttle example we are inheriting from our Rocket class which had an init method that took in x and y values. So the new class definition has an __init__ function that takes in x and y as well as a new, sub-class specific argument called flights_completed.\n",
    "\n",
    "Then the __init__ function has this ugly part `super().__init__(x, y)` which is simply calling the __init__ method of the parent (Rocket) and passing x and y values. That runs and then moves to whatever other things we want to do as we initialize ths Shuttle.\n",
    "\n",
    "\n",
    "Another example should help clarify:"
   ]
  },
  {
   "cell_type": "code",
   "execution_count": null,
   "metadata": {},
   "outputs": [],
   "source": [
    "# Define a generic animal class\n",
    "class Animal():\n",
    "    \n",
    "    # class definition takes input of a name\n",
    "    def __init__(self, name=None):    # Constructor of the class\n",
    "        self.name = name\n",
    "        self.sleeping = False            \n",
    "    \n",
    "    # a method to say my name:\n",
    "    def introduce_myself(self):\n",
    "        if self.sleeping == True:\n",
    "            print('shhh, its sleeping')\n",
    "        else:\n",
    "            print(f'Hi, my name is {self.name}')\n",
    "            \n",
    "    # a method to say what i'm into\n",
    "    def what_do_i_do(self):\n",
    "        return 'I do animal things'\n",
    "    \n",
    "    # a method to take a nap\n",
    "    def go_to_sleep(self):\n",
    "        # set self.sleeping to True\n",
    "        self.sleeping = True\n",
    "        return 'I''m taking a nap'   \n",
    "    \n",
    "    def wake_up(self):\n",
    "        self.sleeping = False\n",
    "\n",
    "        \n",
    "    def __repr__(self):\n",
    "        return f'name = {self.name}'\n",
    "    \n",
    "    \n",
    "    def __str__(self):\n",
    "        return f'This is an Animal object with name {self.name}'\n",
    "        "
   ]
  },
  {
   "cell_type": "markdown",
   "metadata": {},
   "source": [
    "##### __repr__ and __str__\n",
    "\n",
    "These are special methods that control what happens when you call an object instantiation as the last line in a cell or pass it to print()"
   ]
  },
  {
   "cell_type": "code",
   "execution_count": null,
   "metadata": {},
   "outputs": [],
   "source": []
  },
  {
   "cell_type": "markdown",
   "metadata": {},
   "source": [
    "Now make a new class that does most of the Animal things but has some details that are specific to cats."
   ]
  },
  {
   "cell_type": "code",
   "execution_count": null,
   "metadata": {},
   "outputs": [],
   "source": [
    "# Allows for different behaviors for same named method of function\n",
    "# This Cat class inherits from the Animal class:\n",
    "    \n",
    "class Cat(Animal):\n",
    "    \n",
    "    # init method takes the name input that is used by the Animal().__init__ method\n",
    "    # as well as a new input for tail_length\n",
    "    # First we call the super class init, passing name\n",
    "    # and then we set the cats tail length\n",
    "    def __init__(self, name=None, tail_length='long'):\n",
    "        super().__init__(name)\n",
    "        self.tale_length = tail_length\n",
    "        \n",
    "        \n",
    "    # we can add a new method that was not present in the Animal super class\n",
    "    def talk_about_my_tail(self):\n",
    "        return f'My tail is quite {self.tale_length}'\n",
    "\n",
    "    # ----\n",
    "    # we can also modify methods that were in the Animal class\n",
    "    # and the new versions override the previous:\n",
    "    \n",
    "    # overwrite the introduce_myself() and what_do_i_do() functions\n",
    "    \n",
    "    # a method to meow and then say my name:\n",
    "    def introduce_myself(self):\n",
    "        if self.sleeping == True:\n",
    "            print('shhh, its sleeping')\n",
    "        else:\n",
    "            print(f'MAOWWWWW, my name is {self.name}')\n",
    "\n",
    "    \n",
    "    # a method to say what i'm into\n",
    "    def what_do_i_do(self):\n",
    "        return 'I creep around at night.'\n",
    "    \n",
    "    # We also have access to other methods that aren't defined here but \n",
    "    # were defined for the Animal() super class (go_to_sleep() and wake_up)_\n",
    "\n"
   ]
  },
  {
   "cell_type": "code",
   "execution_count": null,
   "metadata": {},
   "outputs": [],
   "source": [
    "# make a cat that has a name and a tail_length\n"
   ]
  },
  {
   "cell_type": "code",
   "execution_count": null,
   "metadata": {},
   "outputs": [],
   "source": [
    "# check some attributes, notice that we have a sleeping value that was inherited from the parent class\n"
   ]
  },
  {
   "cell_type": "code",
   "execution_count": null,
   "metadata": {},
   "outputs": [],
   "source": [
    "# and we have access to the take a nap and wake up functions\n"
   ]
  },
  {
   "cell_type": "code",
   "execution_count": null,
   "metadata": {},
   "outputs": [],
   "source": [
    "# compare a generic animals introduction and preferred activity to the cat\n"
   ]
  },
  {
   "cell_type": "markdown",
   "metadata": {},
   "source": [
    "## So when would I actually use an object\n",
    "\n",
    "To this point we have seen some examples of little simulated rockets or animals and talked about the utility of bundling data and behaviors (or attributes and functions) together into a single object.\n",
    "\n",
    "Our goal there was twofold:\n",
    "\n",
    "- Introduce a way that we could simulate or mimic something that is a mixture of attributes and behaviors\n",
    "- Expose how Classes are defined and clarify some of the syntax and terminology we have seen all semester in the form of dot notation, attributes, and methods \n",
    "\n",
    "Classes of rockets and animals are fun and maybe you could begin imagining how such structures could be useful in simulation or gaming.\n",
    "\n",
    "But the general notion of **encapsulating** data and functions, or attributes and methods, into a single object with a clean interface is something that is useful throughout Python.\n",
    "\n",
    "\n",
    "In the context of Psychology research we might use a class to keep track of all of the information related to an experimental session."
   ]
  },
  {
   "cell_type": "code",
   "execution_count": null,
   "metadata": {},
   "outputs": [],
   "source": [
    "# warm up with a simple class that simply takes in a participant \n",
    "# number and sets up an attribute called 'id'\n",
    "class ExpSession():\n",
    "    def __init__(self, participant_id=None):    # Constructor of the class\n",
    "        self.id = participant_id\n",
    "\n",
    "        \n",
    "session1 = ExpSession('sub-11')\n",
    "session1.id"
   ]
  },
  {
   "cell_type": "markdown",
   "metadata": {},
   "source": [
    "That doesn't do much for us, but what if we wanted to keep track of a bunch of other information for this person?"
   ]
  },
  {
   "cell_type": "markdown",
   "metadata": {},
   "source": [
    "#### Dates and times in python\n",
    "\n",
    "Python has a built in library called datetime and it provides a bunch of functions that let us retrieve the current date, compare dates, and so on.\n",
    "\n",
    "```python\n",
    "import datetime\n",
    "\n",
    "# get today's date:\n",
    "datetime.date.today()\n",
    "\n",
    "# get a today's date and time:\n",
    "datetime.datetime.now()\n",
    "\n",
    "```\n"
   ]
  },
  {
   "cell_type": "code",
   "execution_count": null,
   "metadata": {},
   "outputs": [],
   "source": [
    "# datetime.datetime.now() returns a datetime object\n",
    "# turn it into a string for easier viewing\n",
    "datetime.datetime.now()\n",
    "# print(a)"
   ]
  },
  {
   "cell_type": "markdown",
   "metadata": {},
   "source": [
    "### Add to our ExpSession() class\n",
    "\n",
    "On initializing a new ExpSession object we will now take in second input that is the experimental group or condition for this session.\n",
    "\n",
    "The init function will also call datetime to get a timestamp of when the session started.\n",
    "\n",
    "And we will add a method that will report some of the details of the attributes of this session."
   ]
  },
  {
   "cell_type": "code",
   "execution_count": null,
   "metadata": {},
   "outputs": [],
   "source": [
    "# add date and a reporting method\n",
    "\n",
    "class ExpSession():\n",
    "    def __init__(self, participant_id=None, exp_group=None):    # Constructor of the class\n",
    "        # initialize soem attributes from input arguments\n",
    "        self.id = participant_id\n",
    "        self.exp_group = exp_group\n",
    "        \n",
    "        # get a timestamp and store it\n",
    "        self.start_time = str(datetime.datetime.today())\n",
    "        \n",
    "        \n",
    "    def report_basic_info(self):\n",
    "        print(f'participant id: {self.id}')\n",
    "        print(f'exp_group: {self.exp_group}')\n",
    "        print(f'start time: {self.start_time}')\n",
    "\n",
    "\n"
   ]
  },
  {
   "cell_type": "code",
   "execution_count": null,
   "metadata": {},
   "outputs": [],
   "source": [
    "# instantiate an exeprimental session for some person and report the info\n"
   ]
  },
  {
   "cell_type": "markdown",
   "metadata": {},
   "source": [
    "Our class is starting to become useful as we are bundling up multiple pieces of information that naturally go together. \n",
    "\n",
    "Rather than having three variables keeping track of id, group, and time, and then another function for printing those values out, those values all travel together along with the function inside a nice clean package.\n",
    "\n",
    "\n",
    "Our `session1` object could now be used to control aspects of an experimental session and keep track of information needed for our data."
   ]
  },
  {
   "cell_type": "code",
   "execution_count": null,
   "metadata": {},
   "outputs": [],
   "source": [
    "# make some fake stimulus lists:\n",
    "import pandas as pd\n",
    "\n",
    "# list comprehension to make a list fake filenames\n",
    "group1_stims = [f'face{i}.jpg' for i in range(1,101)]\n",
    "group2_stims = [f'random{i}.jpg' for i in range(1,101)]\n",
    "\n",
    "# make a csv file where we can load our lists from\n",
    "stim_df = pd.DataFrame({'group1': group1_stims,\n",
    "                       'group2': group2_stims})\n",
    "\n",
    "stim_df.head()\n",
    "\n",
    "# save the list of experimental stimuli to a file\n",
    "stim_df.to_csv('./exp_stims.csv', index=False)\n"
   ]
  },
  {
   "cell_type": "markdown",
   "metadata": {},
   "source": [
    "Now we can modify the class definition in the following ways:\n",
    "\n",
    "- Add some attributes that will keep track of stimuli the participant sees and responses they make\n",
    "\n",
    "- a method called update_responses() that takes in information about what the participant saw in the experiment and how they responded\n",
    "    - we can call this method after each trial to keep an updated record of the experimental session to that point\n",
    "    \n",
    "- a method called summarizes_responses() that will take the attributes containing participant info, experimental group, the stimuli presented and the responses made and create a dataframe to display all that info\n",
    "\n",
    "- a method called save_response_data() that uses the participant id and group info to make a filename and save all the data\n",
    "    "
   ]
  },
  {
   "cell_type": "code",
   "execution_count": null,
   "metadata": {},
   "outputs": [],
   "source": [
    "# Add some functionality to our ExpSession() class\n",
    "\n",
    "class ExpSession():\n",
    "    def __init__(self, participant_number, exp_group):\n",
    "        self.id = participant_number\n",
    "        self.exp_group = exp_group\n",
    "        self.date = date.today()\n",
    "        self.resp = [] # a place where we can store participant responses\n",
    "        self.rt = [] \n",
    "        self.trial_stim = [] \n",
    "      \n",
    " \n",
    "                \n",
    "    def update_responses(self, response, response_time, current_stim):\n",
    "        \" adds a response and RT to participants data record\"\n",
    "        self.resp.append(response)\n",
    "        self.rt.append(response_time)\n",
    "        self.trial_stim.append(current_stim)\n",
    "        \n",
    "        \n",
    "    def report_basic_info(self):\n",
    "        print(f'participant id: {self.id}')\n",
    "        print(f'exp_group: {self.exp_group}')\n",
    "        print(f'date: {self.date}')\n",
    "        \n",
    "        \n",
    "        \n",
    "    def summarize_responses(self, correct_responses=[]):\n",
    "        \"\"\" takes in a list of correct responses and checks whether\n",
    "        each trial was correct or incorrect.\n",
    "        gives us the percent correct and avg response time in correct and incorrect trial\n",
    "        \"\"\"\n",
    "        resp_df = pd.DataFrame({'participant_id': self.id,\n",
    "                                'exp_group': self.exp_group,\n",
    "                                'resp': self.resp,\n",
    "                               'correct_resp': correct_responses,\n",
    "                                'trial_stim': self.trial_stim,\n",
    "                               'rt': self.rt})\n",
    "        \n",
    "        resp_df['accuracy'] = resp_df['resp']==resp_df['correct_resp'] \n",
    "        \n",
    "        self.perc_correct = np.mean(resp_df['accuracy'])\n",
    "        self.corr_rt = np.mean(resp_df[resp_df['accuracy']==1]['rt'])\n",
    "        self.incorr_rt = np.mean(resp_df[resp_df['accuracy']==0]['rt'])\n",
    "        self.response_df = resp_df\n",
    "        \n",
    "        \n",
    "        print(f'overall perc_correct: {self.perc_correct}')\n",
    "        print(f'avg RT, correct trials: {self.corr_rt}')\n",
    "        print(f'avg RT, incorrect trials: {self.incorr_rt}')\n",
    "        \n",
    "    def save_response_data(self):\n",
    "        fname = f'{self.id}_{self.exp_group}_response_data.csv'\n",
    "        self.response_df.to_csv(fname)\n",
    "        "
   ]
  },
  {
   "cell_type": "markdown",
   "metadata": {},
   "source": [
    "Setting up the class takes some work, but once its created it can greatly simplify things. In the next cell we can simulate a person running in an experiment. For now we will have the responses and response time on each trial be random values, but they could quickly be adjusted to take on respones made by an actual person."
   ]
  },
  {
   "cell_type": "code",
   "execution_count": null,
   "metadata": {},
   "outputs": [],
   "source": [
    "# Bring a person into our experiment\n",
    "# randomly assign them to an experimental group\n",
    "# and then \"run\" the experiment on them\n",
    "\n",
    "\n",
    "exp_conditions = ['group1', 'group2']\n",
    "# use np.random.choice() to randomly assign person to a condition\n",
    "participant_condition = np.random.choice(exp_conditions)\n",
    "\n",
    "\n",
    "# initialize a person with an id and a condition\n",
    "participant = ExpSession('sub-01', participant_condition)"
   ]
  },
  {
   "cell_type": "code",
   "execution_count": null,
   "metadata": {},
   "outputs": [],
   "source": [
    "# load the list of stimuli and choose the correct ones based on the participant group\n",
    "all_stimuli = pd.read_csv('./exp_stims.csv')\n",
    "all_stimuli.head()"
   ]
  },
  {
   "cell_type": "code",
   "execution_count": null,
   "metadata": {},
   "outputs": [],
   "source": [
    "# choose the correct stimuli for this person based on the participant group\n",
    "\n",
    "exp_stims = all_stimuli[participant.exp_group].tolist()\n",
    "# look at the first 10 stimuli\n",
    "exp_stims[0:10]"
   ]
  },
  {
   "cell_type": "code",
   "execution_count": null,
   "metadata": {},
   "outputs": [],
   "source": [
    "# for speed of illustration we will only \"present\"\n",
    "# the first 20 trials to our participant\n",
    "exp_stims = exp_stims[0:20]"
   ]
  },
  {
   "cell_type": "code",
   "execution_count": null,
   "metadata": {},
   "outputs": [],
   "source": [
    "# find out how many trials there are by checking the number of stimuli \n",
    "n_trials = len(exp_stims)\n",
    "n_trials"
   ]
  },
  {
   "cell_type": "code",
   "execution_count": null,
   "metadata": {},
   "outputs": [],
   "source": [
    "# Loop through the experimental stimuli\n",
    "# On each trial get a response and response time\n",
    "# use the method update_responses() to keep track of \n",
    "# what was presented and the response on each trial\n",
    "\n",
    "for tn in range(n_trials):\n",
    "    # 'show' a stimulus to a participant\n",
    "    # print(exp_stims[tn])\n",
    "    print(exp_stims[tn])\n",
    "    \n",
    "    # collect a response\n",
    "    # simulate a random choice of button press 1 through 4\n",
    "    r = np.random.choice(['1','2','3','4'])\n",
    "    # and a response time on this trial\n",
    "    rtime = abs(npr.normal(3,1))\n",
    "    \n",
    "    \n",
    "    # update the running tally of experimental data\n",
    "    participant.update_responses(r, \n",
    "                                 rtime, \n",
    "                                 exp_stims[tn])"
   ]
  },
  {
   "cell_type": "markdown",
   "metadata": {},
   "source": [
    "Now we have all of the info for this person packaged up together.\n",
    "\n",
    "The class includes a summarize_response() method that takes in a list of the \"correct\" response on each trial and produces a summary of whether the preson was correct or incorrect in each trial and prints summary info."
   ]
  },
  {
   "cell_type": "code",
   "execution_count": null,
   "metadata": {},
   "outputs": [],
   "source": [
    "# make some fake correct responses of the same length as our number of trials\n",
    "correct_responses = np.random.choice(['1','2','3','4'], n_trials)\n",
    "correct_responses"
   ]
  },
  {
   "cell_type": "code",
   "execution_count": null,
   "metadata": {},
   "outputs": [],
   "source": [
    "len(participant.resp)"
   ]
  },
  {
   "cell_type": "code",
   "execution_count": null,
   "metadata": {},
   "outputs": [],
   "source": [
    "# pass correct_responses to our participant object to generate a summary\n",
    "participant.summarize_responses(correct_responses)"
   ]
  },
  {
   "cell_type": "markdown",
   "metadata": {},
   "source": [
    "The summarize_responses() method also made a dataframe with all of the info in it and this is now an attribute of the object:"
   ]
  },
  {
   "cell_type": "code",
   "execution_count": null,
   "metadata": {},
   "outputs": [],
   "source": [
    "participant.response_df.head()"
   ]
  },
  {
   "cell_type": "markdown",
   "metadata": {},
   "source": [
    "And now we can easily save all our data by just calling the participant.save_response_data().\n",
    "\n",
    "\n",
    "Because that method is inside of the object it has direct access to the participant id, the experimental group, and the dataframe summarizing the responses.\n",
    "\n",
    "The save_response_data() function automatically makes a filename and uses it save the data to a csv."
   ]
  },
  {
   "cell_type": "code",
   "execution_count": null,
   "metadata": {},
   "outputs": [],
   "source": [
    "participant.save_response_data()"
   ]
  },
  {
   "cell_type": "markdown",
   "metadata": {},
   "source": [
    "## What's the point again?\n",
    "\n",
    "Take a minute to think about alternative ways to do this. You could do everything we just did using tools other than Classes, but you would find that it gets hard to keep track of things and the code gets ugly.\n",
    "\n",
    "By doing things using encapsulated data and methods inside of a class we have a situation where relevant information and actions travel together in a convenient package that saves us from having to keep track of variable names and indexes.\n",
    "\n",
    "We have also made our code easier to read and interact with. By hiding multiple lines behind method names like save_response_data() we simplify interacting with the code.\n",
    "\n",
    "We can quickly run an example with 48 participants to show how this all generalizes quite easily."
   ]
  },
  {
   "cell_type": "code",
   "execution_count": null,
   "metadata": {},
   "outputs": [],
   "source": [
    "# Run 12 participants in our experiment\n",
    "# this is a list comprehension:\n",
    "participants = [f'sub-0{i}' for i in range(1,49)]\n",
    "participants[0:10]"
   ]
  },
  {
   "cell_type": "markdown",
   "metadata": {},
   "source": [
    "Now we can loop through all of the participants, collecting data, saving data, and then combining all of the individuals into a group dataframe using pd.concat()"
   ]
  },
  {
   "cell_type": "code",
   "execution_count": null,
   "metadata": {},
   "outputs": [],
   "source": [
    "# loop over people, random assign them to an experimetal group, collect data, save the result\n",
    "\n",
    "exp_conditions = ['group1', 'group2']\n",
    "\n",
    "\n",
    "\n",
    "for p in participants:\n",
    "    \n",
    "    # use random.choice() to randomly assign person to a condition\n",
    "    participant = ExpSession(p, np.random.choice(exp_conditions))\n",
    "\n",
    "    # get the stimuli for this group\n",
    "    all_stimuli = pd.read_csv('./exp_stims.csv')\n",
    "    exp_stims = all_stimuli[participant.exp_group].tolist()\n",
    "    \n",
    "    \n",
    "    n_trials = len(exp_stims)\n",
    "    \n",
    "    \n",
    "    # Loop through the experimental stimuli\n",
    "\n",
    "    for tn in range(n_trials):\n",
    "     \n",
    "        # collect a response\n",
    "        # simulate a random choice of button press 1 through 4\n",
    "        r = np.random.choice(['1','2','3','4'])\n",
    "        # and a response time on this trial\n",
    "        rtime = abs(npr.normal(3,1))\n",
    "\n",
    "\n",
    "        # update the running tally of experimental data\n",
    "        participant.update_responses(r, \n",
    "                                     rtime, \n",
    "                                     exp_stims[tn])\n",
    "        \n",
    "    # the trials have all been run, now summarize this person's responses\n",
    "    # and see whether they were correct or incorrect and save the data\n",
    "    \n",
    "    # make some fake correct responses of the same length as our number of trials\n",
    "    correct_responses = np.random.choice(['1','2','3','4'], n_trials)\n",
    "    participant.summarize_responses(correct_responses)\n",
    "    participant.save_response_data()\n"
   ]
  },
  {
   "cell_type": "markdown",
   "metadata": {},
   "source": [
    "### Load all the individual data"
   ]
  },
  {
   "cell_type": "code",
   "execution_count": null,
   "metadata": {},
   "outputs": [],
   "source": [
    "import glob\n",
    "# the glob() function takes in a path and optionally a 'wildcard' and returns\n",
    "# all files matching the wildcard\n",
    "\n",
    "# look in the current folder for any file that ends with response_data.csv\n",
    "data_files = glob.glob('./*response_data.csv')\n",
    "data_files"
   ]
  },
  {
   "cell_type": "code",
   "execution_count": null,
   "metadata": {},
   "outputs": [],
   "source": [
    "# load all the individual dataframes and make group data\n",
    "df_list = []\n",
    "\n",
    "for f in data_files:\n",
    "    df_list.append(pd.read_csv(f))\n",
    "    \n",
    "    \n",
    "group_df = pd.concat(df_list)"
   ]
  },
  {
   "cell_type": "code",
   "execution_count": null,
   "metadata": {},
   "outputs": [],
   "source": [
    "group_df.groupby('exp_group')['rt'].mean()"
   ]
  },
  {
   "cell_type": "markdown",
   "metadata": {},
   "source": [
    "### Summary\n",
    "\n",
    "This notebook has been an introduction to Classes in Python. Although it can take some time to understand when and why to use them and how to parse the self. syntax, they can be extremely useful. At the core of this utility are the notions of: \n",
    "\n",
    "* encapsulation -- allowing us to bundle different kinds of data and behaviors or functionality together in one object\n",
    "\n",
    "* reusability -- by defining classes that wrap up code that would commonly go together we can greatly simplify future work\n",
    "\n",
    "* inheritance -- the ability of a Class to inherit properties from super classes extends the notion of reusability by allowing us to incrementally build on previous code, adapting it to current uses without starting over from scratch"
   ]
  }
 ],
 "metadata": {
  "kernelspec": {
   "display_name": "Python 3 (ipykernel)",
   "language": "python",
   "name": "python3"
  },
  "language_info": {
   "codemirror_mode": {
    "name": "ipython",
    "version": 3
   },
   "file_extension": ".py",
   "mimetype": "text/x-python",
   "name": "python",
   "nbconvert_exporter": "python",
   "pygments_lexer": "ipython3",
   "version": "3.9.7"
  }
 },
 "nbformat": 4,
 "nbformat_minor": 1
}
