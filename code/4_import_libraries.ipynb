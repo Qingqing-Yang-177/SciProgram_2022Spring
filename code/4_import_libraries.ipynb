{
 "cells": [
  {
   "cell_type": "markdown",
   "metadata": {},
   "source": [
    "## Importing additional functionality"
   ]
  },
  {
   "cell_type": "markdown",
   "metadata": {},
   "source": [
    "One of the best features of Python, and one reason contributing to its popularity is the large number of add on packages or libraries.  For example, there are packages for data analysis (`numpy` and `pandas`), plotting (`matplotlib` or `seaborn`), etc...  \n",
    "\n",
    "Some of these packages are included with your Anaconda installation of Python and some need to be installed.\n",
    "\n",
    "To use a library within a particular Python session you will need to ensure:\n",
    "\n",
    "1. That the library has been installed on your computer\n",
    "\n",
    "2. That you activate, or import, that library into your working session \n",
    "\n",
    "Installing a library on your computer means getting all of the code from some online repository and instructing Python where it is located on your computer.\n",
    "\n",
    "Installation doesn't automatically load that libraries code into every Python session. Instead, at the start of your notebook or program, you often need to **import** this functionality.  There are a couple of ways to import packages.  Generally you need to know the name of the package and details about what functions or methods it provides.  Most packages have tons of great documentation.  For example, `pandas` a library we will use a lot in class has extensive documentation on the [pydata website](https://pandas.pydata.org/pandas-docs/stable/). \n",
    "\n"
   ]
  },
  {
   "cell_type": "markdown",
   "metadata": {},
   "source": [
    "For now we will focus on activation libraries that are already on your computer."
   ]
  },
  {
   "cell_type": "markdown",
   "metadata": {},
   "source": [
    "By convention the imports for a particular file or notebook go at the top of the file, but we are not doing that here.."
   ]
  },
  {
   "cell_type": "markdown",
   "metadata": {},
   "source": [
    "Basic importing is accomplished with the `import` command.  For example, to import the basic\n",
    "math functions in Python just type:"
   ]
  },
  {
   "cell_type": "code",
   "execution_count": 1,
   "metadata": {},
   "outputs": [],
   "source": [
    "import math"
   ]
  },
  {
   "cell_type": "markdown",
   "metadata": {},
   "source": [
    "Now we can access the methods provided by the math function using the `.` (dot) operator.  Any function that the `math` library provides is accessible to us now using `math.<function>`.  For example, to compute the cosine of a number:"
   ]
  },
  {
   "cell_type": "code",
   "execution_count": 2,
   "metadata": {},
   "outputs": [
    {
     "data": {
      "text/plain": [
       "0.5403023058681398"
      ]
     },
     "execution_count": 2,
     "metadata": {},
     "output_type": "execute_result"
    }
   ],
   "source": [
    "math.cos(1)"
   ]
  },
  {
   "cell_type": "markdown",
   "metadata": {},
   "source": [
    "Round a number up using math.ceil():"
   ]
  },
  {
   "cell_type": "code",
   "execution_count": null,
   "metadata": {},
   "outputs": [],
   "source": [
    "# round up"
   ]
  },
  {
   "cell_type": "markdown",
   "metadata": {},
   "source": [
    "Round a number down using math.floor():"
   ]
  },
  {
   "cell_type": "code",
   "execution_count": 9,
   "metadata": {},
   "outputs": [],
   "source": [
    "# round down"
   ]
  },
  {
   "cell_type": "markdown",
   "metadata": {},
   "source": [
    "#### Separate from any individual math library commands, focus the basic setup we've been discussing\n",
    "\n",
    "Import a library using import command:\n",
    "\n",
    "```python\n",
    "import math\n",
    "```\n",
    "\n",
    "Access methods or functions of that library using the imported name and dot notation:\n",
    "\n",
    "```python\n",
    "math.cos(90)\n",
    "math.floor(109.1)\n",
    "```"
   ]
  },
  {
   "cell_type": "markdown",
   "metadata": {},
   "source": [
    "### Renaming a library"
   ]
  },
  {
   "cell_type": "markdown",
   "metadata": {},
   "source": [
    "Sometimes we want to import a library but rename it so that it is easier to type.  \n",
    "\n",
    "For instance we will use the pandas library a lot in class as a way to manage data but typing `import pandas` means everytime we use a pandas function it will need to begin with the `pandas.<something>` syntax.  This can be a lot of typing.\n",
    "\n",
    "An alternative way to import is using syntax like:\n",
    "\n",
    "```python\n",
    "import pandas as pd\n",
    "```\n",
    "\n",
    "This imports the library but immediately changes its name, usually to something simpler and shorter for easy typing."
   ]
  },
  {
   "cell_type": "code",
   "execution_count": null,
   "metadata": {},
   "outputs": [],
   "source": [
    "import pandas as pd"
   ]
  },
  {
   "cell_type": "markdown",
   "metadata": {},
   "source": [
    "Now we have access to the pandas functions using `pd.<something>` instead of `pandas.<something>`.  For example, we can create a new pandas *dataframe* like this:"
   ]
  },
  {
   "cell_type": "code",
   "execution_count": 10,
   "metadata": {},
   "outputs": [
    {
     "data": {
      "text/html": [
       "<div>\n",
       "<style scoped>\n",
       "    .dataframe tbody tr th:only-of-type {\n",
       "        vertical-align: middle;\n",
       "    }\n",
       "\n",
       "    .dataframe tbody tr th {\n",
       "        vertical-align: top;\n",
       "    }\n",
       "\n",
       "    .dataframe thead th {\n",
       "        text-align: right;\n",
       "    }\n",
       "</style>\n",
       "<table border=\"1\" class=\"dataframe\">\n",
       "  <thead>\n",
       "    <tr style=\"text-align: right;\">\n",
       "      <th></th>\n",
       "      <th>student</th>\n",
       "      <th>grades</th>\n",
       "    </tr>\n",
       "  </thead>\n",
       "  <tbody>\n",
       "    <tr>\n",
       "      <th>0</th>\n",
       "      <td>1</td>\n",
       "      <td>0.95</td>\n",
       "    </tr>\n",
       "    <tr>\n",
       "      <th>1</th>\n",
       "      <td>2</td>\n",
       "      <td>0.27</td>\n",
       "    </tr>\n",
       "    <tr>\n",
       "      <th>2</th>\n",
       "      <td>3</td>\n",
       "      <td>0.45</td>\n",
       "    </tr>\n",
       "    <tr>\n",
       "      <th>3</th>\n",
       "      <td>4</td>\n",
       "      <td>0.80</td>\n",
       "    </tr>\n",
       "  </tbody>\n",
       "</table>\n",
       "</div>"
      ],
      "text/plain": [
       "   student  grades\n",
       "0        1    0.95\n",
       "1        2    0.27\n",
       "2        3    0.45\n",
       "3        4    0.80"
      ]
     },
     "execution_count": 10,
     "metadata": {},
     "output_type": "execute_result"
    }
   ],
   "source": [
    "import pandas as pd\n",
    "\n",
    "df = pd.DataFrame({'student': [1,2,3,4], 'grades':[0.95, 0.27, 0.45, 0.8] })\n",
    "df"
   ]
  },
  {
   "cell_type": "markdown",
   "metadata": {},
   "source": [
    "It's a lot shorter to import pandas as `pd` and then call the `pd.DataFrame()` command than to type out `pandas.DataFrame()`.\n",
    "\n",
    "You haven't learned about dataframes and how to use them -- yet -- but you will quite soon."
   ]
  },
  {
   "cell_type": "markdown",
   "metadata": {},
   "source": [
    "#### Most libraries have standard short names\n",
    "\n",
    "Like importing pandas as pd, most of the commonly used libraries are imported with a standardized short name. This facilitates understanding the code written by other people. I will point this standard names out to you and use them throughout."
   ]
  },
  {
   "cell_type": "markdown",
   "metadata": {},
   "source": [
    "Another very important libary is **numpy** which provides a wide array of numeric and other mathematical operations. Numpy usually imported using np as the short name."
   ]
  },
  {
   "cell_type": "code",
   "execution_count": 11,
   "metadata": {},
   "outputs": [],
   "source": [
    "import numpy as np"
   ]
  },
  {
   "cell_type": "markdown",
   "metadata": {},
   "source": [
    "And now we have access to some numpy functions like computing the natural log of a number y. (That is, the value x such that $e^x=y$)"
   ]
  },
  {
   "cell_type": "code",
   "execution_count": 23,
   "metadata": {},
   "outputs": [
    {
     "data": {
      "text/plain": [
       "2.302585092994046"
      ]
     },
     "execution_count": 23,
     "metadata": {},
     "output_type": "execute_result"
    }
   ],
   "source": [
    "np.log(10)"
   ]
  },
  {
   "cell_type": "markdown",
   "metadata": {},
   "source": [
    "#### Importing just part of a library\n",
    "If you know there is a particular function you want to grab from a library, you can import only that function.  For example, we could import the `cos()` function from the math library like this:"
   ]
  },
  {
   "cell_type": "code",
   "execution_count": 25,
   "metadata": {},
   "outputs": [],
   "source": [
    "from math import cos"
   ]
  },
  {
   "cell_type": "markdown",
   "metadata": {},
   "source": [
    "Doing this achieves two things:\n",
    "\n",
    "1. If there is a really large and complex library and you only need part of it for your work you can import just what you need\n",
    "\n",
    "2. In an import of an individual function we can access it without doing the math.cos() syntax.\n",
    "\n"
   ]
  },
  {
   "cell_type": "code",
   "execution_count": 26,
   "metadata": {},
   "outputs": [
    {
     "data": {
      "text/plain": [
       "-0.4480736161291701"
      ]
     },
     "execution_count": 26,
     "metadata": {},
     "output_type": "execute_result"
    }
   ],
   "source": [
    "cos(90)"
   ]
  },
  {
   "cell_type": "markdown",
   "metadata": {},
   "source": [
    "\n",
    "___\n",
    "Python libraries can really extend your computing and data options.  For example, one cool library is the `wikipedia` library which provides an interface to the Wikipedia site."
   ]
  },
  {
   "cell_type": "markdown",
   "metadata": {},
   "source": [
    "#### Installing wikipedia library\n",
    "\n",
    "You probably don't have the wikipedia library installed on your computer yet. If you want to install it you should go to the Terminal (Mac) or the Anaconda Prompt (Windows) and enter the following command:\n",
    "\n",
    "```conda install -c conda-forge wikipedia```\n",
    "\n",
    "When you press Enter or Return you should get some output that tells you its looking for the package and then maybe give you some messages asking you whether to proced (y/n) and any other issues or warnings.\n",
    "\n",
    "To check if it worked, open a new notebook and execute a cell that says `import wikipedia as wk`\n",
    "\n",
    "If you don't get any errors it means the package installed correctly."
   ]
  },
  {
   "cell_type": "markdown",
   "metadata": {},
   "source": [
    "First we can import the wikipedia library and name it wk, then we will use the search() method to look for articles matching some search terms."
   ]
  },
  {
   "cell_type": "code",
   "execution_count": 27,
   "metadata": {
    "scrolled": true
   },
   "outputs": [
    {
     "data": {
      "text/plain": [
       "['Carbon dioxide',\n",
       " 'Carbon dioxide removal',\n",
       " 'Carbon dioxide scrubber',\n",
       " \"Carbon dioxide in Earth's atmosphere\",\n",
       " 'Carbon sequestration',\n",
       " 'Carbon-dioxide laser',\n",
       " 'Liquid carbon dioxide',\n",
       " 'Supercritical carbon dioxide',\n",
       " 'List of countries by carbon dioxide emissions',\n",
       " 'Hypercapnia']"
      ]
     },
     "execution_count": 27,
     "metadata": {},
     "output_type": "execute_result"
    }
   ],
   "source": [
    "import wikipedia as wk\n",
    "\n",
    "# use the wikipedia.search() function using our short\n",
    "# name for wikipedia library:\n",
    "wk.search(\"Carbon Dioxide\")"
   ]
  },
  {
   "cell_type": "markdown",
   "metadata": {},
   "source": [
    "The `search()` command in the wikipedia library will search all wikipedia pages that match a particular search string and return then in a list.  Here it brings up all pages relevant to the phrase \"Carbon Dioxide\"."
   ]
  },
  {
   "cell_type": "code",
   "execution_count": 28,
   "metadata": {},
   "outputs": [
    {
     "data": {
      "text/plain": [
       "['Carbon dioxide',\n",
       " 'Carbon dioxide removal',\n",
       " 'Carbon dioxide scrubber',\n",
       " \"Carbon dioxide in Earth's atmosphere\",\n",
       " 'Carbon sequestration',\n",
       " 'Carbon-dioxide laser',\n",
       " 'Liquid carbon dioxide',\n",
       " 'Supercritical carbon dioxide',\n",
       " 'List of countries by carbon dioxide emissions',\n",
       " 'Hypercapnia']"
      ]
     },
     "execution_count": 28,
     "metadata": {},
     "output_type": "execute_result"
    }
   ],
   "source": [
    "co_list = wk.search(\"Carbon Dioxide\")\n",
    "co_list"
   ]
  },
  {
   "cell_type": "code",
   "execution_count": 29,
   "metadata": {},
   "outputs": [
    {
     "name": "stdout",
     "output_type": "stream",
     "text": [
      "['carbon dioxide', 'carbon dioxide removal', 'carbon dioxide scrubber', \"carbon dioxide in earth's atmosphere\", 'carbon sequestration', 'carbon-dioxide laser', 'liquid carbon dioxide', 'supercritical carbon dioxide', 'list of countries by carbon dioxide emissions', 'hypercapnia']\n"
     ]
    }
   ],
   "source": [
    "# convert list of articles to lower case for string \n",
    "# comparison\n",
    "# This is called a \"list comprehension\" and it's like a compact\n",
    "# for loop\n",
    "co_list_lower = [x.lower() for x in co_list]\n",
    "print(co_list_lower)"
   ]
  },
  {
   "cell_type": "code",
   "execution_count": 32,
   "metadata": {},
   "outputs": [
    {
     "name": "stdout",
     "output_type": "stream",
     "text": [
      "idx = 0\n"
     ]
    }
   ],
   "source": [
    "# search the list for position of the basic carbon dioxide entry\n",
    "idx = co_list_lower.index(\"carbon dioxide\")\n",
    "print(f'idx = {idx}')\n"
   ]
  },
  {
   "cell_type": "code",
   "execution_count": 33,
   "metadata": {},
   "outputs": [
    {
     "name": "stdout",
     "output_type": "stream",
     "text": [
      "article title: Carbon dioxide\n",
      "\n",
      "Carbon dioxide (chemical formula CO2) is an acidic colorless gas with a density about 53% higher than that of dry air.  Carbon dioxide molecules consist of a carbon atom covalently double bonded to two oxygen atoms. It occurs naturally in Earth's atmosphere as a trace gas. The current concentration is about 0.04% (412 ppm) by volume, having risen from pre-industrial levels of 280 ppm.  Natural sources include volcanoes, forest fires, hot springs, geysers, and it is freed from carbonate rocks by dissolution in water and acids. Because carbon dioxide is soluble in water, it occurs naturally in groundwater, rivers and lakes, ice caps, glaciers and seawater. It is present in deposits of petroleum and natural gas. Carbon dioxide has a sharp and acidic odor and generates the taste of soda water in the mouth. However, at normally encountered concentrations it is odorless.As the source of available carbon in the carbon cycle, atmospheric carbon dioxide is the primary carbon source for life on Earth and its concentration in Earth's pre-industrial atmosphere since late in the Precambrian has been regulated by photosynthetic organisms and geological phenomena. Plants, algae and cyanobacteria use energy from sunlight to synthesize carbohydrates from carbon dioxide and water in a process called photosynthesis, which produces oxygen as a waste product. In turn, oxygen is consumed and CO2 is released as waste by all aerobic organisms when they metabolize organic compounds to produce energy by respiration. Since plants require CO2 for photosynthesis, and humans and animals depend on plants for food, CO2 is necessary for the survival of life on earth.\n",
      "It is returned to water via the gills of fish and to the air via the lungs of air-breathing land animals, including humans. Carbon dioxide is produced during the processes of decay of organic materials and the fermentation of sugars in bread, beer and wine making. It is produced by combustion of wood, peat and other organic materials and fossil fuels such as coal, petroleum and natural gas. It is an unwanted byproduct in many large scale oxidation processes, for example, in the production of acrylic acid (over 5 million tons/year).It is a versatile industrial material, used, for example, as an inert gas in welding and fire extinguishers, as a pressurizing gas in air guns and oil recovery, as a chemical feedstock and as a supercritical fluid solvent in decaffeination of coffee and supercritical drying. It is added to drinking water and carbonated beverages including beer and sparkling wine to add effervescence. The frozen solid form of CO2, known as dry ice, is used as a refrigerant and as an abrasive in dry-ice blasting. It is a feedstock for the synthesis of fuels and chemicals.Carbon dioxide is the most significant long-lived greenhouse gas in Earth's atmosphere. Since the Industrial Revolution anthropogenic emissions – primarily from use of fossil fuels and deforestation – have rapidly increased its concentration in the atmosphere, leading to global warming.  Carbon dioxide also causes ocean acidification because it dissolves in water to form carbonic acid.\n"
     ]
    }
   ],
   "source": [
    "# get the summary of the carbon dioxide article\n",
    "# using the wk.summary() funciton\n",
    "\n",
    "article_title = co_list[idx]\n",
    "print(f'article title: {article_title}\\n')\n",
    "print(wk.summary(article_title))\n"
   ]
  },
  {
   "cell_type": "markdown",
   "metadata": {},
   "source": [
    "#### We will spend lots more time working with different libraries and importing them. What you should take away from this notebook is the general understanding that there are libraries of additinal functionality and that to make them available for an individual python session we need to `import` them"
   ]
  },
  {
   "cell_type": "code",
   "execution_count": null,
   "metadata": {},
   "outputs": [],
   "source": []
  }
 ],
 "metadata": {
  "kernelspec": {
   "display_name": "Python 3 (ipykernel)",
   "language": "python",
   "name": "python3"
  },
  "language_info": {
   "codemirror_mode": {
    "name": "ipython",
    "version": 3
   },
   "file_extension": ".py",
   "mimetype": "text/x-python",
   "name": "python",
   "nbconvert_exporter": "python",
   "pygments_lexer": "ipython3",
   "version": "3.8.12"
  }
 },
 "nbformat": 4,
 "nbformat_minor": 4
}
