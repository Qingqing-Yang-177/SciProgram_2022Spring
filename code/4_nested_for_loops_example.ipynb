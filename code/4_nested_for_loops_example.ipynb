{
 "cells": [
  {
   "cell_type": "markdown",
   "id": "78a98f88",
   "metadata": {},
   "source": [
    "### Nested for loops\n",
    "\n",
    "This notebook gives a couple of examples of nested for loops in the hopes of exposing the logic and structure of how they work."
   ]
  },
  {
   "cell_type": "code",
   "execution_count": 1,
   "id": "bd7804b7",
   "metadata": {},
   "outputs": [],
   "source": [
    "# run this cell to get access to \n",
    "# the sleep() function to help slow the code\n",
    "# down for visualization\n",
    "import time\n",
    "\n",
    "# set the code pause to be .75 seconds:\n",
    "n = .75"
   ]
  },
  {
   "cell_type": "markdown",
   "id": "6a9b2901",
   "metadata": {},
   "source": [
    "You will see the `sleep(n)` function used in the code below. It pauses execution of the code for `n` seconds. If you want to speed the loops up you can change the n variable defined above to be something close to zero. If you want to slow things down increase the value."
   ]
  },
  {
   "cell_type": "code",
   "execution_count": 2,
   "id": "f32d684c",
   "metadata": {},
   "outputs": [],
   "source": [
    "weeks = ['week1', 'week2', 'week3']\n",
    "\n",
    "days = ['monday', 'tuesday', 'wednesday', 'thursday', 'friday', 'saturday', 'sunday']"
   ]
  },
  {
   "cell_type": "markdown",
   "id": "f26b4805",
   "metadata": {},
   "source": [
    "#### First just loop through the lists separately to remind ourselves about for loops:"
   ]
  },
  {
   "cell_type": "code",
   "execution_count": 3,
   "id": "375ed403",
   "metadata": {},
   "outputs": [
    {
     "name": "stdout",
     "output_type": "stream",
     "text": [
      "here we go...\n",
      "week1\n",
      "week2\n",
      "week3\n",
      "thats all the weeks\n"
     ]
    }
   ],
   "source": [
    "# this is outside the loop and will run once, before the loop\n",
    "print('here we go...')\n",
    "\n",
    "# fun the loop once for each entry in the weeks list\n",
    "for w in weeks:\n",
    "    \n",
    "    # everything indented below the for line will run once for each entry \n",
    "    # in the list\n",
    "    print(w)\n",
    "    \n",
    "    # this is in the loop so will run\n",
    "    # on each time through the loop\n",
    "    time.sleep(n)\n",
    "    \n",
    "\n",
    "# this is outside of the loop so will only run after \n",
    "# all the weeks in the weeks list have been passed through\n",
    "# the for loop\n",
    "print('thats all the weeks')"
   ]
  },
  {
   "cell_type": "markdown",
   "id": "5e949beb",
   "metadata": {},
   "source": [
    "#### Same structure for a single for loop in the `days` list:"
   ]
  },
  {
   "cell_type": "code",
   "execution_count": 4,
   "id": "b427cbeb",
   "metadata": {},
   "outputs": [
    {
     "name": "stdout",
     "output_type": "stream",
     "text": [
      "monday\n",
      "tuesday\n",
      "wednesday\n",
      "thursday\n",
      "friday\n",
      "saturday\n",
      "sunday\n",
      "loop is done\n"
     ]
    }
   ],
   "source": [
    "for d in days:\n",
    "    print(d)\n",
    "    \n",
    "    # pause the code for n seconds:\n",
    "    time.sleep(n)\n",
    "\n",
    "    \n",
    "print('loop is done')"
   ]
  },
  {
   "cell_type": "markdown",
   "id": "e1a9de7b",
   "metadata": {},
   "source": [
    "#### Combining two for loops\n",
    "\n",
    "The key to nested for loops is to recognize that anything that is indented under a `for` line will run each time through the loop. \n",
    "\n",
    "So if there is a for loop indented under another for loop then _that_ nested for loop will run in its entirety **for each iteration of the outer loop**.\n",
    "\n",
    "So in the next example the outer loop will get the `weeks` list values one at a time in the variable `w`, and then *everything* indented will run, using that current value of `w`.\n",
    "\n",
    "In this weeks and says example that means you'll se that we get all of the `days` list printed out for each entry in `weeks`."
   ]
  },
  {
   "cell_type": "code",
   "execution_count": 5,
   "id": "4df1df47",
   "metadata": {},
   "outputs": [
    {
     "name": "stdout",
     "output_type": "stream",
     "text": [
      "starting a new outer loop\n",
      "week1: monday\n",
      "week1: tuesday\n",
      "week1: wednesday\n",
      "week1: thursday\n",
      "week1: friday\n",
      "week1: saturday\n",
      "week1: sunday\n",
      "ending an outer loop \n",
      "\n",
      "starting a new outer loop\n",
      "week2: monday\n",
      "week2: tuesday\n",
      "week2: wednesday\n",
      "week2: thursday\n",
      "week2: friday\n",
      "week2: saturday\n",
      "week2: sunday\n",
      "ending an outer loop \n",
      "\n",
      "starting a new outer loop\n",
      "week3: monday\n",
      "week3: tuesday\n",
      "week3: wednesday\n",
      "week3: thursday\n",
      "week3: friday\n",
      "week3: saturday\n",
      "week3: sunday\n",
      "ending an outer loop \n",
      "\n",
      "and now the whole loop is over\n"
     ]
    }
   ],
   "source": [
    "# outerloop will grab elements in weeks list one at a time\n",
    "# on each iteration of the loop the w variable will have\n",
    "# one of the weeks list values in it, starting from weeks[0]\n",
    "# and ending with weeks[-1]\n",
    "for w in weeks:\n",
    "    \n",
    "    # the whole inner loop will run for each time through the outer loop\n",
    "    # the inner loop will iterate through the days list, putting the values\n",
    "    # into the d variable one at a time\n",
    "    \n",
    "    # this line will run once per outer loop:\n",
    "    print('starting a new outer loop')\n",
    "    \n",
    "    for d in days:\n",
    "        \n",
    "        # this line will run multiple times for each\n",
    "        # value of w\n",
    "        print(f'{w}: {d}')\n",
    "        \n",
    "        # pause the code for n seconds on each \n",
    "        # iteration of the inner (days) loop\n",
    "        time.sleep(n)\n",
    "\n",
    "        \n",
    "        \n",
    "    # this line is in the outer loop and so will run one \n",
    "    # time for each value of w\n",
    "    print('ending an outer loop \\n')\n",
    "        \n",
    "        \n",
    "# this line is outside of both loop and won't run until\n",
    "# all of the values in weeks list have been pushed\n",
    "# through the for loop\n",
    "print('and now the whole loop is over')"
   ]
  },
  {
   "cell_type": "markdown",
   "id": "4f9e2498",
   "metadata": {},
   "source": [
    "### Nested for loops using indexing instead of direct iteration over a list\n",
    "\n",
    "There are times when you want to use a for loop with a range of values so you can do list indexing rather than directly getting the vales in a list.\n",
    "\n",
    "Here's a reminder of what that means: loop through the values in the `weeks` list but using indexing rather than direct iterating."
   ]
  },
  {
   "cell_type": "code",
   "execution_count": 6,
   "id": "6934ade7",
   "metadata": {},
   "outputs": [],
   "source": [
    "weeks = ['week1', 'week2', 'week3']\n",
    "\n",
    "days = ['monday', 'tuesday', 'wednesday', 'thursday', 'friday', 'saturday', 'sunday']"
   ]
  },
  {
   "cell_type": "code",
   "execution_count": 7,
   "id": "741302d6",
   "metadata": {},
   "outputs": [
    {
     "name": "stdout",
     "output_type": "stream",
     "text": [
      "starting indexed for loop...\n",
      "on this loop i is: 0\n",
      "on this loop i is: 1\n",
      "on this loop i is: 2\n"
     ]
    }
   ],
   "source": [
    "# combine the range function() with the len() \n",
    "# to do a loop where the i variable will take on \n",
    "# the values 0 up to len(weeks)-1, one at a time\n",
    "\n",
    "# this line is outside the loop\n",
    "print('starting indexed for loop...')\n",
    "\n",
    "# i will take values starting at 0 and go through\n",
    "# the loop for each of those values\n",
    "for i in range(0,len(weeks)):\n",
    "    \n",
    "    # check out the current value of i\n",
    "    print(f'on this loop i is: {i}')\n",
    "    \n",
    "    # pause the code for n seconds on each \n",
    "\n",
    "    time.sleep(n)\n",
    "\n",
    " \n",
    "    "
   ]
  },
  {
   "cell_type": "markdown",
   "id": "4e771f40",
   "metadata": {},
   "source": [
    "#### Take the previous range() example and use it to access the weeks values one at a time:\n",
    "\n",
    "Combine the `range()` function with `len(weeks)` to do a loop where the i variable will take on the values 0 up to len(weeks)-1, one at a time\n"
   ]
  },
  {
   "cell_type": "code",
   "execution_count": 8,
   "id": "be691fff",
   "metadata": {},
   "outputs": [
    {
     "name": "stdout",
     "output_type": "stream",
     "text": [
      "starting indexed for loop...\n",
      "on this loop i is: 0\n",
      "week1\n",
      "on this loop i is: 1\n",
      "week2\n",
      "on this loop i is: 2\n",
      "week3\n",
      "all done\n"
     ]
    }
   ],
   "source": [
    "\n",
    "# this line is outside the loop\n",
    "print('starting indexed for loop...')\n",
    "\n",
    "# i takes values starting at 0 \n",
    "# outer loop runs for every value of i\n",
    "for i in range(0,len(weeks)):\n",
    "    \n",
    "    # check out the current value of i\n",
    "    print(f'on this loop i is: {i}')\n",
    "    \n",
    "    # use the increasing values of i to get the\n",
    "    # values from weeks list one at a time\n",
    "    print(weeks[i])\n",
    "    \n",
    "    time.sleep(n)\n",
    "\n",
    "# this is outside the loop and will print once\n",
    "print('all done')\n",
    "    "
   ]
  },
  {
   "cell_type": "markdown",
   "id": "075a203b",
   "metadata": {},
   "source": [
    "#### Looping through the days list using indexing"
   ]
  },
  {
   "cell_type": "code",
   "execution_count": 9,
   "id": "39402405",
   "metadata": {},
   "outputs": [
    {
     "name": "stdout",
     "output_type": "stream",
     "text": [
      "monday\n",
      "tuesday\n",
      "wednesday\n",
      "thursday\n",
      "friday\n",
      "saturday\n",
      "sunday\n"
     ]
    }
   ],
   "source": [
    "for idx in range(0,len(days)):\n",
    "    \n",
    "    # use current idx value to get\n",
    "    # one element of the days list:\n",
    "    print(days[idx])\n",
    "\n",
    "    time.sleep(n)"
   ]
  },
  {
   "cell_type": "markdown",
   "id": "8abdd8ce",
   "metadata": {},
   "source": [
    "## Using range() in a nested for loop\n",
    "\n",
    "We can use range() in both an outer and an inner loop as long as we assign the values to different variables."
   ]
  },
  {
   "cell_type": "code",
   "execution_count": 10,
   "id": "6413a528",
   "metadata": {},
   "outputs": [
    {
     "name": "stdout",
     "output_type": "stream",
     "text": [
      "0 0\n",
      "0 1\n",
      "0 2\n",
      "0 3\n",
      "0 4\n",
      "1 0\n",
      "1 1\n",
      "1 2\n",
      "1 3\n",
      "1 4\n",
      "2 0\n",
      "2 1\n",
      "2 2\n",
      "2 3\n",
      "2 4\n"
     ]
    }
   ],
   "source": [
    "for i in range(0,3):\n",
    "    \n",
    "    for j in range(0,5):\n",
    "        \n",
    "        print(f'{i} {j}')\n",
    "        time.sleep(n)"
   ]
  },
  {
   "cell_type": "markdown",
   "id": "7a751cca",
   "metadata": {},
   "source": [
    "#### Using indexing rather than direct iteration is common when you need to index multiple matched lists or keep track of how many times the loop has run\n",
    "\n",
    "The next example seeks to print out the day and the lunch item for each day of the week so we have two lists to access in the inner loop. Consequently, directly access the days items using:\n",
    "\n",
    "```python\n",
    "for d in days:\n",
    "    print(d)\n",
    "```\n",
    "\n",
    "would make it hard to access the seven lunch items.\n",
    "\n",
    "Instead we can use range."
   ]
  },
  {
   "cell_type": "code",
   "execution_count": 11,
   "id": "ac820b56",
   "metadata": {},
   "outputs": [],
   "source": [
    "weeks = ['week1', 'week2', 'week3']\n",
    "\n",
    "days = ['monday', 'tuesday', 'wednesday', 'thursday', 'friday', 'saturday', 'sunday']\n",
    "\n",
    "daily_lunch = ['sandwich', 'salad', 'dumplings', 'pizza', 'tacos', 'falafel', 'ice cream']"
   ]
  },
  {
   "cell_type": "code",
   "execution_count": 12,
   "id": "816ec263",
   "metadata": {
    "scrolled": true
   },
   "outputs": [
    {
     "name": "stdout",
     "output_type": "stream",
     "text": [
      "week1, monday: sandwich\n",
      "week1, tuesday: salad\n",
      "week1, wednesday: dumplings\n",
      "week1, thursday: pizza\n",
      "week1, friday: tacos\n",
      "week1, saturday: falafel\n",
      "week1, sunday: ice cream\n",
      "thats it for week1 \n",
      "\n",
      "week2, monday: sandwich\n",
      "week2, tuesday: salad\n",
      "week2, wednesday: dumplings\n",
      "week2, thursday: pizza\n",
      "week2, friday: tacos\n",
      "week2, saturday: falafel\n",
      "week2, sunday: ice cream\n",
      "thats it for week2 \n",
      "\n",
      "week3, monday: sandwich\n",
      "week3, tuesday: salad\n",
      "week3, wednesday: dumplings\n",
      "week3, thursday: pizza\n",
      "week3, friday: tacos\n",
      "week3, saturday: falafel\n",
      "week3, sunday: ice cream\n",
      "thats it for week3 \n",
      "\n"
     ]
    }
   ],
   "source": [
    "# w will index the weeks:\n",
    "\n",
    "for w in range(0, len(weeks)):\n",
    "    \n",
    "    current_week = weeks[w]\n",
    "    \n",
    "    \n",
    "    for i in range(0, len(days)):\n",
    "        \n",
    "        # days and lunch lists are matched\n",
    "        # so lunch[i] is the lunch for days[i]\n",
    "        current_day = days[i]\n",
    "        current_lunch = daily_lunch[i]\n",
    "        \n",
    "        print(f'{current_week}, {current_day}: {current_lunch}')\n",
    "        \n",
    "        # pause for n seconds\n",
    "        time.sleep(n)\n",
    "        \n",
    "    # this is in the outer loop so will run once for\n",
    "    # each week value, after the inner loop finishes\n",
    "    print(f'thats it for {current_week} \\n')\n",
    "\n"
   ]
  },
  {
   "cell_type": "markdown",
   "id": "f1503412",
   "metadata": {},
   "source": [
    "### 14. Using two for loops (nested), generate this output:\n",
    "\n",
    "Using the two lists defined below, make output that looks like this:\n",
    "\n",
    "\n",
    "student1 has <br>\n",
    "brown hair<br>\n",
    "brown eyes<br>\n",
    "a masters degree<br>\n",
    "\n",
    "student2 has<br>\n",
    "blonde hair<br>\n",
    "brown eyes<br>\n",
    "a masters degree<br>\n",
    "\n",
    "student3 has<br>\n",
    "blue hair<br>\n",
    "brown eyes<br>\n",
    "a bachelors degree<br>\n",
    "\n",
    "\n",
    "**This one is hard**! The all_data variable is a list of lists containing information about three students. Each sublist (student id, student hair color, student eye color, and student degree obtained) has three positions corresponding to each of the three students. So student1 is index position 0 whithin each of those sublists, student2 is index position 1, etc.\n"
   ]
  },
  {
   "cell_type": "code",
   "execution_count": null,
   "id": "fb39ab61",
   "metadata": {},
   "outputs": [],
   "source": [
    "# Use these lists\n",
    "all_data = [['student1', 'student2', 'student3'],\n",
    "            ['brown', 'blonde', 'blue'],\n",
    "            ['brown','brown','brown'],\n",
    "            ['a masters','a masters','a bachelors']]\n",
    "\n",
    "attribute_list = ['hair', 'eyes', 'degree']"
   ]
  },
  {
   "cell_type": "markdown",
   "id": "abd9f4b1",
   "metadata": {},
   "source": [
    "### Logic of the problem:\n",
    "\n",
    "At the outermost level (the one that has things nested in it) we will need to print the student id's one at a time.\n",
    "\n",
    "The student IDs are in the all_data list. Speficially, all_data[0] is a list of students and all_data[0][idx] will grab one of the three student ids:"
   ]
  },
  {
   "cell_type": "code",
   "execution_count": null,
   "id": "b99a797e",
   "metadata": {},
   "outputs": [],
   "source": [
    "# one a time print the elements of the first\n",
    "# entry in all_data:\n",
    "for idx in range(0,3):\n",
    "    print(all_data[0][idx])"
   ]
  },
  {
   "cell_type": "markdown",
   "id": "5b6ace67",
   "metadata": {},
   "source": [
    "Based on the problem prompt, we then need to get the hair color, eye color, and degree for each of the three students. Those values are in the other three lists inside of all_data:\n",
    "\n",
    "- hair color list: all_data[1]\n",
    "- eye color list: all_data[2]\n",
    "- degree list: all_data[3]\n",
    "\n",
    "And the labels for those attributes are in attribute_list:\n",
    "\n",
    "- attribute_list[0] = 'hair'\n",
    "- attribute_list[1] = 'eyes'\n",
    "- attribute_list[2] = 'degree'"
   ]
  },
  {
   "cell_type": "markdown",
   "id": "6e24bbb6",
   "metadata": {},
   "source": [
    "### We can put this all together as in the example below. A key challenge here is that the attribute list entries are indexed 0 (hair), 1 (eyes), and 2 (degree) while the values for this attributes are in index positions that are offset by one: all_data[1] is the hair color list, all_data[2] is the eye colors, and all_data[3] is the degree."
   ]
  },
  {
   "cell_type": "code",
   "execution_count": null,
   "id": "44adc049",
   "metadata": {},
   "outputs": [],
   "source": [
    "# student list is in all_data[0]\n",
    "n_students = len(all_data[0])\n",
    "\n",
    "# outer loop over students:\n",
    "for s in range(0, n_students):\n",
    "    \n",
    "    current_student = all_data[0][s]\n",
    "    \n",
    "    print(f'{current_student} has ')\n",
    "    \n",
    "    \n",
    "    # loop over the attribute labels and\n",
    "    # print the current student's hair, eyes, and degree\n",
    "    for a in range(0, len(attribute_list)):\n",
    "        \n",
    "        attribute_label = attribute_list[a]\n",
    "        \n",
    "        #*** To get the attribute value (i.e., hair color)\n",
    "        # for the current attribute we have to look in the all_data\n",
    "        # for an index position that is attribute position plus one.\n",
    "        #\n",
    "        # GET THE Hair, Eyes, or Degree for the current student\n",
    "        \n",
    "        # all_data[a+1] will give us the hair, eye, and degree lists\n",
    "        # the [s] indexes the current student index\n",
    "        attribute_value = all_data[a+1][s]\n",
    "        \n",
    "        print(f'{attribute_value} {attribute_label}')\n",
    "        \n",
    "    "
   ]
  },
  {
   "cell_type": "markdown",
   "id": "6442b2c3",
   "metadata": {},
   "source": [
    "#### This next one has the same code logic as before but compresses the code so that the \"current\" value variables aren't explicity defined. Instead we just directly index the lists in the print statements."
   ]
  },
  {
   "cell_type": "code",
   "execution_count": null,
   "id": "6132890f",
   "metadata": {},
   "outputs": [],
   "source": [
    "# student list is in all_data[0]\n",
    "n_students = len(all_data[0])\n",
    "\n",
    "# outer loop over students:\n",
    "for s in range(0, len(all_data[0])):\n",
    "    \n",
    "    print(f'{all_data[0][s]} has ')\n",
    "    \n",
    "    # loop over the attribute labels and\n",
    "    # print the current student's hair, eyes, and degree\n",
    "    for a in range(0, len(attribute_list)):\n",
    "        \n",
    "        print(f'{attribute_list[a]} {all_data[a+1][s]}')\n",
    "        \n",
    "        \n",
    "    "
   ]
  },
  {
   "cell_type": "code",
   "execution_count": null,
   "id": "d0ef9953",
   "metadata": {},
   "outputs": [],
   "source": []
  }
 ],
 "metadata": {
  "kernelspec": {
   "display_name": "Python 3 (ipykernel)",
   "language": "python",
   "name": "python3"
  },
  "language_info": {
   "codemirror_mode": {
    "name": "ipython",
    "version": 3
   },
   "file_extension": ".py",
   "mimetype": "text/x-python",
   "name": "python",
   "nbconvert_exporter": "python",
   "pygments_lexer": "ipython3",
   "version": "3.9.7"
  }
 },
 "nbformat": 4,
 "nbformat_minor": 5
}
