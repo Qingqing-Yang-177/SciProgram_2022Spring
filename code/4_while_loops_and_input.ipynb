{
 "cells": [
  {
   "cell_type": "code",
   "execution_count": null,
   "metadata": {},
   "outputs": [],
   "source": [
    "# this cell imports additional code from \n",
    "# a Python library called time\n",
    "# We haven't talked about imports and other libraries yet\n",
    "# for now, just run this cell\n",
    "import time"
   ]
  },
  {
   "cell_type": "markdown",
   "metadata": {},
   "source": [
    "While Loops and Input\n",
    "===\n",
    "\n",
    "We have already learned about **flow control** using for loops and if/elif/else statements. Another useful construct is the \"while loop\"\n",
    "\n",
    "\n",
    "While loops are really useful because they let your program run until some condition is met: for example you might have some code search for something and only want to end when that is found, or maybe you want a way for a program to run until a user decides to quit.\n",
    "\n",
    "A while loop runs until a condition is met, and if it isn't met they will run forever! \n",
    "\n",
    "In this notebook we will introduce while loops and also take advantage of the `input()` function to take input from the keyboard."
   ]
  },
  {
   "cell_type": "markdown",
   "metadata": {},
   "source": [
    "What is a while loop?\n",
    "===\n",
    "A while loop tests an initial condition. \n",
    "\n",
    "If that condition is true, the loop starts executing. Every time the loop finishes, the condition is reevaluated. As long as the condition remains true, the loop keeps executing. As soon as the condition becomes false, the loop stops executing."
   ]
  },
  {
   "attachments": {
    "Python-while-Loop-Syntax.png": {
     "image/png": "[encoded data removed]"
    }
   },
   "cell_type": "markdown",
   "metadata": {},
   "source": [
    "![Python-while-Loop-Syntax.png](attachment:Python-while-Loop-Syntax.png)\n",
    "\n",
    "source: http://www.trytoprogram.com/python-programming/python-break-and-continue-statement/"
   ]
  },
  {
   "cell_type": "markdown",
   "metadata": {},
   "source": [
    "General syntax\n",
    "---"
   ]
  },
  {
   "cell_type": "markdown",
   "metadata": {},
   "source": [
    "- Every while loop needs an initial condition that starts out true (if you want the indented code to run).\n",
    "- The `while` statement includes a condition to test.\n",
    "- All of the code in the loop will run as long as the condition remains true.\n",
    "- When something in the loop changes the condition such that the test no longer passes, the current loop finishes and then the while loop stops executing.\n",
    "- Any code that is defined after the loop will run at this point."
   ]
  },
  {
   "cell_type": "markdown",
   "metadata": {},
   "source": [
    "### Example\n",
    "---\n",
    "Here is a simple example, showing how a game will stay active as long as the player has enough power."
   ]
  },
  {
   "cell_type": "code",
   "execution_count": null,
   "metadata": {},
   "outputs": [],
   "source": [
    "# The player's power starts out at 5.\n",
    "power = 5\n",
    "\n",
    "# The player is allowed to keep playing as long as their power is over 0.\n",
    "\n",
    "# the while line checks if the condition is True\n",
    "while power > 0:\n",
    "    \n",
    "    print(f'You are still playing, because your power is {power}.')\n",
    "    \n",
    "    # Your game code would go here, which includes challenges that make it\n",
    "    #   possible to lose power.\n",
    "    # We can represent that by just taking away from the power.\n",
    "    # update the players power level by decrementing 1\n",
    "    power = power - 1\n",
    "    \n",
    "   # use the time.sleep() function to pause the script \n",
    "    # for .75 seconds\n",
    "    time.sleep(.75)\n",
    " \n",
    "    \n",
    "print(\"\\nOh no, your power dropped to 0! Game Over.\")"
   ]
  },
  {
   "cell_type": "markdown",
   "metadata": {},
   "source": [
    "Exercises\n",
    "---\n",
    "#### Growing Strength\n",
    "- Make a variable called strength, and set its initial value to 5.\n",
    "- Print a message reporting the player's strength.\n",
    "- Set up a while loop that runs until the player's strength increases to a value such as 10.\n",
    "- Inside the while loop, print a message that reports the player's current strength.\n",
    "- Inside the while loop, write a statement that increases the player's strength.\n",
    "- Outside the while loop, print a message reporting that the player has grown too strong, and that they have moved up to a new level of the game.\n",
    "- Bonus: Play around with different cutoff levels for the value of *strength*, and play around with different ways to increase the strength value within the while loop."
   ]
  },
  {
   "cell_type": "code",
   "execution_count": null,
   "metadata": {},
   "outputs": [],
   "source": [
    "# put your code for Growing Strength game here:\n",
    "\n",
    "# The player's power starts out at 5.\n",
    "strength = 5\n",
    "\n",
    "print(f'your starting strength is {strength}')\n",
    "\n",
    "# while loop goes here:\n"
   ]
  },
  {
   "cell_type": "markdown",
   "metadata": {},
   "source": [
    "Accepting user input\n",
    "===\n",
    "Many programs accept input from the user at some point. You can start accepting user input in your programs by using the `input()` function. The input function displays a message to the user describing the kind of input you are looking for, and then it waits for the user to enter a value. When the user presses Enter or Return, the value is passed to your variable and the code continues."
   ]
  },
  {
   "cell_type": "markdown",
   "metadata": {},
   "source": [
    "### User input general syntax\n",
    "The general case for accepting input looks something like this:"
   ]
  },
  {
   "cell_type": "code",
   "execution_count": null,
   "metadata": {},
   "outputs": [],
   "source": [
    "# Get some input from the user.\n",
    "variable = input('Please enter a value: ')"
   ]
  },
  {
   "cell_type": "markdown",
   "metadata": {},
   "source": [
    "You need a variable that will hold whatever value the user enters, and you need a message that will be displayed to the user. After the user presses Enter or Return, any keypresses that were given are stored assigned to the relevant variable as a string."
   ]
  },
  {
   "cell_type": "code",
   "execution_count": null,
   "metadata": {},
   "outputs": [],
   "source": [
    "print(variable)\n",
    "print(type(variable))"
   ]
  },
  {
   "cell_type": "markdown",
   "metadata": {},
   "source": [
    "#### Example: add result of input() to an existing list\n",
    "\n",
    "In the following example, we have a list of names. We ask the user for a name, and we add it to our list of names."
   ]
  },
  {
   "cell_type": "code",
   "execution_count": null,
   "metadata": {},
   "outputs": [],
   "source": [
    "# Start with a list containing several names.\n",
    "names = ['guido', 'tim', 'jesse']\n",
    "\n",
    "# Ask the user for a name.\n",
    "new_name = input(\"Please tell me someone I should know: \")\n",
    "\n",
    "# Add the new name to our list.\n",
    "names.append(new_name)\n",
    "\n",
    "# Show that the name has been added to the list.\n",
    "print(names)"
   ]
  },
  {
   "cell_type": "markdown",
   "metadata": {},
   "source": [
    "#### Exercise: Game Preferences\n",
    "- Make a list that includes 3 or 4 games that you like to play.\n",
    "- Print a statement that tells the user what games you like.\n",
    "- Ask the user to tell you a game they like, and store the game in a variable such as `new_game`.\n",
    "- Add the user's game to your list.\n",
    "- Print a new statement that lists all of the games that we like to play (*we* means you and your user)."
   ]
  },
  {
   "cell_type": "code",
   "execution_count": null,
   "metadata": {},
   "outputs": [],
   "source": [
    "games = ['settlers of cataan', 'monopoly', 'poker']\n",
    "\n",
    "print(f'These are the games I like: {games}')\n",
    "\n",
    "# ask user for a new game and store it in a variable:\n",
    "new_game = input('What games should I know about? ')\n",
    "\n",
    "# add the new game to your list\n",
    "games.append(new_game)\n",
    "\n",
    "# print the list including the new game\n",
    "print(f'all good games are: {games}')"
   ]
  },
  {
   "cell_type": "markdown",
   "metadata": {},
   "source": [
    "Using while loops to keep your programs running\n",
    "===\n",
    "Most of the programs we use every day run until we tell them to quit, and in the background this is often done with a while loop. Here is an example of how to let the user enter an arbitrary number of names."
   ]
  },
  {
   "cell_type": "markdown",
   "metadata": {},
   "source": [
    "There are a few things we need to do before we start the while loop.\n",
    "\n",
    "One of those things is to define our list variable, even if it's empty. This is so we can .append() to the list in the loop, and .append() is a function attached to an existing list variable.\n",
    "\n",
    "We also initialize a `new_name` variable to be an empty string. We need to have that variable defined, because it's value is being checked at the start of the while loop. If `new_name` didn't exist yet we would get an error on `while new_name != 'quit'`. We set it to an empty string to be sure that on the first check of the while statement the check would evaluate to True (because '' is not equal to 'quit')."
   ]
  },
  {
   "cell_type": "code",
   "execution_count": null,
   "metadata": {},
   "outputs": [],
   "source": [
    "# Start with an empty list. You can 'seed' the list with\n",
    "#  some predefined values if you like.\n",
    "names = []\n",
    "\n",
    "# Set new_name to something other than 'quit'.\n",
    "new_name = ''\n",
    "\n",
    "# Start a loop that will run until the user enters 'quit'.\n",
    "while new_name != 'q':\n",
    "    # Ask the user for a name.\n",
    "    new_name = input(\"Please tell me someone I should know, or enter 'q': \")\n",
    "\n",
    "    if new_name != 'q':\n",
    "        # Add the new name to our list.\n",
    "        names.append(new_name)\n",
    "\n",
    "# Show that the name has been added to the list.\n",
    "print(names)"
   ]
  },
  {
   "cell_type": "markdown",
   "metadata": {},
   "source": [
    "That worked, except we ended up with the name 'quit' in our list. We can use a simple `if` test to eliminate this bug.\n",
    "\n",
    "### Exercise: modify the while loop from the previous example so that it does not add 'quit' to the list of names\n",
    "\n",
    "The cell below here has the same code as previously. Use an if statement to make sure we don't end up with 'quit' in our list of names even if the user inputs it."
   ]
  },
  {
   "cell_type": "code",
   "execution_count": null,
   "metadata": {},
   "outputs": [],
   "source": [
    "# Start with an empty list. You can 'seed' the list with\n",
    "#  some predefined values if you like.\n",
    "names = []\n",
    "\n",
    "# Set new_name to something other than 'quit'.\n",
    "new_name = ''\n",
    "\n",
    "# Start a loop that will run until the user enters 'quit'.\n",
    "while new_name != 'quit':\n",
    "    # Ask the user for a name.\n",
    "    new_name = input(\"Please tell me someone I should know, or enter 'quit': \")\n",
    "\n",
    "# Show that the name has been added to the list.\n",
    "print(names)"
   ]
  },
  {
   "cell_type": "markdown",
   "metadata": {},
   "source": [
    "This is pretty cool! We now have a way to accept input from users while our programs run, and we have a way to let our programs  run until our users are finished working."
   ]
  },
  {
   "cell_type": "markdown",
   "metadata": {},
   "source": [
    "## Using while loops to ensure you have the correct kind of input\n",
    "\n",
    "We can use a while loop to clean up our code that lists game code that we made earlier. Previously we asked for input for a new game and then printed out all the games that both users liked. Reminder:\n"
   ]
  },
  {
   "cell_type": "code",
   "execution_count": null,
   "metadata": {},
   "outputs": [],
   "source": [
    "games = ['settlers of cataan', 'monopoly', 'poker']\n",
    "\n",
    "print(f'These are the games I like: {games}')\n",
    "\n",
    "# ask user for a new game and store it in a variable:\n",
    "new_game = input('What games should I know about? ')\n",
    "\n",
    "# add the new game to your list\n",
    "games.append(new_game)\n",
    "\n",
    "# print the list including the new game\n",
    "print(f'all good games are: {games}')"
   ]
  },
  {
   "cell_type": "markdown",
   "metadata": {},
   "source": [
    "### In that version of the code we can end up in the undesirable situation of printing out duplicates if the user inputs a game that was already on the list. That seems sloppy.\n",
    "\n",
    "We can fix this by running a while loop that only advances once the user enters a new game"
   ]
  },
  {
   "cell_type": "code",
   "execution_count": null,
   "metadata": {},
   "outputs": [],
   "source": [
    "# reminder of using `in` to check whether a value is in a list\n",
    "games = ['settlers of cataan', 'monopoly', 'poker']\n",
    "'monopoly' in games"
   ]
  },
  {
   "cell_type": "code",
   "execution_count": null,
   "metadata": {},
   "outputs": [],
   "source": [
    "games = ['settlers of cataan', 'monopoly', 'poker']\n",
    "\n",
    "print(f'These are the games I like: {games}')\n",
    "\n",
    "# initialize our while check variable to True so the loop will run at least the first time\n",
    "need_new_game = True\n",
    "\n",
    "# store the input prompt in a string so we can change it as needed\n",
    "input_string = 'What games should I know about? '\n",
    "\n",
    "while need_new_game:\n",
    "        new_game = input(input_string)\n",
    "        \n",
    "        # check if the person suggestd a game that's already in the list\n",
    "        # if it is, set the input prompt to be something that tells them we\n",
    "        # need a new game\n",
    "        if new_game in games:\n",
    "            input_string = f'I already know about {new_game}. What\\'s a new game I should know about? '\n",
    "        \n",
    "        # if new_game isn't already in our list set need_new_game to False and that \n",
    "        # will terminate our while block\n",
    "        else:\n",
    "            need_new_game = False\n",
    "            # add the new game to your list\n",
    "            games.append(new_game)\n",
    "\n",
    "\n",
    "\n",
    "# print the list including the new game\n",
    "print(f'all good games are: {games}')"
   ]
  },
  {
   "cell_type": "markdown",
   "metadata": {},
   "source": [
    "### Exercise: Many Games\n",
    "- Modify the game preferences code you wrote earlier so your user can add as many games as they like."
   ]
  },
  {
   "cell_type": "code",
   "execution_count": null,
   "metadata": {},
   "outputs": [],
   "source": [
    "# put your new many games code here\n",
    "games = ['settlers of cataan', 'monopoly', 'poker']\n",
    "\n",
    "print(f'These are the games I like: {games}')\n",
    "\n",
    "# initialize our while check variable to True so the loop will run at least the first time\n",
    "need_new_game = True\n",
    "\n",
    "# store the input prompt in a string so we can change it as needed\n",
    "input_string = 'What games should I know about? (or q to quit)'\n",
    "\n",
    "while need_new_game:\n",
    "    while new_game != 'q':\n",
    "        new_game = input(input_string)\n",
    "        \n",
    "        # check if the person suggestd a game that's already in the list\n",
    "        # if it is, set the input prompt to be something that tells them we\n",
    "        # need a new game\n",
    "        if new_game in games:\n",
    "            input_string = f'I already know about {new_game}. What\\'s a new game I should know about? (q to quit)'\n",
    "        \n",
    "        # if new_game isn't already in our list set need_new_game to False and that \n",
    "        # will terminate our while block\n",
    "        elif need_new_game and new_game != quit:\n",
    "            need_new_game = False\n",
    "            # add the new game to your list\n",
    "            games.append(new_game)\n",
    "\n",
    "\n",
    "\n",
    "# print the list including the new game\n",
    "print(f'all good games are: {games}')"
   ]
  },
  {
   "cell_type": "markdown",
   "metadata": {},
   "source": [
    "Using while loops to make menus\n",
    "===\n",
    "You now have enough Python under your belt to offer users a set of choices, and then respond to those choices until they choose to quit. Let's look at a simple example, and then analyze the code.\n",
    "\n",
    "Something new that you'll notice here is the use of \\n in some of the strings. That tells Python to make a new line every time it counters \\n."
   ]
  },
  {
   "cell_type": "code",
   "execution_count": null,
   "metadata": {
    "scrolled": true
   },
   "outputs": [],
   "source": [
    "# Give the user some context.\n",
    "print(\"\\nWelcome to the nature center. What would you like to do?\")\n",
    "\n",
    "# Set an initial value for choice other than the value for 'quit'.\n",
    "choice = ''\n",
    "\n",
    "# Start a loop that runs until the user enters the value for 'quit'.\n",
    "while choice != 'q':\n",
    "\n",
    "    # Give all the choices in a series of print statements.\n",
    "    print(\"\\n[1] Enter 1 to take a bicycle ride.\")\n",
    "    print(\"[2] Enter 2 to go for a run.\")\n",
    "    print(\"[3] Enter 3 to climb a mountain.\")\n",
    "    print(\"[q] Enter q to quit.\")\n",
    "    \n",
    "    # Ask for the user's choice.\n",
    "    choice = input(\"\\nWhat would you like to do? \")\n",
    "    \n",
    "    # Respond to the user's choice.\n",
    "    if choice == '1':\n",
    "        print(\"\\nHere's a bicycle. Have fun!\\n\")\n",
    "        \n",
    "    elif choice == '2':\n",
    "        print(\"\\nHere are some running shoes. Run fast!\\n\")\n",
    "        \n",
    "    elif choice == '3':\n",
    "        print(\"\\nHere's a map. Can you leave a trip plan for us?\\n\")\n",
    "        \n",
    "    elif choice == 'q':\n",
    "        print(\"\\nThanks for playing. See you later.\\n\")\n",
    "        \n",
    "    else:\n",
    "        print(\"\\nI don't understand that choice, please try again.\\n\")\n",
    "    \n",
    "        \n",
    "# Print a message that we are all finished.\n",
    "print(\"Thanks again, bye now.\")"
   ]
  },
  {
   "cell_type": "markdown",
   "metadata": {},
   "source": [
    "Accidental Infinite loops\n",
    "===\n",
    "Sometimes we want a while loop to run until a defined action is completed, such as emptying out a list. Sometimes we want a loop to run for an unknown period of time, for example when we are allowing users to give as much input as they want. What we rarely want, however, is a true 'runaway' infinite loop.\n",
    "\n",
    "Take a look at the following example. Can you pick out why this loop will never stop?\n",
    "\n",
    "```python\n",
    "current_number = 1\n",
    "\n",
    "while current_number <= 5:\n",
    "    print(current_number)\n",
    "```"
   ]
  },
  {
   "cell_type": "code",
   "execution_count": null,
   "metadata": {},
   "outputs": [],
   "source": [
    "1\n",
    "1\n",
    "1\n",
    "1\n",
    "1\n",
    "..."
   ]
  },
  {
   "cell_type": "markdown",
   "metadata": {},
   "source": [
    "I faked that output, because if I ran the while loop the output would fill up the browser. You can try to run it on your computer, as long as you know how to interrupt runaway processes:\n",
    "\n",
    "- In Jupyter you can go to drop down menu Kernel->Interrupt.\n",
    "- In many other programming environments, Ctrl-C will interrupt the currently running program.\n",
    "\n",
    "The loop runs forever, because there is no way for the test condition to ever fail. The programmer probably meant to add a line that increments current_number by 1 each time through the loop:"
   ]
  },
  {
   "cell_type": "code",
   "execution_count": null,
   "metadata": {},
   "outputs": [],
   "source": [
    "###highlight=[7]\n",
    "current_number = 1\n",
    "\n",
    "# Count up to 5, printing the number each time.\n",
    "while current_number <= 5:\n",
    "    print(current_number)\n",
    "    current_number = current_number + 1"
   ]
  },
  {
   "cell_type": "markdown",
   "metadata": {},
   "source": [
    "You will certainly make some loops run infintely at some point. When you do, just interrupt the loop and figure out the logical error you made.\n",
    "\n",
    "Infinite loops will not be a real problem until you have users who run your programs on their machines. You won't want infinite loops then, because your users would have to shut down your program, and they would consider it buggy and unreliable. Learn to spot infinite loops, and make sure they don't pop up in your polished programs later on.\n",
    "\n",
    "Here is one more example of an accidental infinite loop:"
   ]
  },
  {
   "cell_type": "code",
   "execution_count": null,
   "metadata": {},
   "outputs": [],
   "source": [
    "current_number = 1\n",
    "\n",
    "# Count up to 5, printing the number each time.\n",
    "while current_number <= 5:\n",
    "    print(current_number)\n",
    "    current_number = current_number - 1"
   ]
  },
  {
   "cell_type": "markdown",
   "metadata": {},
   "source": [
    "In this example, we accidentally started counting down. The value of `current_number` will always be less than 5, so the loop will run forever. Go to dropdown menu Kernel and choose Interrupt to stop the code."
   ]
  },
  {
   "cell_type": "code",
   "execution_count": null,
   "metadata": {},
   "outputs": [],
   "source": []
  }
 ],
 "metadata": {
  "kernelspec": {
   "display_name": "Python 3 (ipykernel)",
   "language": "python",
   "name": "python3"
  },
  "language_info": {
   "codemirror_mode": {
    "name": "ipython",
    "version": 3
   },
   "file_extension": ".py",
   "mimetype": "text/x-python",
   "name": "python",
   "nbconvert_exporter": "python",
   "pygments_lexer": "ipython3",
   "version": "3.8.12"
  },
  "toc": {
   "nav_menu": {},
   "number_sections": true,
   "sideBar": false,
   "skip_h1_title": false,
   "toc_cell": false,
   "toc_position": {},
   "toc_section_display": "block",
   "toc_window_display": false
  }
 },
 "nbformat": 4,
 "nbformat_minor": 1
}
