{
 "cells": [
  {
   "cell_type": "markdown",
   "id": "8496cd8c",
   "metadata": {
    "collapsed": true
   },
   "source": [
    "# The os library\n",
    "\n",
    "The os library provides many functions for creating directories or folders, listing the cotents of directories, formatting operating system (e.g., OS X, Windows) specific file paths and so on."
   ]
  },
  {
   "cell_type": "markdown",
   "id": "258779c5",
   "metadata": {},
   "source": [
    "### Import the library:"
   ]
  },
  {
   "cell_type": "code",
   "execution_count": 1,
   "id": "1065b988",
   "metadata": {},
   "outputs": [],
   "source": [
    "import os "
   ]
  },
  {
   "cell_type": "markdown",
   "id": "f9a5385a",
   "metadata": {},
   "source": [
    "create a variable called os, but the type will be a module"
   ]
  },
  {
   "cell_type": "code",
   "execution_count": 2,
   "id": "7542f8ad",
   "metadata": {},
   "outputs": [
    {
     "name": "stdout",
     "output_type": "stream",
     "text": [
      "Variable   Type      Data/Info\n",
      "------------------------------\n",
      "os         module    <module 'os' from 'D:\\\\Anaconda\\\\lib\\\\os.py'>\n"
     ]
    }
   ],
   "source": [
    "%whos"
   ]
  },
  {
   "cell_type": "markdown",
   "id": "8e9c0ecd",
   "metadata": {},
   "source": [
    "## os.getcwd() lists the current working directory\n",
    "\n",
    "If you don't specify a path, functions that read or write to file will look inside of this directory. The os.getcwd() function returns the _absolute path_ to the current directory."
   ]
  },
  {
   "cell_type": "code",
   "execution_count": 3,
   "id": "b68e92ca",
   "metadata": {},
   "outputs": [
    {
     "name": "stdout",
     "output_type": "stream",
     "text": [
      "D:\\A-NYU\\Python_JupterNotebook_Workspace\\Scientific programming_Spring_22\\Codes_inclass\n",
      "Current working directory: D:\\A-NYU\\Python_JupterNotebook_Workspace\\Scientific programming_Spring_22\\Codes_inclass\n"
     ]
    }
   ],
   "source": [
    "# Get the current working directory (CWD) \n",
    "cwd = os.getcwd() \n",
    "print(cwd)\n",
    "print(f'Current working directory: {cwd}') "
   ]
  },
  {
   "cell_type": "markdown",
   "id": "21d38741",
   "metadata": {},
   "source": [
    "#### Note that the format of the working directory (and HOME below) will be different on a Windows computer\n",
    "\n",
    "On a Windows computer this would look something like `\"C:\\\\Users\\shannon\\science\\\"`\n",
    "\n",
    "The primary differences are the use of the colon between the hard disk name and the path, and the backward vs forward slashes.\n",
    "\n",
    "**Fortunately**, relative paths like `./data/some_file.txt` can be used on both Windows and OSX computers."
   ]
  },
  {
   "cell_type": "markdown",
   "id": "ba27f27a",
   "metadata": {},
   "source": [
    "## os.chdir, Changing the working directory\n",
    "\n",
    "You can change the working directory using `os.chdir()`.(__change directory__)The input to the function is a path to a directory. The path can be _absolute_ or _relative_. "
   ]
  },
  {
   "cell_type": "code",
   "execution_count": 4,
   "id": "8895beac",
   "metadata": {},
   "outputs": [
    {
     "name": "stdout",
     "output_type": "stream",
     "text": [
      "Current working directory: D:\\A-NYU\\Python_JupterNotebook_Workspace\\Scientific programming_Spring_22\n"
     ]
    }
   ],
   "source": [
    "# Changing directory to go one level up (../)\n",
    "os.chdir('../')\n",
    "\n",
    "# get the working directory:\n",
    "cwd = os.getcwd() \n",
    "\n",
    "print(f'Current working directory: {cwd}') "
   ]
  },
  {
   "cell_type": "code",
   "execution_count": 5,
   "id": "275073b3",
   "metadata": {},
   "outputs": [
    {
     "name": "stdout",
     "output_type": "stream",
     "text": [
      "D:\\A-NYU\\Python_JupterNotebook_Workspace\\Scientific programming_Spring_22\\Codes_inclass\n"
     ]
    }
   ],
   "source": [
    "os.chdir('.\\Codes_inclass')\n",
    "cwd = os.getcwd()\n",
    "print(cwd)"
   ]
  },
  {
   "cell_type": "markdown",
   "id": "09d679af",
   "metadata": {},
   "source": [
    "## os.listdir(), Listing files in a directory\n",
    "\n",
    "It is _very_ convenient to have a way to get the files in a directory and put them in a list. For example when you are processing many individual data files you can just point your code at a directory and get a list of all the contents and then process those.\n",
    "\n",
    "The `os.listdir()` function takes as input a directory (absolute or relative path) and returns a list of the contents."
   ]
  },
  {
   "cell_type": "code",
   "execution_count": 6,
   "id": "b281f327",
   "metadata": {},
   "outputs": [
    {
     "name": "stdout",
     "output_type": "stream",
     "text": [
      "Contents of D:\\A-NYU\\Python_JupterNotebook_Workspace\\Scientific programming_Spring_22\\Codes_inclass: \n",
      "\n",
      "['.ipynb_checkpoints', '1_jupyter_intro.ipynb', '1_python_basics_numbers_and_strings.ipynb', '1_python_basics_variable_names.ipynb', '1_shortbook_numbers_and_strings.ipynb', '2_python_basics_lists.ipynb', '3_checking_conditions_Booleans.ipynb', '3_flow_control_forloops_ifelse.ipynb', '4.0_nested_for_loops_example.ipynb', '4_basics_dictionaries.ipynb', '4_import_libraries.ipynb', '4_while_loops_and_input.ipynb', '5.0_pandas_intro.ipynb', '5_file_paths.ipynb', '5_os_library.ipynb', '5_pandas_part1 (2).ipynb', '5_pandas_part1.ipynb']\n"
     ]
    }
   ],
   "source": [
    "#Listing files in a directory\n",
    "cwd = os.getcwd()\n",
    "dir_list = os.listdir(cwd)  \n",
    "  \n",
    "print(f'Contents of {cwd}: \\n')  \n",
    "print(dir_list)"
   ]
  },
  {
   "cell_type": "code",
   "execution_count": 7,
   "id": "c6d53793",
   "metadata": {},
   "outputs": [
    {
     "data": {
      "text/plain": [
       "'1_python_basics_variable_names.ipynb'"
      ]
     },
     "execution_count": 7,
     "metadata": {},
     "output_type": "execute_result"
    }
   ],
   "source": [
    "dir_list[3]"
   ]
  },
  {
   "cell_type": "code",
   "execution_count": 8,
   "id": "925e8391",
   "metadata": {},
   "outputs": [
    {
     "data": {
      "text/plain": [
       "['Assignment', 'Cheatsheet', 'Codes_inclass', 'Exercises', 'pandas_intro_data']"
      ]
     },
     "execution_count": 8,
     "metadata": {},
     "output_type": "execute_result"
    }
   ],
   "source": [
    "# using an absolute OS X path\n",
    "# THIS WILL NOT WORK ON YOUR COMPUTER AS IS!!!\n",
    "file_list = os.listdir('../')\n",
    "file_list"
   ]
  },
  {
   "cell_type": "code",
   "execution_count": 9,
   "id": "c2fa2098",
   "metadata": {},
   "outputs": [
    {
     "data": {
      "text/plain": [
       "['Modeling the mind_Spring_22',\n",
       " 'Python cheatsheet',\n",
       " 'Scientific programming_Spring_22']"
      ]
     },
     "execution_count": 9,
     "metadata": {},
     "output_type": "execute_result"
    }
   ],
   "source": [
    "file_list = os.listdir('D:\\A-NYU\\Python_JupterNotebook_Workspace')\n",
    "file_list"
   ]
  },
  {
   "cell_type": "code",
   "execution_count": 10,
   "id": "55a33580",
   "metadata": {},
   "outputs": [
    {
     "data": {
      "text/plain": [
       "'D:\\\\A-NYU\\\\Python_JupterNotebook_Workspace\\\\Scientific programming_Spring_22\\\\Codes_inclass'"
      ]
     },
     "execution_count": 10,
     "metadata": {},
     "output_type": "execute_result"
    }
   ],
   "source": [
    "os.getcwd()"
   ]
  },
  {
   "cell_type": "code",
   "execution_count": 11,
   "id": "65d7ce72",
   "metadata": {},
   "outputs": [
    {
     "data": {
      "text/plain": [
       "['Assignment', 'Cheatsheet', 'Codes_inclass', 'Exercises', 'pandas_intro_data']"
      ]
     },
     "execution_count": 11,
     "metadata": {},
     "output_type": "execute_result"
    }
   ],
   "source": [
    "os.listdir('../')"
   ]
  },
  {
   "cell_type": "code",
   "execution_count": 12,
   "id": "4bfbf15b",
   "metadata": {},
   "outputs": [
    {
     "data": {
      "text/plain": [
       "['Assignment', 'Cheatsheet', 'Codes_inclass', 'Exercises', 'pandas_intro_data']"
      ]
     },
     "execution_count": 12,
     "metadata": {},
     "output_type": "execute_result"
    }
   ],
   "source": [
    "os.listdir('D:\\\\A-NYU\\\\Python_JupterNotebook_Workspace\\\\Scientific programming_Spring_22')"
   ]
  },
  {
   "cell_type": "markdown",
   "id": "5193e5ce",
   "metadata": {},
   "source": [
    "### On most systems the user has a HOME directory\n",
    "\n",
    "You can retrieve your home directory with os.getenv('HOME')"
   ]
  },
  {
   "cell_type": "code",
   "execution_count": 13,
   "id": "dee7cd69",
   "metadata": {},
   "outputs": [
    {
     "name": "stdout",
     "output_type": "stream",
     "text": [
      "None\n"
     ]
    }
   ],
   "source": [
    "#We can also find out home directory\n",
    "home_dir=os.getenv('HOME')\n",
    "print(home_dir)"
   ]
  },
  {
   "cell_type": "markdown",
   "id": "ef38c5c0",
   "metadata": {},
   "source": [
    "## Formatting pathnames with os library\n",
    "\n",
    "As described above and in the file_paths.ipynb notebook, OSX and Windows computers use different formatting to indicate paths:\n",
    "\n",
    "**Windows**\n",
    "\n",
    "C:\\\\Users\\shannon\\science\\\n",
    "\n",
    "**Mac**\n",
    "\n",
    "/Users/shannon/science/\n",
    "\n",
    "\n",
    "**Relative paths will work the same on both systems**, so you could use something like this on Mac or Windows:\n",
    "\n",
    "```python\n",
    "# change working directory using os.chdir() function\n",
    "# change to a location called /data/ inside the current directory\n",
    "# using relative path\n",
    "os.chdir('./data/')\n",
    "\n",
    "```\n",
    "\n",
    "\n",
    "**But absolute paths are different** and this would not work on a Mac:\n",
    "```python\n",
    "# change working directory using os.chdir() function\n",
    "# change to a location called /data/ inside the current directory\n",
    "# using relative path\n",
    "os.chdir('C:\\\\Users\\shannon')\n",
    "\n",
    "```\n",
    "\n",
    "And this would not work in Windows:\n",
    "```python\n",
    "# change working directory using os.chdir() function\n",
    "# change to a location called /data/ inside the current directory\n",
    "# using relative path\n",
    "os.chdir('/Users/shanno/')\n",
    "\n",
    "```\n",
    "\n"
   ]
  },
  {
   "cell_type": "markdown",
   "id": "fa0f0990",
   "metadata": {},
   "source": [
    "## os.path.join(), make os compatible paths\n",
    "\n",
    "`os.path.join()` takes input of a series of comma separated strings. It returns a string that joins those inputs together using an operating system specific formatting.\n",
    "\n",
    "path is a sublibrary of os library"
   ]
  },
  {
   "cell_type": "code",
   "execution_count": 14,
   "id": "2ba2ad8e",
   "metadata": {},
   "outputs": [
    {
     "data": {
      "text/plain": [
       "'D:\\\\A-NYU\\\\Python_JupterNotebook_Workspace\\\\Scientific programming_Spring_22\\\\Codes_inclass'"
      ]
     },
     "execution_count": 14,
     "metadata": {},
     "output_type": "execute_result"
    }
   ],
   "source": [
    "cwd"
   ]
  },
  {
   "cell_type": "code",
   "execution_count": 34,
   "id": "00e85b22",
   "metadata": {},
   "outputs": [
    {
     "name": "stdout",
     "output_type": "stream",
     "text": [
      "D:\\A-NYU\\Python_JupterNotebook_Workspace\\Scientific programming_Spring_22\\Codes_inclass\n"
     ]
    },
    {
     "data": {
      "text/plain": [
       "'D:\\\\A-NYU\\\\Python_JupterNotebook_Workspace\\\\Scientific programming_Spring_22\\\\Codes_inclass'"
      ]
     },
     "execution_count": 34,
     "metadata": {},
     "output_type": "execute_result"
    }
   ],
   "source": [
    "data_path = os.path.join('D:\\\\','A-NYU','Python_JupterNotebook_Workspace','Scientific programming_Spring_22','Codes_inclass')\n",
    "\n",
    "# Here if I say 'D:', it wont return me a correct path\n",
    "# If I say 'D:\\', still error\n",
    "# If 'D:\\\\', OR 'D:/', WORKS                         \n",
    "                        \n",
    "# For Mac, the first element for absolute path will be '/Users', cause it only add / after each element\n",
    "\n",
    "print(data_path)\n",
    "data_path"
   ]
  },
  {
   "cell_type": "code",
   "execution_count": 33,
   "id": "4fa00acd",
   "metadata": {},
   "outputs": [
    {
     "data": {
      "text/plain": [
       "['.ipynb_checkpoints',\n",
       " '1_jupyter_intro.ipynb',\n",
       " '1_python_basics_numbers_and_strings.ipynb',\n",
       " '1_python_basics_variable_names.ipynb',\n",
       " '1_shortbook_numbers_and_strings.ipynb',\n",
       " '2_python_basics_lists.ipynb',\n",
       " '3_checking_conditions_Booleans.ipynb',\n",
       " '3_flow_control_forloops_ifelse.ipynb',\n",
       " '4.0_nested_for_loops_example.ipynb',\n",
       " '4_basics_dictionaries.ipynb',\n",
       " '4_import_libraries.ipynb',\n",
       " '4_while_loops_and_input.ipynb',\n",
       " '5.0_pandas_intro.ipynb',\n",
       " '5_file_paths.ipynb',\n",
       " '5_os_library.ipynb',\n",
       " '5_pandas_part1 (2).ipynb',\n",
       " '5_pandas_part1.ipynb']"
      ]
     },
     "execution_count": 33,
     "metadata": {},
     "output_type": "execute_result"
    }
   ],
   "source": [
    "# use the path variable to list some files\n",
    "os.listdir(data_path)"
   ]
  },
  {
   "cell_type": "markdown",
   "id": "2577b0af",
   "metadata": {},
   "source": [
    "#### Add a file to the path variable\n",
    "\n",
    "This is very useful for loading files"
   ]
  },
  {
   "cell_type": "code",
   "execution_count": 35,
   "id": "ea659667",
   "metadata": {},
   "outputs": [
    {
     "name": "stdout",
     "output_type": "stream",
     "text": [
      "D:\\A-NYU\\Python_JupterNotebook_Workspace\\Scientific programming_Spring_22\\Codes_inclass\\dataset1.csv\n"
     ]
    }
   ],
   "source": [
    "fname = 'dataset1.csv'\n",
    "\n",
    "# combine our existing path variable with a filename\n",
    "full_path = os.path.join(data_path, fname)\n",
    "print(full_path)\n",
    "\n",
    "# full_pat is just a string\n",
    "# have a path doesnt mean that file/dir exist"
   ]
  },
  {
   "cell_type": "markdown",
   "id": "37d1cc86",
   "metadata": {},
   "source": [
    "## os.path.isfile()\n",
    "## os.path.isdir()\n",
    "## Checking if a directory exists"
   ]
  },
  {
   "cell_type": "markdown",
   "id": "78e57813",
   "metadata": {},
   "source": [
    "Use `os.path.isfile()` or `os.path.isdir()` to check if a particular file or directory already exists on your computer."
   ]
  },
  {
   "cell_type": "code",
   "execution_count": 36,
   "id": "ab107c5a",
   "metadata": {},
   "outputs": [
    {
     "name": "stdout",
     "output_type": "stream",
     "text": [
      "D:\\A-NYU\\Python_JupterNotebook_Workspace\\Scientific programming_Spring_22\\Codes_inclass\\dataset1.csv\n"
     ]
    }
   ],
   "source": [
    "# your full path now is a string\n",
    "print(full_path)"
   ]
  },
  {
   "cell_type": "code",
   "execution_count": 37,
   "id": "84a5be45",
   "metadata": {},
   "outputs": [
    {
     "data": {
      "text/plain": [
       "False"
      ]
     },
     "execution_count": 37,
     "metadata": {},
     "output_type": "execute_result"
    }
   ],
   "source": [
    "# input a filename or path to a file and get back a True or \n",
    "# False telling you if the file exists\n",
    "os.path.isfile(full_path)"
   ]
  },
  {
   "cell_type": "code",
   "execution_count": 40,
   "id": "b39912b3",
   "metadata": {},
   "outputs": [
    {
     "name": "stdout",
     "output_type": "stream",
     "text": [
      "['.ipynb_checkpoints', '1_jupyter_intro.ipynb', '1_python_basics_numbers_and_strings.ipynb', '1_python_basics_variable_names.ipynb', '1_shortbook_numbers_and_strings.ipynb', '2_python_basics_lists.ipynb', '3_checking_conditions_Booleans.ipynb', '3_flow_control_forloops_ifelse.ipynb', '4.0_nested_for_loops_example.ipynb', '4_basics_dictionaries.ipynb', '4_import_libraries.ipynb', '4_while_loops_and_input.ipynb', '5.0_pandas_intro.ipynb', '5_file_paths.ipynb', '5_os_library.ipynb', '5_pandas_part1 (2).ipynb', '5_pandas_part1.ipynb']\n"
     ]
    },
    {
     "data": {
      "text/plain": [
       "True"
      ]
     },
     "execution_count": 40,
     "metadata": {},
     "output_type": "execute_result"
    }
   ],
   "source": [
    "# use os.listdir() to get a list of files\n",
    "\n",
    "# dot means \"current directory\" (i.e., the working directory)\n",
    "# the output is a list\n",
    "flist = os.listdir('.')\n",
    "\n",
    "print(flist)\n",
    "# check if some entry in flist exists (it does)\n",
    "os.path.isfile(flist[1])"
   ]
  },
  {
   "cell_type": "code",
   "execution_count": 46,
   "id": "efeaa5ff",
   "metadata": {},
   "outputs": [
    {
     "data": {
      "text/plain": [
       "False"
      ]
     },
     "execution_count": 46,
     "metadata": {},
     "output_type": "execute_result"
    }
   ],
   "source": [
    "# Check if a directory exists\n",
    "\n",
    "directory_to_check = '/Users/shannon/fun/'\n",
    "os.path.isdir(directory_to_check)"
   ]
  },
  {
   "cell_type": "code",
   "execution_count": 43,
   "id": "8adafb67",
   "metadata": {},
   "outputs": [
    {
     "data": {
      "text/plain": [
       "True"
      ]
     },
     "execution_count": 43,
     "metadata": {},
     "output_type": "execute_result"
    }
   ],
   "source": [
    "# Check if a directory exists\n",
    "\n",
    "directory_to_check = 'D:\\A-NYU\\Python_JupterNotebook_Workspace\\Scientific programming_Spring_22'\n",
    "os.path.isdir(directory_to_check)"
   ]
  },
  {
   "cell_type": "code",
   "execution_count": 52,
   "id": "5b066d3a",
   "metadata": {},
   "outputs": [
    {
     "name": "stdout",
     "output_type": "stream",
     "text": [
      "such dir doesnt exist\n"
     ]
    }
   ],
   "source": [
    "if os.path.isdir(directory_to_check):\n",
    "    print(\"loading the dir\")\n",
    "else:\n",
    "    print('such dir doesn''t exist')"
   ]
  },
  {
   "cell_type": "markdown",
   "id": "2ca52140",
   "metadata": {},
   "source": [
    "## os.makedirs(), create directories\n",
    "\n",
    "There are many cases where you will want to create a new directory using code. For example, you might have an analysis pipeline that loads files from a directory called /raw_data/ and you want to save the processed data and any figures you make and put then in a folder called /analysis/.\n",
    "\n",
    "`os.makedirs()` will enable us to make a directory."
   ]
  },
  {
   "cell_type": "code",
   "execution_count": 53,
   "id": "0edf1e59",
   "metadata": {},
   "outputs": [
    {
     "data": {
      "text/plain": [
       "'D:\\\\A-NYU\\\\Python_JupterNotebook_Workspace\\\\Scientific programming_Spring_22\\\\Codes_inclass'"
      ]
     },
     "execution_count": 53,
     "metadata": {},
     "output_type": "execute_result"
    }
   ],
   "source": [
    "# get our current working directory\n",
    "os.getcwd()"
   ]
  },
  {
   "cell_type": "code",
   "execution_count": 54,
   "id": "86e57437",
   "metadata": {},
   "outputs": [
    {
     "name": "stdout",
     "output_type": "stream",
     "text": [
      "D:\\A-NYU\\Python_JupterNotebook_Workspace\\Scientific programming_Spring_22\n"
     ]
    }
   ],
   "source": [
    "# if current directory is not my sci programming directory change into it\n",
    "target_dir = 'D:\\\\A-NYU\\\\Python_JupterNotebook_Workspace\\\\Scientific programming_Spring_22'\n",
    "\n",
    "# if we aren't in the target_directory\n",
    "# use os.\n",
    "if os.getcwd() != target_dir:\n",
    "    os.chdir(target_dir)\n",
    "    \n",
    "    \n",
    "print(os.getcwd())\n",
    "    "
   ]
  },
  {
   "cell_type": "markdown",
   "id": "bcb371f5",
   "metadata": {},
   "source": [
    "### os.makedirs() with just a single input will make that directory inside of the current working directory"
   ]
  },
  {
   "cell_type": "code",
   "execution_count": 55,
   "id": "7a9c6435",
   "metadata": {},
   "outputs": [
    {
     "data": {
      "text/plain": [
       "['Assignment', 'Cheatsheet', 'Codes_inclass', 'Exercises', 'pandas_intro_data']"
      ]
     },
     "execution_count": 55,
     "metadata": {},
     "output_type": "execute_result"
    }
   ],
   "source": [
    "# check the current contents of working directory\n",
    "os.listdir('.')"
   ]
  },
  {
   "cell_type": "code",
   "execution_count": 56,
   "id": "2b71fac7",
   "metadata": {},
   "outputs": [],
   "source": [
    "# Create the directory  \n",
    "new_directory = 'analysis'\n",
    "\n",
    "os.makedirs(new_directory)\n",
    "\n",
    "# check the directory contents again\n"
   ]
  },
  {
   "cell_type": "code",
   "execution_count": 58,
   "id": "3ebdee82",
   "metadata": {},
   "outputs": [
    {
     "data": {
      "text/plain": [
       "['analysis',\n",
       " 'Assignment',\n",
       " 'Cheatsheet',\n",
       " 'Codes_inclass',\n",
       " 'Exercises',\n",
       " 'pandas_intro_data']"
      ]
     },
     "execution_count": 58,
     "metadata": {},
     "output_type": "execute_result"
    }
   ],
   "source": [
    "os.listdir('.')"
   ]
  },
  {
   "cell_type": "markdown",
   "id": "246be64a",
   "metadata": {},
   "source": [
    "### use os.makedirs() with absolute path if you want to put it somewhere else\n",
    "\n",
    "This next one will make a new folder called analysis."
   ]
  },
  {
   "cell_type": "code",
   "execution_count": 64,
   "id": "eb00f3f3",
   "metadata": {},
   "outputs": [],
   "source": [
    "new_directory = 'D:\\\\A-NYU\\\\Python_JupterNotebook_Workspace\\\\Scientific programming_Spring_22\\\\Analysis'\n",
    "\n",
    "os.makedirs(new_directory)\n"
   ]
  },
  {
   "cell_type": "code",
   "execution_count": 65,
   "id": "4a01d03f",
   "metadata": {},
   "outputs": [
    {
     "data": {
      "text/plain": [
       "['Analysis',\n",
       " 'Assignment',\n",
       " 'Cheatsheet',\n",
       " 'Codes_inclass',\n",
       " 'Exercises',\n",
       " 'pandas_intro_data']"
      ]
     },
     "execution_count": 65,
     "metadata": {},
     "output_type": "execute_result"
    }
   ],
   "source": [
    "os.listdir()"
   ]
  }
 ],
 "metadata": {
  "kernelspec": {
   "display_name": "Python 3 (ipykernel)",
   "language": "python",
   "name": "python3"
  },
  "language_info": {
   "codemirror_mode": {
    "name": "ipython",
    "version": 3
   },
   "file_extension": ".py",
   "mimetype": "text/x-python",
   "name": "python",
   "nbconvert_exporter": "python",
   "pygments_lexer": "ipython3",
   "version": "3.9.7"
  }
 },
 "nbformat": 4,
 "nbformat_minor": 5
}
