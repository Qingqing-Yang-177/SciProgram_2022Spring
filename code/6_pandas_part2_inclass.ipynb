{
 "cells": [
  {
   "cell_type": "markdown",
   "id": "f8c61a3d",
   "metadata": {},
   "source": [
    "### Note: this is a copy of the original pandas_part2 notebook that includes the coding that was done in class"
   ]
  },
  {
   "cell_type": "markdown",
   "id": "6cac3b1f",
   "metadata": {},
   "source": [
    "# Pandas part 2\n",
    "\n",
    "This notebook continues to work the Pandas dataframe library. It builds on and assumes familiarity with the concepts in _pandas_part1.ipynb_."
   ]
  },
  {
   "cell_type": "markdown",
   "id": "5c9556e0",
   "metadata": {},
   "source": [
    "#### data files used in this notebook\n",
    "\n",
    "This notebook uses data files located in the pandas_data_1 zip file located on Brightspace. Unzip it to create a folder called `pandas_data_1` with a number of files inside.\n",
    "\n",
    "This notebook generally assumes that the data folder is located one level up from the notebook location so that we can load using relative path syntax such as:\n",
    "\n",
    "`pd.read_csv('../pandas_data_1/salary.csv)`\n",
    "\n",
    "That line would look for a folder called pandas_data_1 that is one level up from the notebook and then inside of that folder it looks for salary.csv file."
   ]
  },
  {
   "cell_type": "markdown",
   "id": "47aa416c",
   "metadata": {},
   "source": [
    "### Key concepts:\n",
    "\n",
    "- (review) loading data from files into pandas dataframes\n",
    "- (review) accessing columns in the dataframe\n",
    "- making dataframes from dictionaries\n",
    "\n",
    "- getting information about a dataframe\n",
    "    - size of the data\n",
    "    - listing the columns\n",
    "    - finding all of the values that appear in a column\n",
    "\n",
    "- adding and removing columns and rows from a dataframe\n",
    "- handling missing data\n",
    "- data organization: \"tidy\" data\n",
    "- combining dataframes (concatenating and merging)\n",
    "- processing columns: broadcasting and handling all column values at once\n",
    "- selecting data based on conditions\n",
    "- saving dataframes to csv files\n"
   ]
  },
  {
   "cell_type": "markdown",
   "id": "550dfd4b",
   "metadata": {},
   "source": [
    "#### First, import any libraries we're using in this session\n",
    "\n",
    "- pandas: dataframe library\n",
    "- numpy: many numeric functions\n",
    "- numpy.random: a numpy sub library that gives access to many random number functions\n",
    "- os: library that gives access to functions for dealing with directories and files"
   ]
  },
  {
   "cell_type": "code",
   "execution_count": 3,
   "id": "369cac7d",
   "metadata": {},
   "outputs": [],
   "source": [
    "# os functions will be available using os. notation\n",
    "import os \n",
    "\n",
    "# functions for these libraries can be \n",
    "# accessed using the short name and a dot\n",
    "# (i.e., pd.read_csv() or np.array())\n",
    "import pandas as pd\n",
    "import numpy as np\n",
    "import numpy.random as npr\n"
   ]
  },
  {
   "cell_type": "markdown",
   "id": "6d35991d",
   "metadata": {},
   "source": [
    "## Reminder: loading data from a csv file\n",
    "\n",
    "The pandas_part1.ipynb notebook has more info on loading data from file. \n",
    "\n",
    "Pandas `read_csv()` function takes as input the name (and possibly location) of a file to read.\n",
    "\n",
    "Store the return value of read_csv() in a variable and it is a **dataframe** object."
   ]
  },
  {
   "cell_type": "code",
   "execution_count": 4,
   "id": "58baf999",
   "metadata": {},
   "outputs": [
    {
     "data": {
      "text/html": [
       "<div>\n",
       "<style scoped>\n",
       "    .dataframe tbody tr th:only-of-type {\n",
       "        vertical-align: middle;\n",
       "    }\n",
       "\n",
       "    .dataframe tbody tr th {\n",
       "        vertical-align: top;\n",
       "    }\n",
       "\n",
       "    .dataframe thead th {\n",
       "        text-align: right;\n",
       "    }\n",
       "</style>\n",
       "<table border=\"1\" class=\"dataframe\">\n",
       "  <thead>\n",
       "    <tr style=\"text-align: right;\">\n",
       "      <th></th>\n",
       "      <th>salary</th>\n",
       "      <th>gender</th>\n",
       "      <th>departm</th>\n",
       "      <th>years</th>\n",
       "      <th>age</th>\n",
       "      <th>publications</th>\n",
       "    </tr>\n",
       "  </thead>\n",
       "  <tbody>\n",
       "    <tr>\n",
       "      <th>0</th>\n",
       "      <td>86285</td>\n",
       "      <td>0</td>\n",
       "      <td>bio</td>\n",
       "      <td>26.0</td>\n",
       "      <td>64.0</td>\n",
       "      <td>72</td>\n",
       "    </tr>\n",
       "    <tr>\n",
       "      <th>1</th>\n",
       "      <td>77125</td>\n",
       "      <td>0</td>\n",
       "      <td>bio</td>\n",
       "      <td>28.0</td>\n",
       "      <td>58.0</td>\n",
       "      <td>43</td>\n",
       "    </tr>\n",
       "    <tr>\n",
       "      <th>2</th>\n",
       "      <td>71922</td>\n",
       "      <td>0</td>\n",
       "      <td>bio</td>\n",
       "      <td>10.0</td>\n",
       "      <td>38.0</td>\n",
       "      <td>23</td>\n",
       "    </tr>\n",
       "    <tr>\n",
       "      <th>3</th>\n",
       "      <td>70499</td>\n",
       "      <td>0</td>\n",
       "      <td>bio</td>\n",
       "      <td>16.0</td>\n",
       "      <td>46.0</td>\n",
       "      <td>64</td>\n",
       "    </tr>\n",
       "    <tr>\n",
       "      <th>4</th>\n",
       "      <td>66624</td>\n",
       "      <td>0</td>\n",
       "      <td>bio</td>\n",
       "      <td>11.0</td>\n",
       "      <td>41.0</td>\n",
       "      <td>23</td>\n",
       "    </tr>\n",
       "    <tr>\n",
       "      <th>...</th>\n",
       "      <td>...</td>\n",
       "      <td>...</td>\n",
       "      <td>...</td>\n",
       "      <td>...</td>\n",
       "      <td>...</td>\n",
       "      <td>...</td>\n",
       "    </tr>\n",
       "    <tr>\n",
       "      <th>72</th>\n",
       "      <td>53662</td>\n",
       "      <td>1</td>\n",
       "      <td>neuro</td>\n",
       "      <td>1.0</td>\n",
       "      <td>31.0</td>\n",
       "      <td>3</td>\n",
       "    </tr>\n",
       "    <tr>\n",
       "      <th>73</th>\n",
       "      <td>57185</td>\n",
       "      <td>1</td>\n",
       "      <td>stat</td>\n",
       "      <td>9.0</td>\n",
       "      <td>39.0</td>\n",
       "      <td>7</td>\n",
       "    </tr>\n",
       "    <tr>\n",
       "      <th>74</th>\n",
       "      <td>52254</td>\n",
       "      <td>1</td>\n",
       "      <td>stat</td>\n",
       "      <td>2.0</td>\n",
       "      <td>32.0</td>\n",
       "      <td>9</td>\n",
       "    </tr>\n",
       "    <tr>\n",
       "      <th>75</th>\n",
       "      <td>61885</td>\n",
       "      <td>1</td>\n",
       "      <td>math</td>\n",
       "      <td>23.0</td>\n",
       "      <td>60.0</td>\n",
       "      <td>9</td>\n",
       "    </tr>\n",
       "    <tr>\n",
       "      <th>76</th>\n",
       "      <td>49542</td>\n",
       "      <td>1</td>\n",
       "      <td>math</td>\n",
       "      <td>3.0</td>\n",
       "      <td>33.0</td>\n",
       "      <td>5</td>\n",
       "    </tr>\n",
       "  </tbody>\n",
       "</table>\n",
       "<p>77 rows × 6 columns</p>\n",
       "</div>"
      ],
      "text/plain": [
       "    salary  gender departm  years   age  publications\n",
       "0    86285       0     bio   26.0  64.0            72\n",
       "1    77125       0     bio   28.0  58.0            43\n",
       "2    71922       0     bio   10.0  38.0            23\n",
       "3    70499       0     bio   16.0  46.0            64\n",
       "4    66624       0     bio   11.0  41.0            23\n",
       "..     ...     ...     ...    ...   ...           ...\n",
       "72   53662       1   neuro    1.0  31.0             3\n",
       "73   57185       1    stat    9.0  39.0             7\n",
       "74   52254       1    stat    2.0  32.0             9\n",
       "75   61885       1    math   23.0  60.0             9\n",
       "76   49542       1    math    3.0  33.0             5\n",
       "\n",
       "[77 rows x 6 columns]"
      ]
     },
     "execution_count": 4,
     "metadata": {},
     "output_type": "execute_result"
    }
   ],
   "source": [
    "# a filename\n",
    "fname = 'salary.csv'\n",
    "\n",
    "# read the file using pd.read_csv()\n",
    "# ../ means go up one level in the directory\n",
    "# structure:\n",
    "salary_df = pd.read_csv('../pandas_data_1/salary.csv')\n",
    "\n",
    "# just put the data frame name to see the contents:\n",
    "salary_df\n",
    "\n"
   ]
  },
  {
   "cell_type": "markdown",
   "id": "c5e81339",
   "metadata": {},
   "source": [
    "### Access a column of data in the dataframe\n",
    "\n",
    "Accessing the values in a column is like getting values in a dictionary. Put the dataframe variable name with square brackets and the column name you want.\n",
    "\n",
    "```df_name['column name']```"
   ]
  },
  {
   "cell_type": "code",
   "execution_count": 11,
   "id": "1e63b8e8",
   "metadata": {},
   "outputs": [
    {
     "data": {
      "text/html": [
       "<div>\n",
       "<style scoped>\n",
       "    .dataframe tbody tr th:only-of-type {\n",
       "        vertical-align: middle;\n",
       "    }\n",
       "\n",
       "    .dataframe tbody tr th {\n",
       "        vertical-align: top;\n",
       "    }\n",
       "\n",
       "    .dataframe thead th {\n",
       "        text-align: right;\n",
       "    }\n",
       "</style>\n",
       "<table border=\"1\" class=\"dataframe\">\n",
       "  <thead>\n",
       "    <tr style=\"text-align: right;\">\n",
       "      <th></th>\n",
       "      <th>age</th>\n",
       "      <th>publications</th>\n",
       "    </tr>\n",
       "  </thead>\n",
       "  <tbody>\n",
       "    <tr>\n",
       "      <th>0</th>\n",
       "      <td>64.0</td>\n",
       "      <td>72</td>\n",
       "    </tr>\n",
       "    <tr>\n",
       "      <th>1</th>\n",
       "      <td>58.0</td>\n",
       "      <td>43</td>\n",
       "    </tr>\n",
       "    <tr>\n",
       "      <th>2</th>\n",
       "      <td>38.0</td>\n",
       "      <td>23</td>\n",
       "    </tr>\n",
       "    <tr>\n",
       "      <th>3</th>\n",
       "      <td>46.0</td>\n",
       "      <td>64</td>\n",
       "    </tr>\n",
       "    <tr>\n",
       "      <th>4</th>\n",
       "      <td>41.0</td>\n",
       "      <td>23</td>\n",
       "    </tr>\n",
       "    <tr>\n",
       "      <th>...</th>\n",
       "      <td>...</td>\n",
       "      <td>...</td>\n",
       "    </tr>\n",
       "    <tr>\n",
       "      <th>72</th>\n",
       "      <td>31.0</td>\n",
       "      <td>3</td>\n",
       "    </tr>\n",
       "    <tr>\n",
       "      <th>73</th>\n",
       "      <td>39.0</td>\n",
       "      <td>7</td>\n",
       "    </tr>\n",
       "    <tr>\n",
       "      <th>74</th>\n",
       "      <td>32.0</td>\n",
       "      <td>9</td>\n",
       "    </tr>\n",
       "    <tr>\n",
       "      <th>75</th>\n",
       "      <td>60.0</td>\n",
       "      <td>9</td>\n",
       "    </tr>\n",
       "    <tr>\n",
       "      <th>76</th>\n",
       "      <td>33.0</td>\n",
       "      <td>5</td>\n",
       "    </tr>\n",
       "  </tbody>\n",
       "</table>\n",
       "<p>77 rows × 2 columns</p>\n",
       "</div>"
      ],
      "text/plain": [
       "     age  publications\n",
       "0   64.0            72\n",
       "1   58.0            43\n",
       "2   38.0            23\n",
       "3   46.0            64\n",
       "4   41.0            23\n",
       "..   ...           ...\n",
       "72  31.0             3\n",
       "73  39.0             7\n",
       "74  32.0             9\n",
       "75  60.0             9\n",
       "76  33.0             5\n",
       "\n",
       "[77 rows x 2 columns]"
      ]
     },
     "execution_count": 11,
     "metadata": {},
     "output_type": "execute_result"
    }
   ],
   "source": [
    "# get the 'age' column\n",
    "col_list = ['age','publications']\n",
    "\n",
    "salary_df[['age','publications']]"
   ]
  },
  {
   "cell_type": "markdown",
   "id": "a2c96c95",
   "metadata": {},
   "source": [
    "### Creating a dataframe from a dictionary\n",
    "\n",
    "If you remember the section we did on dictionaries you may see the nice link between dataframes and dictionaries.\n",
    "\n",
    "You can create a dataframe from a dictionary using the pandas DataFrame() function with the dictionary as input.\n",
    "\n",
    "```python\n",
    "session_data = {'stimulus': ['a.jpg', 'l.jpg', 'p.jpg'],\n",
    "               'response': [1, 1, 2], \n",
    "               'response time': [1.3, 1.8, .9]}\n",
    "\n",
    "data_df = pd.DataFrame(session_data)\n",
    "\n",
    "```\n"
   ]
  },
  {
   "cell_type": "markdown",
   "id": "468ff475",
   "metadata": {},
   "source": [
    "First: make a dictionary called `asd` that has keys **age** and **salary** and uses the a and s lists in the next cell as values."
   ]
  },
  {
   "cell_type": "code",
   "execution_count": 15,
   "id": "69cda868",
   "metadata": {},
   "outputs": [],
   "source": [
    "# two lists (square brackets, comma separated entries)\n",
    "a = [10,27,45,23,21]\n",
    "s = [0,23000,100000,35000,60000]"
   ]
  },
  {
   "cell_type": "code",
   "execution_count": 18,
   "id": "a8aee922",
   "metadata": {},
   "outputs": [
    {
     "data": {
      "text/plain": [
       "{'age': [10, 27, 45, 23, 21], 'salary': [0, 23000, 100000, 35000, 60000]}"
      ]
     },
     "execution_count": 18,
     "metadata": {},
     "output_type": "execute_result"
    }
   ],
   "source": [
    "# make a dictionary using {'key':'value'} syntax\n",
    "asd = {'age': a, \n",
    "       'salary': s}\n",
    "\n",
    "asd"
   ]
  },
  {
   "cell_type": "markdown",
   "id": "e5f3d9f6",
   "metadata": {},
   "source": [
    "Use the dictionary as input to `pd.DataFrame()`"
   ]
  },
  {
   "cell_type": "code",
   "execution_count": 19,
   "id": "ce7e7ef4",
   "metadata": {},
   "outputs": [
    {
     "data": {
      "text/html": [
       "<div>\n",
       "<style scoped>\n",
       "    .dataframe tbody tr th:only-of-type {\n",
       "        vertical-align: middle;\n",
       "    }\n",
       "\n",
       "    .dataframe tbody tr th {\n",
       "        vertical-align: top;\n",
       "    }\n",
       "\n",
       "    .dataframe thead th {\n",
       "        text-align: right;\n",
       "    }\n",
       "</style>\n",
       "<table border=\"1\" class=\"dataframe\">\n",
       "  <thead>\n",
       "    <tr style=\"text-align: right;\">\n",
       "      <th></th>\n",
       "      <th>age</th>\n",
       "      <th>salary</th>\n",
       "    </tr>\n",
       "  </thead>\n",
       "  <tbody>\n",
       "    <tr>\n",
       "      <th>0</th>\n",
       "      <td>10</td>\n",
       "      <td>0</td>\n",
       "    </tr>\n",
       "    <tr>\n",
       "      <th>1</th>\n",
       "      <td>27</td>\n",
       "      <td>23000</td>\n",
       "    </tr>\n",
       "    <tr>\n",
       "      <th>2</th>\n",
       "      <td>45</td>\n",
       "      <td>100000</td>\n",
       "    </tr>\n",
       "    <tr>\n",
       "      <th>3</th>\n",
       "      <td>23</td>\n",
       "      <td>35000</td>\n",
       "    </tr>\n",
       "    <tr>\n",
       "      <th>4</th>\n",
       "      <td>21</td>\n",
       "      <td>60000</td>\n",
       "    </tr>\n",
       "  </tbody>\n",
       "</table>\n",
       "</div>"
      ],
      "text/plain": [
       "   age  salary\n",
       "0   10       0\n",
       "1   27   23000\n",
       "2   45  100000\n",
       "3   23   35000\n",
       "4   21   60000"
      ]
     },
     "execution_count": 19,
     "metadata": {},
     "output_type": "execute_result"
    }
   ],
   "source": [
    "# create df1 using the dictionary of age and salary\n",
    "df1 = pd.DataFrame(asd)\n",
    "df1"
   ]
  },
  {
   "cell_type": "code",
   "execution_count": 21,
   "id": "c18b7ade",
   "metadata": {},
   "outputs": [
    {
     "data": {
      "text/plain": [
       "0         0\n",
       "1     23000\n",
       "2    100000\n",
       "3     35000\n",
       "4     60000\n",
       "Name: salary, dtype: int64"
      ]
     },
     "execution_count": 21,
     "metadata": {},
     "output_type": "execute_result"
    }
   ],
   "source": [
    "df1['salary']"
   ]
  },
  {
   "cell_type": "markdown",
   "id": "4d36f0df",
   "metadata": {},
   "source": [
    "## Getting information about your dataframe\n",
    "\n",
    "### dataframe shape\n",
    "\n",
    "Each dataframe object has a shape attribute attached to it.\n",
    "\n",
    "```python\n",
    "df.shape\n",
    "```\n",
    "\n",
    "This returns a _tuple_ of two values. A tuple is like a list that you can't edit. \n",
    "\n",
    "The first entry is the number of rows, the second is the number of columns.\n",
    "\n"
   ]
  },
  {
   "cell_type": "code",
   "execution_count": 22,
   "id": "05322270",
   "metadata": {},
   "outputs": [
    {
     "data": {
      "text/plain": [
       "(77, 6)"
      ]
     },
     "execution_count": 22,
     "metadata": {},
     "output_type": "execute_result"
    }
   ],
   "source": [
    "# get the dataframe rows and \n",
    "# colums using df.shape\n",
    "salary_df.shape"
   ]
  },
  {
   "cell_type": "code",
   "execution_count": 27,
   "id": "886d3d27",
   "metadata": {},
   "outputs": [],
   "source": [
    "if salary_df.shape[0] != 77:\n",
    "    print('wrong number of records')"
   ]
  },
  {
   "cell_type": "code",
   "execution_count": 28,
   "id": "b960fceb",
   "metadata": {},
   "outputs": [
    {
     "name": "stdout",
     "output_type": "stream",
     "text": [
      "77\n",
      "6\n"
     ]
    }
   ],
   "source": [
    "# access the first (number of rows) or \n",
    "# second entry (number of columns) using \n",
    "# square indexing:\n",
    "salary_df.shape[0]\n",
    "\n",
    "# or put the shape in a variable and access it from there:\n",
    "nrows = salary_df.shape[0]\n",
    "ncols = salary_df.shape[1]\n",
    "\n",
    "print(nrows)\n",
    "print(ncols)"
   ]
  },
  {
   "cell_type": "markdown",
   "id": "0d712052",
   "metadata": {},
   "source": [
    "#### Exercise: check if our dataframe has some exact number of rows\n",
    "\n",
    "Check if the number of rows in a dataframe is equal to some value. If it is not, print an error message like \"dataframe does not have the correct number of rows\""
   ]
  },
  {
   "cell_type": "code",
   "execution_count": 31,
   "id": "3cc7b0e2",
   "metadata": {},
   "outputs": [
    {
     "data": {
      "text/html": [
       "<div>\n",
       "<style scoped>\n",
       "    .dataframe tbody tr th:only-of-type {\n",
       "        vertical-align: middle;\n",
       "    }\n",
       "\n",
       "    .dataframe tbody tr th {\n",
       "        vertical-align: top;\n",
       "    }\n",
       "\n",
       "    .dataframe thead th {\n",
       "        text-align: right;\n",
       "    }\n",
       "</style>\n",
       "<table border=\"1\" class=\"dataframe\">\n",
       "  <thead>\n",
       "    <tr style=\"text-align: right;\">\n",
       "      <th></th>\n",
       "      <th>salary</th>\n",
       "      <th>gender</th>\n",
       "      <th>departm</th>\n",
       "      <th>years</th>\n",
       "      <th>age</th>\n",
       "      <th>publications</th>\n",
       "    </tr>\n",
       "  </thead>\n",
       "  <tbody>\n",
       "    <tr>\n",
       "      <th>0</th>\n",
       "      <td>86285</td>\n",
       "      <td>0</td>\n",
       "      <td>bio</td>\n",
       "      <td>26.0</td>\n",
       "      <td>64.0</td>\n",
       "      <td>72</td>\n",
       "    </tr>\n",
       "    <tr>\n",
       "      <th>1</th>\n",
       "      <td>77125</td>\n",
       "      <td>0</td>\n",
       "      <td>bio</td>\n",
       "      <td>28.0</td>\n",
       "      <td>58.0</td>\n",
       "      <td>43</td>\n",
       "    </tr>\n",
       "  </tbody>\n",
       "</table>\n",
       "</div>"
      ],
      "text/plain": [
       "   salary  gender departm  years   age  publications\n",
       "0   86285       0     bio   26.0  64.0            72\n",
       "1   77125       0     bio   28.0  58.0            43"
      ]
     },
     "execution_count": 31,
     "metadata": {},
     "output_type": "execute_result"
    }
   ],
   "source": [
    "salary_df.head(2)"
   ]
  },
  {
   "cell_type": "code",
   "execution_count": 32,
   "id": "773c8cec",
   "metadata": {},
   "outputs": [
    {
     "data": {
      "text/html": [
       "<div>\n",
       "<style scoped>\n",
       "    .dataframe tbody tr th:only-of-type {\n",
       "        vertical-align: middle;\n",
       "    }\n",
       "\n",
       "    .dataframe tbody tr th {\n",
       "        vertical-align: top;\n",
       "    }\n",
       "\n",
       "    .dataframe thead th {\n",
       "        text-align: right;\n",
       "    }\n",
       "</style>\n",
       "<table border=\"1\" class=\"dataframe\">\n",
       "  <thead>\n",
       "    <tr style=\"text-align: right;\">\n",
       "      <th></th>\n",
       "      <th>salary</th>\n",
       "      <th>gender</th>\n",
       "      <th>years</th>\n",
       "      <th>age</th>\n",
       "      <th>publications</th>\n",
       "    </tr>\n",
       "  </thead>\n",
       "  <tbody>\n",
       "    <tr>\n",
       "      <th>0</th>\n",
       "      <td>86285</td>\n",
       "      <td>0</td>\n",
       "      <td>26.0</td>\n",
       "      <td>64.0</td>\n",
       "      <td>72</td>\n",
       "    </tr>\n",
       "    <tr>\n",
       "      <th>1</th>\n",
       "      <td>77125</td>\n",
       "      <td>0</td>\n",
       "      <td>28.0</td>\n",
       "      <td>58.0</td>\n",
       "      <td>43</td>\n",
       "    </tr>\n",
       "    <tr>\n",
       "      <th>2</th>\n",
       "      <td>71922</td>\n",
       "      <td>0</td>\n",
       "      <td>10.0</td>\n",
       "      <td>38.0</td>\n",
       "      <td>23</td>\n",
       "    </tr>\n",
       "    <tr>\n",
       "      <th>3</th>\n",
       "      <td>70499</td>\n",
       "      <td>0</td>\n",
       "      <td>16.0</td>\n",
       "      <td>46.0</td>\n",
       "      <td>64</td>\n",
       "    </tr>\n",
       "    <tr>\n",
       "      <th>4</th>\n",
       "      <td>66624</td>\n",
       "      <td>0</td>\n",
       "      <td>11.0</td>\n",
       "      <td>41.0</td>\n",
       "      <td>23</td>\n",
       "    </tr>\n",
       "    <tr>\n",
       "      <th>...</th>\n",
       "      <td>...</td>\n",
       "      <td>...</td>\n",
       "      <td>...</td>\n",
       "      <td>...</td>\n",
       "      <td>...</td>\n",
       "    </tr>\n",
       "    <tr>\n",
       "      <th>72</th>\n",
       "      <td>53662</td>\n",
       "      <td>1</td>\n",
       "      <td>1.0</td>\n",
       "      <td>31.0</td>\n",
       "      <td>3</td>\n",
       "    </tr>\n",
       "    <tr>\n",
       "      <th>73</th>\n",
       "      <td>57185</td>\n",
       "      <td>1</td>\n",
       "      <td>9.0</td>\n",
       "      <td>39.0</td>\n",
       "      <td>7</td>\n",
       "    </tr>\n",
       "    <tr>\n",
       "      <th>74</th>\n",
       "      <td>52254</td>\n",
       "      <td>1</td>\n",
       "      <td>2.0</td>\n",
       "      <td>32.0</td>\n",
       "      <td>9</td>\n",
       "    </tr>\n",
       "    <tr>\n",
       "      <th>75</th>\n",
       "      <td>61885</td>\n",
       "      <td>1</td>\n",
       "      <td>23.0</td>\n",
       "      <td>60.0</td>\n",
       "      <td>9</td>\n",
       "    </tr>\n",
       "    <tr>\n",
       "      <th>76</th>\n",
       "      <td>49542</td>\n",
       "      <td>1</td>\n",
       "      <td>3.0</td>\n",
       "      <td>33.0</td>\n",
       "      <td>5</td>\n",
       "    </tr>\n",
       "  </tbody>\n",
       "</table>\n",
       "<p>77 rows × 5 columns</p>\n",
       "</div>"
      ],
      "text/plain": [
       "    salary  gender  years   age  publications\n",
       "0    86285       0   26.0  64.0            72\n",
       "1    77125       0   28.0  58.0            43\n",
       "2    71922       0   10.0  38.0            23\n",
       "3    70499       0   16.0  46.0            64\n",
       "4    66624       0   11.0  41.0            23\n",
       "..     ...     ...    ...   ...           ...\n",
       "72   53662       1    1.0  31.0             3\n",
       "73   57185       1    9.0  39.0             7\n",
       "74   52254       1    2.0  32.0             9\n",
       "75   61885       1   23.0  60.0             9\n",
       "76   49542       1    3.0  33.0             5\n",
       "\n",
       "[77 rows x 5 columns]"
      ]
     },
     "execution_count": 32,
     "metadata": {},
     "output_type": "execute_result"
    }
   ],
   "source": [
    "salary_df.drop(columns='departm')"
   ]
  },
  {
   "cell_type": "code",
   "execution_count": 29,
   "id": "c4831d22",
   "metadata": {},
   "outputs": [
    {
     "name": "stdout",
     "output_type": "stream",
     "text": [
      "dataframe does not have the correct number of rows\n"
     ]
    }
   ],
   "source": [
    "desired_length = 100\n",
    "\n",
    "if salary_df.shape[0] != desired_length:\n",
    "    print(\"dataframe does not have the correct number of rows\")"
   ]
  },
  {
   "cell_type": "markdown",
   "id": "6b9dbbae",
   "metadata": {},
   "source": [
    "<div class=\"alert alert-info\">\n",
    "**Methods versus properties** <br>\n",
    "    \n",
    "The `.shape` property doesn't include a final `()` unlike other methods we have learned about like `.drop()` which required parentheses.  \n",
    "    \n",
    "This reflects that size is known as a property or attribute of the dataframe while `.drop()` is a method.  \n",
    "    \n",
    "The conceptual differences can be confusing for why one is one way or the other.  However, it is helpful to often think about them as the distinction between nouns and verbs in langauge.  Properties (nouns) are static descriptors of a dataset such as the size of the dataset or the column names.  \n",
    "    \n",
    "In contrast, methods (verbs) are things that require computation or modification of the dataframe like deleting things or performing computations on columns or rows.\n",
    "</div>"
   ]
  },
  {
   "cell_type": "markdown",
   "id": "fe726530",
   "metadata": {},
   "source": [
    "### Listing the dataframe columns\n",
    "\n",
    "In addition to .shape each dataframe has a .columns attribute. This returns an array of all the column names in the dataframe.\n",
    "\n",
    "This can be used like a list, doing indexing and using membership operators to see what is (or is not) in the set of columns"
   ]
  },
  {
   "cell_type": "code",
   "execution_count": 33,
   "id": "6407de20",
   "metadata": {},
   "outputs": [
    {
     "data": {
      "text/plain": [
       "Index(['salary', 'gender', 'departm', 'years', 'age', 'publications'], dtype='object')"
      ]
     },
     "execution_count": 33,
     "metadata": {},
     "output_type": "execute_result"
    }
   ],
   "source": [
    "salary_df.columns"
   ]
  },
  {
   "cell_type": "code",
   "execution_count": 34,
   "id": "cbc676e8",
   "metadata": {},
   "outputs": [
    {
     "data": {
      "text/plain": [
       "'departm'"
      ]
     },
     "execution_count": 34,
     "metadata": {},
     "output_type": "execute_result"
    }
   ],
   "source": [
    "# use square indexing to get individual values\n",
    "salary_df.columns[2]"
   ]
  },
  {
   "cell_type": "code",
   "execution_count": 35,
   "id": "4a4202a7",
   "metadata": {},
   "outputs": [],
   "source": [
    "cols = salary_df.columns"
   ]
  },
  {
   "cell_type": "code",
   "execution_count": 39,
   "id": "d11f5720",
   "metadata": {},
   "outputs": [
    {
     "data": {
      "text/plain": [
       "False"
      ]
     },
     "execution_count": 39,
     "metadata": {},
     "output_type": "execute_result"
    }
   ],
   "source": [
    "a = 'broadway'\n",
    "\n",
    "'mercer' in a"
   ]
  },
  {
   "cell_type": "code",
   "execution_count": 42,
   "id": "90071dc4",
   "metadata": {},
   "outputs": [],
   "source": [
    "l = ['a.jpg', 'l.jpg', 'p.jpg']"
   ]
  },
  {
   "cell_type": "code",
   "execution_count": 44,
   "id": "1fca34d8",
   "metadata": {},
   "outputs": [
    {
     "data": {
      "text/plain": [
       "True"
      ]
     },
     "execution_count": 44,
     "metadata": {},
     "output_type": "execute_result"
    }
   ],
   "source": [
    "'a.jpg' in l"
   ]
  },
  {
   "cell_type": "code",
   "execution_count": 46,
   "id": "3315496b",
   "metadata": {},
   "outputs": [
    {
     "data": {
      "text/plain": [
       "Index(['salary', 'gender', 'departm', 'years', 'age', 'publications'], dtype='object')"
      ]
     },
     "execution_count": 46,
     "metadata": {},
     "output_type": "execute_result"
    }
   ],
   "source": [
    "salary_df.columns"
   ]
  },
  {
   "cell_type": "code",
   "execution_count": 47,
   "id": "2fa82324",
   "metadata": {},
   "outputs": [
    {
     "data": {
      "text/plain": [
       "False"
      ]
     },
     "execution_count": 47,
     "metadata": {},
     "output_type": "execute_result"
    }
   ],
   "source": [
    "# use the 'in' operator to check whether there is a\n",
    "# column called 'years' in the dataframe\n",
    "'institution' in salary_df.columns"
   ]
  },
  {
   "cell_type": "markdown",
   "id": "f758048c",
   "metadata": {},
   "source": [
    "You can convert the column array to a list using the .tolist() method attached to the column index:"
   ]
  },
  {
   "cell_type": "code",
   "execution_count": 49,
   "id": "32e60276",
   "metadata": {},
   "outputs": [
    {
     "data": {
      "text/plain": [
       "['salary', 'gender', 'departm', 'years', 'age', 'publications']"
      ]
     },
     "execution_count": 49,
     "metadata": {},
     "output_type": "execute_result"
    }
   ],
   "source": [
    "col_list = salary_df.columns.tolist()\n",
    "col_list"
   ]
  },
  {
   "cell_type": "markdown",
   "id": "32303bd7",
   "metadata": {},
   "source": [
    "<div class=\"alert alert-info\">\n",
    "<strong>Chaining methods</strong><br>\n",
    "Dataframes in pandas are what is known as an object-oriented structure. \n",
    "    \n",
    "This means that most the functionality of a dataframe is tied to the variables themselves rather than in external functions.  \n",
    "    \n",
    "Most pandas methods either return themselves or a copy of the dataframe that has been altered.  \n",
    "    \n",
    "Thus you can \"chain\" operations and methods together to make the code more concise.  Chaining means calling multiple methods in a row on a single line of code.  \n",
    " \n",
    "    \n",
    "That's what lets us write something like:\n",
    "    \n",
    "    \n",
    "`salary_df.columns.tolist()`\n",
    "\n",
    "    \n",
    "The `columns` call immediately evaluated to the column array and that object has a tolist() function attached to it, so we can chain it together."
   ]
  },
  {
   "cell_type": "markdown",
   "id": "ff06a949",
   "metadata": {},
   "source": [
    "### Finding out which values appear in a column\n",
    "\n",
    "Sometimes it's useful to get a list of all of the possible values in a column without getting _all_ of the individual data values.\n",
    "\n",
    "For example, in our salary_df we might like to know which departments (the 'departm' column) appear in the dataframe.\n",
    "\n",
    "When you access a dataframe column you can append .unique() to it and you will get a list of each value that appears in the column at least once."
   ]
  },
  {
   "cell_type": "code",
   "execution_count": 51,
   "id": "8e3bf7b7",
   "metadata": {},
   "outputs": [
    {
     "data": {
      "text/plain": [
       "0       bio\n",
       "1       bio\n",
       "2       bio\n",
       "3       bio\n",
       "4       bio\n",
       "      ...  \n",
       "72    neuro\n",
       "73     stat\n",
       "74     stat\n",
       "75     math\n",
       "76     math\n",
       "Name: departm, Length: 77, dtype: object"
      ]
     },
     "execution_count": 51,
     "metadata": {},
     "output_type": "execute_result"
    }
   ],
   "source": [
    "salary_df['departm']"
   ]
  },
  {
   "cell_type": "code",
   "execution_count": 52,
   "id": "cc729c07",
   "metadata": {},
   "outputs": [
    {
     "data": {
      "text/plain": [
       "array(['bio', 'chem', 'geol', 'neuro', 'stat', 'physics', 'math'],\n",
       "      dtype=object)"
      ]
     },
     "execution_count": 52,
     "metadata": {},
     "output_type": "execute_result"
    }
   ],
   "source": [
    "salary_df['departm'].unique()"
   ]
  },
  {
   "cell_type": "code",
   "execution_count": 54,
   "id": "13078b3b",
   "metadata": {},
   "outputs": [
    {
     "data": {
      "text/plain": [
       "True"
      ]
     },
     "execution_count": 54,
     "metadata": {},
     "output_type": "execute_result"
    }
   ],
   "source": [
    "# use membership to check if we have any data for\n",
    "# the 'history' department:\n",
    "'neuro' in salary_df['departm'].unique()"
   ]
  },
  {
   "cell_type": "markdown",
   "id": "b64ad7f4",
   "metadata": {},
   "source": [
    "### Renaming columns\n",
    "\n",
    "You can rename columns using the dataframe .rename() method.\n",
    "\n",
    "It takes in a dictionary where keys are the original column name(s) and the values are the new column names."
   ]
  },
  {
   "cell_type": "code",
   "execution_count": 55,
   "id": "eedaad2e",
   "metadata": {},
   "outputs": [
    {
     "data": {
      "text/html": [
       "<div>\n",
       "<style scoped>\n",
       "    .dataframe tbody tr th:only-of-type {\n",
       "        vertical-align: middle;\n",
       "    }\n",
       "\n",
       "    .dataframe tbody tr th {\n",
       "        vertical-align: top;\n",
       "    }\n",
       "\n",
       "    .dataframe thead th {\n",
       "        text-align: right;\n",
       "    }\n",
       "</style>\n",
       "<table border=\"1\" class=\"dataframe\">\n",
       "  <thead>\n",
       "    <tr style=\"text-align: right;\">\n",
       "      <th></th>\n",
       "      <th>salary</th>\n",
       "      <th>gender</th>\n",
       "      <th>departm</th>\n",
       "      <th>years</th>\n",
       "      <th>age</th>\n",
       "      <th>publications</th>\n",
       "    </tr>\n",
       "  </thead>\n",
       "  <tbody>\n",
       "    <tr>\n",
       "      <th>0</th>\n",
       "      <td>86285</td>\n",
       "      <td>0</td>\n",
       "      <td>bio</td>\n",
       "      <td>26.0</td>\n",
       "      <td>64.0</td>\n",
       "      <td>72</td>\n",
       "    </tr>\n",
       "    <tr>\n",
       "      <th>1</th>\n",
       "      <td>77125</td>\n",
       "      <td>0</td>\n",
       "      <td>bio</td>\n",
       "      <td>28.0</td>\n",
       "      <td>58.0</td>\n",
       "      <td>43</td>\n",
       "    </tr>\n",
       "    <tr>\n",
       "      <th>2</th>\n",
       "      <td>71922</td>\n",
       "      <td>0</td>\n",
       "      <td>bio</td>\n",
       "      <td>10.0</td>\n",
       "      <td>38.0</td>\n",
       "      <td>23</td>\n",
       "    </tr>\n",
       "  </tbody>\n",
       "</table>\n",
       "</div>"
      ],
      "text/plain": [
       "   salary  gender departm  years   age  publications\n",
       "0   86285       0     bio   26.0  64.0            72\n",
       "1   77125       0     bio   28.0  58.0            43\n",
       "2   71922       0     bio   10.0  38.0            23"
      ]
     },
     "execution_count": 55,
     "metadata": {},
     "output_type": "execute_result"
    }
   ],
   "source": [
    "# make a copy of the dataframe so we don't change the original\n",
    "salary_copy = salary_df.copy()\n",
    "salary_copy.head(3)\n"
   ]
  },
  {
   "cell_type": "code",
   "execution_count": 56,
   "id": "7a544b9e",
   "metadata": {},
   "outputs": [],
   "source": [
    "# first make a dictionary giving the \n",
    "# old (keys) and new (values) column names\n",
    "rename_dict = {'departm': 'department', \n",
    "              'years': 'years_of_work'}"
   ]
  },
  {
   "cell_type": "markdown",
   "id": "1a07a3a7",
   "metadata": {},
   "source": [
    "Use rename() and output the result to a new variable or use inplace=True to make the changes stick."
   ]
  },
  {
   "cell_type": "code",
   "execution_count": 64,
   "id": "9ae740cf",
   "metadata": {},
   "outputs": [
    {
     "data": {
      "text/html": [
       "<div>\n",
       "<style scoped>\n",
       "    .dataframe tbody tr th:only-of-type {\n",
       "        vertical-align: middle;\n",
       "    }\n",
       "\n",
       "    .dataframe tbody tr th {\n",
       "        vertical-align: top;\n",
       "    }\n",
       "\n",
       "    .dataframe thead th {\n",
       "        text-align: right;\n",
       "    }\n",
       "</style>\n",
       "<table border=\"1\" class=\"dataframe\">\n",
       "  <thead>\n",
       "    <tr style=\"text-align: right;\">\n",
       "      <th></th>\n",
       "      <th>salary</th>\n",
       "      <th>gender</th>\n",
       "      <th>department</th>\n",
       "      <th>years_of_work</th>\n",
       "      <th>age</th>\n",
       "      <th>publications</th>\n",
       "    </tr>\n",
       "  </thead>\n",
       "  <tbody>\n",
       "    <tr>\n",
       "      <th>0</th>\n",
       "      <td>86285</td>\n",
       "      <td>0</td>\n",
       "      <td>bio</td>\n",
       "      <td>26.0</td>\n",
       "      <td>64.0</td>\n",
       "      <td>72</td>\n",
       "    </tr>\n",
       "    <tr>\n",
       "      <th>1</th>\n",
       "      <td>77125</td>\n",
       "      <td>0</td>\n",
       "      <td>bio</td>\n",
       "      <td>28.0</td>\n",
       "      <td>58.0</td>\n",
       "      <td>43</td>\n",
       "    </tr>\n",
       "    <tr>\n",
       "      <th>2</th>\n",
       "      <td>71922</td>\n",
       "      <td>0</td>\n",
       "      <td>bio</td>\n",
       "      <td>10.0</td>\n",
       "      <td>38.0</td>\n",
       "      <td>23</td>\n",
       "    </tr>\n",
       "    <tr>\n",
       "      <th>3</th>\n",
       "      <td>70499</td>\n",
       "      <td>0</td>\n",
       "      <td>bio</td>\n",
       "      <td>16.0</td>\n",
       "      <td>46.0</td>\n",
       "      <td>64</td>\n",
       "    </tr>\n",
       "    <tr>\n",
       "      <th>4</th>\n",
       "      <td>66624</td>\n",
       "      <td>0</td>\n",
       "      <td>bio</td>\n",
       "      <td>11.0</td>\n",
       "      <td>41.0</td>\n",
       "      <td>23</td>\n",
       "    </tr>\n",
       "    <tr>\n",
       "      <th>...</th>\n",
       "      <td>...</td>\n",
       "      <td>...</td>\n",
       "      <td>...</td>\n",
       "      <td>...</td>\n",
       "      <td>...</td>\n",
       "      <td>...</td>\n",
       "    </tr>\n",
       "    <tr>\n",
       "      <th>72</th>\n",
       "      <td>53662</td>\n",
       "      <td>1</td>\n",
       "      <td>neuro</td>\n",
       "      <td>1.0</td>\n",
       "      <td>31.0</td>\n",
       "      <td>3</td>\n",
       "    </tr>\n",
       "    <tr>\n",
       "      <th>73</th>\n",
       "      <td>57185</td>\n",
       "      <td>1</td>\n",
       "      <td>stat</td>\n",
       "      <td>9.0</td>\n",
       "      <td>39.0</td>\n",
       "      <td>7</td>\n",
       "    </tr>\n",
       "    <tr>\n",
       "      <th>74</th>\n",
       "      <td>52254</td>\n",
       "      <td>1</td>\n",
       "      <td>stat</td>\n",
       "      <td>2.0</td>\n",
       "      <td>32.0</td>\n",
       "      <td>9</td>\n",
       "    </tr>\n",
       "    <tr>\n",
       "      <th>75</th>\n",
       "      <td>61885</td>\n",
       "      <td>1</td>\n",
       "      <td>math</td>\n",
       "      <td>23.0</td>\n",
       "      <td>60.0</td>\n",
       "      <td>9</td>\n",
       "    </tr>\n",
       "    <tr>\n",
       "      <th>76</th>\n",
       "      <td>49542</td>\n",
       "      <td>1</td>\n",
       "      <td>math</td>\n",
       "      <td>3.0</td>\n",
       "      <td>33.0</td>\n",
       "      <td>5</td>\n",
       "    </tr>\n",
       "  </tbody>\n",
       "</table>\n",
       "<p>77 rows × 6 columns</p>\n",
       "</div>"
      ],
      "text/plain": [
       "    salary  gender department  years_of_work   age  publications\n",
       "0    86285       0        bio           26.0  64.0            72\n",
       "1    77125       0        bio           28.0  58.0            43\n",
       "2    71922       0        bio           10.0  38.0            23\n",
       "3    70499       0        bio           16.0  46.0            64\n",
       "4    66624       0        bio           11.0  41.0            23\n",
       "..     ...     ...        ...            ...   ...           ...\n",
       "72   53662       1      neuro            1.0  31.0             3\n",
       "73   57185       1       stat            9.0  39.0             7\n",
       "74   52254       1       stat            2.0  32.0             9\n",
       "75   61885       1       math           23.0  60.0             9\n",
       "76   49542       1       math            3.0  33.0             5\n",
       "\n",
       "[77 rows x 6 columns]"
      ]
     },
     "execution_count": 64,
     "metadata": {},
     "output_type": "execute_result"
    }
   ],
   "source": [
    "# doing it without inplace=True or output to \n",
    "# a variable name and the changes don't stick\n",
    "rename_dict = {'departm': ['department'], \n",
    "              'years': 'years_of_work'}\n",
    "\n",
    "new_df = salary_copy.rename(columns=rename_dict)\n",
    "new_df"
   ]
  },
  {
   "cell_type": "code",
   "execution_count": 61,
   "id": "a93bccca",
   "metadata": {},
   "outputs": [
    {
     "data": {
      "text/html": [
       "<div>\n",
       "<style scoped>\n",
       "    .dataframe tbody tr th:only-of-type {\n",
       "        vertical-align: middle;\n",
       "    }\n",
       "\n",
       "    .dataframe tbody tr th {\n",
       "        vertical-align: top;\n",
       "    }\n",
       "\n",
       "    .dataframe thead th {\n",
       "        text-align: right;\n",
       "    }\n",
       "</style>\n",
       "<table border=\"1\" class=\"dataframe\">\n",
       "  <thead>\n",
       "    <tr style=\"text-align: right;\">\n",
       "      <th></th>\n",
       "      <th>salary</th>\n",
       "      <th>gender</th>\n",
       "      <th>department</th>\n",
       "      <th>years_of_work</th>\n",
       "      <th>age</th>\n",
       "      <th>publications</th>\n",
       "    </tr>\n",
       "  </thead>\n",
       "  <tbody>\n",
       "    <tr>\n",
       "      <th>0</th>\n",
       "      <td>86285</td>\n",
       "      <td>0</td>\n",
       "      <td>bio</td>\n",
       "      <td>26.0</td>\n",
       "      <td>64.0</td>\n",
       "      <td>72</td>\n",
       "    </tr>\n",
       "    <tr>\n",
       "      <th>1</th>\n",
       "      <td>77125</td>\n",
       "      <td>0</td>\n",
       "      <td>bio</td>\n",
       "      <td>28.0</td>\n",
       "      <td>58.0</td>\n",
       "      <td>43</td>\n",
       "    </tr>\n",
       "    <tr>\n",
       "      <th>2</th>\n",
       "      <td>71922</td>\n",
       "      <td>0</td>\n",
       "      <td>bio</td>\n",
       "      <td>10.0</td>\n",
       "      <td>38.0</td>\n",
       "      <td>23</td>\n",
       "    </tr>\n",
       "    <tr>\n",
       "      <th>3</th>\n",
       "      <td>70499</td>\n",
       "      <td>0</td>\n",
       "      <td>bio</td>\n",
       "      <td>16.0</td>\n",
       "      <td>46.0</td>\n",
       "      <td>64</td>\n",
       "    </tr>\n",
       "    <tr>\n",
       "      <th>4</th>\n",
       "      <td>66624</td>\n",
       "      <td>0</td>\n",
       "      <td>bio</td>\n",
       "      <td>11.0</td>\n",
       "      <td>41.0</td>\n",
       "      <td>23</td>\n",
       "    </tr>\n",
       "  </tbody>\n",
       "</table>\n",
       "</div>"
      ],
      "text/plain": [
       "   salary  gender department  years_of_work   age  publications\n",
       "0   86285       0        bio           26.0  64.0            72\n",
       "1   77125       0        bio           28.0  58.0            43\n",
       "2   71922       0        bio           10.0  38.0            23\n",
       "3   70499       0        bio           16.0  46.0            64\n",
       "4   66624       0        bio           11.0  41.0            23"
      ]
     },
     "execution_count": 61,
     "metadata": {},
     "output_type": "execute_result"
    }
   ],
   "source": [
    "# do it with inplace=True\n",
    "\n",
    "salary_copy.rename(columns=rename_dict, inplace=True)\n",
    "salary_copy.head()"
   ]
  },
  {
   "cell_type": "markdown",
   "id": "b4f53ab3",
   "metadata": {},
   "source": [
    "## Adding and deleting things from a dataframe"
   ]
  },
  {
   "cell_type": "markdown",
   "id": "84f9b10e",
   "metadata": {},
   "source": [
    "Sometimes after we read in a dataset we might want to add new rows or columns or delete rows and columns from a dataframe.  \n",
    "\n",
    "One way to do this is to edit the original CSV file that we read in. \n",
    "\n",
    "However, there is an important principle I want to emphasize thoughout this class: \n",
    "\n",
    "<div class=\"alert alert-danger\" role=\"alert\">\n",
    "  <strong>**ALWAYS do everything in code**!</strong> <br>\n",
    "    What does it mean to do everything in code?  It means that if you go to your data file that you got from some place and then delete some of the data by hand in Google Sheets or Excel, there is no record of it. Once you save the file the data will be deleted and noone will know you did this.\n",
    "  \n",
    "  Instead, if you keep your data files as \"raw\" as possible and modify it using code, your code will document ALL of the steps you did in your analysis including the step of deleting data.  \n",
    "    \n",
    "\"Excluding\" (not DELETEing) data is sometimes justified but the important thing is we want to document all our steps honestly and truthfully when doing analysis.  Using code to do every single step of an analysis helps us accomplish this.\n",
    "</div>\n",
    "\n"
   ]
  },
  {
   "cell_type": "markdown",
   "id": "41df12be",
   "metadata": {},
   "source": [
    "### Delete a column from a dataframe using the df.drop() method\n",
    "\n",
    "Dataframe objects have a drop() method attached to them:\n",
    "\n",
    "`df.drop(columns = 'name of column to delete', inplace=True/False)`\n",
    "\n",
    "Set `inplace` to True to make changes to the calling dataframe, False to output the results into a new dataframe variable.\n",
    "\n",
    "To delete multiple columns the input to `columns=` should be a list of column names:\n",
    "\n",
    "`df.drop(columns = ['col_name_1', 'col_name_2'], inplace=True/False)`"
   ]
  },
  {
   "cell_type": "code",
   "execution_count": 65,
   "id": "b7fedae0",
   "metadata": {},
   "outputs": [
    {
     "data": {
      "text/html": [
       "<div>\n",
       "<style scoped>\n",
       "    .dataframe tbody tr th:only-of-type {\n",
       "        vertical-align: middle;\n",
       "    }\n",
       "\n",
       "    .dataframe tbody tr th {\n",
       "        vertical-align: top;\n",
       "    }\n",
       "\n",
       "    .dataframe thead th {\n",
       "        text-align: right;\n",
       "    }\n",
       "</style>\n",
       "<table border=\"1\" class=\"dataframe\">\n",
       "  <thead>\n",
       "    <tr style=\"text-align: right;\">\n",
       "      <th></th>\n",
       "      <th>salary</th>\n",
       "      <th>gender</th>\n",
       "      <th>departm</th>\n",
       "      <th>years</th>\n",
       "      <th>age</th>\n",
       "      <th>publications</th>\n",
       "    </tr>\n",
       "  </thead>\n",
       "  <tbody>\n",
       "    <tr>\n",
       "      <th>0</th>\n",
       "      <td>86285</td>\n",
       "      <td>0</td>\n",
       "      <td>bio</td>\n",
       "      <td>26.0</td>\n",
       "      <td>64.0</td>\n",
       "      <td>72</td>\n",
       "    </tr>\n",
       "    <tr>\n",
       "      <th>1</th>\n",
       "      <td>77125</td>\n",
       "      <td>0</td>\n",
       "      <td>bio</td>\n",
       "      <td>28.0</td>\n",
       "      <td>58.0</td>\n",
       "      <td>43</td>\n",
       "    </tr>\n",
       "    <tr>\n",
       "      <th>2</th>\n",
       "      <td>71922</td>\n",
       "      <td>0</td>\n",
       "      <td>bio</td>\n",
       "      <td>10.0</td>\n",
       "      <td>38.0</td>\n",
       "      <td>23</td>\n",
       "    </tr>\n",
       "    <tr>\n",
       "      <th>3</th>\n",
       "      <td>70499</td>\n",
       "      <td>0</td>\n",
       "      <td>bio</td>\n",
       "      <td>16.0</td>\n",
       "      <td>46.0</td>\n",
       "      <td>64</td>\n",
       "    </tr>\n",
       "    <tr>\n",
       "      <th>4</th>\n",
       "      <td>66624</td>\n",
       "      <td>0</td>\n",
       "      <td>bio</td>\n",
       "      <td>11.0</td>\n",
       "      <td>41.0</td>\n",
       "      <td>23</td>\n",
       "    </tr>\n",
       "  </tbody>\n",
       "</table>\n",
       "</div>"
      ],
      "text/plain": [
       "   salary  gender departm  years   age  publications\n",
       "0   86285       0     bio   26.0  64.0            72\n",
       "1   77125       0     bio   28.0  58.0            43\n",
       "2   71922       0     bio   10.0  38.0            23\n",
       "3   70499       0     bio   16.0  46.0            64\n",
       "4   66624       0     bio   11.0  41.0            23"
      ]
     },
     "execution_count": 65,
     "metadata": {},
     "output_type": "execute_result"
    }
   ],
   "source": [
    "salary_df.head()"
   ]
  },
  {
   "cell_type": "code",
   "execution_count": 66,
   "id": "8a10cdf4",
   "metadata": {},
   "outputs": [
    {
     "data": {
      "text/html": [
       "<div>\n",
       "<style scoped>\n",
       "    .dataframe tbody tr th:only-of-type {\n",
       "        vertical-align: middle;\n",
       "    }\n",
       "\n",
       "    .dataframe tbody tr th {\n",
       "        vertical-align: top;\n",
       "    }\n",
       "\n",
       "    .dataframe thead th {\n",
       "        text-align: right;\n",
       "    }\n",
       "</style>\n",
       "<table border=\"1\" class=\"dataframe\">\n",
       "  <thead>\n",
       "    <tr style=\"text-align: right;\">\n",
       "      <th></th>\n",
       "      <th>salary</th>\n",
       "      <th>departm</th>\n",
       "      <th>years</th>\n",
       "      <th>age</th>\n",
       "      <th>publications</th>\n",
       "    </tr>\n",
       "  </thead>\n",
       "  <tbody>\n",
       "    <tr>\n",
       "      <th>0</th>\n",
       "      <td>86285</td>\n",
       "      <td>bio</td>\n",
       "      <td>26.0</td>\n",
       "      <td>64.0</td>\n",
       "      <td>72</td>\n",
       "    </tr>\n",
       "    <tr>\n",
       "      <th>1</th>\n",
       "      <td>77125</td>\n",
       "      <td>bio</td>\n",
       "      <td>28.0</td>\n",
       "      <td>58.0</td>\n",
       "      <td>43</td>\n",
       "    </tr>\n",
       "    <tr>\n",
       "      <th>2</th>\n",
       "      <td>71922</td>\n",
       "      <td>bio</td>\n",
       "      <td>10.0</td>\n",
       "      <td>38.0</td>\n",
       "      <td>23</td>\n",
       "    </tr>\n",
       "    <tr>\n",
       "      <th>3</th>\n",
       "      <td>70499</td>\n",
       "      <td>bio</td>\n",
       "      <td>16.0</td>\n",
       "      <td>46.0</td>\n",
       "      <td>64</td>\n",
       "    </tr>\n",
       "    <tr>\n",
       "      <th>4</th>\n",
       "      <td>66624</td>\n",
       "      <td>bio</td>\n",
       "      <td>11.0</td>\n",
       "      <td>41.0</td>\n",
       "      <td>23</td>\n",
       "    </tr>\n",
       "  </tbody>\n",
       "</table>\n",
       "</div>"
      ],
      "text/plain": [
       "   salary departm  years   age  publications\n",
       "0   86285     bio   26.0  64.0            72\n",
       "1   77125     bio   28.0  58.0            43\n",
       "2   71922     bio   10.0  38.0            23\n",
       "3   70499     bio   16.0  46.0            64\n",
       "4   66624     bio   11.0  41.0            23"
      ]
     },
     "execution_count": 66,
     "metadata": {},
     "output_type": "execute_result"
    }
   ],
   "source": [
    "# use drop() method to get rid of \n",
    "# the gender column in our salary_df\n",
    "# use inplace=True to make the changes \n",
    "# stick\n",
    "salary_df.drop(columns = 'gender', inplace=True)\n",
    "\n",
    "# take a look and the gender column is gone\n",
    "salary_df.head()"
   ]
  },
  {
   "cell_type": "code",
   "execution_count": 69,
   "id": "6d55d9ad",
   "metadata": {},
   "outputs": [
    {
     "data": {
      "text/html": [
       "<div>\n",
       "<style scoped>\n",
       "    .dataframe tbody tr th:only-of-type {\n",
       "        vertical-align: middle;\n",
       "    }\n",
       "\n",
       "    .dataframe tbody tr th {\n",
       "        vertical-align: top;\n",
       "    }\n",
       "\n",
       "    .dataframe thead th {\n",
       "        text-align: right;\n",
       "    }\n",
       "</style>\n",
       "<table border=\"1\" class=\"dataframe\">\n",
       "  <thead>\n",
       "    <tr style=\"text-align: right;\">\n",
       "      <th></th>\n",
       "      <th>salary</th>\n",
       "      <th>departm</th>\n",
       "      <th>age</th>\n",
       "    </tr>\n",
       "  </thead>\n",
       "  <tbody>\n",
       "    <tr>\n",
       "      <th>0</th>\n",
       "      <td>86285</td>\n",
       "      <td>bio</td>\n",
       "      <td>64.0</td>\n",
       "    </tr>\n",
       "    <tr>\n",
       "      <th>1</th>\n",
       "      <td>77125</td>\n",
       "      <td>bio</td>\n",
       "      <td>58.0</td>\n",
       "    </tr>\n",
       "    <tr>\n",
       "      <th>2</th>\n",
       "      <td>71922</td>\n",
       "      <td>bio</td>\n",
       "      <td>38.0</td>\n",
       "    </tr>\n",
       "    <tr>\n",
       "      <th>3</th>\n",
       "      <td>70499</td>\n",
       "      <td>bio</td>\n",
       "      <td>46.0</td>\n",
       "    </tr>\n",
       "    <tr>\n",
       "      <th>4</th>\n",
       "      <td>66624</td>\n",
       "      <td>bio</td>\n",
       "      <td>41.0</td>\n",
       "    </tr>\n",
       "    <tr>\n",
       "      <th>...</th>\n",
       "      <td>...</td>\n",
       "      <td>...</td>\n",
       "      <td>...</td>\n",
       "    </tr>\n",
       "    <tr>\n",
       "      <th>72</th>\n",
       "      <td>53662</td>\n",
       "      <td>neuro</td>\n",
       "      <td>31.0</td>\n",
       "    </tr>\n",
       "    <tr>\n",
       "      <th>73</th>\n",
       "      <td>57185</td>\n",
       "      <td>stat</td>\n",
       "      <td>39.0</td>\n",
       "    </tr>\n",
       "    <tr>\n",
       "      <th>74</th>\n",
       "      <td>52254</td>\n",
       "      <td>stat</td>\n",
       "      <td>32.0</td>\n",
       "    </tr>\n",
       "    <tr>\n",
       "      <th>75</th>\n",
       "      <td>61885</td>\n",
       "      <td>math</td>\n",
       "      <td>60.0</td>\n",
       "    </tr>\n",
       "    <tr>\n",
       "      <th>76</th>\n",
       "      <td>49542</td>\n",
       "      <td>math</td>\n",
       "      <td>33.0</td>\n",
       "    </tr>\n",
       "  </tbody>\n",
       "</table>\n",
       "<p>77 rows × 3 columns</p>\n",
       "</div>"
      ],
      "text/plain": [
       "    salary departm   age\n",
       "0    86285     bio  64.0\n",
       "1    77125     bio  58.0\n",
       "2    71922     bio  38.0\n",
       "3    70499     bio  46.0\n",
       "4    66624     bio  41.0\n",
       "..     ...     ...   ...\n",
       "72   53662   neuro  31.0\n",
       "73   57185    stat  39.0\n",
       "74   52254    stat  32.0\n",
       "75   61885    math  60.0\n",
       "76   49542    math  33.0\n",
       "\n",
       "[77 rows x 3 columns]"
      ]
     },
     "execution_count": 69,
     "metadata": {},
     "output_type": "execute_result"
    }
   ],
   "source": [
    "# delete multiple columns\n",
    "copy_df = salary_df.copy()\n",
    "copy_df.head()\n",
    "\n",
    "copy_df.drop(columns=['publications', 'years'], inplace=True)\n",
    "copy_df"
   ]
  },
  {
   "cell_type": "markdown",
   "id": "39f9cec0",
   "metadata": {},
   "source": [
    "### Deleting rows"
   ]
  },
  {
   "cell_type": "markdown",
   "id": "eafa9513",
   "metadata": {},
   "source": [
    "To delete a row you can use the `.drop()` method to drop a particular item using its row index value.  The `.drop()` method is not an \"in place operation\" instead it returns a new dataframe with the particular rows removed."
   ]
  },
  {
   "cell_type": "code",
   "execution_count": 70,
   "id": "65e45e80",
   "metadata": {},
   "outputs": [
    {
     "data": {
      "text/html": [
       "<div>\n",
       "<style scoped>\n",
       "    .dataframe tbody tr th:only-of-type {\n",
       "        vertical-align: middle;\n",
       "    }\n",
       "\n",
       "    .dataframe tbody tr th {\n",
       "        vertical-align: top;\n",
       "    }\n",
       "\n",
       "    .dataframe thead th {\n",
       "        text-align: right;\n",
       "    }\n",
       "</style>\n",
       "<table border=\"1\" class=\"dataframe\">\n",
       "  <thead>\n",
       "    <tr style=\"text-align: right;\">\n",
       "      <th></th>\n",
       "      <th>salary</th>\n",
       "      <th>departm</th>\n",
       "      <th>years</th>\n",
       "      <th>age</th>\n",
       "      <th>publications</th>\n",
       "    </tr>\n",
       "  </thead>\n",
       "  <tbody>\n",
       "    <tr>\n",
       "      <th>0</th>\n",
       "      <td>86285</td>\n",
       "      <td>bio</td>\n",
       "      <td>26.0</td>\n",
       "      <td>64.0</td>\n",
       "      <td>72</td>\n",
       "    </tr>\n",
       "    <tr>\n",
       "      <th>1</th>\n",
       "      <td>77125</td>\n",
       "      <td>bio</td>\n",
       "      <td>28.0</td>\n",
       "      <td>58.0</td>\n",
       "      <td>43</td>\n",
       "    </tr>\n",
       "    <tr>\n",
       "      <th>2</th>\n",
       "      <td>71922</td>\n",
       "      <td>bio</td>\n",
       "      <td>10.0</td>\n",
       "      <td>38.0</td>\n",
       "      <td>23</td>\n",
       "    </tr>\n",
       "    <tr>\n",
       "      <th>3</th>\n",
       "      <td>70499</td>\n",
       "      <td>bio</td>\n",
       "      <td>16.0</td>\n",
       "      <td>46.0</td>\n",
       "      <td>64</td>\n",
       "    </tr>\n",
       "    <tr>\n",
       "      <th>4</th>\n",
       "      <td>66624</td>\n",
       "      <td>bio</td>\n",
       "      <td>11.0</td>\n",
       "      <td>41.0</td>\n",
       "      <td>23</td>\n",
       "    </tr>\n",
       "  </tbody>\n",
       "</table>\n",
       "</div>"
      ],
      "text/plain": [
       "   salary departm  years   age  publications\n",
       "0   86285     bio   26.0  64.0            72\n",
       "1   77125     bio   28.0  58.0            43\n",
       "2   71922     bio   10.0  38.0            23\n",
       "3   70499     bio   16.0  46.0            64\n",
       "4   66624     bio   11.0  41.0            23"
      ]
     },
     "execution_count": 70,
     "metadata": {},
     "output_type": "execute_result"
    }
   ],
   "source": [
    "# make a copy of the salary_df dataframe\n",
    "working_df = salary_df.copy()\n",
    "working_df.head()"
   ]
  },
  {
   "cell_type": "markdown",
   "id": "9a60dcb5",
   "metadata": {},
   "source": [
    "If we want to delete the first row we can drop it using the index it has, in this case 0.\n",
    "\n",
    "To preserve the change we either need to assign the output to a new variable or set inplace=True"
   ]
  },
  {
   "cell_type": "code",
   "execution_count": 71,
   "id": "b1efe9b8",
   "metadata": {},
   "outputs": [
    {
     "data": {
      "text/html": [
       "<div>\n",
       "<style scoped>\n",
       "    .dataframe tbody tr th:only-of-type {\n",
       "        vertical-align: middle;\n",
       "    }\n",
       "\n",
       "    .dataframe tbody tr th {\n",
       "        vertical-align: top;\n",
       "    }\n",
       "\n",
       "    .dataframe thead th {\n",
       "        text-align: right;\n",
       "    }\n",
       "</style>\n",
       "<table border=\"1\" class=\"dataframe\">\n",
       "  <thead>\n",
       "    <tr style=\"text-align: right;\">\n",
       "      <th></th>\n",
       "      <th>salary</th>\n",
       "      <th>departm</th>\n",
       "      <th>years</th>\n",
       "      <th>age</th>\n",
       "      <th>publications</th>\n",
       "    </tr>\n",
       "  </thead>\n",
       "  <tbody>\n",
       "    <tr>\n",
       "      <th>1</th>\n",
       "      <td>77125</td>\n",
       "      <td>bio</td>\n",
       "      <td>28.0</td>\n",
       "      <td>58.0</td>\n",
       "      <td>43</td>\n",
       "    </tr>\n",
       "    <tr>\n",
       "      <th>2</th>\n",
       "      <td>71922</td>\n",
       "      <td>bio</td>\n",
       "      <td>10.0</td>\n",
       "      <td>38.0</td>\n",
       "      <td>23</td>\n",
       "    </tr>\n",
       "    <tr>\n",
       "      <th>3</th>\n",
       "      <td>70499</td>\n",
       "      <td>bio</td>\n",
       "      <td>16.0</td>\n",
       "      <td>46.0</td>\n",
       "      <td>64</td>\n",
       "    </tr>\n",
       "    <tr>\n",
       "      <th>4</th>\n",
       "      <td>66624</td>\n",
       "      <td>bio</td>\n",
       "      <td>11.0</td>\n",
       "      <td>41.0</td>\n",
       "      <td>23</td>\n",
       "    </tr>\n",
       "    <tr>\n",
       "      <th>5</th>\n",
       "      <td>64451</td>\n",
       "      <td>bio</td>\n",
       "      <td>23.0</td>\n",
       "      <td>60.0</td>\n",
       "      <td>44</td>\n",
       "    </tr>\n",
       "  </tbody>\n",
       "</table>\n",
       "</div>"
      ],
      "text/plain": [
       "   salary departm  years   age  publications\n",
       "1   77125     bio   28.0  58.0            43\n",
       "2   71922     bio   10.0  38.0            23\n",
       "3   70499     bio   16.0  46.0            64\n",
       "4   66624     bio   11.0  41.0            23\n",
       "5   64451     bio   23.0  60.0            44"
      ]
     },
     "execution_count": 71,
     "metadata": {},
     "output_type": "execute_result"
    }
   ],
   "source": [
    "# drop doesn't stick because no new variable\n",
    "# and no use of inplace=True\n",
    "working_df.drop(0)\n",
    "working_df.head()"
   ]
  },
  {
   "cell_type": "code",
   "execution_count": null,
   "id": "6381ffc8",
   "metadata": {},
   "outputs": [],
   "source": [
    "# make it stick with inplace=True\n",
    "working_df.drop(0, inplace=True)\n",
    "working_df.head()"
   ]
  },
  {
   "cell_type": "markdown",
   "id": "f3143a1e",
   "metadata": {},
   "source": [
    "You can also remove multiple rows by their index value at once by passing a list of index positions to the drop() method:"
   ]
  },
  {
   "cell_type": "code",
   "execution_count": 72,
   "id": "71b4f646",
   "metadata": {},
   "outputs": [
    {
     "data": {
      "text/html": [
       "<div>\n",
       "<style scoped>\n",
       "    .dataframe tbody tr th:only-of-type {\n",
       "        vertical-align: middle;\n",
       "    }\n",
       "\n",
       "    .dataframe tbody tr th {\n",
       "        vertical-align: top;\n",
       "    }\n",
       "\n",
       "    .dataframe thead th {\n",
       "        text-align: right;\n",
       "    }\n",
       "</style>\n",
       "<table border=\"1\" class=\"dataframe\">\n",
       "  <thead>\n",
       "    <tr style=\"text-align: right;\">\n",
       "      <th></th>\n",
       "      <th>salary</th>\n",
       "      <th>departm</th>\n",
       "      <th>years</th>\n",
       "      <th>age</th>\n",
       "      <th>publications</th>\n",
       "    </tr>\n",
       "  </thead>\n",
       "  <tbody>\n",
       "    <tr>\n",
       "      <th>1</th>\n",
       "      <td>77125</td>\n",
       "      <td>bio</td>\n",
       "      <td>28.0</td>\n",
       "      <td>58.0</td>\n",
       "      <td>43</td>\n",
       "    </tr>\n",
       "    <tr>\n",
       "      <th>3</th>\n",
       "      <td>70499</td>\n",
       "      <td>bio</td>\n",
       "      <td>16.0</td>\n",
       "      <td>46.0</td>\n",
       "      <td>64</td>\n",
       "    </tr>\n",
       "    <tr>\n",
       "      <th>5</th>\n",
       "      <td>64451</td>\n",
       "      <td>bio</td>\n",
       "      <td>23.0</td>\n",
       "      <td>60.0</td>\n",
       "      <td>44</td>\n",
       "    </tr>\n",
       "    <tr>\n",
       "      <th>7</th>\n",
       "      <td>59344</td>\n",
       "      <td>bio</td>\n",
       "      <td>5.0</td>\n",
       "      <td>40.0</td>\n",
       "      <td>11</td>\n",
       "    </tr>\n",
       "    <tr>\n",
       "      <th>8</th>\n",
       "      <td>58560</td>\n",
       "      <td>bio</td>\n",
       "      <td>8.0</td>\n",
       "      <td>38.0</td>\n",
       "      <td>8</td>\n",
       "    </tr>\n",
       "  </tbody>\n",
       "</table>\n",
       "</div>"
      ],
      "text/plain": [
       "   salary departm  years   age  publications\n",
       "1   77125     bio   28.0  58.0            43\n",
       "3   70499     bio   16.0  46.0            64\n",
       "5   64451     bio   23.0  60.0            44\n",
       "7   59344     bio    5.0  40.0            11\n",
       "8   58560     bio    8.0  38.0             8"
      ]
     },
     "execution_count": 72,
     "metadata": {},
     "output_type": "execute_result"
    }
   ],
   "source": [
    "list_to_drop = [2,4,6]\n",
    "working_df.drop(list_to_drop).head()"
   ]
  },
  {
   "cell_type": "markdown",
   "id": "f4fa64dd",
   "metadata": {},
   "source": [
    "### Rows, columns and axes"
   ]
  },
  {
   "cell_type": "markdown",
   "id": "f3fa6506",
   "metadata": {},
   "source": [
    "An alternative way to delete a column uses the `.drop()` method using an additional argument that refers to the \"axis\" you are dropping from.\n",
    "\n",
    "Our dataframe has two axes: the rows and the columns. The rows are along axis 0 and the columns are along axis 1."
   ]
  },
  {
   "cell_type": "markdown",
   "id": "efa455e9",
   "metadata": {},
   "source": [
    "Here are a couple examples of dropping one or more columns by name.  Note that the case of the column name must match and also you need to specify `axis=1` to refer to dropping columns instead of rows."
   ]
  },
  {
   "cell_type": "code",
   "execution_count": 74,
   "id": "94badb4c",
   "metadata": {},
   "outputs": [
    {
     "data": {
      "text/html": [
       "<div>\n",
       "<style scoped>\n",
       "    .dataframe tbody tr th:only-of-type {\n",
       "        vertical-align: middle;\n",
       "    }\n",
       "\n",
       "    .dataframe tbody tr th {\n",
       "        vertical-align: top;\n",
       "    }\n",
       "\n",
       "    .dataframe thead th {\n",
       "        text-align: right;\n",
       "    }\n",
       "</style>\n",
       "<table border=\"1\" class=\"dataframe\">\n",
       "  <thead>\n",
       "    <tr style=\"text-align: right;\">\n",
       "      <th></th>\n",
       "      <th>salary</th>\n",
       "      <th>departm</th>\n",
       "      <th>years</th>\n",
       "      <th>age</th>\n",
       "      <th>publications</th>\n",
       "    </tr>\n",
       "  </thead>\n",
       "  <tbody>\n",
       "    <tr>\n",
       "      <th>1</th>\n",
       "      <td>77125</td>\n",
       "      <td>bio</td>\n",
       "      <td>28.0</td>\n",
       "      <td>58.0</td>\n",
       "      <td>43</td>\n",
       "    </tr>\n",
       "    <tr>\n",
       "      <th>2</th>\n",
       "      <td>71922</td>\n",
       "      <td>bio</td>\n",
       "      <td>10.0</td>\n",
       "      <td>38.0</td>\n",
       "      <td>23</td>\n",
       "    </tr>\n",
       "    <tr>\n",
       "      <th>3</th>\n",
       "      <td>70499</td>\n",
       "      <td>bio</td>\n",
       "      <td>16.0</td>\n",
       "      <td>46.0</td>\n",
       "      <td>64</td>\n",
       "    </tr>\n",
       "    <tr>\n",
       "      <th>4</th>\n",
       "      <td>66624</td>\n",
       "      <td>bio</td>\n",
       "      <td>11.0</td>\n",
       "      <td>41.0</td>\n",
       "      <td>23</td>\n",
       "    </tr>\n",
       "    <tr>\n",
       "      <th>5</th>\n",
       "      <td>64451</td>\n",
       "      <td>bio</td>\n",
       "      <td>23.0</td>\n",
       "      <td>60.0</td>\n",
       "      <td>44</td>\n",
       "    </tr>\n",
       "  </tbody>\n",
       "</table>\n",
       "</div>"
      ],
      "text/plain": [
       "   salary departm  years   age  publications\n",
       "1   77125     bio   28.0  58.0            43\n",
       "2   71922     bio   10.0  38.0            23\n",
       "3   70499     bio   16.0  46.0            64\n",
       "4   66624     bio   11.0  41.0            23\n",
       "5   64451     bio   23.0  60.0            44"
      ]
     },
     "execution_count": 74,
     "metadata": {},
     "output_type": "execute_result"
    }
   ],
   "source": [
    "working_df.head()"
   ]
  },
  {
   "cell_type": "code",
   "execution_count": 77,
   "id": "a7d37a0d",
   "metadata": {},
   "outputs": [
    {
     "data": {
      "text/html": [
       "<div>\n",
       "<style scoped>\n",
       "    .dataframe tbody tr th:only-of-type {\n",
       "        vertical-align: middle;\n",
       "    }\n",
       "\n",
       "    .dataframe tbody tr th {\n",
       "        vertical-align: top;\n",
       "    }\n",
       "\n",
       "    .dataframe thead th {\n",
       "        text-align: right;\n",
       "    }\n",
       "</style>\n",
       "<table border=\"1\" class=\"dataframe\">\n",
       "  <thead>\n",
       "    <tr style=\"text-align: right;\">\n",
       "      <th></th>\n",
       "      <th>salary</th>\n",
       "      <th>departm</th>\n",
       "      <th>years</th>\n",
       "      <th>age</th>\n",
       "      <th>publications</th>\n",
       "    </tr>\n",
       "  </thead>\n",
       "  <tbody>\n",
       "    <tr>\n",
       "      <th>1</th>\n",
       "      <td>77125</td>\n",
       "      <td>bio</td>\n",
       "      <td>28.0</td>\n",
       "      <td>58.0</td>\n",
       "      <td>43</td>\n",
       "    </tr>\n",
       "    <tr>\n",
       "      <th>2</th>\n",
       "      <td>71922</td>\n",
       "      <td>bio</td>\n",
       "      <td>10.0</td>\n",
       "      <td>38.0</td>\n",
       "      <td>23</td>\n",
       "    </tr>\n",
       "    <tr>\n",
       "      <th>4</th>\n",
       "      <td>66624</td>\n",
       "      <td>bio</td>\n",
       "      <td>11.0</td>\n",
       "      <td>41.0</td>\n",
       "      <td>23</td>\n",
       "    </tr>\n",
       "    <tr>\n",
       "      <th>5</th>\n",
       "      <td>64451</td>\n",
       "      <td>bio</td>\n",
       "      <td>23.0</td>\n",
       "      <td>60.0</td>\n",
       "      <td>44</td>\n",
       "    </tr>\n",
       "    <tr>\n",
       "      <th>6</th>\n",
       "      <td>64366</td>\n",
       "      <td>bio</td>\n",
       "      <td>23.0</td>\n",
       "      <td>53.0</td>\n",
       "      <td>22</td>\n",
       "    </tr>\n",
       "    <tr>\n",
       "      <th>...</th>\n",
       "      <td>...</td>\n",
       "      <td>...</td>\n",
       "      <td>...</td>\n",
       "      <td>...</td>\n",
       "      <td>...</td>\n",
       "    </tr>\n",
       "    <tr>\n",
       "      <th>72</th>\n",
       "      <td>53662</td>\n",
       "      <td>neuro</td>\n",
       "      <td>1.0</td>\n",
       "      <td>31.0</td>\n",
       "      <td>3</td>\n",
       "    </tr>\n",
       "    <tr>\n",
       "      <th>73</th>\n",
       "      <td>57185</td>\n",
       "      <td>stat</td>\n",
       "      <td>9.0</td>\n",
       "      <td>39.0</td>\n",
       "      <td>7</td>\n",
       "    </tr>\n",
       "    <tr>\n",
       "      <th>74</th>\n",
       "      <td>52254</td>\n",
       "      <td>stat</td>\n",
       "      <td>2.0</td>\n",
       "      <td>32.0</td>\n",
       "      <td>9</td>\n",
       "    </tr>\n",
       "    <tr>\n",
       "      <th>75</th>\n",
       "      <td>61885</td>\n",
       "      <td>math</td>\n",
       "      <td>23.0</td>\n",
       "      <td>60.0</td>\n",
       "      <td>9</td>\n",
       "    </tr>\n",
       "    <tr>\n",
       "      <th>76</th>\n",
       "      <td>49542</td>\n",
       "      <td>math</td>\n",
       "      <td>3.0</td>\n",
       "      <td>33.0</td>\n",
       "      <td>5</td>\n",
       "    </tr>\n",
       "  </tbody>\n",
       "</table>\n",
       "<p>75 rows × 5 columns</p>\n",
       "</div>"
      ],
      "text/plain": [
       "    salary departm  years   age  publications\n",
       "1    77125     bio   28.0  58.0            43\n",
       "2    71922     bio   10.0  38.0            23\n",
       "4    66624     bio   11.0  41.0            23\n",
       "5    64451     bio   23.0  60.0            44\n",
       "6    64366     bio   23.0  53.0            22\n",
       "..     ...     ...    ...   ...           ...\n",
       "72   53662   neuro    1.0  31.0             3\n",
       "73   57185    stat    9.0  39.0             7\n",
       "74   52254    stat    2.0  32.0             9\n",
       "75   61885    math   23.0  60.0             9\n",
       "76   49542    math    3.0  33.0             5\n",
       "\n",
       "[75 rows x 5 columns]"
      ]
     },
     "execution_count": 77,
     "metadata": {},
     "output_type": "execute_result"
    }
   ],
   "source": [
    "working_df.drop(3, axis=0)\n"
   ]
  },
  {
   "cell_type": "markdown",
   "id": "07dcd99a",
   "metadata": {},
   "source": [
    "Use a list of column names to drop more than one at a time"
   ]
  },
  {
   "cell_type": "code",
   "execution_count": 78,
   "id": "aff143bc",
   "metadata": {},
   "outputs": [
    {
     "data": {
      "text/html": [
       "<div>\n",
       "<style scoped>\n",
       "    .dataframe tbody tr th:only-of-type {\n",
       "        vertical-align: middle;\n",
       "    }\n",
       "\n",
       "    .dataframe tbody tr th {\n",
       "        vertical-align: top;\n",
       "    }\n",
       "\n",
       "    .dataframe thead th {\n",
       "        text-align: right;\n",
       "    }\n",
       "</style>\n",
       "<table border=\"1\" class=\"dataframe\">\n",
       "  <thead>\n",
       "    <tr style=\"text-align: right;\">\n",
       "      <th></th>\n",
       "      <th>salary</th>\n",
       "      <th>departm</th>\n",
       "      <th>publications</th>\n",
       "    </tr>\n",
       "  </thead>\n",
       "  <tbody>\n",
       "    <tr>\n",
       "      <th>1</th>\n",
       "      <td>77125</td>\n",
       "      <td>bio</td>\n",
       "      <td>43</td>\n",
       "    </tr>\n",
       "    <tr>\n",
       "      <th>2</th>\n",
       "      <td>71922</td>\n",
       "      <td>bio</td>\n",
       "      <td>23</td>\n",
       "    </tr>\n",
       "    <tr>\n",
       "      <th>3</th>\n",
       "      <td>70499</td>\n",
       "      <td>bio</td>\n",
       "      <td>64</td>\n",
       "    </tr>\n",
       "    <tr>\n",
       "      <th>4</th>\n",
       "      <td>66624</td>\n",
       "      <td>bio</td>\n",
       "      <td>23</td>\n",
       "    </tr>\n",
       "    <tr>\n",
       "      <th>5</th>\n",
       "      <td>64451</td>\n",
       "      <td>bio</td>\n",
       "      <td>44</td>\n",
       "    </tr>\n",
       "    <tr>\n",
       "      <th>...</th>\n",
       "      <td>...</td>\n",
       "      <td>...</td>\n",
       "      <td>...</td>\n",
       "    </tr>\n",
       "    <tr>\n",
       "      <th>72</th>\n",
       "      <td>53662</td>\n",
       "      <td>neuro</td>\n",
       "      <td>3</td>\n",
       "    </tr>\n",
       "    <tr>\n",
       "      <th>73</th>\n",
       "      <td>57185</td>\n",
       "      <td>stat</td>\n",
       "      <td>7</td>\n",
       "    </tr>\n",
       "    <tr>\n",
       "      <th>74</th>\n",
       "      <td>52254</td>\n",
       "      <td>stat</td>\n",
       "      <td>9</td>\n",
       "    </tr>\n",
       "    <tr>\n",
       "      <th>75</th>\n",
       "      <td>61885</td>\n",
       "      <td>math</td>\n",
       "      <td>9</td>\n",
       "    </tr>\n",
       "    <tr>\n",
       "      <th>76</th>\n",
       "      <td>49542</td>\n",
       "      <td>math</td>\n",
       "      <td>5</td>\n",
       "    </tr>\n",
       "  </tbody>\n",
       "</table>\n",
       "<p>76 rows × 3 columns</p>\n",
       "</div>"
      ],
      "text/plain": [
       "    salary departm  publications\n",
       "1    77125     bio            43\n",
       "2    71922     bio            23\n",
       "3    70499     bio            64\n",
       "4    66624     bio            23\n",
       "5    64451     bio            44\n",
       "..     ...     ...           ...\n",
       "72   53662   neuro             3\n",
       "73   57185    stat             7\n",
       "74   52254    stat             9\n",
       "75   61885    math             9\n",
       "76   49542    math             5\n",
       "\n",
       "[76 rows x 3 columns]"
      ]
     },
     "execution_count": 78,
     "metadata": {},
     "output_type": "execute_result"
    }
   ],
   "source": [
    "working_df.drop(['years','age'], axis=1)"
   ]
  },
  {
   "cell_type": "markdown",
   "id": "fedb4c0f",
   "metadata": {},
   "source": [
    "### Deleting rows with missing data"
   ]
  },
  {
   "cell_type": "markdown",
   "id": "f718f888",
   "metadata": {},
   "source": [
    "For many analyses you need to discard any records with missing data. \n",
    "\n",
    "For example: dropping any trial from an experiment where a subject didn't give a response before a timer deadline.  \n",
    "\n",
    "The column coding what the response was might be \"empty\" or \"missing\" and you would want to use the `NaN` value to indicate it was missing.  \n",
    "\n",
    "To totally delete rows with any missing value use the dataframe `dropna()` function:\n",
    "\n",
    "\n"
   ]
  },
  {
   "cell_type": "code",
   "execution_count": 88,
   "id": "bae880e8",
   "metadata": {},
   "outputs": [
    {
     "data": {
      "text/html": [
       "<div>\n",
       "<style scoped>\n",
       "    .dataframe tbody tr th:only-of-type {\n",
       "        vertical-align: middle;\n",
       "    }\n",
       "\n",
       "    .dataframe tbody tr th {\n",
       "        vertical-align: top;\n",
       "    }\n",
       "\n",
       "    .dataframe thead th {\n",
       "        text-align: right;\n",
       "    }\n",
       "</style>\n",
       "<table border=\"1\" class=\"dataframe\">\n",
       "  <thead>\n",
       "    <tr style=\"text-align: right;\">\n",
       "      <th></th>\n",
       "      <th>age</th>\n",
       "      <th>salary</th>\n",
       "    </tr>\n",
       "  </thead>\n",
       "  <tbody>\n",
       "    <tr>\n",
       "      <th>0</th>\n",
       "      <td>10.0</td>\n",
       "      <td>0.0</td>\n",
       "    </tr>\n",
       "    <tr>\n",
       "      <th>1</th>\n",
       "      <td>27.0</td>\n",
       "      <td>23000.0</td>\n",
       "    </tr>\n",
       "    <tr>\n",
       "      <th>2</th>\n",
       "      <td>45.0</td>\n",
       "      <td>NaN</td>\n",
       "    </tr>\n",
       "    <tr>\n",
       "      <th>3</th>\n",
       "      <td>23.0</td>\n",
       "      <td>35000.0</td>\n",
       "    </tr>\n",
       "    <tr>\n",
       "      <th>4</th>\n",
       "      <td>NaN</td>\n",
       "      <td>60000.0</td>\n",
       "    </tr>\n",
       "  </tbody>\n",
       "</table>\n",
       "</div>"
      ],
      "text/plain": [
       "    age   salary\n",
       "0  10.0      0.0\n",
       "1  27.0  23000.0\n",
       "2  45.0      NaN\n",
       "3  23.0  35000.0\n",
       "4   NaN  60000.0"
      ]
     },
     "execution_count": 88,
     "metadata": {},
     "output_type": "execute_result"
    }
   ],
   "source": [
    "# first make a dataframe from a dictionary with some missing values\n",
    "df = pd.DataFrame({\"age\": [10,27,45,23,None], \n",
    "                   \"salary\": [0,23000,None,35000,60000]})\n",
    "df"
   ]
  },
  {
   "cell_type": "markdown",
   "id": "de96a63c",
   "metadata": {},
   "source": [
    "As you can see the salary value is missing for row with index 2 (age 45).  To drop any row with a missing value in any column:"
   ]
  },
  {
   "cell_type": "code",
   "execution_count": 83,
   "id": "a6d2c9be",
   "metadata": {},
   "outputs": [
    {
     "data": {
      "text/html": [
       "<div>\n",
       "<style scoped>\n",
       "    .dataframe tbody tr th:only-of-type {\n",
       "        vertical-align: middle;\n",
       "    }\n",
       "\n",
       "    .dataframe tbody tr th {\n",
       "        vertical-align: top;\n",
       "    }\n",
       "\n",
       "    .dataframe thead th {\n",
       "        text-align: right;\n",
       "    }\n",
       "</style>\n",
       "<table border=\"1\" class=\"dataframe\">\n",
       "  <thead>\n",
       "    <tr style=\"text-align: right;\">\n",
       "      <th></th>\n",
       "      <th>age</th>\n",
       "      <th>salary</th>\n",
       "    </tr>\n",
       "  </thead>\n",
       "  <tbody>\n",
       "    <tr>\n",
       "      <th>0</th>\n",
       "      <td>10.0</td>\n",
       "      <td>0.0</td>\n",
       "    </tr>\n",
       "    <tr>\n",
       "      <th>1</th>\n",
       "      <td>27.0</td>\n",
       "      <td>23000.0</td>\n",
       "    </tr>\n",
       "    <tr>\n",
       "      <th>2</th>\n",
       "      <td>45.0</td>\n",
       "      <td>NaN</td>\n",
       "    </tr>\n",
       "    <tr>\n",
       "      <th>3</th>\n",
       "      <td>23.0</td>\n",
       "      <td>35000.0</td>\n",
       "    </tr>\n",
       "    <tr>\n",
       "      <th>4</th>\n",
       "      <td>NaN</td>\n",
       "      <td>60000.0</td>\n",
       "    </tr>\n",
       "  </tbody>\n",
       "</table>\n",
       "</div>"
      ],
      "text/plain": [
       "    age   salary\n",
       "0  10.0      0.0\n",
       "1  27.0  23000.0\n",
       "2  45.0      NaN\n",
       "3  23.0  35000.0\n",
       "4   NaN  60000.0"
      ]
     },
     "execution_count": 83,
     "metadata": {},
     "output_type": "execute_result"
    }
   ],
   "source": [
    "df.head()"
   ]
  },
  {
   "cell_type": "code",
   "execution_count": 81,
   "id": "c0733d87",
   "metadata": {},
   "outputs": [
    {
     "data": {
      "text/html": [
       "<div>\n",
       "<style scoped>\n",
       "    .dataframe tbody tr th:only-of-type {\n",
       "        vertical-align: middle;\n",
       "    }\n",
       "\n",
       "    .dataframe tbody tr th {\n",
       "        vertical-align: top;\n",
       "    }\n",
       "\n",
       "    .dataframe thead th {\n",
       "        text-align: right;\n",
       "    }\n",
       "</style>\n",
       "<table border=\"1\" class=\"dataframe\">\n",
       "  <thead>\n",
       "    <tr style=\"text-align: right;\">\n",
       "      <th></th>\n",
       "      <th>age</th>\n",
       "      <th>salary</th>\n",
       "    </tr>\n",
       "  </thead>\n",
       "  <tbody>\n",
       "    <tr>\n",
       "      <th>0</th>\n",
       "      <td>10.0</td>\n",
       "      <td>0.0</td>\n",
       "    </tr>\n",
       "    <tr>\n",
       "      <th>1</th>\n",
       "      <td>27.0</td>\n",
       "      <td>23000.0</td>\n",
       "    </tr>\n",
       "    <tr>\n",
       "      <th>3</th>\n",
       "      <td>23.0</td>\n",
       "      <td>35000.0</td>\n",
       "    </tr>\n",
       "  </tbody>\n",
       "</table>\n",
       "</div>"
      ],
      "text/plain": [
       "    age   salary\n",
       "0  10.0      0.0\n",
       "1  27.0  23000.0\n",
       "3  23.0  35000.0"
      ]
     },
     "execution_count": 81,
     "metadata": {},
     "output_type": "execute_result"
    }
   ],
   "source": [
    "df.dropna(inplace=True)\n",
    "df"
   ]
  },
  {
   "cell_type": "markdown",
   "id": "92ce4404",
   "metadata": {},
   "source": [
    "To drop only those rows missing data in one or some of the columns use the `dropna(subset=['column_name'])` syntax."
   ]
  },
  {
   "cell_type": "code",
   "execution_count": 90,
   "id": "6233aaa5",
   "metadata": {},
   "outputs": [
    {
     "data": {
      "text/html": [
       "<div>\n",
       "<style scoped>\n",
       "    .dataframe tbody tr th:only-of-type {\n",
       "        vertical-align: middle;\n",
       "    }\n",
       "\n",
       "    .dataframe tbody tr th {\n",
       "        vertical-align: top;\n",
       "    }\n",
       "\n",
       "    .dataframe thead th {\n",
       "        text-align: right;\n",
       "    }\n",
       "</style>\n",
       "<table border=\"1\" class=\"dataframe\">\n",
       "  <thead>\n",
       "    <tr style=\"text-align: right;\">\n",
       "      <th></th>\n",
       "      <th>age</th>\n",
       "      <th>salary</th>\n",
       "    </tr>\n",
       "  </thead>\n",
       "  <tbody>\n",
       "    <tr>\n",
       "      <th>0</th>\n",
       "      <td>10.0</td>\n",
       "      <td>0.0</td>\n",
       "    </tr>\n",
       "    <tr>\n",
       "      <th>1</th>\n",
       "      <td>27.0</td>\n",
       "      <td>23000.0</td>\n",
       "    </tr>\n",
       "    <tr>\n",
       "      <th>3</th>\n",
       "      <td>23.0</td>\n",
       "      <td>35000.0</td>\n",
       "    </tr>\n",
       "  </tbody>\n",
       "</table>\n",
       "</div>"
      ],
      "text/plain": [
       "    age   salary\n",
       "0  10.0      0.0\n",
       "1  27.0  23000.0\n",
       "3  23.0  35000.0"
      ]
     },
     "execution_count": 90,
     "metadata": {},
     "output_type": "execute_result"
    }
   ],
   "source": [
    "# drop rows missing salary data but not age data\n",
    "df.dropna(subset= ['age','salary'], inplace=True)\n",
    "df"
   ]
  },
  {
   "cell_type": "markdown",
   "id": "3845cffb",
   "metadata": {},
   "source": [
    "There are several other tricks for dropping missing data besides this.  For example, you can delete rows with only a specific column value missing, etc...  However for now this should work for us."
   ]
  },
  {
   "cell_type": "markdown",
   "id": "895da9f5",
   "metadata": {},
   "source": [
    "## Replacing values\n",
    "\n",
    "In addition to changing column names, there are many situations where you might want to replace values in the dataframe.\n",
    "\n",
    "Maybe you have abbreviations that aren't informative, maybe you want to convert string labels into numeric codes or vice versa, and so on.\n",
    "\n",
    "The simplest way to do it is to make a dictionary where the keys are the things you want to replace and the values are the things to replace with:\n",
    "\n",
    "```replace_dict = {'old_thing': 'new_thing'}```\n",
    "\n",
    "To change every occurence of 1 in a dataframe with 'yes' and 2 with 'no':\n",
    "\n",
    "```replace_dict = {1: 'yes', 2: 'no'}```"
   ]
  },
  {
   "cell_type": "code",
   "execution_count": 91,
   "id": "5da77cf0",
   "metadata": {},
   "outputs": [
    {
     "data": {
      "text/html": [
       "<div>\n",
       "<style scoped>\n",
       "    .dataframe tbody tr th:only-of-type {\n",
       "        vertical-align: middle;\n",
       "    }\n",
       "\n",
       "    .dataframe tbody tr th {\n",
       "        vertical-align: top;\n",
       "    }\n",
       "\n",
       "    .dataframe thead th {\n",
       "        text-align: right;\n",
       "    }\n",
       "</style>\n",
       "<table border=\"1\" class=\"dataframe\">\n",
       "  <thead>\n",
       "    <tr style=\"text-align: right;\">\n",
       "      <th></th>\n",
       "      <th>salary</th>\n",
       "      <th>departm</th>\n",
       "      <th>years</th>\n",
       "      <th>age</th>\n",
       "      <th>publications</th>\n",
       "    </tr>\n",
       "  </thead>\n",
       "  <tbody>\n",
       "    <tr>\n",
       "      <th>0</th>\n",
       "      <td>86285</td>\n",
       "      <td>bio</td>\n",
       "      <td>26.0</td>\n",
       "      <td>64.0</td>\n",
       "      <td>72</td>\n",
       "    </tr>\n",
       "    <tr>\n",
       "      <th>1</th>\n",
       "      <td>77125</td>\n",
       "      <td>bio</td>\n",
       "      <td>28.0</td>\n",
       "      <td>58.0</td>\n",
       "      <td>43</td>\n",
       "    </tr>\n",
       "    <tr>\n",
       "      <th>2</th>\n",
       "      <td>71922</td>\n",
       "      <td>bio</td>\n",
       "      <td>10.0</td>\n",
       "      <td>38.0</td>\n",
       "      <td>23</td>\n",
       "    </tr>\n",
       "    <tr>\n",
       "      <th>3</th>\n",
       "      <td>70499</td>\n",
       "      <td>bio</td>\n",
       "      <td>16.0</td>\n",
       "      <td>46.0</td>\n",
       "      <td>64</td>\n",
       "    </tr>\n",
       "    <tr>\n",
       "      <th>4</th>\n",
       "      <td>66624</td>\n",
       "      <td>bio</td>\n",
       "      <td>11.0</td>\n",
       "      <td>41.0</td>\n",
       "      <td>23</td>\n",
       "    </tr>\n",
       "  </tbody>\n",
       "</table>\n",
       "</div>"
      ],
      "text/plain": [
       "   salary departm  years   age  publications\n",
       "0   86285     bio   26.0  64.0            72\n",
       "1   77125     bio   28.0  58.0            43\n",
       "2   71922     bio   10.0  38.0            23\n",
       "3   70499     bio   16.0  46.0            64\n",
       "4   66624     bio   11.0  41.0            23"
      ]
     },
     "execution_count": 91,
     "metadata": {},
     "output_type": "execute_result"
    }
   ],
   "source": [
    "# replace 'bio' with biology and stat with statistics\n",
    "# in the salary_df\n",
    "salary_df.head()"
   ]
  },
  {
   "cell_type": "code",
   "execution_count": 95,
   "id": "fe909bfd",
   "metadata": {},
   "outputs": [],
   "source": [
    "d = {'bio': 'biology', 'stat': 'statistics'}\n",
    "\n",
    "salary_df.replace(d, inplace=True)"
   ]
  },
  {
   "cell_type": "code",
   "execution_count": 96,
   "id": "a10c9bbd",
   "metadata": {},
   "outputs": [
    {
     "data": {
      "text/plain": [
       "array(['biology', 'chem', 'geol', 'neuro', 'statistics', 'physics',\n",
       "       'math'], dtype=object)"
      ]
     },
     "execution_count": 96,
     "metadata": {},
     "output_type": "execute_result"
    }
   ],
   "source": [
    "salary_df['departm'].unique()"
   ]
  },
  {
   "cell_type": "markdown",
   "id": "831d4b7b",
   "metadata": {},
   "source": [
    "To replace the values in one column, pass a nested dictionary where keys are column names and then the value is a dictionary of the old and new values just like in the previous example\n",
    "\n",
    "For example, to change values of 0 to 'male' in only the gender column:\n",
    "\n",
    "replace_dict = {'gender': {0: 'male'}}"
   ]
  },
  {
   "cell_type": "code",
   "execution_count": 99,
   "id": "617e606f",
   "metadata": {},
   "outputs": [
    {
     "data": {
      "text/html": [
       "<div>\n",
       "<style scoped>\n",
       "    .dataframe tbody tr th:only-of-type {\n",
       "        vertical-align: middle;\n",
       "    }\n",
       "\n",
       "    .dataframe tbody tr th {\n",
       "        vertical-align: top;\n",
       "    }\n",
       "\n",
       "    .dataframe thead th {\n",
       "        text-align: right;\n",
       "    }\n",
       "</style>\n",
       "<table border=\"1\" class=\"dataframe\">\n",
       "  <thead>\n",
       "    <tr style=\"text-align: right;\">\n",
       "      <th></th>\n",
       "      <th>salary</th>\n",
       "      <th>gender</th>\n",
       "      <th>departm</th>\n",
       "      <th>years</th>\n",
       "      <th>age</th>\n",
       "      <th>publications</th>\n",
       "    </tr>\n",
       "  </thead>\n",
       "  <tbody>\n",
       "    <tr>\n",
       "      <th>0</th>\n",
       "      <td>86285</td>\n",
       "      <td>male</td>\n",
       "      <td>bio</td>\n",
       "      <td>26.0</td>\n",
       "      <td>64.0</td>\n",
       "      <td>72</td>\n",
       "    </tr>\n",
       "    <tr>\n",
       "      <th>1</th>\n",
       "      <td>77125</td>\n",
       "      <td>male</td>\n",
       "      <td>bio</td>\n",
       "      <td>28.0</td>\n",
       "      <td>58.0</td>\n",
       "      <td>43</td>\n",
       "    </tr>\n",
       "    <tr>\n",
       "      <th>2</th>\n",
       "      <td>71922</td>\n",
       "      <td>male</td>\n",
       "      <td>bio</td>\n",
       "      <td>10.0</td>\n",
       "      <td>38.0</td>\n",
       "      <td>23</td>\n",
       "    </tr>\n",
       "    <tr>\n",
       "      <th>3</th>\n",
       "      <td>70499</td>\n",
       "      <td>male</td>\n",
       "      <td>bio</td>\n",
       "      <td>16.0</td>\n",
       "      <td>46.0</td>\n",
       "      <td>64</td>\n",
       "    </tr>\n",
       "    <tr>\n",
       "      <th>4</th>\n",
       "      <td>66624</td>\n",
       "      <td>male</td>\n",
       "      <td>bio</td>\n",
       "      <td>11.0</td>\n",
       "      <td>41.0</td>\n",
       "      <td>23</td>\n",
       "    </tr>\n",
       "    <tr>\n",
       "      <th>...</th>\n",
       "      <td>...</td>\n",
       "      <td>...</td>\n",
       "      <td>...</td>\n",
       "      <td>...</td>\n",
       "      <td>...</td>\n",
       "      <td>...</td>\n",
       "    </tr>\n",
       "    <tr>\n",
       "      <th>72</th>\n",
       "      <td>53662</td>\n",
       "      <td>1</td>\n",
       "      <td>neuro</td>\n",
       "      <td>1.0</td>\n",
       "      <td>31.0</td>\n",
       "      <td>3</td>\n",
       "    </tr>\n",
       "    <tr>\n",
       "      <th>73</th>\n",
       "      <td>57185</td>\n",
       "      <td>1</td>\n",
       "      <td>stat</td>\n",
       "      <td>9.0</td>\n",
       "      <td>39.0</td>\n",
       "      <td>7</td>\n",
       "    </tr>\n",
       "    <tr>\n",
       "      <th>74</th>\n",
       "      <td>52254</td>\n",
       "      <td>1</td>\n",
       "      <td>stat</td>\n",
       "      <td>2.0</td>\n",
       "      <td>32.0</td>\n",
       "      <td>9</td>\n",
       "    </tr>\n",
       "    <tr>\n",
       "      <th>75</th>\n",
       "      <td>61885</td>\n",
       "      <td>1</td>\n",
       "      <td>math</td>\n",
       "      <td>23.0</td>\n",
       "      <td>60.0</td>\n",
       "      <td>9</td>\n",
       "    </tr>\n",
       "    <tr>\n",
       "      <th>76</th>\n",
       "      <td>49542</td>\n",
       "      <td>1</td>\n",
       "      <td>math</td>\n",
       "      <td>3.0</td>\n",
       "      <td>33.0</td>\n",
       "      <td>5</td>\n",
       "    </tr>\n",
       "  </tbody>\n",
       "</table>\n",
       "<p>77 rows × 6 columns</p>\n",
       "</div>"
      ],
      "text/plain": [
       "    salary gender departm  years   age  publications\n",
       "0    86285   male     bio   26.0  64.0            72\n",
       "1    77125   male     bio   28.0  58.0            43\n",
       "2    71922   male     bio   10.0  38.0            23\n",
       "3    70499   male     bio   16.0  46.0            64\n",
       "4    66624   male     bio   11.0  41.0            23\n",
       "..     ...    ...     ...    ...   ...           ...\n",
       "72   53662      1   neuro    1.0  31.0             3\n",
       "73   57185      1    stat    9.0  39.0             7\n",
       "74   52254      1    stat    2.0  32.0             9\n",
       "75   61885      1    math   23.0  60.0             9\n",
       "76   49542      1    math    3.0  33.0             5\n",
       "\n",
       "[77 rows x 6 columns]"
      ]
     },
     "execution_count": 99,
     "metadata": {},
     "output_type": "execute_result"
    }
   ],
   "source": [
    "# use replace_dict to change things only in the 'gender' column\n",
    "# reload dataframe to recover the dropped gender column\n",
    "salary_df = pd.read_csv('../pandas_data_1/salary.csv')\n",
    "\n",
    "replace_dict = {'gender': {0: 'male'}}\n",
    "\n",
    "salary_df.replace(replace_dict)"
   ]
  },
  {
   "cell_type": "code",
   "execution_count": 102,
   "id": "1b686a04",
   "metadata": {},
   "outputs": [
    {
     "data": {
      "text/html": [
       "<div>\n",
       "<style scoped>\n",
       "    .dataframe tbody tr th:only-of-type {\n",
       "        vertical-align: middle;\n",
       "    }\n",
       "\n",
       "    .dataframe tbody tr th {\n",
       "        vertical-align: top;\n",
       "    }\n",
       "\n",
       "    .dataframe thead th {\n",
       "        text-align: right;\n",
       "    }\n",
       "</style>\n",
       "<table border=\"1\" class=\"dataframe\">\n",
       "  <thead>\n",
       "    <tr style=\"text-align: right;\">\n",
       "      <th></th>\n",
       "      <th>salary</th>\n",
       "      <th>gender</th>\n",
       "      <th>departm</th>\n",
       "      <th>years</th>\n",
       "      <th>age</th>\n",
       "      <th>publications</th>\n",
       "    </tr>\n",
       "  </thead>\n",
       "  <tbody>\n",
       "    <tr>\n",
       "      <th>0</th>\n",
       "      <td>86285</td>\n",
       "      <td>male</td>\n",
       "      <td>biology</td>\n",
       "      <td>26.0</td>\n",
       "      <td>64.0</td>\n",
       "      <td>72</td>\n",
       "    </tr>\n",
       "    <tr>\n",
       "      <th>1</th>\n",
       "      <td>77125</td>\n",
       "      <td>male</td>\n",
       "      <td>biology</td>\n",
       "      <td>28.0</td>\n",
       "      <td>58.0</td>\n",
       "      <td>43</td>\n",
       "    </tr>\n",
       "    <tr>\n",
       "      <th>2</th>\n",
       "      <td>71922</td>\n",
       "      <td>male</td>\n",
       "      <td>biology</td>\n",
       "      <td>10.0</td>\n",
       "      <td>38.0</td>\n",
       "      <td>23</td>\n",
       "    </tr>\n",
       "    <tr>\n",
       "      <th>3</th>\n",
       "      <td>70499</td>\n",
       "      <td>male</td>\n",
       "      <td>biology</td>\n",
       "      <td>16.0</td>\n",
       "      <td>46.0</td>\n",
       "      <td>64</td>\n",
       "    </tr>\n",
       "    <tr>\n",
       "      <th>4</th>\n",
       "      <td>66624</td>\n",
       "      <td>male</td>\n",
       "      <td>biology</td>\n",
       "      <td>11.0</td>\n",
       "      <td>41.0</td>\n",
       "      <td>23</td>\n",
       "    </tr>\n",
       "    <tr>\n",
       "      <th>...</th>\n",
       "      <td>...</td>\n",
       "      <td>...</td>\n",
       "      <td>...</td>\n",
       "      <td>...</td>\n",
       "      <td>...</td>\n",
       "      <td>...</td>\n",
       "    </tr>\n",
       "    <tr>\n",
       "      <th>72</th>\n",
       "      <td>53662</td>\n",
       "      <td>female</td>\n",
       "      <td>neuro</td>\n",
       "      <td>1.0</td>\n",
       "      <td>31.0</td>\n",
       "      <td>3</td>\n",
       "    </tr>\n",
       "    <tr>\n",
       "      <th>73</th>\n",
       "      <td>57185</td>\n",
       "      <td>female</td>\n",
       "      <td>statistics</td>\n",
       "      <td>9.0</td>\n",
       "      <td>39.0</td>\n",
       "      <td>7</td>\n",
       "    </tr>\n",
       "    <tr>\n",
       "      <th>74</th>\n",
       "      <td>52254</td>\n",
       "      <td>female</td>\n",
       "      <td>statistics</td>\n",
       "      <td>2.0</td>\n",
       "      <td>32.0</td>\n",
       "      <td>9</td>\n",
       "    </tr>\n",
       "    <tr>\n",
       "      <th>75</th>\n",
       "      <td>61885</td>\n",
       "      <td>female</td>\n",
       "      <td>math</td>\n",
       "      <td>23.0</td>\n",
       "      <td>60.0</td>\n",
       "      <td>9</td>\n",
       "    </tr>\n",
       "    <tr>\n",
       "      <th>76</th>\n",
       "      <td>49542</td>\n",
       "      <td>female</td>\n",
       "      <td>math</td>\n",
       "      <td>3.0</td>\n",
       "      <td>33.0</td>\n",
       "      <td>5</td>\n",
       "    </tr>\n",
       "  </tbody>\n",
       "</table>\n",
       "<p>77 rows × 6 columns</p>\n",
       "</div>"
      ],
      "text/plain": [
       "    salary  gender     departm  years   age  publications\n",
       "0    86285    male     biology   26.0  64.0            72\n",
       "1    77125    male     biology   28.0  58.0            43\n",
       "2    71922    male     biology   10.0  38.0            23\n",
       "3    70499    male     biology   16.0  46.0            64\n",
       "4    66624    male     biology   11.0  41.0            23\n",
       "..     ...     ...         ...    ...   ...           ...\n",
       "72   53662  female       neuro    1.0  31.0             3\n",
       "73   57185  female  statistics    9.0  39.0             7\n",
       "74   52254  female  statistics    2.0  32.0             9\n",
       "75   61885  female        math   23.0  60.0             9\n",
       "76   49542  female        math    3.0  33.0             5\n",
       "\n",
       "[77 rows x 6 columns]"
      ]
     },
     "execution_count": 102,
     "metadata": {},
     "output_type": "execute_result"
    }
   ],
   "source": [
    "# make a replacement dictionary that has one set\n",
    "# of replacements for 'gender' column and another \n",
    "# for 'departm'\n",
    "\n",
    "d1 = {'gender': {0: 'male', 1: 'female', 2: 'nonbinary'},\n",
    "     'departm': {'bio':'biology', 'stat': 'statistics'}\n",
    "    }\n",
    "\n",
    "\n",
    "salary_df.replace(d)"
   ]
  },
  {
   "cell_type": "markdown",
   "id": "e87629b7",
   "metadata": {},
   "source": [
    "## Combining dataframes"
   ]
  },
  {
   "cell_type": "markdown",
   "id": "3c60fe1a",
   "metadata": {},
   "source": [
    "In a later section we will spend more time with **concatenating** and **merging** dataframes but we'll introduce the idea now.\n",
    "\n",
    "You can easily combine the rows of two different dataframes into one like stacking dataframes together.  \n",
    "\n",
    "This might be useful in psychology research for instance if each participant in your experiment had their own data file and you want to read each file into a dataframe and then combine them together to make one big dataframe with all the data from your experiment.\n"
   ]
  },
  {
   "cell_type": "markdown",
   "id": "a0da8468",
   "metadata": {},
   "source": [
    "Use `pd.concat()` with input of a list of dataframes."
   ]
  },
  {
   "cell_type": "code",
   "execution_count": 103,
   "id": "3939d5a9",
   "metadata": {},
   "outputs": [],
   "source": [
    "# make two dataframes with same columns and different values\n",
    "a = [10,27,45,23,21]\n",
    "s = [0,23000,100000,35000,60000]\n",
    "df1 = pd.DataFrame({'age': a, 'salary': s})\n",
    "\n",
    "a = [23,21,43,16]\n",
    "s = [23000,31000,35000,8000]\n",
    "df2 = pd.DataFrame({'age': a, 'salary': s})\n",
    "\n"
   ]
  },
  {
   "cell_type": "code",
   "execution_count": 104,
   "id": "690444cb",
   "metadata": {},
   "outputs": [
    {
     "data": {
      "text/html": [
       "<div>\n",
       "<style scoped>\n",
       "    .dataframe tbody tr th:only-of-type {\n",
       "        vertical-align: middle;\n",
       "    }\n",
       "\n",
       "    .dataframe tbody tr th {\n",
       "        vertical-align: top;\n",
       "    }\n",
       "\n",
       "    .dataframe thead th {\n",
       "        text-align: right;\n",
       "    }\n",
       "</style>\n",
       "<table border=\"1\" class=\"dataframe\">\n",
       "  <thead>\n",
       "    <tr style=\"text-align: right;\">\n",
       "      <th></th>\n",
       "      <th>age</th>\n",
       "      <th>salary</th>\n",
       "    </tr>\n",
       "  </thead>\n",
       "  <tbody>\n",
       "    <tr>\n",
       "      <th>0</th>\n",
       "      <td>10</td>\n",
       "      <td>0</td>\n",
       "    </tr>\n",
       "    <tr>\n",
       "      <th>1</th>\n",
       "      <td>27</td>\n",
       "      <td>23000</td>\n",
       "    </tr>\n",
       "    <tr>\n",
       "      <th>2</th>\n",
       "      <td>45</td>\n",
       "      <td>100000</td>\n",
       "    </tr>\n",
       "    <tr>\n",
       "      <th>3</th>\n",
       "      <td>23</td>\n",
       "      <td>35000</td>\n",
       "    </tr>\n",
       "    <tr>\n",
       "      <th>4</th>\n",
       "      <td>21</td>\n",
       "      <td>60000</td>\n",
       "    </tr>\n",
       "  </tbody>\n",
       "</table>\n",
       "</div>"
      ],
      "text/plain": [
       "   age  salary\n",
       "0   10       0\n",
       "1   27   23000\n",
       "2   45  100000\n",
       "3   23   35000\n",
       "4   21   60000"
      ]
     },
     "execution_count": 104,
     "metadata": {},
     "output_type": "execute_result"
    }
   ],
   "source": [
    "df1"
   ]
  },
  {
   "cell_type": "code",
   "execution_count": 105,
   "id": "095667e1",
   "metadata": {},
   "outputs": [
    {
     "data": {
      "text/html": [
       "<div>\n",
       "<style scoped>\n",
       "    .dataframe tbody tr th:only-of-type {\n",
       "        vertical-align: middle;\n",
       "    }\n",
       "\n",
       "    .dataframe tbody tr th {\n",
       "        vertical-align: top;\n",
       "    }\n",
       "\n",
       "    .dataframe thead th {\n",
       "        text-align: right;\n",
       "    }\n",
       "</style>\n",
       "<table border=\"1\" class=\"dataframe\">\n",
       "  <thead>\n",
       "    <tr style=\"text-align: right;\">\n",
       "      <th></th>\n",
       "      <th>age</th>\n",
       "      <th>salary</th>\n",
       "    </tr>\n",
       "  </thead>\n",
       "  <tbody>\n",
       "    <tr>\n",
       "      <th>0</th>\n",
       "      <td>23</td>\n",
       "      <td>23000</td>\n",
       "    </tr>\n",
       "    <tr>\n",
       "      <th>1</th>\n",
       "      <td>21</td>\n",
       "      <td>31000</td>\n",
       "    </tr>\n",
       "    <tr>\n",
       "      <th>2</th>\n",
       "      <td>43</td>\n",
       "      <td>35000</td>\n",
       "    </tr>\n",
       "    <tr>\n",
       "      <th>3</th>\n",
       "      <td>16</td>\n",
       "      <td>8000</td>\n",
       "    </tr>\n",
       "  </tbody>\n",
       "</table>\n",
       "</div>"
      ],
      "text/plain": [
       "   age  salary\n",
       "0   23   23000\n",
       "1   21   31000\n",
       "2   43   35000\n",
       "3   16    8000"
      ]
     },
     "execution_count": 105,
     "metadata": {},
     "output_type": "execute_result"
    }
   ],
   "source": [
    "df2"
   ]
  },
  {
   "cell_type": "code",
   "execution_count": 106,
   "id": "8ea747ad",
   "metadata": {},
   "outputs": [],
   "source": [
    "# combine them, stacked vertically using pd.concat(list_of_frames)\n",
    "df_list = [df1, df2]"
   ]
  },
  {
   "cell_type": "code",
   "execution_count": 109,
   "id": "ac3cbf4f",
   "metadata": {},
   "outputs": [
    {
     "data": {
      "text/html": [
       "<div>\n",
       "<style scoped>\n",
       "    .dataframe tbody tr th:only-of-type {\n",
       "        vertical-align: middle;\n",
       "    }\n",
       "\n",
       "    .dataframe tbody tr th {\n",
       "        vertical-align: top;\n",
       "    }\n",
       "\n",
       "    .dataframe thead th {\n",
       "        text-align: right;\n",
       "    }\n",
       "</style>\n",
       "<table border=\"1\" class=\"dataframe\">\n",
       "  <thead>\n",
       "    <tr style=\"text-align: right;\">\n",
       "      <th></th>\n",
       "      <th>age</th>\n",
       "      <th>salary</th>\n",
       "    </tr>\n",
       "  </thead>\n",
       "  <tbody>\n",
       "    <tr>\n",
       "      <th>0</th>\n",
       "      <td>10</td>\n",
       "      <td>0</td>\n",
       "    </tr>\n",
       "    <tr>\n",
       "      <th>1</th>\n",
       "      <td>27</td>\n",
       "      <td>23000</td>\n",
       "    </tr>\n",
       "    <tr>\n",
       "      <th>2</th>\n",
       "      <td>45</td>\n",
       "      <td>100000</td>\n",
       "    </tr>\n",
       "    <tr>\n",
       "      <th>3</th>\n",
       "      <td>23</td>\n",
       "      <td>35000</td>\n",
       "    </tr>\n",
       "    <tr>\n",
       "      <th>4</th>\n",
       "      <td>21</td>\n",
       "      <td>60000</td>\n",
       "    </tr>\n",
       "    <tr>\n",
       "      <th>0</th>\n",
       "      <td>23</td>\n",
       "      <td>23000</td>\n",
       "    </tr>\n",
       "    <tr>\n",
       "      <th>1</th>\n",
       "      <td>21</td>\n",
       "      <td>31000</td>\n",
       "    </tr>\n",
       "    <tr>\n",
       "      <th>2</th>\n",
       "      <td>43</td>\n",
       "      <td>35000</td>\n",
       "    </tr>\n",
       "    <tr>\n",
       "      <th>3</th>\n",
       "      <td>16</td>\n",
       "      <td>8000</td>\n",
       "    </tr>\n",
       "  </tbody>\n",
       "</table>\n",
       "</div>"
      ],
      "text/plain": [
       "   age  salary\n",
       "0   10       0\n",
       "1   27   23000\n",
       "2   45  100000\n",
       "3   23   35000\n",
       "4   21   60000\n",
       "0   23   23000\n",
       "1   21   31000\n",
       "2   43   35000\n",
       "3   16    8000"
      ]
     },
     "execution_count": 109,
     "metadata": {},
     "output_type": "execute_result"
    }
   ],
   "source": [
    "df_combined = pd.concat(df_list)\n",
    "df_combined"
   ]
  },
  {
   "cell_type": "markdown",
   "id": "bb8f390f",
   "metadata": {},
   "source": [
    "This worked well because they have the same columns.  If they have different columns then the missing entries of either are filled in with `NaN` which is the code for \"missing values\" in pandas. We will revisit this in a minute. "
   ]
  },
  {
   "cell_type": "markdown",
   "id": "49a1e3bd",
   "metadata": {},
   "source": [
    "Note that in the df_combined output above the index (row labels) repeated: it goes from 0 to 4 and then 0 to 4 again. Those are the row index values from the two dataframes that were concatenated. Reset them to start at zero like this:"
   ]
  },
  {
   "cell_type": "code",
   "execution_count": 112,
   "id": "f2a697e0",
   "metadata": {},
   "outputs": [
    {
     "data": {
      "text/html": [
       "<div>\n",
       "<style scoped>\n",
       "    .dataframe tbody tr th:only-of-type {\n",
       "        vertical-align: middle;\n",
       "    }\n",
       "\n",
       "    .dataframe tbody tr th {\n",
       "        vertical-align: top;\n",
       "    }\n",
       "\n",
       "    .dataframe thead th {\n",
       "        text-align: right;\n",
       "    }\n",
       "</style>\n",
       "<table border=\"1\" class=\"dataframe\">\n",
       "  <thead>\n",
       "    <tr style=\"text-align: right;\">\n",
       "      <th></th>\n",
       "      <th>level_0</th>\n",
       "      <th>index</th>\n",
       "      <th>age</th>\n",
       "      <th>salary</th>\n",
       "    </tr>\n",
       "  </thead>\n",
       "  <tbody>\n",
       "    <tr>\n",
       "      <th>0</th>\n",
       "      <td>0</td>\n",
       "      <td>0</td>\n",
       "      <td>10</td>\n",
       "      <td>0</td>\n",
       "    </tr>\n",
       "    <tr>\n",
       "      <th>1</th>\n",
       "      <td>1</td>\n",
       "      <td>1</td>\n",
       "      <td>27</td>\n",
       "      <td>23000</td>\n",
       "    </tr>\n",
       "    <tr>\n",
       "      <th>2</th>\n",
       "      <td>2</td>\n",
       "      <td>2</td>\n",
       "      <td>45</td>\n",
       "      <td>100000</td>\n",
       "    </tr>\n",
       "    <tr>\n",
       "      <th>3</th>\n",
       "      <td>3</td>\n",
       "      <td>3</td>\n",
       "      <td>23</td>\n",
       "      <td>35000</td>\n",
       "    </tr>\n",
       "    <tr>\n",
       "      <th>4</th>\n",
       "      <td>4</td>\n",
       "      <td>4</td>\n",
       "      <td>21</td>\n",
       "      <td>60000</td>\n",
       "    </tr>\n",
       "    <tr>\n",
       "      <th>5</th>\n",
       "      <td>5</td>\n",
       "      <td>0</td>\n",
       "      <td>23</td>\n",
       "      <td>23000</td>\n",
       "    </tr>\n",
       "    <tr>\n",
       "      <th>6</th>\n",
       "      <td>6</td>\n",
       "      <td>1</td>\n",
       "      <td>21</td>\n",
       "      <td>31000</td>\n",
       "    </tr>\n",
       "    <tr>\n",
       "      <th>7</th>\n",
       "      <td>7</td>\n",
       "      <td>2</td>\n",
       "      <td>43</td>\n",
       "      <td>35000</td>\n",
       "    </tr>\n",
       "    <tr>\n",
       "      <th>8</th>\n",
       "      <td>8</td>\n",
       "      <td>3</td>\n",
       "      <td>16</td>\n",
       "      <td>8000</td>\n",
       "    </tr>\n",
       "  </tbody>\n",
       "</table>\n",
       "</div>"
      ],
      "text/plain": [
       "   level_0  index  age  salary\n",
       "0        0      0   10       0\n",
       "1        1      1   27   23000\n",
       "2        2      2   45  100000\n",
       "3        3      3   23   35000\n",
       "4        4      4   21   60000\n",
       "5        5      0   23   23000\n",
       "6        6      1   21   31000\n",
       "7        7      2   43   35000\n",
       "8        8      3   16    8000"
      ]
     },
     "execution_count": 112,
     "metadata": {},
     "output_type": "execute_result"
    }
   ],
   "source": [
    "df_combined = df_combined.reset_index()\n",
    "df_combined"
   ]
  },
  {
   "cell_type": "markdown",
   "id": "4f0932a9",
   "metadata": {},
   "source": [
    "By default df.reset_index() is not an inplace operation so to preserve the change we needed to assign the output to a variable or use inplace=True as another input to df.reset_index(). "
   ]
  },
  {
   "cell_type": "code",
   "execution_count": 113,
   "id": "fed89a93",
   "metadata": {},
   "outputs": [
    {
     "data": {
      "text/html": [
       "<div>\n",
       "<style scoped>\n",
       "    .dataframe tbody tr th:only-of-type {\n",
       "        vertical-align: middle;\n",
       "    }\n",
       "\n",
       "    .dataframe tbody tr th {\n",
       "        vertical-align: top;\n",
       "    }\n",
       "\n",
       "    .dataframe thead th {\n",
       "        text-align: right;\n",
       "    }\n",
       "</style>\n",
       "<table border=\"1\" class=\"dataframe\">\n",
       "  <thead>\n",
       "    <tr style=\"text-align: right;\">\n",
       "      <th></th>\n",
       "      <th>age</th>\n",
       "      <th>salary</th>\n",
       "    </tr>\n",
       "  </thead>\n",
       "  <tbody>\n",
       "    <tr>\n",
       "      <th>0</th>\n",
       "      <td>10</td>\n",
       "      <td>0</td>\n",
       "    </tr>\n",
       "    <tr>\n",
       "      <th>1</th>\n",
       "      <td>27</td>\n",
       "      <td>23000</td>\n",
       "    </tr>\n",
       "    <tr>\n",
       "      <th>2</th>\n",
       "      <td>45</td>\n",
       "      <td>100000</td>\n",
       "    </tr>\n",
       "    <tr>\n",
       "      <th>3</th>\n",
       "      <td>23</td>\n",
       "      <td>35000</td>\n",
       "    </tr>\n",
       "    <tr>\n",
       "      <th>4</th>\n",
       "      <td>21</td>\n",
       "      <td>60000</td>\n",
       "    </tr>\n",
       "    <tr>\n",
       "      <th>0</th>\n",
       "      <td>23</td>\n",
       "      <td>23000</td>\n",
       "    </tr>\n",
       "    <tr>\n",
       "      <th>1</th>\n",
       "      <td>21</td>\n",
       "      <td>31000</td>\n",
       "    </tr>\n",
       "    <tr>\n",
       "      <th>2</th>\n",
       "      <td>43</td>\n",
       "      <td>35000</td>\n",
       "    </tr>\n",
       "    <tr>\n",
       "      <th>3</th>\n",
       "      <td>16</td>\n",
       "      <td>8000</td>\n",
       "    </tr>\n",
       "  </tbody>\n",
       "</table>\n",
       "</div>"
      ],
      "text/plain": [
       "   age  salary\n",
       "0   10       0\n",
       "1   27   23000\n",
       "2   45  100000\n",
       "3   23   35000\n",
       "4   21   60000\n",
       "0   23   23000\n",
       "1   21   31000\n",
       "2   43   35000\n",
       "3   16    8000"
      ]
     },
     "execution_count": 113,
     "metadata": {},
     "output_type": "execute_result"
    }
   ],
   "source": [
    "# combine them vertically\n",
    "df_combined2 = pd.concat([df1, df2])\n",
    "df_combined2\n"
   ]
  },
  {
   "cell_type": "code",
   "execution_count": 114,
   "id": "b99f8952",
   "metadata": {},
   "outputs": [
    {
     "data": {
      "text/html": [
       "<div>\n",
       "<style scoped>\n",
       "    .dataframe tbody tr th:only-of-type {\n",
       "        vertical-align: middle;\n",
       "    }\n",
       "\n",
       "    .dataframe tbody tr th {\n",
       "        vertical-align: top;\n",
       "    }\n",
       "\n",
       "    .dataframe thead th {\n",
       "        text-align: right;\n",
       "    }\n",
       "</style>\n",
       "<table border=\"1\" class=\"dataframe\">\n",
       "  <thead>\n",
       "    <tr style=\"text-align: right;\">\n",
       "      <th></th>\n",
       "      <th>index</th>\n",
       "      <th>age</th>\n",
       "      <th>salary</th>\n",
       "    </tr>\n",
       "  </thead>\n",
       "  <tbody>\n",
       "    <tr>\n",
       "      <th>0</th>\n",
       "      <td>0</td>\n",
       "      <td>10</td>\n",
       "      <td>0</td>\n",
       "    </tr>\n",
       "    <tr>\n",
       "      <th>1</th>\n",
       "      <td>1</td>\n",
       "      <td>27</td>\n",
       "      <td>23000</td>\n",
       "    </tr>\n",
       "    <tr>\n",
       "      <th>2</th>\n",
       "      <td>2</td>\n",
       "      <td>45</td>\n",
       "      <td>100000</td>\n",
       "    </tr>\n",
       "    <tr>\n",
       "      <th>3</th>\n",
       "      <td>3</td>\n",
       "      <td>23</td>\n",
       "      <td>35000</td>\n",
       "    </tr>\n",
       "    <tr>\n",
       "      <th>4</th>\n",
       "      <td>4</td>\n",
       "      <td>21</td>\n",
       "      <td>60000</td>\n",
       "    </tr>\n",
       "    <tr>\n",
       "      <th>5</th>\n",
       "      <td>0</td>\n",
       "      <td>23</td>\n",
       "      <td>23000</td>\n",
       "    </tr>\n",
       "    <tr>\n",
       "      <th>6</th>\n",
       "      <td>1</td>\n",
       "      <td>21</td>\n",
       "      <td>31000</td>\n",
       "    </tr>\n",
       "    <tr>\n",
       "      <th>7</th>\n",
       "      <td>2</td>\n",
       "      <td>43</td>\n",
       "      <td>35000</td>\n",
       "    </tr>\n",
       "    <tr>\n",
       "      <th>8</th>\n",
       "      <td>3</td>\n",
       "      <td>16</td>\n",
       "      <td>8000</td>\n",
       "    </tr>\n",
       "  </tbody>\n",
       "</table>\n",
       "</div>"
      ],
      "text/plain": [
       "   index  age  salary\n",
       "0      0   10       0\n",
       "1      1   27   23000\n",
       "2      2   45  100000\n",
       "3      3   23   35000\n",
       "4      4   21   60000\n",
       "5      0   23   23000\n",
       "6      1   21   31000\n",
       "7      2   43   35000\n",
       "8      3   16    8000"
      ]
     },
     "execution_count": 114,
     "metadata": {},
     "output_type": "execute_result"
    }
   ],
   "source": [
    "# reset the index in place and verify that the changes stuck:\n",
    "df_combined2.reset_index(inplace=True)\n",
    "df_combined2\n"
   ]
  },
  {
   "cell_type": "markdown",
   "id": "c1bde5c6",
   "metadata": {},
   "source": [
    "### Concatenating dataframes that have different columns\n",
    "\n",
    "You can also concatenate dataframes that have different columns and you'll simply get a NaN value where there was no  data:"
   ]
  },
  {
   "cell_type": "code",
   "execution_count": 115,
   "id": "5953b949",
   "metadata": {},
   "outputs": [],
   "source": [
    "df1 = pd.DataFrame({\"age\": [10,27,45,23,21], \n",
    "                    \"salary\": [0,23000,100000,35000,60000]})\n",
    "\n",
    "df2 = pd.DataFrame({\"age\": [60,70,53,56,80], \n",
    "                    \"height\": [5.2,6.0,5.7,3.4,4.6]})\n"
   ]
  },
  {
   "cell_type": "code",
   "execution_count": 119,
   "id": "613c95db",
   "metadata": {},
   "outputs": [
    {
     "data": {
      "text/html": [
       "<div>\n",
       "<style scoped>\n",
       "    .dataframe tbody tr th:only-of-type {\n",
       "        vertical-align: middle;\n",
       "    }\n",
       "\n",
       "    .dataframe tbody tr th {\n",
       "        vertical-align: top;\n",
       "    }\n",
       "\n",
       "    .dataframe thead th {\n",
       "        text-align: right;\n",
       "    }\n",
       "</style>\n",
       "<table border=\"1\" class=\"dataframe\">\n",
       "  <thead>\n",
       "    <tr style=\"text-align: right;\">\n",
       "      <th></th>\n",
       "      <th>age</th>\n",
       "      <th>salary</th>\n",
       "      <th>height</th>\n",
       "    </tr>\n",
       "  </thead>\n",
       "  <tbody>\n",
       "    <tr>\n",
       "      <th>0</th>\n",
       "      <td>10</td>\n",
       "      <td>0.0</td>\n",
       "      <td>NaN</td>\n",
       "    </tr>\n",
       "    <tr>\n",
       "      <th>1</th>\n",
       "      <td>27</td>\n",
       "      <td>23000.0</td>\n",
       "      <td>NaN</td>\n",
       "    </tr>\n",
       "    <tr>\n",
       "      <th>2</th>\n",
       "      <td>45</td>\n",
       "      <td>100000.0</td>\n",
       "      <td>NaN</td>\n",
       "    </tr>\n",
       "    <tr>\n",
       "      <th>3</th>\n",
       "      <td>23</td>\n",
       "      <td>35000.0</td>\n",
       "      <td>NaN</td>\n",
       "    </tr>\n",
       "    <tr>\n",
       "      <th>4</th>\n",
       "      <td>21</td>\n",
       "      <td>60000.0</td>\n",
       "      <td>NaN</td>\n",
       "    </tr>\n",
       "    <tr>\n",
       "      <th>0</th>\n",
       "      <td>60</td>\n",
       "      <td>NaN</td>\n",
       "      <td>5.2</td>\n",
       "    </tr>\n",
       "    <tr>\n",
       "      <th>1</th>\n",
       "      <td>70</td>\n",
       "      <td>NaN</td>\n",
       "      <td>6.0</td>\n",
       "    </tr>\n",
       "    <tr>\n",
       "      <th>2</th>\n",
       "      <td>53</td>\n",
       "      <td>NaN</td>\n",
       "      <td>5.7</td>\n",
       "    </tr>\n",
       "    <tr>\n",
       "      <th>3</th>\n",
       "      <td>56</td>\n",
       "      <td>NaN</td>\n",
       "      <td>3.4</td>\n",
       "    </tr>\n",
       "    <tr>\n",
       "      <th>4</th>\n",
       "      <td>80</td>\n",
       "      <td>NaN</td>\n",
       "      <td>4.6</td>\n",
       "    </tr>\n",
       "  </tbody>\n",
       "</table>\n",
       "</div>"
      ],
      "text/plain": [
       "   age    salary  height\n",
       "0   10       0.0     NaN\n",
       "1   27   23000.0     NaN\n",
       "2   45  100000.0     NaN\n",
       "3   23   35000.0     NaN\n",
       "4   21   60000.0     NaN\n",
       "0   60       NaN     5.2\n",
       "1   70       NaN     6.0\n",
       "2   53       NaN     5.7\n",
       "3   56       NaN     3.4\n",
       "4   80       NaN     4.6"
      ]
     },
     "execution_count": 119,
     "metadata": {},
     "output_type": "execute_result"
    }
   ],
   "source": [
    "# combine df1 and df2 into a single frame using pd.concat()\n",
    "ndf =pd.concat([df1, df2])\n",
    "ndf"
   ]
  },
  {
   "cell_type": "markdown",
   "id": "8b7ad2c8",
   "metadata": {},
   "source": [
    "In the example above, df1 had a column for 'salary' that was not in df2, and df2 had 'height' which was not in df1, so the df_combined has columns for salary and height with NaN for the missing values."
   ]
  },
  {
   "cell_type": "markdown",
   "id": "96f6b673",
   "metadata": {},
   "source": [
    "We will talk about dealing with \"missing\" values shortly but basically missing values in pandas allows for incomplete rows: you might not have information about every single field of a row and so you can use `NaN` (stands for Not-a-number in computer speak) to represent missing values."
   ]
  },
  {
   "cell_type": "markdown",
   "id": "a279b0b7",
   "metadata": {},
   "source": [
    "<div class=\"alert alert-danger\" role=\"alert\">\n",
    "  <strong>**The dangers of recoding missing values**!</strong> <br>\n",
    "    Missing some measurements in a dataset is very common and how to handle those missing values is critically important. Whenever possible you want to encode the missing data with a value that cannot impact your analyses. So, for example, if we just put a zero everywhere we had no data and then computed the average of the age column in our data our calculation would be off. Using NaN (which is a special floating point value) can help alleviate this possibility.\n",
    "</div>\n",
    "\n"
   ]
  },
  {
   "cell_type": "markdown",
   "id": "e6c52ea0",
   "metadata": {},
   "source": [
    "## Adding columns"
   ]
  },
  {
   "cell_type": "markdown",
   "id": "d369764f",
   "metadata": {},
   "source": [
    "Adding a new column to a dataframe is easy. \n",
    "\n",
    "You just assign some values to a new columns name.  \n",
    "\n",
    "First we will create a data frame with two random columns. np.random.rand() gives random numbers between 0 and 1 (uniformly sampled). The input is the numer of samples you want."
   ]
  },
  {
   "cell_type": "code",
   "execution_count": 125,
   "id": "d8f01a35",
   "metadata": {},
   "outputs": [
    {
     "data": {
      "text/plain": [
       "array([0.83175855, 0.21937908, 0.44817212, 0.65290053, 0.94833599,\n",
       "       0.36309193, 0.79916662, 0.66262115, 0.73327594, 0.92906925])"
      ]
     },
     "execution_count": 125,
     "metadata": {},
     "output_type": "execute_result"
    }
   ],
   "source": [
    "np.random.rand(10)"
   ]
  },
  {
   "cell_type": "code",
   "execution_count": 126,
   "id": "f697427b",
   "metadata": {},
   "outputs": [
    {
     "data": {
      "text/html": [
       "<div>\n",
       "<style scoped>\n",
       "    .dataframe tbody tr th:only-of-type {\n",
       "        vertical-align: middle;\n",
       "    }\n",
       "\n",
       "    .dataframe tbody tr th {\n",
       "        vertical-align: top;\n",
       "    }\n",
       "\n",
       "    .dataframe thead th {\n",
       "        text-align: right;\n",
       "    }\n",
       "</style>\n",
       "<table border=\"1\" class=\"dataframe\">\n",
       "  <thead>\n",
       "    <tr style=\"text-align: right;\">\n",
       "      <th></th>\n",
       "      <th>col_1</th>\n",
       "      <th>col_2</th>\n",
       "    </tr>\n",
       "  </thead>\n",
       "  <tbody>\n",
       "    <tr>\n",
       "      <th>0</th>\n",
       "      <td>0.922259</td>\n",
       "      <td>0.004777</td>\n",
       "    </tr>\n",
       "    <tr>\n",
       "      <th>1</th>\n",
       "      <td>0.530100</td>\n",
       "      <td>0.218629</td>\n",
       "    </tr>\n",
       "    <tr>\n",
       "      <th>2</th>\n",
       "      <td>0.353070</td>\n",
       "      <td>0.186518</td>\n",
       "    </tr>\n",
       "    <tr>\n",
       "      <th>3</th>\n",
       "      <td>0.979585</td>\n",
       "      <td>0.697020</td>\n",
       "    </tr>\n",
       "    <tr>\n",
       "      <th>4</th>\n",
       "      <td>0.520212</td>\n",
       "      <td>0.879456</td>\n",
       "    </tr>\n",
       "  </tbody>\n",
       "</table>\n",
       "</div>"
      ],
      "text/plain": [
       "      col_1     col_2\n",
       "0  0.922259  0.004777\n",
       "1  0.530100  0.218629\n",
       "2  0.353070  0.186518\n",
       "3  0.979585  0.697020\n",
       "4  0.520212  0.879456"
      ]
     },
     "execution_count": 126,
     "metadata": {},
     "output_type": "execute_result"
    }
   ],
   "source": [
    "df = pd.DataFrame({\"col_1\": np.random.rand(10), \n",
    "                   \"col_2\": np.random.rand(10)})\n",
    "df.head()"
   ]
  },
  {
   "cell_type": "markdown",
   "id": "fb0153b0",
   "metadata": {},
   "source": [
    "Now we simply assign a new column `df['sum']` and define it to be the sum of two columns."
   ]
  },
  {
   "cell_type": "code",
   "execution_count": 127,
   "id": "52edc05a",
   "metadata": {},
   "outputs": [
    {
     "data": {
      "text/html": [
       "<div>\n",
       "<style scoped>\n",
       "    .dataframe tbody tr th:only-of-type {\n",
       "        vertical-align: middle;\n",
       "    }\n",
       "\n",
       "    .dataframe tbody tr th {\n",
       "        vertical-align: top;\n",
       "    }\n",
       "\n",
       "    .dataframe thead th {\n",
       "        text-align: right;\n",
       "    }\n",
       "</style>\n",
       "<table border=\"1\" class=\"dataframe\">\n",
       "  <thead>\n",
       "    <tr style=\"text-align: right;\">\n",
       "      <th></th>\n",
       "      <th>col_1</th>\n",
       "      <th>col_2</th>\n",
       "      <th>sum</th>\n",
       "    </tr>\n",
       "  </thead>\n",
       "  <tbody>\n",
       "    <tr>\n",
       "      <th>0</th>\n",
       "      <td>0.922259</td>\n",
       "      <td>0.004777</td>\n",
       "      <td>0.927035</td>\n",
       "    </tr>\n",
       "    <tr>\n",
       "      <th>1</th>\n",
       "      <td>0.530100</td>\n",
       "      <td>0.218629</td>\n",
       "      <td>0.748729</td>\n",
       "    </tr>\n",
       "    <tr>\n",
       "      <th>2</th>\n",
       "      <td>0.353070</td>\n",
       "      <td>0.186518</td>\n",
       "      <td>0.539588</td>\n",
       "    </tr>\n",
       "    <tr>\n",
       "      <th>3</th>\n",
       "      <td>0.979585</td>\n",
       "      <td>0.697020</td>\n",
       "      <td>1.676605</td>\n",
       "    </tr>\n",
       "    <tr>\n",
       "      <th>4</th>\n",
       "      <td>0.520212</td>\n",
       "      <td>0.879456</td>\n",
       "      <td>1.399668</td>\n",
       "    </tr>\n",
       "    <tr>\n",
       "      <th>5</th>\n",
       "      <td>0.996248</td>\n",
       "      <td>0.021721</td>\n",
       "      <td>1.017969</td>\n",
       "    </tr>\n",
       "    <tr>\n",
       "      <th>6</th>\n",
       "      <td>0.361529</td>\n",
       "      <td>0.835326</td>\n",
       "      <td>1.196855</td>\n",
       "    </tr>\n",
       "    <tr>\n",
       "      <th>7</th>\n",
       "      <td>0.809722</td>\n",
       "      <td>0.181465</td>\n",
       "      <td>0.991187</td>\n",
       "    </tr>\n",
       "    <tr>\n",
       "      <th>8</th>\n",
       "      <td>0.802880</td>\n",
       "      <td>0.893810</td>\n",
       "      <td>1.696690</td>\n",
       "    </tr>\n",
       "    <tr>\n",
       "      <th>9</th>\n",
       "      <td>0.324573</td>\n",
       "      <td>0.576887</td>\n",
       "      <td>0.901460</td>\n",
       "    </tr>\n",
       "  </tbody>\n",
       "</table>\n",
       "</div>"
      ],
      "text/plain": [
       "      col_1     col_2       sum\n",
       "0  0.922259  0.004777  0.927035\n",
       "1  0.530100  0.218629  0.748729\n",
       "2  0.353070  0.186518  0.539588\n",
       "3  0.979585  0.697020  1.676605\n",
       "4  0.520212  0.879456  1.399668\n",
       "5  0.996248  0.021721  1.017969\n",
       "6  0.361529  0.835326  1.196855\n",
       "7  0.809722  0.181465  0.991187\n",
       "8  0.802880  0.893810  1.696690\n",
       "9  0.324573  0.576887  0.901460"
      ]
     },
     "execution_count": 127,
     "metadata": {},
     "output_type": "execute_result"
    }
   ],
   "source": [
    "df['sum'] = df['col_1'] + df['col_2']\n",
    "df"
   ]
  },
  {
   "cell_type": "markdown",
   "id": "6633c716",
   "metadata": {},
   "source": [
    "You can also define new columns to be a constant value:"
   ]
  },
  {
   "cell_type": "code",
   "execution_count": 128,
   "id": "b6f6873f",
   "metadata": {},
   "outputs": [
    {
     "data": {
      "text/html": [
       "<div>\n",
       "<style scoped>\n",
       "    .dataframe tbody tr th:only-of-type {\n",
       "        vertical-align: middle;\n",
       "    }\n",
       "\n",
       "    .dataframe tbody tr th {\n",
       "        vertical-align: top;\n",
       "    }\n",
       "\n",
       "    .dataframe thead th {\n",
       "        text-align: right;\n",
       "    }\n",
       "</style>\n",
       "<table border=\"1\" class=\"dataframe\">\n",
       "  <thead>\n",
       "    <tr style=\"text-align: right;\">\n",
       "      <th></th>\n",
       "      <th>col_1</th>\n",
       "      <th>col_2</th>\n",
       "      <th>sum</th>\n",
       "      <th>constant2</th>\n",
       "    </tr>\n",
       "  </thead>\n",
       "  <tbody>\n",
       "    <tr>\n",
       "      <th>0</th>\n",
       "      <td>0.922259</td>\n",
       "      <td>0.004777</td>\n",
       "      <td>0.927035</td>\n",
       "      <td>3</td>\n",
       "    </tr>\n",
       "    <tr>\n",
       "      <th>1</th>\n",
       "      <td>0.530100</td>\n",
       "      <td>0.218629</td>\n",
       "      <td>0.748729</td>\n",
       "      <td>3</td>\n",
       "    </tr>\n",
       "    <tr>\n",
       "      <th>2</th>\n",
       "      <td>0.353070</td>\n",
       "      <td>0.186518</td>\n",
       "      <td>0.539588</td>\n",
       "      <td>3</td>\n",
       "    </tr>\n",
       "    <tr>\n",
       "      <th>3</th>\n",
       "      <td>0.979585</td>\n",
       "      <td>0.697020</td>\n",
       "      <td>1.676605</td>\n",
       "      <td>3</td>\n",
       "    </tr>\n",
       "    <tr>\n",
       "      <th>4</th>\n",
       "      <td>0.520212</td>\n",
       "      <td>0.879456</td>\n",
       "      <td>1.399668</td>\n",
       "      <td>3</td>\n",
       "    </tr>\n",
       "    <tr>\n",
       "      <th>5</th>\n",
       "      <td>0.996248</td>\n",
       "      <td>0.021721</td>\n",
       "      <td>1.017969</td>\n",
       "      <td>3</td>\n",
       "    </tr>\n",
       "    <tr>\n",
       "      <th>6</th>\n",
       "      <td>0.361529</td>\n",
       "      <td>0.835326</td>\n",
       "      <td>1.196855</td>\n",
       "      <td>3</td>\n",
       "    </tr>\n",
       "    <tr>\n",
       "      <th>7</th>\n",
       "      <td>0.809722</td>\n",
       "      <td>0.181465</td>\n",
       "      <td>0.991187</td>\n",
       "      <td>3</td>\n",
       "    </tr>\n",
       "    <tr>\n",
       "      <th>8</th>\n",
       "      <td>0.802880</td>\n",
       "      <td>0.893810</td>\n",
       "      <td>1.696690</td>\n",
       "      <td>3</td>\n",
       "    </tr>\n",
       "    <tr>\n",
       "      <th>9</th>\n",
       "      <td>0.324573</td>\n",
       "      <td>0.576887</td>\n",
       "      <td>0.901460</td>\n",
       "      <td>3</td>\n",
       "    </tr>\n",
       "  </tbody>\n",
       "</table>\n",
       "</div>"
      ],
      "text/plain": [
       "      col_1     col_2       sum  constant2\n",
       "0  0.922259  0.004777  0.927035          3\n",
       "1  0.530100  0.218629  0.748729          3\n",
       "2  0.353070  0.186518  0.539588          3\n",
       "3  0.979585  0.697020  1.676605          3\n",
       "4  0.520212  0.879456  1.399668          3\n",
       "5  0.996248  0.021721  1.017969          3\n",
       "6  0.361529  0.835326  1.196855          3\n",
       "7  0.809722  0.181465  0.991187          3\n",
       "8  0.802880  0.893810  1.696690          3\n",
       "9  0.324573  0.576887  0.901460          3"
      ]
     },
     "execution_count": 128,
     "metadata": {},
     "output_type": "execute_result"
    }
   ],
   "source": [
    "df['constant2'] = 3\n",
    "df"
   ]
  },
  {
   "cell_type": "markdown",
   "id": "5dac1429",
   "metadata": {},
   "source": [
    "Column values can be strings as well"
   ]
  },
  {
   "cell_type": "code",
   "execution_count": 129,
   "id": "eedc1fac",
   "metadata": {},
   "outputs": [
    {
     "data": {
      "text/html": [
       "<div>\n",
       "<style scoped>\n",
       "    .dataframe tbody tr th:only-of-type {\n",
       "        vertical-align: middle;\n",
       "    }\n",
       "\n",
       "    .dataframe tbody tr th {\n",
       "        vertical-align: top;\n",
       "    }\n",
       "\n",
       "    .dataframe thead th {\n",
       "        text-align: right;\n",
       "    }\n",
       "</style>\n",
       "<table border=\"1\" class=\"dataframe\">\n",
       "  <thead>\n",
       "    <tr style=\"text-align: right;\">\n",
       "      <th></th>\n",
       "      <th>col_1</th>\n",
       "      <th>col_2</th>\n",
       "      <th>sum</th>\n",
       "      <th>constant2</th>\n",
       "      <th>ID</th>\n",
       "      <th>date</th>\n",
       "    </tr>\n",
       "  </thead>\n",
       "  <tbody>\n",
       "    <tr>\n",
       "      <th>0</th>\n",
       "      <td>0.922259</td>\n",
       "      <td>0.004777</td>\n",
       "      <td>0.927035</td>\n",
       "      <td>3</td>\n",
       "      <td>sub-99</td>\n",
       "      <td>jan-10-2022</td>\n",
       "    </tr>\n",
       "    <tr>\n",
       "      <th>1</th>\n",
       "      <td>0.530100</td>\n",
       "      <td>0.218629</td>\n",
       "      <td>0.748729</td>\n",
       "      <td>3</td>\n",
       "      <td>sub-99</td>\n",
       "      <td>jan-10-2022</td>\n",
       "    </tr>\n",
       "    <tr>\n",
       "      <th>2</th>\n",
       "      <td>0.353070</td>\n",
       "      <td>0.186518</td>\n",
       "      <td>0.539588</td>\n",
       "      <td>3</td>\n",
       "      <td>sub-99</td>\n",
       "      <td>jan-10-2022</td>\n",
       "    </tr>\n",
       "    <tr>\n",
       "      <th>3</th>\n",
       "      <td>0.979585</td>\n",
       "      <td>0.697020</td>\n",
       "      <td>1.676605</td>\n",
       "      <td>3</td>\n",
       "      <td>sub-99</td>\n",
       "      <td>jan-10-2022</td>\n",
       "    </tr>\n",
       "    <tr>\n",
       "      <th>4</th>\n",
       "      <td>0.520212</td>\n",
       "      <td>0.879456</td>\n",
       "      <td>1.399668</td>\n",
       "      <td>3</td>\n",
       "      <td>sub-99</td>\n",
       "      <td>jan-10-2022</td>\n",
       "    </tr>\n",
       "    <tr>\n",
       "      <th>5</th>\n",
       "      <td>0.996248</td>\n",
       "      <td>0.021721</td>\n",
       "      <td>1.017969</td>\n",
       "      <td>3</td>\n",
       "      <td>sub-99</td>\n",
       "      <td>jan-10-2022</td>\n",
       "    </tr>\n",
       "    <tr>\n",
       "      <th>6</th>\n",
       "      <td>0.361529</td>\n",
       "      <td>0.835326</td>\n",
       "      <td>1.196855</td>\n",
       "      <td>3</td>\n",
       "      <td>sub-99</td>\n",
       "      <td>jan-10-2022</td>\n",
       "    </tr>\n",
       "    <tr>\n",
       "      <th>7</th>\n",
       "      <td>0.809722</td>\n",
       "      <td>0.181465</td>\n",
       "      <td>0.991187</td>\n",
       "      <td>3</td>\n",
       "      <td>sub-99</td>\n",
       "      <td>jan-10-2022</td>\n",
       "    </tr>\n",
       "    <tr>\n",
       "      <th>8</th>\n",
       "      <td>0.802880</td>\n",
       "      <td>0.893810</td>\n",
       "      <td>1.696690</td>\n",
       "      <td>3</td>\n",
       "      <td>sub-99</td>\n",
       "      <td>jan-10-2022</td>\n",
       "    </tr>\n",
       "    <tr>\n",
       "      <th>9</th>\n",
       "      <td>0.324573</td>\n",
       "      <td>0.576887</td>\n",
       "      <td>0.901460</td>\n",
       "      <td>3</td>\n",
       "      <td>sub-99</td>\n",
       "      <td>jan-10-2022</td>\n",
       "    </tr>\n",
       "  </tbody>\n",
       "</table>\n",
       "</div>"
      ],
      "text/plain": [
       "      col_1     col_2       sum  constant2      ID         date\n",
       "0  0.922259  0.004777  0.927035          3  sub-99  jan-10-2022\n",
       "1  0.530100  0.218629  0.748729          3  sub-99  jan-10-2022\n",
       "2  0.353070  0.186518  0.539588          3  sub-99  jan-10-2022\n",
       "3  0.979585  0.697020  1.676605          3  sub-99  jan-10-2022\n",
       "4  0.520212  0.879456  1.399668          3  sub-99  jan-10-2022\n",
       "5  0.996248  0.021721  1.017969          3  sub-99  jan-10-2022\n",
       "6  0.361529  0.835326  1.196855          3  sub-99  jan-10-2022\n",
       "7  0.809722  0.181465  0.991187          3  sub-99  jan-10-2022\n",
       "8  0.802880  0.893810  1.696690          3  sub-99  jan-10-2022\n",
       "9  0.324573  0.576887  0.901460          3  sub-99  jan-10-2022"
      ]
     },
     "execution_count": 129,
     "metadata": {},
     "output_type": "execute_result"
    }
   ],
   "source": [
    "df['ID'] = 'sub-99'\n",
    "df['date'] = 'jan-10-2022'\n",
    "df"
   ]
  },
  {
   "cell_type": "markdown",
   "id": "af8c9c65",
   "metadata": {},
   "source": [
    "There are of course some limitations and technicalities here but for the most part you just name a new column and define it as above. **The main thing is that the new column either needs to have as many values as there are rows in your dataframe or just a single value that will be expanded to fill the column.**"
   ]
  },
  {
   "cell_type": "markdown",
   "id": "549421d9",
   "metadata": {},
   "source": [
    "## Things you can do with dataframes"
   ]
  },
  {
   "cell_type": "markdown",
   "id": "49b632f2",
   "metadata": {},
   "source": [
    "The main goal of getting your data into a dataframe is that enables several methods for manipulating your data in powerful ways."
   ]
  },
  {
   "cell_type": "markdown",
   "id": "fe8002be",
   "metadata": {},
   "source": [
    "### Sorting"
   ]
  },
  {
   "cell_type": "markdown",
   "id": "151dd657",
   "metadata": {},
   "source": [
    "Often times it can help us understand a dataset better if we can sort the rows of the dataset according to the values in one or more columns.  For instance in the salary data set we have been considering it is hard to know who is the highest and lowest paid faculty.  One approach would to be sort the values."
   ]
  },
  {
   "cell_type": "code",
   "execution_count": null,
   "id": "31b7a705",
   "metadata": {},
   "outputs": [],
   "source": [
    "df = pd.read_csv('salary.csv')\n",
    "df.head()"
   ]
  },
  {
   "cell_type": "markdown",
   "id": "713ccd1d",
   "metadata": {},
   "source": [
    "We can sort this dataset in ascending order with:"
   ]
  },
  {
   "cell_type": "code",
   "execution_count": null,
   "id": "067e2467",
   "metadata": {},
   "outputs": [],
   "source": [
    "df.sort_values('salary')"
   ]
  },
  {
   "cell_type": "markdown",
   "id": "810f9316",
   "metadata": {},
   "source": [
    "Now we can easily see from this output that 44,687 is the lowest salary and 112,800 is the highest.  `sort_values()` is **not** an inplace operation so the original dataframe is still unsorted and we have to store the sorted result in a new dataframe variable if we want to keep working with it."
   ]
  },
  {
   "cell_type": "code",
   "execution_count": null,
   "id": "5eaa871c",
   "metadata": {},
   "outputs": [],
   "source": [
    "df.head()  # still unsorted"
   ]
  },
  {
   "cell_type": "markdown",
   "id": "b4546c9b",
   "metadata": {},
   "source": [
    "We can sort the other way by adding an additional parameter telling to NOT sort in ascending order (that is, to use descending)"
   ]
  },
  {
   "cell_type": "code",
   "execution_count": null,
   "id": "58e99ffc",
   "metadata": {},
   "outputs": [],
   "source": [
    "df.sort_values('salary', ascending=False)"
   ]
  },
  {
   "cell_type": "markdown",
   "id": "8a619b65",
   "metadata": {},
   "source": [
    "And if you sort by two columns it will do them in order (so the first listed column is sorted first then the second):"
   ]
  },
  {
   "cell_type": "code",
   "execution_count": null,
   "id": "cd00a13a",
   "metadata": {},
   "outputs": [],
   "source": [
    "df.sort_values(['salary','age'])"
   ]
  },
  {
   "cell_type": "markdown",
   "id": "a2161163",
   "metadata": {},
   "source": [
    "In this data set it is mostly the same to sort by salary first then age because most people don't have the same salary so that already provides an order.  However if we do it the other way, i.e., age first then salary, it will order by people age and then for the people who are the same age sort by salary."
   ]
  },
  {
   "cell_type": "code",
   "execution_count": null,
   "id": "b2fec4b9",
   "metadata": {},
   "outputs": [],
   "source": [
    "df.sort_values(['age','salary'])"
   ]
  },
  {
   "cell_type": "markdown",
   "id": "f988d8f8",
   "metadata": {},
   "source": [
    "As you can see in this shortened output there are several people who are 32 in the database and their salaries are ordered from smallest to biggest."
   ]
  },
  {
   "cell_type": "markdown",
   "id": "28ef0115",
   "metadata": {},
   "source": [
    "### Arithmetic"
   ]
  },
  {
   "cell_type": "markdown",
   "id": "67f3485f",
   "metadata": {},
   "source": [
    "Perhaps one of the most useful features of dataframes (and spreadsheets) is the ability to create formulas that compute new values based on the rows and columns. \n",
    "\n",
    "For instance if you had a dataframe that had rows for students and each column was the grade on an assignment a common operation might be to compute the average grade as a new column. \n",
    "\n",
    "Let's take a look at a simple example of this and then discuss arithmetic operations in Pandas more generally."
   ]
  },
  {
   "cell_type": "code",
   "execution_count": 130,
   "id": "8e7bcb2d",
   "metadata": {},
   "outputs": [
    {
     "data": {
      "text/html": [
       "<div>\n",
       "<style scoped>\n",
       "    .dataframe tbody tr th:only-of-type {\n",
       "        vertical-align: middle;\n",
       "    }\n",
       "\n",
       "    .dataframe tbody tr th {\n",
       "        vertical-align: top;\n",
       "    }\n",
       "\n",
       "    .dataframe thead th {\n",
       "        text-align: right;\n",
       "    }\n",
       "</style>\n",
       "<table border=\"1\" class=\"dataframe\">\n",
       "  <thead>\n",
       "    <tr style=\"text-align: right;\">\n",
       "      <th></th>\n",
       "      <th>student</th>\n",
       "      <th>assignment1</th>\n",
       "      <th>assignment2</th>\n",
       "      <th>assignment3</th>\n",
       "    </tr>\n",
       "  </thead>\n",
       "  <tbody>\n",
       "    <tr>\n",
       "      <th>0</th>\n",
       "      <td>001</td>\n",
       "      <td>90</td>\n",
       "      <td>82</td>\n",
       "      <td>89</td>\n",
       "    </tr>\n",
       "    <tr>\n",
       "      <th>1</th>\n",
       "      <td>002</td>\n",
       "      <td>80</td>\n",
       "      <td>84</td>\n",
       "      <td>75</td>\n",
       "    </tr>\n",
       "    <tr>\n",
       "      <th>2</th>\n",
       "      <td>003</td>\n",
       "      <td>70</td>\n",
       "      <td>96</td>\n",
       "      <td>89</td>\n",
       "    </tr>\n",
       "  </tbody>\n",
       "</table>\n",
       "</div>"
      ],
      "text/plain": [
       "  student  assignment1  assignment2  assignment3\n",
       "0     001           90           82           89\n",
       "1     002           80           84           75\n",
       "2     003           70           96           89"
      ]
     },
     "execution_count": 130,
     "metadata": {},
     "output_type": "execute_result"
    }
   ],
   "source": [
    "grades_df = pd.DataFrame({'student':['001','002','003'], \n",
    "                          'assignment1': [90, 80, 70], \n",
    "                          'assignment2': [82,84,96], \n",
    "                          'assignment3': [89,75,89]})\n",
    "grades_df"
   ]
  },
  {
   "cell_type": "markdown",
   "id": "8fe104b8",
   "metadata": {},
   "source": [
    "This is not necessarily the easiest way to **enter** this data (you might prefer to use a spreadsheet for that), but you could read in a csv to load the grades for instance.  Next you would want to create the average grade for each student."
   ]
  },
  {
   "cell_type": "code",
   "execution_count": 131,
   "id": "f3f65d55",
   "metadata": {},
   "outputs": [
    {
     "data": {
      "text/html": [
       "<div>\n",
       "<style scoped>\n",
       "    .dataframe tbody tr th:only-of-type {\n",
       "        vertical-align: middle;\n",
       "    }\n",
       "\n",
       "    .dataframe tbody tr th {\n",
       "        vertical-align: top;\n",
       "    }\n",
       "\n",
       "    .dataframe thead th {\n",
       "        text-align: right;\n",
       "    }\n",
       "</style>\n",
       "<table border=\"1\" class=\"dataframe\">\n",
       "  <thead>\n",
       "    <tr style=\"text-align: right;\">\n",
       "      <th></th>\n",
       "      <th>student</th>\n",
       "      <th>assignment1</th>\n",
       "      <th>assignment2</th>\n",
       "      <th>assignment3</th>\n",
       "      <th>average</th>\n",
       "    </tr>\n",
       "  </thead>\n",
       "  <tbody>\n",
       "    <tr>\n",
       "      <th>0</th>\n",
       "      <td>001</td>\n",
       "      <td>90</td>\n",
       "      <td>82</td>\n",
       "      <td>89</td>\n",
       "      <td>87.000000</td>\n",
       "    </tr>\n",
       "    <tr>\n",
       "      <th>1</th>\n",
       "      <td>002</td>\n",
       "      <td>80</td>\n",
       "      <td>84</td>\n",
       "      <td>75</td>\n",
       "      <td>79.666667</td>\n",
       "    </tr>\n",
       "    <tr>\n",
       "      <th>2</th>\n",
       "      <td>003</td>\n",
       "      <td>70</td>\n",
       "      <td>96</td>\n",
       "      <td>89</td>\n",
       "      <td>85.000000</td>\n",
       "    </tr>\n",
       "  </tbody>\n",
       "</table>\n",
       "</div>"
      ],
      "text/plain": [
       "  student  assignment1  assignment2  assignment3    average\n",
       "0     001           90           82           89  87.000000\n",
       "1     002           80           84           75  79.666667\n",
       "2     003           70           96           89  85.000000"
      ]
     },
     "execution_count": 131,
     "metadata": {},
     "output_type": "execute_result"
    }
   ],
   "source": [
    "grades_df['average']=(grades_df['assignment1']+\n",
    "                      grades_df['assignment2']+\n",
    "                      grades_df['assignment3'])/3\n",
    "grades_df"
   ]
  },
  {
   "cell_type": "markdown",
   "id": "b94d5898",
   "metadata": {},
   "source": [
    "We added up the column for assignment 1, 2, and 3 and then divided by three.  \n",
    "\n",
    "Then we assigned that resulting value to a new column called average.  \n",
    "\n",
    "A very nice feature is that we did all the values at once rather than having to loop through each entry in the dataframe. \n",
    "\n",
    "This is called **broadcasting** which is a feature of many programming languages that automatically detects when you are doing arithmetic operations on collections of numbers and then does that operation for **each entry** rather than like the first one."
   ]
  },
  {
   "cell_type": "markdown",
   "id": "0d63c9dc",
   "metadata": {},
   "source": [
    "We can also broadcast the addition of constant values to a column.  For instance to give all the students a five point bonus we could do this:"
   ]
  },
  {
   "cell_type": "code",
   "execution_count": 132,
   "id": "c9e6d4e4",
   "metadata": {},
   "outputs": [
    {
     "data": {
      "text/html": [
       "<div>\n",
       "<style scoped>\n",
       "    .dataframe tbody tr th:only-of-type {\n",
       "        vertical-align: middle;\n",
       "    }\n",
       "\n",
       "    .dataframe tbody tr th {\n",
       "        vertical-align: top;\n",
       "    }\n",
       "\n",
       "    .dataframe thead th {\n",
       "        text-align: right;\n",
       "    }\n",
       "</style>\n",
       "<table border=\"1\" class=\"dataframe\">\n",
       "  <thead>\n",
       "    <tr style=\"text-align: right;\">\n",
       "      <th></th>\n",
       "      <th>student</th>\n",
       "      <th>assignment1</th>\n",
       "      <th>assignment2</th>\n",
       "      <th>assignment3</th>\n",
       "      <th>average</th>\n",
       "    </tr>\n",
       "  </thead>\n",
       "  <tbody>\n",
       "    <tr>\n",
       "      <th>0</th>\n",
       "      <td>001</td>\n",
       "      <td>90</td>\n",
       "      <td>82</td>\n",
       "      <td>89</td>\n",
       "      <td>92.000000</td>\n",
       "    </tr>\n",
       "    <tr>\n",
       "      <th>1</th>\n",
       "      <td>002</td>\n",
       "      <td>80</td>\n",
       "      <td>84</td>\n",
       "      <td>75</td>\n",
       "      <td>84.666667</td>\n",
       "    </tr>\n",
       "    <tr>\n",
       "      <th>2</th>\n",
       "      <td>003</td>\n",
       "      <td>70</td>\n",
       "      <td>96</td>\n",
       "      <td>89</td>\n",
       "      <td>90.000000</td>\n",
       "    </tr>\n",
       "  </tbody>\n",
       "</table>\n",
       "</div>"
      ],
      "text/plain": [
       "  student  assignment1  assignment2  assignment3    average\n",
       "0     001           90           82           89  92.000000\n",
       "1     002           80           84           75  84.666667\n",
       "2     003           70           96           89  90.000000"
      ]
     },
     "execution_count": 132,
     "metadata": {},
     "output_type": "execute_result"
    }
   ],
   "source": [
    "grades_df['average'] = grades_df['average']+5\n",
    "grades_df"
   ]
  },
  {
   "cell_type": "markdown",
   "id": "f29c73cc",
   "metadata": {},
   "source": [
    "Again, here it added 5 to *each entry* of the grades column rather than just one or the first row."
   ]
  },
  {
   "cell_type": "markdown",
   "id": "16cbe315",
   "metadata": {},
   "source": [
    "Basically any math function can be composed of the columns.  You might also be interested in functions you could compute down the columns rather than across them, however we will consider those in more detail in a later section."
   ]
  },
  {
   "cell_type": "markdown",
   "id": "0ace1e9a",
   "metadata": {},
   "source": [
    "#### Get the mean of some column using df['col_name'].mean()"
   ]
  },
  {
   "cell_type": "code",
   "execution_count": 136,
   "id": "cbfc8108",
   "metadata": {},
   "outputs": [
    {
     "data": {
      "text/plain": [
       "80.0"
      ]
     },
     "execution_count": 136,
     "metadata": {},
     "output_type": "execute_result"
    }
   ],
   "source": [
    "# get the average across students for assignment 1\n",
    "a1mean = grades_df['assignment1'].mean()\n",
    "a1mean"
   ]
  },
  {
   "cell_type": "code",
   "execution_count": 137,
   "id": "35e2a6ab",
   "metadata": {},
   "outputs": [],
   "source": [
    "a2mean = grades_df['assignment2'].mean()\n"
   ]
  },
  {
   "cell_type": "code",
   "execution_count": 138,
   "id": "1fd1f2eb",
   "metadata": {},
   "outputs": [
    {
     "data": {
      "text/plain": [
       "False"
      ]
     },
     "execution_count": 138,
     "metadata": {},
     "output_type": "execute_result"
    }
   ],
   "source": [
    "a1mean>a2mean"
   ]
  },
  {
   "cell_type": "markdown",
   "id": "66c391d0",
   "metadata": {},
   "source": [
    "#### Get the std of some column using df['col_name'].std()"
   ]
  },
  {
   "cell_type": "code",
   "execution_count": 139,
   "id": "2345356b",
   "metadata": {},
   "outputs": [
    {
     "data": {
      "text/plain": [
       "7.571877794400365"
      ]
     },
     "execution_count": 139,
     "metadata": {},
     "output_type": "execute_result"
    }
   ],
   "source": [
    "grades_df['assignment2'].std()"
   ]
  },
  {
   "cell_type": "markdown",
   "id": "fdb96a63",
   "metadata": {},
   "source": [
    "#### Get minimum and maximum values in a column some column using df['col_name'].min() and df['col_name'].max()"
   ]
  },
  {
   "cell_type": "code",
   "execution_count": null,
   "id": "9b534bd5",
   "metadata": {},
   "outputs": [],
   "source": [
    "grades_df['assignment3'].max()"
   ]
  },
  {
   "cell_type": "code",
   "execution_count": 143,
   "id": "80f5f351",
   "metadata": {},
   "outputs": [
    {
     "data": {
      "text/plain": [
       "75"
      ]
     },
     "execution_count": 143,
     "metadata": {},
     "output_type": "execute_result"
    }
   ],
   "source": [
    "grades_df['assignment3'].min()"
   ]
  },
  {
   "cell_type": "markdown",
   "id": "7c40161e",
   "metadata": {},
   "source": [
    "## Selecting"
   ]
  },
  {
   "cell_type": "markdown",
   "id": "66193724",
   "metadata": {},
   "source": [
    "\"Selecting\" is grabbing subsets of a dataframe's rows conditioned on the **values** of some of the rows.  \n",
    "\n",
    "This is used when we are interested in selecting rows that meet a particular criterion.  \n",
    "\n",
    "For instance in the professor salary dataset we read in we might want to select only the rows that represent people whose age is greater than 50."
   ]
  },
  {
   "cell_type": "markdown",
   "id": "cc319397",
   "metadata": {},
   "source": [
    "**Logical operations on columns** Selecting data based on conditions builds on the logical operations we already learned."
   ]
  },
  {
   "cell_type": "code",
   "execution_count": 146,
   "id": "bdffe4dc",
   "metadata": {},
   "outputs": [],
   "source": [
    "# save salary_df in df variable for use in next cells\n",
    "df = salary_df"
   ]
  },
  {
   "cell_type": "code",
   "execution_count": 164,
   "id": "428415c9",
   "metadata": {},
   "outputs": [
    {
     "data": {
      "text/plain": [
       "dtype('int64')"
      ]
     },
     "execution_count": 164,
     "metadata": {},
     "output_type": "execute_result"
    }
   ],
   "source": [
    "df['gender'].dtype"
   ]
  },
  {
   "cell_type": "code",
   "execution_count": 152,
   "id": "dd9f8c36",
   "metadata": {},
   "outputs": [
    {
     "data": {
      "text/plain": [
       "0      True\n",
       "1      True\n",
       "2     False\n",
       "3     False\n",
       "4     False\n",
       "      ...  \n",
       "72    False\n",
       "73    False\n",
       "74    False\n",
       "75     True\n",
       "76    False\n",
       "Name: age, Length: 77, dtype: bool"
      ]
     },
     "execution_count": 152,
     "metadata": {},
     "output_type": "execute_result"
    }
   ],
   "source": [
    "# check if the age column is greater than 50\n",
    "# the return is a series of Boolean values\n",
    "selector = df['age']>50\n",
    "selector"
   ]
  },
  {
   "cell_type": "markdown",
   "id": "9c8ef392",
   "metadata": {},
   "source": [
    "We get a column of `True`/`False` values \\which reflect a test for each row if the age value is greater than 50.  \n",
    "\n",
    "If it is, then `True` is entered into the new column at that row position and if it isn't then `False` is entered in.\n",
    "\n",
    "We can write more complex logical operations as well.  For instance:"
   ]
  },
  {
   "cell_type": "code",
   "execution_count": 153,
   "id": "d7df546e",
   "metadata": {},
   "outputs": [
    {
     "data": {
      "text/plain": [
       "0      True\n",
       "1      True\n",
       "2     False\n",
       "3     False\n",
       "4     False\n",
       "      ...  \n",
       "72    False\n",
       "73    False\n",
       "74    False\n",
       "75     True\n",
       "76    False\n",
       "Name: age, Length: 77, dtype: bool"
      ]
     },
     "execution_count": 153,
     "metadata": {},
     "output_type": "execute_result"
    }
   ],
   "source": [
    "(df['age']>50) & (df['age']<70)"
   ]
  },
  {
   "cell_type": "markdown",
   "id": "37878334",
   "metadata": {},
   "source": [
    "This expression does a logical `and` due to the `&` symbol and will be true for a particular dataframe row if the age is greater than 50 AND less than 70."
   ]
  },
  {
   "cell_type": "markdown",
   "id": "8da3410e",
   "metadata": {},
   "source": [
    "The examples so far used a single column but we can also make combinations using multiple columns.  For instance we could indentify all the rows corresponding to professors that are under 50 and work in the 'bio' department."
   ]
  },
  {
   "cell_type": "code",
   "execution_count": 154,
   "id": "de4662c9",
   "metadata": {},
   "outputs": [
    {
     "data": {
      "text/plain": [
       "0     False\n",
       "1     False\n",
       "2      True\n",
       "3      True\n",
       "4      True\n",
       "      ...  \n",
       "72    False\n",
       "73    False\n",
       "74    False\n",
       "75    False\n",
       "76    False\n",
       "Length: 77, dtype: bool"
      ]
     },
     "execution_count": 154,
     "metadata": {},
     "output_type": "execute_result"
    }
   ],
   "source": [
    "(df['age']<50) & (df['departm']=='bio')"
   ]
  },
  {
   "cell_type": "markdown",
   "id": "94bc65f4",
   "metadata": {},
   "source": [
    "If you want to make an \"or\" you use the '|' (pipe) character instead of the '&'."
   ]
  },
  {
   "cell_type": "code",
   "execution_count": 155,
   "id": "12f118a8",
   "metadata": {},
   "outputs": [
    {
     "data": {
      "text/plain": [
       "0     True\n",
       "1     True\n",
       "2     True\n",
       "3     True\n",
       "4     True\n",
       "      ... \n",
       "72    True\n",
       "73    True\n",
       "74    True\n",
       "75    True\n",
       "76    True\n",
       "Length: 77, dtype: bool"
      ]
     },
     "execution_count": 155,
     "metadata": {},
     "output_type": "execute_result"
    }
   ],
   "source": [
    "# check if each row is a person under age 50 and/or whether they\n",
    "# have at least 10 years of work\n",
    "(df['age']<50) | (df['years']>=10)"
   ]
  },
  {
   "cell_type": "markdown",
   "id": "2ae959a1",
   "metadata": {},
   "source": [
    "Now that we have this boolean column we can use it to select subsets of the original dataframe:"
   ]
  },
  {
   "cell_type": "code",
   "execution_count": 159,
   "id": "c8a4f637",
   "metadata": {},
   "outputs": [
    {
     "data": {
      "text/html": [
       "<div>\n",
       "<style scoped>\n",
       "    .dataframe tbody tr th:only-of-type {\n",
       "        vertical-align: middle;\n",
       "    }\n",
       "\n",
       "    .dataframe tbody tr th {\n",
       "        vertical-align: top;\n",
       "    }\n",
       "\n",
       "    .dataframe thead th {\n",
       "        text-align: right;\n",
       "    }\n",
       "</style>\n",
       "<table border=\"1\" class=\"dataframe\">\n",
       "  <thead>\n",
       "    <tr style=\"text-align: right;\">\n",
       "      <th></th>\n",
       "      <th>salary</th>\n",
       "      <th>gender</th>\n",
       "      <th>departm</th>\n",
       "      <th>years</th>\n",
       "      <th>age</th>\n",
       "      <th>publications</th>\n",
       "    </tr>\n",
       "  </thead>\n",
       "  <tbody>\n",
       "    <tr>\n",
       "      <th>22</th>\n",
       "      <td>47021</td>\n",
       "      <td>0</td>\n",
       "      <td>chem</td>\n",
       "      <td>4.0</td>\n",
       "      <td>34.0</td>\n",
       "      <td>12</td>\n",
       "    </tr>\n",
       "    <tr>\n",
       "      <th>23</th>\n",
       "      <td>44687</td>\n",
       "      <td>0</td>\n",
       "      <td>chem</td>\n",
       "      <td>4.0</td>\n",
       "      <td>34.0</td>\n",
       "      <td>19</td>\n",
       "    </tr>\n",
       "    <tr>\n",
       "      <th>52</th>\n",
       "      <td>53656</td>\n",
       "      <td>0</td>\n",
       "      <td>stat</td>\n",
       "      <td>2.0</td>\n",
       "      <td>32.0</td>\n",
       "      <td>4</td>\n",
       "    </tr>\n",
       "    <tr>\n",
       "      <th>56</th>\n",
       "      <td>72044</td>\n",
       "      <td>0</td>\n",
       "      <td>physics</td>\n",
       "      <td>2.0</td>\n",
       "      <td>32.0</td>\n",
       "      <td>16</td>\n",
       "    </tr>\n",
       "    <tr>\n",
       "      <th>70</th>\n",
       "      <td>55949</td>\n",
       "      <td>1</td>\n",
       "      <td>chem</td>\n",
       "      <td>4.0</td>\n",
       "      <td>34.0</td>\n",
       "      <td>12</td>\n",
       "    </tr>\n",
       "    <tr>\n",
       "      <th>72</th>\n",
       "      <td>53662</td>\n",
       "      <td>1</td>\n",
       "      <td>neuro</td>\n",
       "      <td>1.0</td>\n",
       "      <td>31.0</td>\n",
       "      <td>3</td>\n",
       "    </tr>\n",
       "    <tr>\n",
       "      <th>74</th>\n",
       "      <td>52254</td>\n",
       "      <td>1</td>\n",
       "      <td>stat</td>\n",
       "      <td>2.0</td>\n",
       "      <td>32.0</td>\n",
       "      <td>9</td>\n",
       "    </tr>\n",
       "    <tr>\n",
       "      <th>76</th>\n",
       "      <td>49542</td>\n",
       "      <td>1</td>\n",
       "      <td>math</td>\n",
       "      <td>3.0</td>\n",
       "      <td>33.0</td>\n",
       "      <td>5</td>\n",
       "    </tr>\n",
       "  </tbody>\n",
       "</table>\n",
       "</div>"
      ],
      "text/plain": [
       "    salary  gender  departm  years   age  publications\n",
       "22   47021       0     chem    4.0  34.0            12\n",
       "23   44687       0     chem    4.0  34.0            19\n",
       "52   53656       0     stat    2.0  32.0             4\n",
       "56   72044       0  physics    2.0  32.0            16\n",
       "70   55949       1     chem    4.0  34.0            12\n",
       "72   53662       1    neuro    1.0  31.0             3\n",
       "74   52254       1     stat    2.0  32.0             9\n",
       "76   49542       1     math    3.0  33.0             5"
      ]
     },
     "execution_count": 159,
     "metadata": {},
     "output_type": "execute_result"
    }
   ],
   "source": [
    "df[df['age']<35]"
   ]
  },
  {
   "cell_type": "markdown",
   "id": "be05f7d6",
   "metadata": {},
   "source": [
    "The previous line selects all the professors under 35.  \n",
    "\n",
    "On the outer part we have `df[]` and in the middle of the bracket we provide the logical column/series as we just discussed.  \n",
    "\n",
    "You can break them into two steps if you like:"
   ]
  },
  {
   "cell_type": "code",
   "execution_count": 160,
   "id": "18fe63cb",
   "metadata": {},
   "outputs": [
    {
     "data": {
      "text/html": [
       "<div>\n",
       "<style scoped>\n",
       "    .dataframe tbody tr th:only-of-type {\n",
       "        vertical-align: middle;\n",
       "    }\n",
       "\n",
       "    .dataframe tbody tr th {\n",
       "        vertical-align: top;\n",
       "    }\n",
       "\n",
       "    .dataframe thead th {\n",
       "        text-align: right;\n",
       "    }\n",
       "</style>\n",
       "<table border=\"1\" class=\"dataframe\">\n",
       "  <thead>\n",
       "    <tr style=\"text-align: right;\">\n",
       "      <th></th>\n",
       "      <th>salary</th>\n",
       "      <th>gender</th>\n",
       "      <th>departm</th>\n",
       "      <th>years</th>\n",
       "      <th>age</th>\n",
       "      <th>publications</th>\n",
       "    </tr>\n",
       "  </thead>\n",
       "  <tbody>\n",
       "    <tr>\n",
       "      <th>22</th>\n",
       "      <td>47021</td>\n",
       "      <td>0</td>\n",
       "      <td>chem</td>\n",
       "      <td>4.0</td>\n",
       "      <td>34.0</td>\n",
       "      <td>12</td>\n",
       "    </tr>\n",
       "    <tr>\n",
       "      <th>23</th>\n",
       "      <td>44687</td>\n",
       "      <td>0</td>\n",
       "      <td>chem</td>\n",
       "      <td>4.0</td>\n",
       "      <td>34.0</td>\n",
       "      <td>19</td>\n",
       "    </tr>\n",
       "    <tr>\n",
       "      <th>52</th>\n",
       "      <td>53656</td>\n",
       "      <td>0</td>\n",
       "      <td>stat</td>\n",
       "      <td>2.0</td>\n",
       "      <td>32.0</td>\n",
       "      <td>4</td>\n",
       "    </tr>\n",
       "    <tr>\n",
       "      <th>56</th>\n",
       "      <td>72044</td>\n",
       "      <td>0</td>\n",
       "      <td>physics</td>\n",
       "      <td>2.0</td>\n",
       "      <td>32.0</td>\n",
       "      <td>16</td>\n",
       "    </tr>\n",
       "    <tr>\n",
       "      <th>70</th>\n",
       "      <td>55949</td>\n",
       "      <td>1</td>\n",
       "      <td>chem</td>\n",
       "      <td>4.0</td>\n",
       "      <td>34.0</td>\n",
       "      <td>12</td>\n",
       "    </tr>\n",
       "    <tr>\n",
       "      <th>72</th>\n",
       "      <td>53662</td>\n",
       "      <td>1</td>\n",
       "      <td>neuro</td>\n",
       "      <td>1.0</td>\n",
       "      <td>31.0</td>\n",
       "      <td>3</td>\n",
       "    </tr>\n",
       "    <tr>\n",
       "      <th>74</th>\n",
       "      <td>52254</td>\n",
       "      <td>1</td>\n",
       "      <td>stat</td>\n",
       "      <td>2.0</td>\n",
       "      <td>32.0</td>\n",
       "      <td>9</td>\n",
       "    </tr>\n",
       "    <tr>\n",
       "      <th>76</th>\n",
       "      <td>49542</td>\n",
       "      <td>1</td>\n",
       "      <td>math</td>\n",
       "      <td>3.0</td>\n",
       "      <td>33.0</td>\n",
       "      <td>5</td>\n",
       "    </tr>\n",
       "  </tbody>\n",
       "</table>\n",
       "</div>"
      ],
      "text/plain": [
       "    salary  gender  departm  years   age  publications\n",
       "22   47021       0     chem    4.0  34.0            12\n",
       "23   44687       0     chem    4.0  34.0            19\n",
       "52   53656       0     stat    2.0  32.0             4\n",
       "56   72044       0  physics    2.0  32.0            16\n",
       "70   55949       1     chem    4.0  34.0            12\n",
       "72   53662       1    neuro    1.0  31.0             3\n",
       "74   52254       1     stat    2.0  32.0             9\n",
       "76   49542       1     math    3.0  33.0             5"
      ]
     },
     "execution_count": 160,
     "metadata": {},
     "output_type": "execute_result"
    }
   ],
   "source": [
    "under35 = df['age']<35\n",
    "df[under35]"
   ]
  },
  {
   "cell_type": "markdown",
   "id": "ac5857a7",
   "metadata": {},
   "source": [
    "This makes clear that we define the \"rule\" for what things are true and false in this column (`under35`) and then use it to select rows from the original dataframe. Pandas will show all the rows where the selector is True and ignore the ones where it's False.\n",
    "\n",
    "You use this a lot in data analysis because often a data file from a single subject in an experiment has trials you want to skip or analyze, or you might use it to select trials from particular subjects, or trials that meet a certain requirement (E.g., if a reaction time was too long or something).  Thus it is important to bookmark this concept and we will return to it several times throughout the semester."
   ]
  },
  {
   "cell_type": "markdown",
   "id": "1700fe43",
   "metadata": {},
   "source": [
    "## A common work flow\n",
    "\n",
    "Let's put today's materials together and do the following common steps in data procesing:\n",
    "\n",
    "    1) read in the salary.csv dataset\n",
    "        - pd.read_csv()\n",
    "\n",
    "    2) rename the 'years' column to be 'years_of_work'\n",
    "        - df.rename(columns=rename_dict)\n",
    "        \n",
    "    3) recode the 'gender' column to be 0: male, 1: female, 2: nonbinary\n",
    "    \n",
    "    4) add a column 'pubs_per_year' that is the number of 'publications' per 'years_of_work'\n",
    "        - df['new_column'] = whatever_values_you_want_for_column\n",
    "    \n",
    "    5) subset the dataframe by selecting only those rows where the person is in the 'neuro' department\n",
    "        - df[boolean_selector]\n",
    "        \n",
    "    6) save the dataframe back out with a new name\n",
    "        - df.to_csv()"
   ]
  },
  {
   "cell_type": "code",
   "execution_count": null,
   "id": "d7d61967",
   "metadata": {},
   "outputs": [],
   "source": [
    "df.replace({'gender': {0:'male', 1:'female', 2:'nonbinary'}})"
   ]
  },
  {
   "cell_type": "markdown",
   "id": "79e70ffe",
   "metadata": {},
   "source": [
    "### Save dataframes using the df.to_csv() function with input of a path and filename"
   ]
  },
  {
   "cell_type": "code",
   "execution_count": null,
   "id": "e43439cc",
   "metadata": {},
   "outputs": [],
   "source": []
  }
 ],
 "metadata": {
  "kernelspec": {
   "display_name": "Python 3 (ipykernel)",
   "language": "python",
   "name": "python3"
  },
  "language_info": {
   "codemirror_mode": {
    "name": "ipython",
    "version": 3
   },
   "file_extension": ".py",
   "mimetype": "text/x-python",
   "name": "python",
   "nbconvert_exporter": "python",
   "pygments_lexer": "ipython3",
   "version": "3.9.7"
  }
 },
 "nbformat": 4,
 "nbformat_minor": 5
}
